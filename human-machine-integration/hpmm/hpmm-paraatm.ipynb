{
 "cells": [
  {
   "cell_type": "markdown",
   "metadata": {},
   "source": [
    "# Human Performance Monitoring Module (HPMM)\n",
    "Authors: Jiawei Chen & Ruoxin Xiong, Carnegie Mellon University\n",
    "\n",
    "Email: ruoxinx@andrew.cmu.edu"
   ]
  },
  {
   "cell_type": "markdown",
   "metadata": {},
   "source": [
    "# Overview of HPMM Module\n",
    "This module uses data collected from ASU's Air Traffic Controller Simulation Experiments where three 25 minute approach scenarios were simulated - a baseline workload, a high workload under nominal conditions, and a high workload under off-nominal conditions. Information on these data can be found on the ASU ULI's website [here](https://uli.asu.edu/wp-content/uploads/2020/08/Presentation-AIAA-talk-2019-Task-3-Human-Systems-Integration.pdf). \n",
    "\n",
    "The sample data is collected from controller-in-the-loop simulation experiments during the air traffic control tasks. The performance measure of the ATC experiments in each scenario were Loss of Separation (LoS) where aircraft fail to maintain minimum separation distances in controlled airspace. This module uses LoS as an indicator of the air traffic controller's operational performance. "
   ]
  },
  {
   "cell_type": "markdown",
   "metadata": {},
   "source": [
    "\n",
    "## Installing the required Python packages\n",
    "\n",
    "The required Python packages for this module are:\n",
    "- ***[```catboost```]***(https://catboost.ai/docs/installation/python-installation-method-pip-install.html#python-installation-method-pip-install)\n",
    "- ***[```pandas```]***\n",
    "- ***[```numpy```]***\n",
    "- ***[```sklearn```]***\n",
    "\n",
    "In the Ubuntu or Anaconda terminal, execute ```conda install catboost pandas numpy sklearn```. "
   ]
  },
  {
   "cell_type": "markdown",
   "metadata": {},
   "source": [
    "## Step 1: Processing and Visualizing ATC Data\n",
    "### Step 1a: Import ```human_data.csv```"
   ]
  },
  {
   "cell_type": "code",
   "execution_count": 1,
   "metadata": {
    "pycharm": {
     "is_executing": true
    }
   },
   "outputs": [
    {
     "data": {
      "text/html": [
       "<div>\n",
       "<style scoped>\n",
       "    .dataframe tbody tr th:only-of-type {\n",
       "        vertical-align: middle;\n",
       "    }\n",
       "\n",
       "    .dataframe tbody tr th {\n",
       "        vertical-align: top;\n",
       "    }\n",
       "\n",
       "    .dataframe thead th {\n",
       "        text-align: right;\n",
       "    }\n",
       "</style>\n",
       "<table border=\"1\" class=\"dataframe\">\n",
       "  <thead>\n",
       "    <tr style=\"text-align: right;\">\n",
       "      <th></th>\n",
       "      <th>Ss</th>\n",
       "      <th>condtn</th>\n",
       "      <th>at_sec</th>\n",
       "      <th>traffic_density</th>\n",
       "      <th>los_freq</th>\n",
       "      <th>los_dur_over5min</th>\n",
       "      <th>cum_los_dur</th>\n",
       "      <th>query</th>\n",
       "      <th>ready_latency</th>\n",
       "      <th>ready_latency_adj</th>\n",
       "      <th>...</th>\n",
       "      <th>wl_rating</th>\n",
       "      <th>interbeat_interval</th>\n",
       "      <th>condtn_num</th>\n",
       "      <th>rx</th>\n",
       "      <th>ry</th>\n",
       "      <th>rz</th>\n",
       "      <th>eyeblink</th>\n",
       "      <th>negative</th>\n",
       "      <th>neutral</th>\n",
       "      <th>positive</th>\n",
       "    </tr>\n",
       "  </thead>\n",
       "  <tbody>\n",
       "    <tr>\n",
       "      <th>0</th>\n",
       "      <td>1</td>\n",
       "      <td>baseline</td>\n",
       "      <td>0</td>\n",
       "      <td>1</td>\n",
       "      <td>0</td>\n",
       "      <td>0</td>\n",
       "      <td>0</td>\n",
       "      <td>WL</td>\n",
       "      <td>2.07</td>\n",
       "      <td>2.07</td>\n",
       "      <td>...</td>\n",
       "      <td>1.0</td>\n",
       "      <td>NaN</td>\n",
       "      <td>1</td>\n",
       "      <td>NaN</td>\n",
       "      <td>NaN</td>\n",
       "      <td>NaN</td>\n",
       "      <td>NaN</td>\n",
       "      <td>NaN</td>\n",
       "      <td>NaN</td>\n",
       "      <td>NaN</td>\n",
       "    </tr>\n",
       "    <tr>\n",
       "      <th>1</th>\n",
       "      <td>1</td>\n",
       "      <td>baseline</td>\n",
       "      <td>5</td>\n",
       "      <td>1</td>\n",
       "      <td>0</td>\n",
       "      <td>0</td>\n",
       "      <td>0</td>\n",
       "      <td>WL</td>\n",
       "      <td>2.07</td>\n",
       "      <td>2.07</td>\n",
       "      <td>...</td>\n",
       "      <td>1.0</td>\n",
       "      <td>NaN</td>\n",
       "      <td>1</td>\n",
       "      <td>0.000000</td>\n",
       "      <td>0.000000</td>\n",
       "      <td>0.000000</td>\n",
       "      <td>0.000000</td>\n",
       "      <td>0.000000</td>\n",
       "      <td>0.000000</td>\n",
       "      <td>0.000000</td>\n",
       "    </tr>\n",
       "    <tr>\n",
       "      <th>2</th>\n",
       "      <td>1</td>\n",
       "      <td>baseline</td>\n",
       "      <td>10</td>\n",
       "      <td>1</td>\n",
       "      <td>0</td>\n",
       "      <td>0</td>\n",
       "      <td>0</td>\n",
       "      <td>WL</td>\n",
       "      <td>2.07</td>\n",
       "      <td>2.07</td>\n",
       "      <td>...</td>\n",
       "      <td>1.0</td>\n",
       "      <td>585.0</td>\n",
       "      <td>1</td>\n",
       "      <td>0.262433</td>\n",
       "      <td>0.230592</td>\n",
       "      <td>-0.039242</td>\n",
       "      <td>0.254250</td>\n",
       "      <td>0.800000</td>\n",
       "      <td>0.100000</td>\n",
       "      <td>0.100000</td>\n",
       "    </tr>\n",
       "    <tr>\n",
       "      <th>3</th>\n",
       "      <td>1</td>\n",
       "      <td>baseline</td>\n",
       "      <td>15</td>\n",
       "      <td>1</td>\n",
       "      <td>0</td>\n",
       "      <td>0</td>\n",
       "      <td>0</td>\n",
       "      <td>WL</td>\n",
       "      <td>2.07</td>\n",
       "      <td>2.07</td>\n",
       "      <td>...</td>\n",
       "      <td>1.0</td>\n",
       "      <td>871.0</td>\n",
       "      <td>1</td>\n",
       "      <td>0.248067</td>\n",
       "      <td>0.146753</td>\n",
       "      <td>-0.020133</td>\n",
       "      <td>0.531800</td>\n",
       "      <td>0.285714</td>\n",
       "      <td>0.428571</td>\n",
       "      <td>0.285714</td>\n",
       "    </tr>\n",
       "    <tr>\n",
       "      <th>4</th>\n",
       "      <td>1</td>\n",
       "      <td>baseline</td>\n",
       "      <td>20</td>\n",
       "      <td>2</td>\n",
       "      <td>0</td>\n",
       "      <td>0</td>\n",
       "      <td>0</td>\n",
       "      <td>WL</td>\n",
       "      <td>2.07</td>\n",
       "      <td>2.07</td>\n",
       "      <td>...</td>\n",
       "      <td>1.0</td>\n",
       "      <td>894.0</td>\n",
       "      <td>1</td>\n",
       "      <td>0.247920</td>\n",
       "      <td>0.179927</td>\n",
       "      <td>-0.066440</td>\n",
       "      <td>0.087133</td>\n",
       "      <td>0.906250</td>\n",
       "      <td>0.093750</td>\n",
       "      <td>0.000000</td>\n",
       "    </tr>\n",
       "  </tbody>\n",
       "</table>\n",
       "<p>5 rows × 27 columns</p>\n",
       "</div>"
      ],
      "text/plain": [
       "   Ss    condtn  at_sec  traffic_density  los_freq  los_dur_over5min  \\\n",
       "0   1  baseline       0                1         0                 0   \n",
       "1   1  baseline       5                1         0                 0   \n",
       "2   1  baseline      10                1         0                 0   \n",
       "3   1  baseline      15                1         0                 0   \n",
       "4   1  baseline      20                2         0                 0   \n",
       "\n",
       "   cum_los_dur query  ready_latency  ready_latency_adj  ...  wl_rating  \\\n",
       "0            0    WL           2.07               2.07  ...        1.0   \n",
       "1            0    WL           2.07               2.07  ...        1.0   \n",
       "2            0    WL           2.07               2.07  ...        1.0   \n",
       "3            0    WL           2.07               2.07  ...        1.0   \n",
       "4            0    WL           2.07               2.07  ...        1.0   \n",
       "\n",
       "   interbeat_interval  condtn_num        rx        ry        rz  eyeblink  \\\n",
       "0                 NaN           1       NaN       NaN       NaN       NaN   \n",
       "1                 NaN           1  0.000000  0.000000  0.000000  0.000000   \n",
       "2               585.0           1  0.262433  0.230592 -0.039242  0.254250   \n",
       "3               871.0           1  0.248067  0.146753 -0.020133  0.531800   \n",
       "4               894.0           1  0.247920  0.179927 -0.066440  0.087133   \n",
       "\n",
       "   negative   neutral  positive  \n",
       "0       NaN       NaN       NaN  \n",
       "1  0.000000  0.000000  0.000000  \n",
       "2  0.800000  0.100000  0.100000  \n",
       "3  0.285714  0.428571  0.285714  \n",
       "4  0.906250  0.093750  0.000000  \n",
       "\n",
       "[5 rows x 27 columns]"
      ]
     },
     "execution_count": 1,
     "metadata": {},
     "output_type": "execute_result"
    }
   ],
   "source": [
    "import pandas as pd\n",
    "\n",
    "df = pd.read_csv('./human_data.csv')\n",
    "\n",
    "df.head()"
   ]
  },
  {
   "cell_type": "markdown",
   "metadata": {},
   "source": [
    "### Step 1b. Downselect columns\n",
    "\n",
    "Drop specified columns of redundant variables for LoS prediction. "
   ]
  },
  {
   "cell_type": "code",
   "execution_count": 2,
   "metadata": {},
   "outputs": [
    {
     "data": {
      "text/html": [
       "<div>\n",
       "<style scoped>\n",
       "    .dataframe tbody tr th:only-of-type {\n",
       "        vertical-align: middle;\n",
       "    }\n",
       "\n",
       "    .dataframe tbody tr th {\n",
       "        vertical-align: top;\n",
       "    }\n",
       "\n",
       "    .dataframe thead th {\n",
       "        text-align: right;\n",
       "    }\n",
       "</style>\n",
       "<table border=\"1\" class=\"dataframe\">\n",
       "  <thead>\n",
       "    <tr style=\"text-align: right;\">\n",
       "      <th></th>\n",
       "      <th>traffic_density</th>\n",
       "      <th>los_freq</th>\n",
       "      <th>sa_correct</th>\n",
       "      <th>wl_rating</th>\n",
       "      <th>interbeat_interval</th>\n",
       "      <th>rx</th>\n",
       "      <th>ry</th>\n",
       "      <th>rz</th>\n",
       "      <th>eyeblink</th>\n",
       "      <th>negative</th>\n",
       "      <th>neutral</th>\n",
       "      <th>positive</th>\n",
       "    </tr>\n",
       "  </thead>\n",
       "  <tbody>\n",
       "    <tr>\n",
       "      <th>0</th>\n",
       "      <td>1</td>\n",
       "      <td>0</td>\n",
       "      <td>NaN</td>\n",
       "      <td>1.0</td>\n",
       "      <td>NaN</td>\n",
       "      <td>NaN</td>\n",
       "      <td>NaN</td>\n",
       "      <td>NaN</td>\n",
       "      <td>NaN</td>\n",
       "      <td>NaN</td>\n",
       "      <td>NaN</td>\n",
       "      <td>NaN</td>\n",
       "    </tr>\n",
       "    <tr>\n",
       "      <th>1</th>\n",
       "      <td>1</td>\n",
       "      <td>0</td>\n",
       "      <td>NaN</td>\n",
       "      <td>1.0</td>\n",
       "      <td>NaN</td>\n",
       "      <td>0.000000</td>\n",
       "      <td>0.000000</td>\n",
       "      <td>0.000000</td>\n",
       "      <td>0.000000</td>\n",
       "      <td>0.000000</td>\n",
       "      <td>0.000000</td>\n",
       "      <td>0.000000</td>\n",
       "    </tr>\n",
       "    <tr>\n",
       "      <th>2</th>\n",
       "      <td>1</td>\n",
       "      <td>0</td>\n",
       "      <td>NaN</td>\n",
       "      <td>1.0</td>\n",
       "      <td>585.0</td>\n",
       "      <td>0.262433</td>\n",
       "      <td>0.230592</td>\n",
       "      <td>-0.039242</td>\n",
       "      <td>0.254250</td>\n",
       "      <td>0.800000</td>\n",
       "      <td>0.100000</td>\n",
       "      <td>0.100000</td>\n",
       "    </tr>\n",
       "    <tr>\n",
       "      <th>3</th>\n",
       "      <td>1</td>\n",
       "      <td>0</td>\n",
       "      <td>NaN</td>\n",
       "      <td>1.0</td>\n",
       "      <td>871.0</td>\n",
       "      <td>0.248067</td>\n",
       "      <td>0.146753</td>\n",
       "      <td>-0.020133</td>\n",
       "      <td>0.531800</td>\n",
       "      <td>0.285714</td>\n",
       "      <td>0.428571</td>\n",
       "      <td>0.285714</td>\n",
       "    </tr>\n",
       "    <tr>\n",
       "      <th>4</th>\n",
       "      <td>2</td>\n",
       "      <td>0</td>\n",
       "      <td>NaN</td>\n",
       "      <td>1.0</td>\n",
       "      <td>894.0</td>\n",
       "      <td>0.247920</td>\n",
       "      <td>0.179927</td>\n",
       "      <td>-0.066440</td>\n",
       "      <td>0.087133</td>\n",
       "      <td>0.906250</td>\n",
       "      <td>0.093750</td>\n",
       "      <td>0.000000</td>\n",
       "    </tr>\n",
       "  </tbody>\n",
       "</table>\n",
       "</div>"
      ],
      "text/plain": [
       "   traffic_density  los_freq  sa_correct  wl_rating  interbeat_interval  \\\n",
       "0                1         0         NaN        1.0                 NaN   \n",
       "1                1         0         NaN        1.0                 NaN   \n",
       "2                1         0         NaN        1.0               585.0   \n",
       "3                1         0         NaN        1.0               871.0   \n",
       "4                2         0         NaN        1.0               894.0   \n",
       "\n",
       "         rx        ry        rz  eyeblink  negative   neutral  positive  \n",
       "0       NaN       NaN       NaN       NaN       NaN       NaN       NaN  \n",
       "1  0.000000  0.000000  0.000000  0.000000  0.000000  0.000000  0.000000  \n",
       "2  0.262433  0.230592 -0.039242  0.254250  0.800000  0.100000  0.100000  \n",
       "3  0.248067  0.146753 -0.020133  0.531800  0.285714  0.428571  0.285714  \n",
       "4  0.247920  0.179927 -0.066440  0.087133  0.906250  0.093750  0.000000  "
      ]
     },
     "execution_count": 2,
     "metadata": {},
     "output_type": "execute_result"
    }
   ],
   "source": [
    "cols_to_drop = ['Ss', 'at_sec', 'condtn', 'ready_latency', 'query_latency', 'response_index', \n",
    "                 'los_dur_over5min','query_timed_out', 'ready_timed_out', 'ready_latency_adj',\n",
    "                 'cum_los_dur','stimuli', 'response_text', 'condtn_num', 'query']\n",
    "\n",
    "df.drop(columns=cols_to_drop, inplace=True)\n",
    "\n",
    "df.head()"
   ]
  },
  {
   "cell_type": "markdown",
   "metadata": {},
   "source": [
    "### Step 1c: Transform LoS into binary class and fill NaN values"
   ]
  },
  {
   "cell_type": "code",
   "execution_count": 3,
   "metadata": {},
   "outputs": [
    {
     "data": {
      "text/html": [
       "<div>\n",
       "<style scoped>\n",
       "    .dataframe tbody tr th:only-of-type {\n",
       "        vertical-align: middle;\n",
       "    }\n",
       "\n",
       "    .dataframe tbody tr th {\n",
       "        vertical-align: top;\n",
       "    }\n",
       "\n",
       "    .dataframe thead th {\n",
       "        text-align: right;\n",
       "    }\n",
       "</style>\n",
       "<table border=\"1\" class=\"dataframe\">\n",
       "  <thead>\n",
       "    <tr style=\"text-align: right;\">\n",
       "      <th></th>\n",
       "      <th>traffic_density</th>\n",
       "      <th>los_freq</th>\n",
       "      <th>sa_correct</th>\n",
       "      <th>wl_rating</th>\n",
       "      <th>interbeat_interval</th>\n",
       "      <th>rx</th>\n",
       "      <th>ry</th>\n",
       "      <th>rz</th>\n",
       "      <th>eyeblink</th>\n",
       "      <th>negative</th>\n",
       "      <th>neutral</th>\n",
       "      <th>positive</th>\n",
       "    </tr>\n",
       "  </thead>\n",
       "  <tbody>\n",
       "    <tr>\n",
       "      <th>0</th>\n",
       "      <td>1</td>\n",
       "      <td>0</td>\n",
       "      <td>0.920691</td>\n",
       "      <td>1.0</td>\n",
       "      <td>818.84042</td>\n",
       "      <td>0.117173</td>\n",
       "      <td>-0.022388</td>\n",
       "      <td>-0.052366</td>\n",
       "      <td>0.225100</td>\n",
       "      <td>0.414948</td>\n",
       "      <td>0.205535</td>\n",
       "      <td>0.259012</td>\n",
       "    </tr>\n",
       "    <tr>\n",
       "      <th>1</th>\n",
       "      <td>1</td>\n",
       "      <td>0</td>\n",
       "      <td>0.920691</td>\n",
       "      <td>1.0</td>\n",
       "      <td>818.84042</td>\n",
       "      <td>0.000000</td>\n",
       "      <td>0.000000</td>\n",
       "      <td>0.000000</td>\n",
       "      <td>0.000000</td>\n",
       "      <td>0.000000</td>\n",
       "      <td>0.000000</td>\n",
       "      <td>0.000000</td>\n",
       "    </tr>\n",
       "    <tr>\n",
       "      <th>2</th>\n",
       "      <td>1</td>\n",
       "      <td>0</td>\n",
       "      <td>0.920691</td>\n",
       "      <td>1.0</td>\n",
       "      <td>585.00000</td>\n",
       "      <td>0.262433</td>\n",
       "      <td>0.230592</td>\n",
       "      <td>-0.039242</td>\n",
       "      <td>0.254250</td>\n",
       "      <td>0.800000</td>\n",
       "      <td>0.100000</td>\n",
       "      <td>0.100000</td>\n",
       "    </tr>\n",
       "    <tr>\n",
       "      <th>3</th>\n",
       "      <td>1</td>\n",
       "      <td>0</td>\n",
       "      <td>0.920691</td>\n",
       "      <td>1.0</td>\n",
       "      <td>871.00000</td>\n",
       "      <td>0.248067</td>\n",
       "      <td>0.146753</td>\n",
       "      <td>-0.020133</td>\n",
       "      <td>0.531800</td>\n",
       "      <td>0.285714</td>\n",
       "      <td>0.428571</td>\n",
       "      <td>0.285714</td>\n",
       "    </tr>\n",
       "    <tr>\n",
       "      <th>4</th>\n",
       "      <td>2</td>\n",
       "      <td>0</td>\n",
       "      <td>0.920691</td>\n",
       "      <td>1.0</td>\n",
       "      <td>894.00000</td>\n",
       "      <td>0.247920</td>\n",
       "      <td>0.179927</td>\n",
       "      <td>-0.066440</td>\n",
       "      <td>0.087133</td>\n",
       "      <td>0.906250</td>\n",
       "      <td>0.093750</td>\n",
       "      <td>0.000000</td>\n",
       "    </tr>\n",
       "  </tbody>\n",
       "</table>\n",
       "</div>"
      ],
      "text/plain": [
       "   traffic_density  los_freq  sa_correct  wl_rating  interbeat_interval  \\\n",
       "0                1         0    0.920691        1.0           818.84042   \n",
       "1                1         0    0.920691        1.0           818.84042   \n",
       "2                1         0    0.920691        1.0           585.00000   \n",
       "3                1         0    0.920691        1.0           871.00000   \n",
       "4                2         0    0.920691        1.0           894.00000   \n",
       "\n",
       "         rx        ry        rz  eyeblink  negative   neutral  positive  \n",
       "0  0.117173 -0.022388 -0.052366  0.225100  0.414948  0.205535  0.259012  \n",
       "1  0.000000  0.000000  0.000000  0.000000  0.000000  0.000000  0.000000  \n",
       "2  0.262433  0.230592 -0.039242  0.254250  0.800000  0.100000  0.100000  \n",
       "3  0.248067  0.146753 -0.020133  0.531800  0.285714  0.428571  0.285714  \n",
       "4  0.247920  0.179927 -0.066440  0.087133  0.906250  0.093750  0.000000  "
      ]
     },
     "execution_count": 3,
     "metadata": {},
     "output_type": "execute_result"
    }
   ],
   "source": [
    "# If LoS > 1, impute to 1\n",
    "df.loc[df.los_freq>1,'los_freq']=1\n",
    "\n",
    "#If value in column is NaN, replace with mean of column\n",
    "df.fillna(df.mean(), inplace=True)\n",
    "\n",
    "df.head()"
   ]
  },
  {
   "cell_type": "markdown",
   "metadata": {},
   "source": [
    "### Step 1d: Define predictor and criterion \n",
    "Define predictor(X) and criterion(Y)"
   ]
  },
  {
   "cell_type": "code",
   "execution_count": 4,
   "metadata": {},
   "outputs": [],
   "source": [
    "X = df.drop(columns=['los_freq'])\n",
    "Y = df['los_freq']"
   ]
  },
  {
   "cell_type": "markdown",
   "metadata": {},
   "source": [
    "## Step 2:  Training and testing LoS prediction models\n",
    "In this step, we aim to predict the occurrence of LoS with the various classification models:\n",
    "1. ```catboost``` Python package. ```catboost``` employs a machine learning based classifier. \n",
    "2. Support vector machines (SVM)\n",
    "3. Decision Tree\n",
    "4. k-Nearest Neighbors (KNN)\n",
    "5. Naive Bayes Classifier\n",
    "\n",
    "### Model Option 1: Load saved ```catboost``` model with PARA-ATM"
   ]
  },
  {
   "cell_type": "code",
   "execution_count": 14,
   "metadata": {},
   "outputs": [],
   "source": [
    "from paraatm.safety.los import LosModel\n",
    "\n",
    "losmodel = LosModel('hpmm_catboost_model',model_type='catboost')"
   ]
  },
  {
   "cell_type": "markdown",
   "metadata": {},
   "source": [
    "### Step 2d: Look at trained model parameters\n"
   ]
  },
  {
   "cell_type": "code",
   "execution_count": 15,
   "metadata": {},
   "outputs": [
    {
     "data": {
      "text/plain": [
       "{'eval_metric': 'Accuracy',\n",
       " 'depth': 6,\n",
       " 'loss_function': 'Logloss',\n",
       " 'learning_rate': 0.1,\n",
       " 'l2_leaf_reg': 5,\n",
       " 'verbose': 0}"
      ]
     },
     "execution_count": 15,
     "metadata": {},
     "output_type": "execute_result"
    }
   ],
   "source": [
    "losmodel.model.get_params()"
   ]
  },
  {
   "cell_type": "markdown",
   "metadata": {},
   "source": [
    "## Step 3: ```catboost``` Model Evaluation\n",
    "\n",
    "### Step3a: Prediction with test holdout data\n",
    "First we will predict the LoS output for X_test and compare with y_test. \n",
    "\n",
    "We will evaluate the model based on 3 criteria:\n",
    "- Precision\n",
    "- Recall\n",
    "- F1-score"
   ]
  },
  {
   "cell_type": "code",
   "execution_count": 16,
   "metadata": {},
   "outputs": [
    {
     "name": "stdout",
     "output_type": "stream",
     "text": [
      "              precision    recall  f1-score   support\n",
      "\n",
      "           0       0.89      0.93      0.91       588\n",
      "           1       0.86      0.79      0.82       315\n",
      "\n",
      "    accuracy                           0.88       903\n",
      "   macro avg       0.87      0.86      0.86       903\n",
      "weighted avg       0.88      0.88      0.88       903\n",
      "\n"
     ]
    }
   ],
   "source": [
    "from sklearn.metrics import classification_report\n",
    "from sklearn.model_selection import train_test_split\n",
    "\n",
    "X_train, X_test, y_train, y_test = train_test_split(X, Y, test_size=0.2, random_state=10)\n",
    "\n",
    "X_train.head()\n",
    "\n",
    "y_pred = losmodel(X_test)\n",
    "print(classification_report(y_test, y_pred))"
   ]
  },
  {
   "cell_type": "markdown",
   "metadata": {},
   "source": [
    "### Step 3b: Visualize confusion matrix for test holdout data\n",
    "A confusion matrix gives visual indication of accuracy at predicting the two labels\n",
    "- label(0): no LOS\n",
    "- label(1): LOS"
   ]
  },
  {
   "cell_type": "code",
   "execution_count": 22,
   "metadata": {},
   "outputs": [
    {
     "data": {
      "text/plain": [
       "<sklearn.metrics._plot.confusion_matrix.ConfusionMatrixDisplay at 0x7fd47b8485b0>"
      ]
     },
     "execution_count": 22,
     "metadata": {},
     "output_type": "execute_result"
    },
    {
     "data": {
      "image/png": "[encoded data removed]",
      "text/plain": [
       "<Figure size 432x288 with 2 Axes>"
      ]
     },
     "metadata": {
      "needs_background": "light"
     },
     "output_type": "display_data"
    }
   ],
   "source": [
    "from sklearn.metrics import plot_confusion_matrix\n",
    "\n",
    "plot_confusion_matrix(losmodel.model, X_test, y_test, cmap = 'Blues') "
   ]
  },
  {
   "cell_type": "markdown",
   "metadata": {},
   "source": [
    "## Step 5: Assess Other Modeling Options\n",
    "### Model 2: Support Vector Machines (SVM)"
   ]
  },
  {
   "cell_type": "code",
   "execution_count": null,
   "metadata": {},
   "outputs": [],
   "source": [
    "from sklearn.svm import SVC\n",
    "\n",
    "svm = SVC(gamma=2, C=1)\n",
    "svm.fit(X_train, y_train)\n",
    "\n",
    "pred = svm.predict(X_test)\n",
    "print(classification_report(y_test, pred))"
   ]
  },
  {
   "cell_type": "code",
   "execution_count": null,
   "metadata": {},
   "outputs": [],
   "source": [
    "plot_confusion_matrix(svm, X_test, y_test, cmap = 'Blues') "
   ]
  },
  {
   "cell_type": "markdown",
   "metadata": {},
   "source": [
    "### Model 3: Decision Tree"
   ]
  },
  {
   "cell_type": "code",
   "execution_count": null,
   "metadata": {},
   "outputs": [],
   "source": [
    "from sklearn.tree import DecisionTreeClassifier\n",
    "\n",
    "dt = DecisionTreeClassifier(max_depth=5)\n",
    "dt.fit(X_train, y_train)\n",
    "\n",
    "pred = dt.predict(X_test)\n",
    "print(classification_report(y_test, pred))"
   ]
  },
  {
   "cell_type": "code",
   "execution_count": null,
   "metadata": {},
   "outputs": [],
   "source": [
    "plot_confusion_matrix(dt, X_test, y_test, cmap = 'Blues') "
   ]
  },
  {
   "cell_type": "markdown",
   "metadata": {},
   "source": [
    "### Model 4: k-Nearest Neighbors (kNN)"
   ]
  },
  {
   "cell_type": "code",
   "execution_count": null,
   "metadata": {},
   "outputs": [],
   "source": [
    "from sklearn.neighbors import KNeighborsClassifier\n",
    "\n",
    "knn = KNeighborsClassifier(3)\n",
    "knn.fit(X_train, y_train)\n",
    "\n",
    "pred = knn.predict(X_test)\n",
    "print(classification_report(y_test, pred))"
   ]
  },
  {
   "cell_type": "code",
   "execution_count": null,
   "metadata": {},
   "outputs": [],
   "source": [
    "plot_confusion_matrix(knn, X_test, y_test, cmap = 'Blues') "
   ]
  },
  {
   "cell_type": "markdown",
   "metadata": {},
   "source": [
    "### Model 5: Naive Bayes"
   ]
  },
  {
   "cell_type": "code",
   "execution_count": null,
   "metadata": {},
   "outputs": [],
   "source": [
    "from sklearn.naive_bayes import GaussianNB\n",
    "\n",
    "nn = GaussianNB()\n",
    "nn.fit(X_train, y_train)\n",
    "\n",
    "pred = nn.predict(X_test)\n",
    "print(classification_report(y_test, pred))"
   ]
  },
  {
   "cell_type": "code",
   "execution_count": null,
   "metadata": {},
   "outputs": [],
   "source": [
    "plot_confusion_matrix(nn, X_test, y_test, cmap = 'Blues') "
   ]
  },
  {
   "cell_type": "code",
   "execution_count": null,
   "metadata": {},
   "outputs": [],
   "source": []
  }
 ],
 "metadata": {
  "kernelspec": {
   "display_name": "Python 3 (ipykernel)",
   "language": "python",
   "name": "python3"
  },
  "language_info": {
   "codemirror_mode": {
    "name": "ipython",
    "version": 3
   },
   "file_extension": ".py",
   "mimetype": "text/x-python",
   "name": "python",
   "nbconvert_exporter": "python",
   "pygments_lexer": "ipython3",
   "version": "3.8.12"
  }
 },
 "nbformat": 4,
 "nbformat_minor": 4
}
