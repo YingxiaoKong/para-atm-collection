{
 "cells": [
  {
   "cell_type": "markdown",
   "source": [
    "# Human Factors Module (HFM)"
   ],
   "metadata": {}
  },
  {
   "cell_type": "code",
   "execution_count": 2,
   "source": [
    "from preprocess.PREPROCESS import Preprocess\r\n",
    "from hfm.HFM import step_aic"
   ],
   "outputs": [],
   "metadata": {}
  },
  {
   "cell_type": "markdown",
   "source": [
    "#### Edit this dictionary to map your column with the data type"
   ],
   "metadata": {}
  },
  {
   "cell_type": "code",
   "execution_count": 3,
   "source": [
    "columns_data_type = {\r\n",
    "        \"Ss\": \"int\",\r\n",
    "        \"condtn\": \"str\",\r\n",
    "        \"baseline\": \"int\",\r\n",
    "        \"highworkload\": \"int\",\r\n",
    "        \"highworkload offnominal\": \"int\",\r\n",
    "        \"at_sec\": \"int\",\r\n",
    "        \"traffic_density\": \"int\",\r\n",
    "        \"los_freq\": \"int\",\r\n",
    "        \"los_duration_over5min\": \"int\",\r\n",
    "        \"query\": \"str\",\r\n",
    "        \"ready_latency\": \"float\",\r\n",
    "        \"ready_latency_adj\": \"float\",\r\n",
    "        \"query_latency\": \"float\",\r\n",
    "        \"response_index\": \"int\",\r\n",
    "        \"ready_timed_out\": \"int\",\r\n",
    "        \"query_timed_out\": \"int\",\r\n",
    "        \"stimuli\": \"str\",\r\n",
    "        \"response_text\": \"str\",\r\n",
    "        \"sa_correct\": \"float\",\r\n",
    "        \"wl_rating\": \"int\",\r\n",
    "        \"interbeat_interval\": \"float\",\r\n",
    "        \"condtn_num\": \"int\",\r\n",
    "        \"face_conf\": \"str\",\r\n",
    "        \"rx\": \"float\",\r\n",
    "        \"ry\": \"float\",\r\n",
    "        \"rz\": \"float\",\r\n",
    "        \"eyeblink\": \"float\",\r\n",
    "        \"positive\": \"float\",\r\n",
    "        \"neutral\": \"float\",\r\n",
    "        \"negative\": \"float\",\r\n",
    "        \"emo_conf\": \"int\",\r\n",
    "        \"los_severity\": \"float\",\r\n",
    "        \"CLCD\": \"int\",\r\n",
    "        \"In_transmission (binary)\": \"int\",\r\n",
    "        \"transmission started (count)\": \"int\",\r\n",
    "        \"transmission ended (count)\": \"int\",\r\n",
    "        \"words per transmission (syn_complexity)\": \"int\",\r\n",
    "        \"length of transmission(in_sec)\": \"float\",\r\n",
    "        \"Words_sec\": \"float\",\r\n",
    "        \"time filled in previous interval (up to 5 seconds)\": \"float\",\r\n",
    "        \"time since last transmissions\": \"float\",\r\n",
    "        \"True Pilot or ATC\": \"str\",\r\n",
    "        \"Interval-Pilot (p) OR ATC (a) (ap for shared intervals)\": \"str\",\r\n",
    "        \"pilot communication time\": \"float\",\r\n",
    "        \"air traffic communication time in previous interval\": \"float\",\r\n",
    "        \"ratio of comms at interval P:A\": \"str\"\r\n",
    "}\r\n"
   ],
   "outputs": [],
   "metadata": {}
  },
  {
   "cell_type": "markdown",
   "source": [
    "## Code Starts Here"
   ],
   "metadata": {}
  },
  {
   "cell_type": "markdown",
   "source": [
    "#### Edit the fields name & the file_name of the csv data which you are passing"
   ],
   "metadata": {}
  },
  {
   "cell_type": "code",
   "execution_count": 4,
   "source": [
    "cfg = {\r\n",
    "        \"fields\": ['traffic_density', 'ready_latency', 'traffic_density', 'ready_latency', 'query_latency',\r\n",
    "                'query_timed_out', 'sa_correct', 'interbeat_interval', 'rx', 'ry', 'rz', 'eyeblink', 'positive',\r\n",
    "                'neutral', 'negative', 'CLCD', 'Words_sec', 'los_severity', 'los_freq'],\r\n",
    "        'file_name': \"data.csv\"\r\n",
    "}"
   ],
   "outputs": [],
   "metadata": {}
  },
  {
   "cell_type": "code",
   "execution_count": 5,
   "source": [
    "# initialize preprocessing of csv by passing the file name and columns to be used\r\n",
    "preproc = Preprocess(config=cfg)"
   ],
   "outputs": [],
   "metadata": {}
  },
  {
   "cell_type": "code",
   "execution_count": 6,
   "source": [
    "# drop rows where field value == na\r\n",
    "preproc.dropna()"
   ],
   "outputs": [],
   "metadata": {}
  },
  {
   "cell_type": "code",
   "execution_count": 7,
   "source": [
    "# update column type e.g. convert object column to int as per mapping giving in the column data type\r\n",
    "preproc.columnDataType(data_type_for_each_column=columns_data_type) "
   ],
   "outputs": [],
   "metadata": {}
  },
  {
   "cell_type": "code",
   "execution_count": 8,
   "source": [
    "# get final pandas data frame after preprocessing\r\n",
    "data = preproc.get_data() "
   ],
   "outputs": [],
   "metadata": {}
  },
  {
   "cell_type": "code",
   "execution_count": 9,
   "source": [
    "# you can export the cleaned csv as well | pass the file name without extension\r\n",
    "# preproc.write_csv(\"cleaned_data\")"
   ],
   "outputs": [],
   "metadata": {}
  },
  {
   "cell_type": "markdown",
   "source": [
    "#### Edit these variables"
   ],
   "metadata": {}
  },
  {
   "cell_type": "code",
   "execution_count": 10,
   "source": [
    "list_of_independent_variables = ['traffic_density', 'ready_latency', 'query_latency', 'query_timed_out', 'sa_correct',\r\n",
    "                                   'interbeat_interval', 'rx', 'ry', 'rz', 'eyeblink', 'positive', 'neutral',\r\n",
    "                                   'negative', 'CLCD', 'Words_sec']\r\n",
    "list_of_dependent_variables = ['los_freq'] # or los_severity"
   ],
   "outputs": [],
   "metadata": {}
  },
  {
   "cell_type": "code",
   "execution_count": 11,
   "source": [
    "model, selected_columns = step_aic(independent_variables=list_of_independent_variables,\r\n",
    "                                    dependent_variables=list_of_dependent_variables,\r\n",
    "                                    data=data)"
   ],
   "outputs": [
    {
     "output_type": "stream",
     "name": "stdout",
     "text": [
      "AIC: 3114.908, formula: los_freq ~ 1\n"
     ]
    }
   ],
   "metadata": {}
  },
  {
   "cell_type": "code",
   "execution_count": 12,
   "source": [
    "print(F\"*****************************************************\")\r\n",
    "print(F\"{selected_columns}\")"
   ],
   "outputs": [
    {
     "output_type": "stream",
     "name": "stdout",
     "text": [
      "*****************************************************\n",
      "['traffic_density', 'interbeat_interval', 'rz', 'negative', 'positive', 'Words_sec', 'query_latency', 'sa_correct', 'neutral', 'rx']\n"
     ]
    }
   ],
   "metadata": {}
  },
  {
   "cell_type": "code",
   "execution_count": 13,
   "source": [
    "print(F\"*****************************************************\")\r\n",
    "print(F\"{model.summary()}\")"
   ],
   "outputs": [
    {
     "output_type": "stream",
     "name": "stdout",
     "text": [
      "*****************************************************\n",
      "                            OLS Regression Results                            \n",
      "==============================================================================\n",
      "Dep. Variable:               los_freq   R-squared:                       0.439\n",
      "Model:                            OLS   Adj. R-squared:                  0.434\n",
      "Method:                 Least Squares   F-statistic:                     87.55\n",
      "Date:                Tue, 03 Aug 2021   Prob (F-statistic):          5.64e-133\n",
      "Time:                        15:39:18   Log-Likelihood:                -1229.9\n",
      "No. Observations:                1130   AIC:                             2482.\n",
      "Df Residuals:                    1119   BIC:                             2537.\n",
      "Df Model:                          10                                         \n",
      "Covariance Type:            nonrobust                                         \n",
      "======================================================================================\n",
      "                         coef    std err          t      P>|t|      [0.025      0.975]\n",
      "--------------------------------------------------------------------------------------\n",
      "Intercept             -1.5556      0.228     -6.830      0.000      -2.002      -1.109\n",
      "traffic_density        0.1102      0.004     26.696      0.000       0.102       0.118\n",
      "interbeat_interval     0.0015      0.000      9.154      0.000       0.001       0.002\n",
      "rz                    -1.2833      0.192     -6.679      0.000      -1.660      -0.906\n",
      "negative              -0.6371      0.095     -6.716      0.000      -0.823      -0.451\n",
      "positive              -0.7847      0.139     -5.629      0.000      -1.058      -0.511\n",
      "Words_sec              0.0715      0.024      3.026      0.003       0.025       0.118\n",
      "query_latency          0.0076      0.002      4.267      0.000       0.004       0.011\n",
      "sa_correct             0.1576      0.048      3.289      0.001       0.064       0.252\n",
      "neutral               -0.3614      0.126     -2.868      0.004      -0.609      -0.114\n",
      "rx                    -0.3729      0.159     -2.352      0.019      -0.684      -0.062\n",
      "==============================================================================\n",
      "Omnibus:                      279.753   Durbin-Watson:                   0.340\n",
      "Prob(Omnibus):                  0.000   Jarque-Bera (JB):             1225.706\n",
      "Skew:                           1.098   Prob(JB):                    6.94e-267\n",
      "Kurtosis:                       7.605   Cond. No.                     1.04e+04\n",
      "==============================================================================\n",
      "\n",
      "Notes:\n",
      "[1] Standard Errors assume that the covariance matrix of the errors is correctly specified.\n",
      "[2] The condition number is large, 1.04e+04. This might indicate that there are\n",
      "strong multicollinearity or other numerical problems.\n"
     ]
    }
   ],
   "metadata": {}
  },
  {
   "cell_type": "code",
   "execution_count": 14,
   "source": [
    "print(F\"*****************************************************\")\r\n",
    "print(f'AIC = {model.aic}')\r\n",
    "# model is of type ==> https://www.statsmodels.org/stable/generated/statsmodels.regression.linear_model.RegressionResults.html\r\n",
    "# you can access variables within model as mentioned in this link\r\n",
    "# some examples"
   ],
   "outputs": [
    {
     "output_type": "stream",
     "name": "stdout",
     "text": [
      "*****************************************************\n",
      "AIC = 2481.795130480846\n"
     ]
    }
   ],
   "metadata": {
    "scrolled": true
   }
  },
  {
   "cell_type": "code",
   "execution_count": 15,
   "source": [
    "# print(F\"*****************************************************\")\r\n",
    "# print(f'P Values = \\n{model.pvalues}')\r\n",
    "# print(F\"*****************************************************\")\r\n",
    "# print(f'T Values = \\n{model.tvalues}')\r\n",
    "# print(F\"*****************************************************\")\r\n",
    "# print(f'R Square = {model.rsquared}')\r\n",
    "# print(F\"*****************************************************\")\r\n",
    "# print(f'F-Statistic = {model.fvalue}')\r\n",
    "# print(F\"*****************************************************\")"
   ],
   "outputs": [],
   "metadata": {}
  }
 ],
 "metadata": {
  "kernelspec": {
   "name": "python3",
   "display_name": "Python 3.8.9 64-bit ('hmi-venv': venv)"
  },
  "language_info": {
   "codemirror_mode": {
    "name": "ipython",
    "version": 3
   },
   "file_extension": ".py",
   "mimetype": "text/x-python",
   "name": "python",
   "nbconvert_exporter": "python",
   "pygments_lexer": "ipython3",
   "version": "3.8.9"
  },
  "interpreter": {
   "hash": "28a96230c9c92f7e2cf9eac68ffdcbcf534fea5d0a34188103a6a952e9626d69"
  }
 },
 "nbformat": 4,
 "nbformat_minor": 5
}