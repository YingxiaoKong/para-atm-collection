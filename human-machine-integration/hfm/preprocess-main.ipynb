{
 "cells": [
  {
   "cell_type": "markdown",
   "source": [
    "# Preprocessing\r\n",
    "\r\n",
    "Authors - Meet Sanghvi, Ashish Amresh <br>\r\n",
    "Institution - Arizona State University <br>\r\n",
    "Email - <Meet.Sanghvi@asu.edu>, <amresh@asu.edu>;\r\n",
    "\r\n",
    "This module is a csv preprocesing module that can be used to process csv files and make them ready for machine learning and statistical usages\r\n",
    "\r\n",
    "## Code Requirements\r\n",
    "- pandas - https://pandas.pydata.org/pandas-docs/stable/getting_started/install.html\r\n",
    "\r\n",
    "## Usage Example\r\n",
    "Simply import the module\r\n",
    "> from preprocess.PREPROCESS import Preprocess\r\n",
    "\r\n",
    "and then call it in your code\r\n",
    "\r\n",
    "initialize preprocessing of csv by passing the file name and columns to be used\r\n",
    "\r\n",
    "    preproc = Preprocess(config=cfg)\r\n",
    "\r\n",
    "drop rows where field value == na\r\n",
    "    \r\n",
    "    preproc.dropna()\r\n",
    "\r\n",
    "update column type e.g. convert object column to int as per mapping giving in the column data type\r\n",
    "    \r\n",
    "    preproc.columnDataType(data_type_for_each_column=columns_data_type) \r\n",
    "\r\n",
    "get final pandas data frame after preprocessing\r\n",
    "\r\n",
    "    data = preproc.get_data() \r\n",
    "\r\n",
    "you can export the cleaned csv as well | pass the file name without extension\r\n",
    "\r\n",
    "    preproc.write_csv(\"cleaned_data\")"
   ],
   "metadata": {}
  },
  {
   "cell_type": "code",
   "execution_count": 2,
   "source": [
    "from preprocess.PREPROCESS import Preprocess"
   ],
   "outputs": [],
   "metadata": {}
  },
  {
   "cell_type": "markdown",
   "source": [
    "#### Edit this dictionary to map your column with the data type"
   ],
   "metadata": {}
  },
  {
   "cell_type": "code",
   "execution_count": 3,
   "source": [
    "columns_data_type = {\r\n",
    "        \"Ss\": \"int\",\r\n",
    "        \"condtn\": \"str\",\r\n",
    "        \"baseline\": \"int\",\r\n",
    "        \"highworkload\": \"int\",\r\n",
    "        \"highworkload offnominal\": \"int\",\r\n",
    "        \"at_sec\": \"int\",\r\n",
    "        \"traffic_density\": \"int\",\r\n",
    "        \"los_freq\": \"int\",\r\n",
    "        \"los_duration_over5min\": \"int\",\r\n",
    "        \"query\": \"str\",\r\n",
    "        \"ready_latency\": \"float\",\r\n",
    "        \"ready_latency_adj\": \"float\",\r\n",
    "        \"query_latency\": \"float\",\r\n",
    "        \"response_index\": \"int\",\r\n",
    "        \"ready_timed_out\": \"int\",\r\n",
    "        \"query_timed_out\": \"int\",\r\n",
    "        \"stimuli\": \"str\",\r\n",
    "        \"response_text\": \"str\",\r\n",
    "        \"sa_correct\": \"float\",\r\n",
    "        \"wl_rating\": \"int\",\r\n",
    "        \"interbeat_interval\": \"float\",\r\n",
    "        \"condtn_num\": \"int\",\r\n",
    "        \"face_conf\": \"str\",\r\n",
    "        \"rx\": \"float\",\r\n",
    "        \"ry\": \"float\",\r\n",
    "        \"rz\": \"float\",\r\n",
    "        \"eyeblink\": \"float\",\r\n",
    "        \"positive\": \"float\",\r\n",
    "        \"neutral\": \"float\",\r\n",
    "        \"negative\": \"float\",\r\n",
    "        \"emo_conf\": \"int\",\r\n",
    "        \"los_severity\": \"float\",\r\n",
    "        \"CLCD\": \"int\",\r\n",
    "        \"In_transmission (binary)\": \"int\",\r\n",
    "        \"transmission started (count)\": \"int\",\r\n",
    "        \"transmission ended (count)\": \"int\",\r\n",
    "        \"words per transmission (syn_complexity)\": \"int\",\r\n",
    "        \"length of transmission(in_sec)\": \"float\",\r\n",
    "        \"Words_sec\": \"float\",\r\n",
    "        \"time filled in previous interval (up to 5 seconds)\": \"float\",\r\n",
    "        \"time since last transmissions\": \"float\",\r\n",
    "        \"True Pilot or ATC\": \"str\",\r\n",
    "        \"Interval-Pilot (p) OR ATC (a) (ap for shared intervals)\": \"str\",\r\n",
    "        \"pilot communication time\": \"float\",\r\n",
    "        \"air traffic communication time in previous interval\": \"float\",\r\n",
    "        \"ratio of comms at interval P:A\": \"str\"\r\n",
    "}\r\n"
   ],
   "outputs": [],
   "metadata": {}
  },
  {
   "cell_type": "markdown",
   "source": [
    "## Code Starts Here"
   ],
   "metadata": {}
  },
  {
   "cell_type": "markdown",
   "source": [
    "#### Edit the fields name & the file_name of the csv data which you are passing"
   ],
   "metadata": {}
  },
  {
   "cell_type": "code",
   "execution_count": 4,
   "source": [
    "cfg = {\r\n",
    "        \"fields\": ['traffic_density', 'ready_latency', 'traffic_density', 'ready_latency', 'query_latency',\r\n",
    "                'query_timed_out', 'sa_correct', 'interbeat_interval', 'rx', 'ry', 'rz', 'eyeblink', 'positive',\r\n",
    "                'neutral', 'negative', 'CLCD', 'Words_sec', 'los_severity', 'los_freq'],\r\n",
    "        'file_name': \"data.csv\"\r\n",
    "}"
   ],
   "outputs": [],
   "metadata": {}
  },
  {
   "cell_type": "code",
   "execution_count": 5,
   "source": [
    "# initialize preprocessing of csv by passing the file name and columns to be used\r\n",
    "preproc = Preprocess(config=cfg)"
   ],
   "outputs": [],
   "metadata": {}
  },
  {
   "cell_type": "code",
   "execution_count": 6,
   "source": [
    "# drop rows where field value == na\r\n",
    "preproc.dropna()"
   ],
   "outputs": [],
   "metadata": {}
  },
  {
   "cell_type": "code",
   "execution_count": 7,
   "source": [
    "# update column type e.g. convert object column to int as per mapping giving in the column data type\r\n",
    "preproc.columnDataType(data_type_for_each_column=columns_data_type) "
   ],
   "outputs": [],
   "metadata": {}
  },
  {
   "cell_type": "code",
   "execution_count": 8,
   "source": [
    "# get final pandas data frame after preprocessing\r\n",
    "data = preproc.get_data() "
   ],
   "outputs": [],
   "metadata": {}
  },
  {
   "cell_type": "code",
   "execution_count": 9,
   "source": [
    "# you can export the cleaned csv as well | pass the file name without extension\r\n",
    "# preproc.write_csv(\"cleaned_data\")"
   ],
   "outputs": [],
   "metadata": {}
  }
 ],
 "metadata": {
  "kernelspec": {
   "name": "python3",
   "display_name": "Python 3.8.9 64-bit ('hmi-venv': venv)"
  },
  "language_info": {
   "codemirror_mode": {
    "name": "ipython",
    "version": 3
   },
   "file_extension": ".py",
   "mimetype": "text/x-python",
   "name": "python",
   "nbconvert_exporter": "python",
   "pygments_lexer": "ipython3",
   "version": "3.8.9"
  },
  "interpreter": {
   "hash": "28a96230c9c92f7e2cf9eac68ffdcbcf534fea5d0a34188103a6a952e9626d69"
  }
 },
 "nbformat": 4,
 "nbformat_minor": 5
}