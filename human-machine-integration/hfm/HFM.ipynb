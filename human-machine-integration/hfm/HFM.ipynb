{
 "cells": [
  {
   "cell_type": "markdown",
   "id": "09e9c067",
   "metadata": {},
   "source": [
    "# Human Factors Module (HFM)"
   ]
  },
  {
   "cell_type": "markdown",
   "id": "bf5dcbc1",
   "metadata": {},
   "source": [
    " Authors - Mustafa Demir, Nancy Cooke, Sarah Ligda, Chris  Lieber, Meet Sanghvi, Ashish Amresh <br>\n",
    " Institution - Arizona State University <br>\n",
    " Email - <mustafa.demir@asu.edu>, <Nancy.Cooke@asu.edu>, <sligda@asu.edu>, <clieber@asu.edu>, <Meet.Sanghvi@asu.edu>, <amresh@asu.edu>;"
   ]
  },
  {
   "cell_type": "markdown",
   "id": "ab1985ac",
   "metadata": {},
   "source": [
    "This module performs a Step Wise AIC to find the best formula out of all the independent variables. After finding the best formula from this module, it can be used in the HPMMv2 Module to use the catboost regressor to predict the loss of separation\n",
    "\n",
    "HFM (this module) is a purely statistical model"
   ]
  },
  {
   "cell_type": "markdown",
   "id": "1e6e822f",
   "metadata": {},
   "source": [
    "## Code Requirements\n",
    "\n",
    "- pandas - https://pandas.pydata.org/pandas-docs/stable/getting_started/install.html <br>\n",
    "- numpy - https://numpy.org/install/"
   ]
  },
  {
   "cell_type": "markdown",
   "id": "e8837e33",
   "metadata": {},
   "source": [
    "## How to use this file?\n",
    "- Edit the fields and file name to be used from the csv data file you are passing\n",
    "- Edit the mapping dictionary = data_type_for_each_column ==> which state which column from the csv file is what type of data\n",
    "- Edit the list of independent variables"
   ]
  },
  {
   "cell_type": "markdown",
   "id": "e876c3cb",
   "metadata": {},
   "source": [
    "## Preprocessing Note\n",
    "- The code does processing of the data file provided\n",
    "- it removes/deletes all rows from the csv where value is NaN"
   ]
  },
  {
   "cell_type": "code",
   "execution_count": 6,
   "id": "99c54396",
   "metadata": {},
   "outputs": [],
   "source": [
    "import pandas as pd\n",
    "import numpy as np\n",
    "import statsmodels.formula.api as sm"
   ]
  },
  {
   "cell_type": "markdown",
   "id": "3a05c76a",
   "metadata": {},
   "source": [
    "#### Edit this dictionary to map your column with the data type"
   ]
  },
  {
   "cell_type": "code",
   "execution_count": 7,
   "id": "9ed50cf9",
   "metadata": {},
   "outputs": [],
   "source": [
    "data_type_for_each_column = {\n",
    "    \"Ss\": \"int\",\n",
    "    \"condtn\": \"str\",\n",
    "    \"baseline\": \"int\",\n",
    "    \"highworkload\": \"int\",\n",
    "    \"highworkload offnominal\": \"int\",\n",
    "    \"at_sec\": \"int\",\n",
    "    \"traffic_density\": \"int\",\n",
    "    \"los_freq\": \"int\",\n",
    "    \"los_duration_over5min\": \"int\",\n",
    "    \"query\": \"str\",\n",
    "    \"ready_latency\": \"float\",\n",
    "    \"ready_latency_adj\": \"float\",\n",
    "    \"query_latency\": \"float\",\n",
    "    \"response_index\": \"int\",\n",
    "    \"ready_timed_out\": \"int\",\n",
    "    \"query_timed_out\": \"int\",\n",
    "    \"stimuli\": \"str\",\n",
    "    \"response_text\": \"str\",\n",
    "    \"sa_correct\": \"float\",\n",
    "    \"wl_rating\": \"int\",\n",
    "    \"interbeat_interval\": \"float\",\n",
    "    \"condtn_num\": \"int\",\n",
    "    \"face_conf\": \"str\",\n",
    "    \"rx\": \"float\",\n",
    "    \"ry\": \"float\",\n",
    "    \"rz\": \"float\",\n",
    "    \"eyeblink\": \"float\",\n",
    "    \"positive\": \"float\",\n",
    "    \"neutral\": \"float\",\n",
    "    \"negative\": \"float\",\n",
    "    \"emo_conf\": \"int\",\n",
    "    \"los_severity\": \"float\",\n",
    "    \"CLCD\": \"int\",\n",
    "    \"In_transmission (binary)\": \"int\",\n",
    "    \"transmission started (count)\": \"int\",\n",
    "    \"transmission ended (count)\": \"int\",\n",
    "    \"words per transmission (syn_complexity)\": \"int\",\n",
    "    \"length of transmission(in_sec)\": \"float\",\n",
    "    \"Words_sec\": \"float\",\n",
    "    \"time filled in previous interval (up to 5 seconds)\": \"float\",\n",
    "    \"time since last transmissions\": \"float\",\n",
    "    \"True Pilot or ATC\": \"str\",\n",
    "    \"Interval-Pilot (p) OR ATC (a) (ap for shared intervals)\": \"str\",\n",
    "    \"pilot communication time\": \"float\",\n",
    "    \"air traffic communication time in previous interval\": \"float\",\n",
    "    \"ratio of comms at interval P:A\": \"str\",\n",
    "}"
   ]
  },
  {
   "cell_type": "code",
   "execution_count": 8,
   "id": "3a8cb9f3",
   "metadata": {},
   "outputs": [],
   "source": [
    "def step_aic(model, independent_variables, dependent_variables, **kwargs):\n",
    "    \"\"\"\n",
    "    This function is used to select the best formula with smallest AIC\n",
    "    Both exog and endog values can be either str or list.\n",
    "\n",
    "    Note: This adopt only \"forward\" selection\n",
    "\n",
    "    Args:\n",
    "        model: model from statsmodels.formula.api\n",
    "        independent_variables (str or list): dependent variables\n",
    "        dependent_variables (str or list): independent variables\n",
    "        kwargs: extra keyword argments for model (e.g., data, family)\n",
    "\n",
    "    Returns:\n",
    "        model: a model that seems to have the smallest AIC\n",
    "        formula: str rep of the best formula\n",
    "    \"\"\"\n",
    "\n",
    "    independent_variables = np.r_[[independent_variables]].flatten()\n",
    "    dependent_variables = np.r_[[dependent_variables]].flatten()\n",
    "    remaining = set(independent_variables)\n",
    "    selected = []\n",
    "\n",
    "    formula_head = ' + '.join(dependent_variables) + ' ~ '\n",
    "    formula = formula_head + '1'\n",
    "    aic = model(formula=formula, **kwargs).fit().aic\n",
    "    print('AIC: {}, formula: {}'.format(round(aic, 3), formula))\n",
    "\n",
    "    current_score, best_new_score = np.ones(2) * aic\n",
    "\n",
    "    while remaining and current_score == best_new_score:\n",
    "        scores_with_candidates = []\n",
    "        for candidate in remaining:\n",
    "            formula_tail = ' + '.join(selected + [candidate])\n",
    "            formula = formula_head + formula_tail\n",
    "            aic = model(formula=formula, **kwargs).fit().aic\n",
    "            print('AIC: {}, formula: {}'.format(round(aic, 3), formula))\n",
    "\n",
    "            scores_with_candidates.append((aic, candidate))\n",
    "\n",
    "        scores_with_candidates.sort()\n",
    "        scores_with_candidates.reverse()\n",
    "        best_new_score, best_candidate = scores_with_candidates.pop()\n",
    "\n",
    "        if best_new_score < current_score:\n",
    "            remaining.remove(best_candidate)\n",
    "            selected.append(best_candidate)\n",
    "            current_score = best_new_score\n",
    "\n",
    "    formula = formula_head + ' + '.join(selected)\n",
    "    print('The best formula: {}'.format(formula))\n",
    "    return model(formula, **kwargs).fit(), formula"
   ]
  },
  {
   "cell_type": "code",
   "execution_count": 9,
   "id": "9ce6b27c",
   "metadata": {},
   "outputs": [],
   "source": [
    "class HFM:\n",
    "    def __init__(self, cfg: dict):\n",
    "        self.data = pd.read_csv(cfg['file_name'], usecols=cfg['fields'])\n",
    "\n",
    "    def preprocess(self):\n",
    "        # drop the rows which have NaN elements\n",
    "        self.data = self.data.dropna()\n",
    "\n",
    "        # convert each column as the data type it is supposed to be - by default pandas sometimes reads columns as\n",
    "        # objects instead of strings or ints\n",
    "        for col in self.data.columns.values:\n",
    "            self.data[col] = self.data[col].astype(data_type_for_each_column[col])\n",
    "\n",
    "        return self.data"
   ]
  },
  {
   "cell_type": "markdown",
   "id": "d0dd5dc2",
   "metadata": {},
   "source": [
    "## Code Starts Here"
   ]
  },
  {
   "cell_type": "markdown",
   "id": "3cd58531",
   "metadata": {},
   "source": [
    "#### Edit the fields name & the file_name of the csv data which you are passing"
   ]
  },
  {
   "cell_type": "code",
   "execution_count": 10,
   "id": "84194c3f",
   "metadata": {},
   "outputs": [],
   "source": [
    "cfg = {\n",
    "        \"fields\": ['traffic_density', 'ready_latency', 'traffic_density', 'ready_latency', 'query_latency',\n",
    "                   'query_timed_out', 'sa_correct', 'interbeat_interval', 'rx', 'ry', 'rz', 'eyeblink', 'positive',\n",
    "                   'neutral', 'negative', 'CLCD', 'Words_sec', 'los_severity', 'los_freq'],\n",
    "        'file_name': \"data.csv\"\n",
    "}"
   ]
  },
  {
   "cell_type": "code",
   "execution_count": 11,
   "id": "578b98c7",
   "metadata": {},
   "outputs": [],
   "source": [
    "hfm = HFM(cfg)\n",
    "data = hfm.preprocess()"
   ]
  },
  {
   "cell_type": "markdown",
   "id": "f6b68f18",
   "metadata": {},
   "source": [
    "#### Edit these variables"
   ]
  },
  {
   "cell_type": "code",
   "execution_count": 12,
   "id": "313a1734",
   "metadata": {},
   "outputs": [],
   "source": [
    "list_of_independent_variables = ['traffic_density', 'ready_latency', 'query_latency', 'query_timed_out', 'sa_correct',\n",
    "                                   'interbeat_interval', 'rx', 'ry', 'rz', 'eyeblink', 'positive', 'neutral',\n",
    "                                   'negative', 'CLCD', 'Words_sec']\n",
    "list_of_dependent_variables = ['los_freq'] # or los_severity"
   ]
  },
  {
   "cell_type": "code",
   "execution_count": 13,
   "id": "fc6e7487",
   "metadata": {},
   "outputs": [
    {
     "name": "stdout",
     "output_type": "stream",
     "text": [
      "AIC: 3114.908, formula: los_freq ~ 1\n",
      "AIC: 3116.754, formula: los_freq ~ query_latency\n",
      "AIC: 3116.017, formula: los_freq ~ neutral\n",
      "AIC: 3106.166, formula: los_freq ~ Words_sec\n",
      "AIC: 3104.985, formula: los_freq ~ query_timed_out\n",
      "AIC: 3107.269, formula: los_freq ~ rx\n",
      "AIC: 3116.799, formula: los_freq ~ ry\n",
      "AIC: 3085.111, formula: los_freq ~ negative\n",
      "AIC: 2674.504, formula: los_freq ~ traffic_density\n",
      "AIC: 3116.44, formula: los_freq ~ CLCD\n",
      "AIC: 3115.657, formula: los_freq ~ eyeblink\n",
      "AIC: 3113.361, formula: los_freq ~ positive\n",
      "AIC: 3096.299, formula: los_freq ~ interbeat_interval\n",
      "AIC: 3116.858, formula: los_freq ~ sa_correct\n",
      "AIC: 3115.155, formula: los_freq ~ ready_latency\n",
      "AIC: 3115.158, formula: los_freq ~ rz\n",
      "AIC: 2672.289, formula: los_freq ~ traffic_density + query_latency\n",
      "AIC: 2675.628, formula: los_freq ~ traffic_density + neutral\n",
      "AIC: 2662.508, formula: los_freq ~ traffic_density + Words_sec\n",
      "AIC: 2672.699, formula: los_freq ~ traffic_density + query_timed_out\n",
      "AIC: 2673.767, formula: los_freq ~ traffic_density + rx\n",
      "AIC: 2676.066, formula: los_freq ~ traffic_density + ry\n",
      "AIC: 2637.562, formula: los_freq ~ traffic_density + negative\n",
      "AIC: 2675.852, formula: los_freq ~ traffic_density + CLCD\n",
      "AIC: 2659.928, formula: los_freq ~ traffic_density + eyeblink\n",
      "AIC: 2673.142, formula: los_freq ~ traffic_density + positive\n",
      "AIC: 2612.01, formula: los_freq ~ traffic_density + interbeat_interval\n",
      "AIC: 2675.867, formula: los_freq ~ traffic_density + sa_correct\n",
      "AIC: 2672.413, formula: los_freq ~ traffic_density + ready_latency\n",
      "AIC: 2651.937, formula: los_freq ~ traffic_density + rz\n",
      "AIC: 2608.28, formula: los_freq ~ traffic_density + interbeat_interval + query_latency\n",
      "AIC: 2613.984, formula: los_freq ~ traffic_density + interbeat_interval + neutral\n",
      "AIC: 2599.427, formula: los_freq ~ traffic_density + interbeat_interval + Words_sec\n",
      "AIC: 2610.109, formula: los_freq ~ traffic_density + interbeat_interval + query_timed_out\n",
      "AIC: 2613.933, formula: los_freq ~ traffic_density + interbeat_interval + rx\n",
      "AIC: 2609.983, formula: los_freq ~ traffic_density + interbeat_interval + ry\n",
      "AIC: 2586.463, formula: los_freq ~ traffic_density + interbeat_interval + negative\n",
      "AIC: 2613.641, formula: los_freq ~ traffic_density + interbeat_interval + CLCD\n",
      "AIC: 2602.69, formula: los_freq ~ traffic_density + interbeat_interval + eyeblink\n",
      "AIC: 2609.651, formula: los_freq ~ traffic_density + interbeat_interval + positive\n",
      "AIC: 2611.53, formula: los_freq ~ traffic_density + interbeat_interval + sa_correct\n",
      "AIC: 2613.998, formula: los_freq ~ traffic_density + interbeat_interval + ready_latency\n",
      "AIC: 2548.138, formula: los_freq ~ traffic_density + interbeat_interval + rz\n",
      "AIC: 2541.946, formula: los_freq ~ traffic_density + interbeat_interval + rz + query_latency\n",
      "AIC: 2549.719, formula: los_freq ~ traffic_density + interbeat_interval + rz + neutral\n",
      "AIC: 2537.817, formula: los_freq ~ traffic_density + interbeat_interval + rz + Words_sec\n",
      "AIC: 2545.35, formula: los_freq ~ traffic_density + interbeat_interval + rz + query_timed_out\n",
      "AIC: 2548.769, formula: los_freq ~ traffic_density + interbeat_interval + rz + rx\n",
      "AIC: 2546.493, formula: los_freq ~ traffic_density + interbeat_interval + rz + ry\n",
      "AIC: 2533.208, formula: los_freq ~ traffic_density + interbeat_interval + rz + negative\n",
      "AIC: 2549.856, formula: los_freq ~ traffic_density + interbeat_interval + rz + CLCD\n",
      "AIC: 2544.723, formula: los_freq ~ traffic_density + interbeat_interval + rz + eyeblink\n",
      "AIC: 2545.815, formula: los_freq ~ traffic_density + interbeat_interval + rz + positive\n",
      "AIC: 2548.475, formula: los_freq ~ traffic_density + interbeat_interval + rz + sa_correct\n",
      "AIC: 2549.681, formula: los_freq ~ traffic_density + interbeat_interval + rz + ready_latency\n",
      "AIC: 2525.025, formula: los_freq ~ traffic_density + interbeat_interval + rz + negative + query_latency\n",
      "AIC: 2533.877, formula: los_freq ~ traffic_density + interbeat_interval + rz + negative + neutral\n",
      "AIC: 2523.494, formula: los_freq ~ traffic_density + interbeat_interval + rz + negative + Words_sec\n",
      "AIC: 2528.634, formula: los_freq ~ traffic_density + interbeat_interval + rz + negative + query_timed_out\n",
      "AIC: 2534.141, formula: los_freq ~ traffic_density + interbeat_interval + rz + negative + rx\n",
      "AIC: 2533.171, formula: los_freq ~ traffic_density + interbeat_interval + rz + negative + ry\n",
      "AIC: 2534.88, formula: los_freq ~ traffic_density + interbeat_interval + rz + negative + CLCD\n",
      "AIC: 2530.83, formula: los_freq ~ traffic_density + interbeat_interval + rz + negative + eyeblink\n",
      "AIC: 2517.677, formula: los_freq ~ traffic_density + interbeat_interval + rz + negative + positive\n",
      "AIC: 2533.243, formula: los_freq ~ traffic_density + interbeat_interval + rz + negative + sa_correct\n",
      "AIC: 2535.168, formula: los_freq ~ traffic_density + interbeat_interval + rz + negative + ready_latency\n",
      "AIC: 2509.825, formula: los_freq ~ traffic_density + interbeat_interval + rz + negative + positive + query_latency\n",
      "AIC: 2511.325, formula: los_freq ~ traffic_density + interbeat_interval + rz + negative + positive + neutral\n",
      "AIC: 2506.782, formula: los_freq ~ traffic_density + interbeat_interval + rz + negative + positive + Words_sec\n",
      "AIC: 2514.888, formula: los_freq ~ traffic_density + interbeat_interval + rz + negative + positive + query_timed_out\n",
      "AIC: 2515.767, formula: los_freq ~ traffic_density + interbeat_interval + rz + negative + positive + rx\n",
      "AIC: 2516.171, formula: los_freq ~ traffic_density + interbeat_interval + rz + negative + positive + ry\n",
      "AIC: 2518.496, formula: los_freq ~ traffic_density + interbeat_interval + rz + negative + positive + CLCD\n",
      "AIC: 2518.064, formula: los_freq ~ traffic_density + interbeat_interval + rz + negative + positive + eyeblink\n",
      "AIC: 2516.496, formula: los_freq ~ traffic_density + interbeat_interval + rz + negative + positive + sa_correct\n",
      "AIC: 2519.675, formula: los_freq ~ traffic_density + interbeat_interval + rz + negative + positive + ready_latency\n",
      "AIC: 2499.628, formula: los_freq ~ traffic_density + interbeat_interval + rz + negative + positive + Words_sec + query_latency\n",
      "AIC: 2502.748, formula: los_freq ~ traffic_density + interbeat_interval + rz + negative + positive + Words_sec + neutral\n",
      "AIC: 2504.538, formula: los_freq ~ traffic_density + interbeat_interval + rz + negative + positive + Words_sec + query_timed_out\n",
      "AIC: 2504.947, formula: los_freq ~ traffic_density + interbeat_interval + rz + negative + positive + Words_sec + rx\n",
      "AIC: 2506.383, formula: los_freq ~ traffic_density + interbeat_interval + rz + negative + positive + Words_sec + ry\n",
      "AIC: 2507.903, formula: los_freq ~ traffic_density + interbeat_interval + rz + negative + positive + Words_sec + CLCD\n",
      "AIC: 2507.728, formula: los_freq ~ traffic_density + interbeat_interval + rz + negative + positive + Words_sec + eyeblink\n",
      "AIC: 2505.556, formula: los_freq ~ traffic_density + interbeat_interval + rz + negative + positive + Words_sec + sa_correct\n",
      "AIC: 2508.713, formula: los_freq ~ traffic_density + interbeat_interval + rz + negative + positive + Words_sec + ready_latency\n",
      "AIC: 2494.104, formula: los_freq ~ traffic_density + interbeat_interval + rz + negative + positive + Words_sec + query_latency + neutral\n",
      "AIC: 2499.035, formula: los_freq ~ traffic_density + interbeat_interval + rz + negative + positive + Words_sec + query_latency + query_timed_out\n",
      "AIC: 2498.48, formula: los_freq ~ traffic_density + interbeat_interval + rz + negative + positive + Words_sec + query_latency + rx\n",
      "AIC: 2498.419, formula: los_freq ~ traffic_density + interbeat_interval + rz + negative + positive + Words_sec + query_latency + ry\n",
      "AIC: 2500.321, formula: los_freq ~ traffic_density + interbeat_interval + rz + negative + positive + Words_sec + query_latency + CLCD\n",
      "AIC: 2500.466, formula: los_freq ~ traffic_density + interbeat_interval + rz + negative + positive + Words_sec + query_latency + eyeblink\n",
      "AIC: 2489.514, formula: los_freq ~ traffic_density + interbeat_interval + rz + negative + positive + Words_sec + query_latency + sa_correct\n",
      "AIC: 2501.409, formula: los_freq ~ traffic_density + interbeat_interval + rz + negative + positive + Words_sec + query_latency + ready_latency\n",
      "AIC: 2485.368, formula: los_freq ~ traffic_density + interbeat_interval + rz + negative + positive + Words_sec + query_latency + sa_correct + neutral\n",
      "AIC: 2491.499, formula: los_freq ~ traffic_density + interbeat_interval + rz + negative + positive + Words_sec + query_latency + sa_correct + query_timed_out\n",
      "AIC: 2488.071, formula: los_freq ~ traffic_density + interbeat_interval + rz + negative + positive + Words_sec + query_latency + sa_correct + rx\n",
      "AIC: 2488.874, formula: los_freq ~ traffic_density + interbeat_interval + rz + negative + positive + Words_sec + query_latency + sa_correct + ry\n",
      "AIC: 2490.411, formula: los_freq ~ traffic_density + interbeat_interval + rz + negative + positive + Words_sec + query_latency + sa_correct + CLCD\n",
      "AIC: 2490.63, formula: los_freq ~ traffic_density + interbeat_interval + rz + negative + positive + Words_sec + query_latency + sa_correct + eyeblink\n",
      "AIC: 2490.877, formula: los_freq ~ traffic_density + interbeat_interval + rz + negative + positive + Words_sec + query_latency + sa_correct + ready_latency\n",
      "AIC: 2487.361, formula: los_freq ~ traffic_density + interbeat_interval + rz + negative + positive + Words_sec + query_latency + sa_correct + neutral + query_timed_out\n",
      "AIC: 2481.795, formula: los_freq ~ traffic_density + interbeat_interval + rz + negative + positive + Words_sec + query_latency + sa_correct + neutral + rx\n",
      "AIC: 2485.236, formula: los_freq ~ traffic_density + interbeat_interval + rz + negative + positive + Words_sec + query_latency + sa_correct + neutral + ry\n"
     ]
    },
    {
     "name": "stdout",
     "output_type": "stream",
     "text": [
      "AIC: 2486.144, formula: los_freq ~ traffic_density + interbeat_interval + rz + negative + positive + Words_sec + query_latency + sa_correct + neutral + CLCD\n",
      "AIC: 2487.13, formula: los_freq ~ traffic_density + interbeat_interval + rz + negative + positive + Words_sec + query_latency + sa_correct + neutral + eyeblink\n",
      "AIC: 2486.42, formula: los_freq ~ traffic_density + interbeat_interval + rz + negative + positive + Words_sec + query_latency + sa_correct + neutral + ready_latency\n",
      "AIC: 2483.561, formula: los_freq ~ traffic_density + interbeat_interval + rz + negative + positive + Words_sec + query_latency + sa_correct + neutral + rx + query_timed_out\n",
      "AIC: 2483.07, formula: los_freq ~ traffic_density + interbeat_interval + rz + negative + positive + Words_sec + query_latency + sa_correct + neutral + rx + ry\n",
      "AIC: 2483.003, formula: los_freq ~ traffic_density + interbeat_interval + rz + negative + positive + Words_sec + query_latency + sa_correct + neutral + rx + CLCD\n",
      "AIC: 2482.84, formula: los_freq ~ traffic_density + interbeat_interval + rz + negative + positive + Words_sec + query_latency + sa_correct + neutral + rx + eyeblink\n",
      "AIC: 2482.633, formula: los_freq ~ traffic_density + interbeat_interval + rz + negative + positive + Words_sec + query_latency + sa_correct + neutral + rx + ready_latency\n",
      "The best formula: los_freq ~ traffic_density + interbeat_interval + rz + negative + positive + Words_sec + query_latency + sa_correct + neutral + rx\n"
     ]
    }
   ],
   "source": [
    "model, formula = step_aic(model=sm.ols,\n",
    "                          independent_variables=list_of_independent_variables,\n",
    "                          dependent_variables=list_of_dependent_variables,\n",
    "                          data=data)"
   ]
  },
  {
   "cell_type": "code",
   "execution_count": 14,
   "id": "9033a2c6",
   "metadata": {
    "scrolled": true
   },
   "outputs": [
    {
     "name": "stdout",
     "output_type": "stream",
     "text": [
      "\n",
      "\n",
      "*****************************************************\n",
      "Best Formula = los_freq ~ traffic_density + interbeat_interval + rz + negative + positive + Words_sec + query_latency + sa_correct + neutral + rx\n",
      "\n"
     ]
    }
   ],
   "source": [
    "print(F\"\\n\\n*****************************************************\")\n",
    "print(F\"Best Formula = {formula}\\n\")"
   ]
  },
  {
   "cell_type": "code",
   "execution_count": 15,
   "id": "79fee58b",
   "metadata": {},
   "outputs": [
    {
     "name": "stdout",
     "output_type": "stream",
     "text": [
      "*****************************************************\n",
      "                            OLS Regression Results                            \n",
      "==============================================================================\n",
      "Dep. Variable:               los_freq   R-squared:                       0.439\n",
      "Model:                            OLS   Adj. R-squared:                  0.434\n",
      "Method:                 Least Squares   F-statistic:                     87.55\n",
      "Date:                Mon, 26 Jul 2021   Prob (F-statistic):          5.64e-133\n",
      "Time:                        11:58:10   Log-Likelihood:                -1229.9\n",
      "No. Observations:                1130   AIC:                             2482.\n",
      "Df Residuals:                    1119   BIC:                             2537.\n",
      "Df Model:                          10                                         \n",
      "Covariance Type:            nonrobust                                         \n",
      "======================================================================================\n",
      "                         coef    std err          t      P>|t|      [0.025      0.975]\n",
      "--------------------------------------------------------------------------------------\n",
      "Intercept             -1.5556      0.228     -6.830      0.000      -2.002      -1.109\n",
      "traffic_density        0.1102      0.004     26.696      0.000       0.102       0.118\n",
      "interbeat_interval     0.0015      0.000      9.154      0.000       0.001       0.002\n",
      "rz                    -1.2833      0.192     -6.679      0.000      -1.660      -0.906\n",
      "negative              -0.6371      0.095     -6.716      0.000      -0.823      -0.451\n",
      "positive              -0.7847      0.139     -5.629      0.000      -1.058      -0.511\n",
      "Words_sec              0.0715      0.024      3.026      0.003       0.025       0.118\n",
      "query_latency          0.0076      0.002      4.267      0.000       0.004       0.011\n",
      "sa_correct             0.1576      0.048      3.289      0.001       0.064       0.252\n",
      "neutral               -0.3614      0.126     -2.868      0.004      -0.609      -0.114\n",
      "rx                    -0.3729      0.159     -2.352      0.019      -0.684      -0.062\n",
      "==============================================================================\n",
      "Omnibus:                      279.753   Durbin-Watson:                   0.340\n",
      "Prob(Omnibus):                  0.000   Jarque-Bera (JB):             1225.706\n",
      "Skew:                           1.098   Prob(JB):                    6.94e-267\n",
      "Kurtosis:                       7.605   Cond. No.                     1.04e+04\n",
      "==============================================================================\n",
      "\n",
      "Notes:\n",
      "[1] Standard Errors assume that the covariance matrix of the errors is correctly specified.\n",
      "[2] The condition number is large, 1.04e+04. This might indicate that there are\n",
      "strong multicollinearity or other numerical problems.\n"
     ]
    }
   ],
   "source": [
    "print(F\"*****************************************************\")\n",
    "print(F\"{model.summary()}\")"
   ]
  },
  {
   "cell_type": "code",
   "execution_count": 16,
   "id": "22dcac99",
   "metadata": {
    "scrolled": true
   },
   "outputs": [
    {
     "name": "stdout",
     "output_type": "stream",
     "text": [
      "*****************************************************\n",
      "AIC = 2481.795130480846\n"
     ]
    }
   ],
   "source": [
    "print(F\"*****************************************************\")\n",
    "print(f'AIC = {model.aic}')\n",
    "# model is of type ==> https://www.statsmodels.org/stable/generated/statsmodels.regression.linear_model.RegressionResults.html\n",
    "# you can access variables within model as mentioned in this link\n",
    "# some examples"
   ]
  },
  {
   "cell_type": "code",
   "execution_count": 17,
   "id": "58fd7e4d",
   "metadata": {},
   "outputs": [],
   "source": [
    "# print(F\"*****************************************************\")\n",
    "# print(f'P Values = \\n{model.pvalues}')\n",
    "# print(F\"*****************************************************\")\n",
    "# print(f'T Values = \\n{model.tvalues}')\n",
    "# print(F\"*****************************************************\")\n",
    "# print(f'R Square = {model.rsquared}')\n",
    "# print(F\"*****************************************************\")\n",
    "# print(f'F-Statistic = {model.fvalue}')\n",
    "# print(F\"*****************************************************\")"
   ]
  }
 ],
 "metadata": {
  "kernelspec": {
   "display_name": "Python 3 (ipykernel)",
   "language": "python",
   "name": "python3"
  },
  "language_info": {
   "codemirror_mode": {
    "name": "ipython",
    "version": 3
   },
   "file_extension": ".py",
   "mimetype": "text/x-python",
   "name": "python",
   "nbconvert_exporter": "python",
   "pygments_lexer": "ipython3",
   "version": "3.8.9"
  }
 },
 "nbformat": 4,
 "nbformat_minor": 5
}
