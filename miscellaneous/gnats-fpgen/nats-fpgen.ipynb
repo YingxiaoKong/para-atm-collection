{
 "cells": [
  {
   "cell_type": "markdown",
   "metadata": {},
   "source": [
    "# Demonstration of Creating and Running a NATS input file from IFF data\n",
    "## Read in IFF Data using PARA-ATM"
   ]
  },
  {
   "cell_type": "code",
   "execution_count": 1,
   "metadata": {},
   "outputs": [
    {
     "name": "stdout",
     "output_type": "stream",
     "text": [
      "Index(['recType', 'time', 'fltKey', 'bcnCode', 'cid', 'Source', 'msgType',\n",
      "       'callsign', 'recTypeCat', 'latitude', 'longitude', 'altitude',\n",
      "       'significance', 'coord1Accur', 'coord2Accur', 'altAccur', 'tas',\n",
      "       'heading', 'rocd', 'altQualifier', 'altIndicator', 'trackPtStatus',\n",
      "       'leaderDir', 'scratchPad', 'msawInhibitInd', 'assignedAltString',\n",
      "       'controllingFac', 'controllingSeg', 'receivingFac', 'receivingSec',\n",
      "       'activeContr', 'primaryContr', 'kybrdSubset', 'kybrdSymbol', 'adsCode',\n",
      "       'opsType', 'airportCode', 'trackNumber', 'tptReturnType', 'modeSCode'],\n",
      "      dtype='object')\n",
      "2613\n"
     ]
    }
   ],
   "source": [
    "from paraatm.io import iff, gnats, utils\n",
    "from paraatm.io.iff import read_iff_file\n",
    "\n",
    "\n",
    "iff_fname = 'IFF_SFO_ASDEX_ABC456.csv'\n",
    "#iff_fname = 'IFF_SFO+ASDEX_20190511_080104_86221.csv'\n",
    "\n",
    "iff_data =  read_iff_file(iff_fname,record_types=[2,3,4,8])\n",
    "print(iff_data[3].columns)\n",
    "print(len(iff_data[3]))"
   ]
  },
  {
   "cell_type": "markdown",
   "metadata": {},
   "source": [
    "## Clean callsign list of UNKN, nan, 1200, and ground operations vehicles"
   ]
  },
  {
   "cell_type": "code",
   "execution_count": 2,
   "metadata": {},
   "outputs": [
    {
     "ename": "ValueError",
     "evalue": "list.remove(x): x not in list",
     "output_type": "error",
     "traceback": [
      "\u001b[0;31m---------------------------------------------------------------------------\u001b[0m",
      "\u001b[0;31mValueError\u001b[0m                                Traceback (most recent call last)",
      "\u001b[0;32m<ipython-input-2-450d26be3a97>\u001b[0m in \u001b[0;36m<module>\u001b[0;34m\u001b[0m\n\u001b[1;32m      2\u001b[0m \u001b[0mcallsigns\u001b[0m \u001b[0;34m=\u001b[0m \u001b[0miff_data\u001b[0m\u001b[0;34m[\u001b[0m\u001b[0;36m3\u001b[0m\u001b[0;34m]\u001b[0m\u001b[0;34m.\u001b[0m\u001b[0mcallsign\u001b[0m\u001b[0;34m.\u001b[0m\u001b[0munique\u001b[0m\u001b[0;34m(\u001b[0m\u001b[0;34m)\u001b[0m\u001b[0;34m\u001b[0m\u001b[0;34m\u001b[0m\u001b[0m\n\u001b[1;32m      3\u001b[0m \u001b[0mcs\u001b[0m \u001b[0;34m=\u001b[0m \u001b[0mcallsigns\u001b[0m\u001b[0;34m.\u001b[0m\u001b[0mtolist\u001b[0m\u001b[0;34m(\u001b[0m\u001b[0;34m)\u001b[0m\u001b[0;34m\u001b[0m\u001b[0;34m\u001b[0m\u001b[0m\n\u001b[0;32m----> 4\u001b[0;31m \u001b[0mcs\u001b[0m\u001b[0;34m.\u001b[0m\u001b[0mremove\u001b[0m\u001b[0;34m(\u001b[0m\u001b[0;34m'UNKN'\u001b[0m\u001b[0;34m)\u001b[0m \u001b[0;31m# remove 'UNKN'\u001b[0m\u001b[0;34m\u001b[0m\u001b[0;34m\u001b[0m\u001b[0m\n\u001b[0m\u001b[1;32m      5\u001b[0m \u001b[0mcs\u001b[0m \u001b[0;34m=\u001b[0m \u001b[0;34m[\u001b[0m\u001b[0mx\u001b[0m \u001b[0;32mfor\u001b[0m \u001b[0mx\u001b[0m \u001b[0;32min\u001b[0m \u001b[0mcs\u001b[0m \u001b[0;32mif\u001b[0m \u001b[0;34m(\u001b[0m\u001b[0mstr\u001b[0m\u001b[0;34m(\u001b[0m\u001b[0mx\u001b[0m\u001b[0;34m)\u001b[0m \u001b[0;34m!=\u001b[0m \u001b[0;34m'nan'\u001b[0m\u001b[0;34m)\u001b[0m\u001b[0;34m]\u001b[0m \u001b[0;31m#remove nan\u001b[0m\u001b[0;34m\u001b[0m\u001b[0;34m\u001b[0m\u001b[0m\n\u001b[1;32m      6\u001b[0m \u001b[0mcs\u001b[0m \u001b[0;34m=\u001b[0m \u001b[0;34m[\u001b[0m\u001b[0mx\u001b[0m \u001b[0;32mfor\u001b[0m \u001b[0mx\u001b[0m \u001b[0;32min\u001b[0m \u001b[0mcs\u001b[0m \u001b[0;32mif\u001b[0m \u001b[0;32mnot\u001b[0m \u001b[0mx\u001b[0m\u001b[0;34m.\u001b[0m\u001b[0mstartswith\u001b[0m\u001b[0;34m(\u001b[0m\u001b[0;34m'OPS'\u001b[0m\u001b[0;34m)\u001b[0m\u001b[0;34m]\u001b[0m \u001b[0;31m#remove ground operation vehicles\u001b[0m\u001b[0;34m\u001b[0m\u001b[0;34m\u001b[0m\u001b[0m\n",
      "\u001b[0;31mValueError\u001b[0m: list.remove(x): x not in list"
     ]
    }
   ],
   "source": [
    "#Note not necessary for sample file and will produce an error\n",
    "callsigns = iff_data[3].callsign.unique()\n",
    "cs = callsigns.tolist()\n",
    "cs.remove('UNKN') # remove 'UNKN'\n",
    "cs = [x for x in cs if (str(x) != 'nan')] #remove nan\n",
    "cs = [x for x in cs if not x.startswith('OPS')] #remove ground operation vehicles\n",
    "cs.remove('1200')"
   ]
  },
  {
   "cell_type": "markdown",
   "metadata": {},
   "source": [
    "## Start NATS Simulation in the background"
   ]
  },
  {
   "cell_type": "code",
   "execution_count": 3,
   "metadata": {},
   "outputs": [],
   "source": [
    "from gnats_gate_to_gate import GateToGate\n",
    "natsSim = GateToGate()"
   ]
  },
  {
   "cell_type": "markdown",
   "metadata": {},
   "source": [
    "## Create FlightPlanSelector object"
   ]
  },
  {
   "cell_type": "code",
   "execution_count": 4,
   "metadata": {},
   "outputs": [],
   "source": [
    "from FlightPlanSelector import FlightPlanSelector\n",
    "dirPath = natsSim.DIR_share\n",
    "fpath = dirPath + '/tg/trx/TRX_07132005_noduplicates_crypted'\n",
    "f=FlightPlanSelector(natsSim,fname=fpath)"
   ]
  },
  {
   "cell_type": "markdown",
   "metadata": {},
   "source": [
    "## Generate NATS TRX flightplans"
   ]
  },
  {
   "cell_type": "code",
   "execution_count": 5,
   "metadata": {},
   "outputs": [],
   "source": [
    "import os\n",
    "from iff_functions import (get_departure_airport_from_iff,\n",
    "                           get_arrival_airport_from_iff,\n",
    "                           get_departure_gate_and_rwy_from_iff,\n",
    "                           get_arrival_gate_and_rwy_from_iff,\n",
    "                           random_airport_gate_and_rwy,\n",
    "                           check_if_flight_has_departed,\n",
    "                           check_if_flight_landing_in_dataset)\n",
    "\n",
    "iffBaseAirport= \"KSFO\"\n",
    "\n",
    "#Filenames to write modified trx and mfl files to. Need full path because GNATS wrapper changes the directory to the GNATS directory.\n",
    "home_env = os.environ.get('HOME')\n",
    "trx_dir = '/home/edecarlo/para-atm-collection/miscellaneous/gnats-fpgen'\n",
    "results_dir = '/home/edecarlo/para-atm-collection/miscellaneous/gnats-fpgen'\n",
    "\n",
    "trx_fname = '/iff_to_gnats_geo'\n",
    "mfl_file= trx_dir+trx_fname+'_mfl.trx'\n",
    "trx_file = trx_dir+trx_fname+'.trx'\n",
    "results_file = results_dir+trx_fname+'.csv'\n",
    "\n",
    "if os.path.exists(trx_file):\n",
    "    os.remove(trx_file)\n",
    "    print('Previously generated trx file removed...')\n",
    "\n",
    "if os.path.exists(mfl_file):\n",
    "    os.remove(mfl_file)\n",
    "    print('Previously generated mfl file removed...')"
   ]
  },
  {
   "cell_type": "code",
   "execution_count": 6,
   "metadata": {
    "scrolled": true
   },
   "outputs": [
    {
     "name": "stdout",
     "output_type": "stream",
     "text": [
      "No viable destination airport found for ABC123. Returning random from FlightPlanSelector options.\n",
      "OptimalTakeoff is: I19L\n",
      "Length of terminalProcedure is  4\n",
      "Selected Takeoff: I19L\n",
      "Validated Flight Plan: ABC123\n",
      "('KSFO.<{\"id\": \"Gate_C_047\"}, {\"id\": \"Ramp_03_006\"}, {\"id\": \"Txy_A_G\"}, {\"id\": \"Txy_A_008\"}, {\"id\": \"Txy_A_F1\"}, {\"id\": \"Txy_B_F1\"}, {\"id\": \"Txy_F1_001\"}, {\"id\": \"Rwy_01_004\"}, {\"id\": \"Txy_F1_002\"}, {\"id\": \"Txy_F1_003\"}, {\"id\": \"Rwy_02_005\"}, {\"id\": \"Txy_F1_004\"}, {\"id\": \"Txy_F_L\"}, {\"id\": \"Txy_L_006\"}, {\"id\": \"Rwy_03_004\"}, {\"id\": \"Txy_L_007\"}, {\"id\": \"Txy_L_008\"}, {\"id\": \"Rwy_04_006\"}, {\"id\": \"Txy_L_009\"}, {\"id\": \"Txy_C_L\"}, {\"id\": \"Txy_L_V\"}, {\"id\": \"Txy_L_E\"}, {\"id\": \"Txy_L_010\"}, {\"id\": \"Txy_L_011\"}, {\"id\": \"Rwy_02_011\"}>.RW19L.I19L.WESLA4.RBL163130..FMG..LLC..BAM.J94.ONL.J151.JAVAS.J64.BDF.PANGG3.I13C.RW13C.<{\"id\": \"Rwy_1_008\"}, {\"id\": \"Rwy_1_018\"}, {\"id\": \"Txy_E_001\"}, {\"id\": \"Txy_G_E\"}, {\"id\": \"Txy_E_009\"}, {\"id\": \"Txy_E_010\"}, {\"id\": \"Txy_K_E\"}, {\"id\": \"Txy_E_014\"}, {\"id\": \"Txy_E_015\"}, {\"id\": \"Ramp_01_033\"}, {\"id\": \"Ramp_01_034\"}, {\"id\": \"Ramp_01_035\"}, {\"id\": \"Ramp_01_036\"}, {\"id\": \"Ramp_01_037\"}, {\"id\": \"Gate_A_010\"}>.KMDW', '373653.5283999999956', '-1222254.65280000001826')\n",
      "No viable origin airport found for ABC456. Returning random from FlightPlanSelector options.\n",
      "Validated Flight Plan: ABC456\n",
      "('KATL.<>.CARPT..BNA.J46.ARG..RZC..PER..GCK.J28.MLF.J80.OAL.PANGG3.I13C.RW10L.<{\"id\": \"Rwy_04_001\"}, {\"id\": \"Txy_C_002\"}, {\"id\": \"Txy_C_001\"}, {\"id\": \"Rwy_03_001\"}, {\"id\": \"Txy_F_001\"}, {\"id\": \"Txy_F_002\"}, {\"id\": \"Txy_F_003\"}, {\"id\": \"Txy_F_004\"}, {\"id\": \"Txy_F_N\"}, {\"id\": \"Txy_F_005\"}, {\"id\": \"Txy_F_L\"}, {\"id\": \"Txy_F_006\"}, {\"id\": \"Rwy_02_006\"}, {\"id\": \"Txy_F_007\"}, {\"id\": \"Txy_F_008\"}, {\"id\": \"Rwy_01_005\"}, {\"id\": \"Txy_F_009\"}, {\"id\": \"Txy_F_010\"}, {\"id\": \"Txy_A_B\"}, {\"id\": \"Txy_A_E\"}, {\"id\": \"Txy_A_010\"}, {\"id\": \"Ramp_05_003\"}, {\"id\": \"Ramp_05_002\"}, {\"id\": \"Ramp_05_001\"}, {\"id\": \"Gate_E_061\"}>.KSFO', '', '')\n",
      "No viable destination airport found for DEF123. Returning random from FlightPlanSelector options.\n",
      "OptimalTakeoff is: I28R\n",
      "Length of terminalProcedure is  4\n",
      "Selected Takeoff: I28R\n",
      "Validated Flight Plan: DEF123\n",
      "('KSFO.<{\"id\": \"Gate_01_075\"}, {\"id\": \"Ramp_07_001\"}, {\"id\": \"Ramp_07_002\"}, {\"id\": \"Ramp_07_003\"}, {\"id\": \"Ramp_07_004\"}, {\"id\": \"Ramp_07_005\"}, {\"id\": \"Ramp_07_006\"}, {\"id\": \"Ramp_07_007\"}, {\"id\": \"Txy_B_B5\"}, {\"id\": \"Txy_B5_001\"}, {\"id\": \"Txy_A_B4\"}, {\"id\": \"Txy_A_B3\"}, {\"id\": \"Txy_A_B2\"}, {\"id\": \"Txy_A_B1\"}, {\"id\": \"Txy_A_016\"}, {\"id\": \"Txy_A_015\"}, {\"id\": \"Txy_A_012\"}, {\"id\": \"Txy_A_011\"}, {\"id\": \"Txy_A_D\"}, {\"id\": \"Txy_A_010\"}, {\"id\": \"Txy_A_E\"}, {\"id\": \"Txy_A_B\"}, {\"id\": \"Txy_F_010\"}, {\"id\": \"Txy_F_009\"}, {\"id\": \"Rwy_01_005\"}, {\"id\": \"Txy_F_008\"}, {\"id\": \"Txy_F_007\"}, {\"id\": \"Rwy_02_006\"}, {\"id\": \"Txy_F_006\"}, {\"id\": \"Txy_F_L\"}, {\"id\": \"Txy_F_005\"}, {\"id\": \"Txy_F_N\"}, {\"id\": \"Txy_F_004\"}, {\"id\": \"Txy_F_003\"}, {\"id\": \"Txy_F_002\"}, {\"id\": \"Txy_F_001\"}, {\"id\": \"Rwy_03_001\"}, {\"id\": \"Txy_C_001\"}, {\"id\": \"Txy_C_002\"}, {\"id\": \"Rwy_04_001\"}>.RW28R.I28R.WESLA4.RBL163130..FMG..LLC..BAM.J94.ONL.J151.JAVAS.J64.BDF.PANGG3.I31C.RW31C.<{\"id\": \"Rwy_1_003\"}, {\"id\": \"Rwy_1_002\"}, {\"id\": \"Txy_N_001\"}, {\"id\": \"Txy_N_002\"}, {\"id\": \"Rwy_2_011\"}, {\"id\": \"Txy_N_003\"}, {\"id\": \"Txy_N_004\"}, {\"id\": \"Txy_N_007\"}, {\"id\": \"Txy_N_008\"}, {\"id\": \"Rwy_3_002\"}, {\"id\": \"Txy_N_099\"}, {\"id\": \"Txy_P_015\"}, {\"id\": \"Txy_P_014\"}, {\"id\": \"Rwy_4_006\"}, {\"id\": \"Txy_P_012\"}, {\"id\": \"Txy_P_010\"}, {\"id\": \"Ramp_01_042\"}, {\"id\": \"Ramp_01_041\"}, {\"id\": \"Ramp_01_066\"}, {\"id\": \"Txy_01_088\"}, {\"id\": \"Ramp_01_038\"}, {\"id\": \"Txy_01_077\"}, {\"id\": \"Ramp_01_031\"}, {\"id\": \"Ramp_01_032\"}, {\"id\": \"Ramp_01_033\"}, {\"id\": \"Ramp_01_034\"}, {\"id\": \"Gate_A_04B\"}>.KMDW', '373703.2735999999988508', '-1222319.633199999976796')\n",
      "No viable destination airport found for DEF456. Returning random from FlightPlanSelector options.\n",
      "OptimalTakeoff is: I19L\n",
      "Length of terminalProcedure is  4\n",
      "Selected Takeoff: I19L\n",
      "Validated Flight Plan: DEF456\n",
      "('KSFO.<{\"id\": \"Gate_C_046\"}, {\"id\": \"Ramp_03_004\"}, {\"id\": \"Txy_A_007\"}, {\"id\": \"Txy_A_G\"}, {\"id\": \"Txy_A_008\"}, {\"id\": \"Txy_A_F1\"}, {\"id\": \"Txy_B_F1\"}, {\"id\": \"Txy_F1_001\"}, {\"id\": \"Rwy_01_004\"}, {\"id\": \"Txy_F1_002\"}, {\"id\": \"Txy_F1_003\"}, {\"id\": \"Rwy_02_005\"}, {\"id\": \"Txy_F1_004\"}, {\"id\": \"Txy_F_L\"}, {\"id\": \"Txy_L_006\"}, {\"id\": \"Rwy_03_004\"}, {\"id\": \"Txy_L_007\"}, {\"id\": \"Txy_L_008\"}, {\"id\": \"Rwy_04_006\"}, {\"id\": \"Txy_L_009\"}, {\"id\": \"Txy_C_L\"}, {\"id\": \"Txy_L_V\"}, {\"id\": \"Txy_L_E\"}, {\"id\": \"Txy_L_010\"}, {\"id\": \"Txy_L_011\"}, {\"id\": \"Rwy_02_011\"}>.RW19L.I19L.WESLA4.RBL..BTG..OLM2.I34C.RW34C.<{\"id\": \"Rwy_01_001\"}, {\"id\": \"Txy_C_002\"}, {\"id\": \"Txy_C_003\"}, {\"id\": \"Rwy_02_001\"}, {\"id\": \"Txy_C_004\"}, {\"id\": \"Txy_B_029\"}, {\"id\": \"Txy_B_028\"}, {\"id\": \"Txy_B_027\"}, {\"id\": \"Txy_B_026\"}, {\"id\": \"Txy_E_B\"}, {\"id\": \"Txy_B_025\"}, {\"id\": \"Txy_B_024\"}, {\"id\": \"Txy_H_B\"}, {\"id\": \"Txy_B_023\"}, {\"id\": \"Txy_J_B\"}, {\"id\": \"Txy_B_022\"}, {\"id\": \"Txy_B_021\"}, {\"id\": \"Txy_L_B\"}, {\"id\": \"Txy_B_020\"}, {\"id\": \"Txy_B_019\"}, {\"id\": \"Ramp_01_020\"}, {\"id\": \"Ramp_01_019\"}, {\"id\": \"Ramp_01_018\"}, {\"id\": \"Ramp_01_017\"}, {\"id\": \"Ramp_02_012\"}, {\"id\": \"Ramp_01_012\"}, {\"id\": \"Ramp_02_011\"}, {\"id\": \"Ramp_01_013\"}, {\"id\": \"Ramp_02_010\"}, {\"id\": \"Ramp_01_014\"}, {\"id\": \"Ramp_02_005\"}, {\"id\": \"Ramp_02_004\"}, {\"id\": \"Ramp_01_015\"}, {\"id\": \"Gate_N_008\"}>.KSEA', '373651.69599999999207', '-1222256.344799999992574')\n"
     ]
    }
   ],
   "source": [
    "import time\n",
    "import numpy as np\n",
    "import pandas as pd\n",
    "from jpype import JPackage\n",
    "\n",
    "TRACK_TIME = time.time()\n",
    "clsGeometry = JPackage('com').osi.util.Geometry\n",
    "\n",
    "for i,callsign in enumerate(cs):\n",
    "    flightInAir = check_if_flight_has_departed(iff_data,callsign,natsSim,iffBaseAirport)\n",
    "    flightLandingInData = check_if_flight_landing_in_dataset(iff_data,callsign,natsSim,iffBaseAirport)\n",
    "    \n",
    "    arrivalAirport = ''\n",
    "    departureAirport=''\n",
    "    arrivalRwy = ''\n",
    "    arrivalGate = ''\n",
    "    departureRwy =''\n",
    "    departureGate = ''\n",
    "    result_generated = ''\n",
    "\n",
    "    if flightInAir and flightLandingInData:\n",
    "        #Get departure airport. If none is known in the IFF+ASDEX file (i.e., it is not the airport whose name is in the iff_fname), then set departure airport as closest airport to the first lat/lon in the dataset. In the future, would like to use IFF_USA to determine departureAirport in this case\n",
    "        arrivalAirport = 'KSFO'\n",
    "        departureAirport = get_departure_airport_from_iff(iff_data,callsign,natsSim,arrivalAirport=iffBaseAirport,flmap=f.flmap)\n",
    "        #departureAirport = 'KEWR'\n",
    "        arrivalGate,arrivalRwy= get_arrival_gate_and_rwy_from_iff(iff_data,callsign,natsSim,arrivalAirport)\n",
    "        result_generated = f.generate(4, departureAirport, arrivalAirport, \"\", arrivalGate, \"\", arrivalRwy)\n",
    "        \n",
    "        timestamp = iff_data[3].loc[iff_data[3].callsign==callsign,'time'].iloc[0]\n",
    "        lat = iff_data[3].loc[iff_data[3].callsign==callsign,'latitude'].iloc[0]\n",
    "        lon = iff_data[3].loc[iff_data[3].callsign==callsign,'longitude'].iloc[0]\n",
    "        latstr = clsGeometry.convertLatLonDeg_to_degMinSecString(str(lat))\n",
    "        lonstr = clsGeometry.convertLatLonDeg_to_degMinSecString(str(lon))\n",
    "        elev = np.max([iff_data[3].loc[iff_data[3].callsign==callsign,'altitude'].iloc[0]/100.,100.])\n",
    "        spd = iff_data[3].loc[iff_data[3].callsign==callsign,'tas'].iloc[0]\n",
    "        hdg = iff_data[3].loc[iff_data[3].callsign==callsign,'heading'].iloc[0]\n",
    "        aircraftType = 'B744'\n",
    "        \n",
    "    if  not flightInAir and not flightLandingInData:\n",
    "        departureAirport = 'KSFO'\n",
    "        arrivalAirport = get_arrival_airport_from_iff(iff_data,callsign,natsSim,departureAirport,f.flmap)\n",
    "        departureGate,departureRwy = get_departure_gate_and_rwy_from_iff(iff_data,callsign,natsSim,departureAirport) #doesn't exist\n",
    "        arrivalGate,arrivalRwy = random_airport_gate_and_rwy(natsSim,arrivalAirport)\n",
    "        result_generated = f.generate(1, departureAirport, arrivalAirport, departureGate, arrivalGate, departureRwy, arrivalRwy)\n",
    "        \n",
    "        timestamp = iff_data[3].loc[iff_data[3].callsign==callsign,'time'].iloc[0]\n",
    "        airportInstance = natsSim.airportInterface.select_airport(departureAirport)\n",
    "        elev = airportInstance.getElevation()/100.0  \n",
    "        lat = iff_data[3].loc[iff_data[3].callsign==callsign,'latitude'].iloc[0]\n",
    "        lon = iff_data[3].loc[iff_data[3].callsign==callsign,'longitude'].iloc[0]\n",
    "        latstr = clsGeometry.convertLatLonDeg_to_degMinSecString(str(lat))\n",
    "        lonstr = clsGeometry.convertLatLonDeg_to_degMinSecString(str(lon))\n",
    "        aircraftType = 'B744'\n",
    "        spd = 0\n",
    "        hdg = 28\n",
    "    \n",
    "    if result_generated:\n",
    "        #TRACK_TIME = (timestamp-pd.Timestamp(\"1970-01-01\")) // pd.Timedelta('1s')\n",
    "        TRACK_TIME +=10\n",
    "        track_string = '%s %s %.4f %.4f %d %.2f %d %s %s' %(callsign,aircraftType,float(latstr),float(lonstr),spd,elev,hdg,'ZOA','ZOA46')\n",
    "        fp_route = result_generated[0]\n",
    "        #fp_validated = natsSim.aircraftInterface.validate_flight_plan_record(track_string,fp_route,330)\n",
    "        fp_validated = True\n",
    "        if fp_validated:\n",
    "            print('Validated Flight Plan:',callsign)\n",
    "            print(result_generated)\n",
    "            with open(trx_file,'a') as trxFile:\n",
    "                tstr = '%s %s' % ('TRACK',track_string)\n",
    "                trxFile.write('%s %d' % ('TRACKTIME', TRACK_TIME) + '\\n')\n",
    "                trxFile.write( tstr + '\\n')\n",
    "                trxFile.write('    FP_ROUTE ' + fp_route + '\\n\\n')\n",
    "\n",
    "            with open(mfl_file,'a') as mflFile:\n",
    "                mflFile.write(callsign + ' ' + '330' + '\\n')\n",
    "        elif not fp_validated:\n",
    "            print('This flight plan was not validated:\\n', result_generated[0])\n",
    "                    "
   ]
  },
  {
   "cell_type": "code",
   "execution_count": null,
   "metadata": {},
   "outputs": [],
   "source": [
    "#Filenames to write modified trx and mfl files to. Need full path because GNATS wrapper changes the directory to the GNATS directory.\n",
    "import os\n",
    "home_env = os.environ.get('HOME')\n",
    "trx_dir = '/home/edecarlo/para-atm-collection/miscellaneous/gnats-fpgen'\n",
    "results_dir = '/home/edecarlo/para-atm-collection/miscellaneous/gnats-fpgen'\n",
    "\n",
    "trx_fname = '/iff_to_gnats_geo'\n",
    "mfl_file= trx_dir+trx_fname+'_mfl.trx'\n",
    "trx_file = trx_dir+trx_fname+'.trx'\n",
    "results_file = results_dir+trx_fname+'.csv'\n",
    "\n",
    "data=natsSim(trx_name=trx_file,mfl_name=mfl_file)['trajectory']\n",
    "natsSim.write_output(results_file)\n",
    "natsSim.cleanup()"
   ]
  },
  {
   "cell_type": "code",
   "execution_count": 2,
   "metadata": {
    "scrolled": true
   },
   "outputs": [
    {
     "ename": "NameError",
     "evalue": "name 'data' is not defined",
     "output_type": "error",
     "traceback": [
      "\u001b[0;31m---------------------------------------------------------------------------\u001b[0m",
      "\u001b[0;31mNameError\u001b[0m                                 Traceback (most recent call last)",
      "\u001b[0;32m<ipython-input-2-d7ccc4a60190>\u001b[0m in \u001b[0;36m<module>\u001b[0;34m\u001b[0m\n\u001b[1;32m      1\u001b[0m \u001b[0;32mfrom\u001b[0m \u001b[0mparaatm\u001b[0m\u001b[0;34m.\u001b[0m\u001b[0mplotting\u001b[0m \u001b[0;32mimport\u001b[0m \u001b[0mplot_trajectory\u001b[0m\u001b[0;34m\u001b[0m\u001b[0;34m\u001b[0m\u001b[0m\n\u001b[0;32m----> 2\u001b[0;31m \u001b[0mplot_trajectory\u001b[0m\u001b[0;34m(\u001b[0m\u001b[0mdata\u001b[0m\u001b[0;34m,\u001b[0m \u001b[0moutput_notebook\u001b[0m\u001b[0;34m=\u001b[0m\u001b[0;32mTrue\u001b[0m\u001b[0;34m,\u001b[0m \u001b[0mplot_width\u001b[0m\u001b[0;34m=\u001b[0m\u001b[0;36m600\u001b[0m\u001b[0;34m,\u001b[0m \u001b[0mplot_height\u001b[0m\u001b[0;34m=\u001b[0m\u001b[0;36m400\u001b[0m\u001b[0;34m)\u001b[0m\u001b[0;34m\u001b[0m\u001b[0;34m\u001b[0m\u001b[0m\n\u001b[0m",
      "\u001b[0;31mNameError\u001b[0m: name 'data' is not defined"
     ]
    }
   ],
   "source": [
    "from paraatm.plotting import plot_trajectory\n",
    "plot_trajectory(data, output_notebook=True, plot_width=600, plot_height=400)"
   ]
  },
  {
   "cell_type": "code",
   "execution_count": 9,
   "metadata": {},
   "outputs": [
    {
     "data": {
      "text/plain": [
       "Index(['recType', 'time', 'fltKey', 'bcnCode', 'cid', 'Source', 'msgType',\n",
       "       'callsign', 'recTypeCat', 'latitude', 'longitude', 'altitude',\n",
       "       'significance', 'coord1Accur', 'coord2Accur', 'altAccur', 'tas',\n",
       "       'heading', 'rocd', 'altQualifier', 'altIndicator', 'trackPtStatus',\n",
       "       'leaderDir', 'scratchPad', 'msawInhibitInd', 'assignedAltString',\n",
       "       'controllingFac', 'controllingSeg', 'receivingFac', 'receivingSec',\n",
       "       'activeContr', 'primaryContr', 'kybrdSubset', 'kybrdSymbol', 'adsCode',\n",
       "       'opsType', 'airportCode', 'trackNumber', 'tptReturnType', 'modeSCode'],\n",
       "      dtype='object')"
      ]
     },
     "execution_count": 9,
     "metadata": {},
     "output_type": "execute_result"
    }
   ],
   "source": [
    "iff_data[3].columns"
   ]
  },
  {
   "cell_type": "code",
   "execution_count": 11,
   "metadata": {},
   "outputs": [
    {
     "data": {
      "text/plain": [
       "array(['FLIGHT_PHASE_TAXI_DEPARTING', 'FLIGHT_PHASE_ORIGIN_GATE',\n",
       "       'FLIGHT_PHASE_PUSHBACK', 'FLIGHT_PHASE_RAMP_DEPARTING',\n",
       "       'FLIGHT_PHASE_RUNWAY_THRESHOLD_DEPARTING', 'FLIGHT_PHASE_TAKEOFF',\n",
       "       'FLIGHT_PHASE_CLIMBOUT', 'FLIGHT_PHASE_CLIMB_TO_CRUISE_ALTITUDE',\n",
       "       'FLIGHT_PHASE_CRUISE', 'FLIGHT_PHASE_INITIAL_DESCENT',\n",
       "       'FLIGHT_PHASE_APPROACH', 'FLIGHT_PHASE_TOUCHDOWN',\n",
       "       'FLIGHT_PHASE_OUTOFRUNWAY'], dtype=object)"
      ]
     },
     "execution_count": 11,
     "metadata": {},
     "output_type": "execute_result"
    }
   ],
   "source": [
    "data.status.unique()"
   ]
  },
  {
   "cell_type": "code",
   "execution_count": 8,
   "metadata": {},
   "outputs": [
    {
     "ename": "RuntimeError",
     "evalue": "No matching overloads found for validate_flight_plan_record in find. at native/common/jp_method.cpp:127",
     "output_type": "error",
     "traceback": [
      "\u001b[0;31m---------------------------------------------------------------------------\u001b[0m",
      "\u001b[0;31mRuntimeError\u001b[0m                              Traceback (most recent call last)",
      "\u001b[0;32m<ipython-input-8-8d1e36a2db34>\u001b[0m in \u001b[0;36m<module>\u001b[0;34m\u001b[0m\n\u001b[0;32m----> 1\u001b[0;31m \u001b[0mnatsSim\u001b[0m\u001b[0;34m.\u001b[0m\u001b[0maircraftInterface\u001b[0m\u001b[0;34m.\u001b[0m\u001b[0mvalidate_flight_plan_record\u001b[0m\u001b[0;34m(\u001b[0m\u001b[0;34m'ABC123'\u001b[0m\u001b[0;34m)\u001b[0m\u001b[0;34m\u001b[0m\u001b[0;34m\u001b[0m\u001b[0m\n\u001b[0m",
      "\u001b[0;31mRuntimeError\u001b[0m: No matching overloads found for validate_flight_plan_record in find. at native/common/jp_method.cpp:127"
     ]
    }
   ],
   "source": [
    "natsSim.aircraftInterface.validate_flight_plan_record()"
   ]
  },
  {
   "cell_type": "code",
   "execution_count": 14,
   "metadata": {},
   "outputs": [
    {
     "data": {
      "text/plain": [
       "-17583"
      ]
     },
     "execution_count": 14,
     "metadata": {},
     "output_type": "execute_result"
    }
   ],
   "source": [
    "1557624936-1557642519"
   ]
  },
  {
   "cell_type": "code",
   "execution_count": 8,
   "metadata": {
    "scrolled": true
   },
   "outputs": [
    {
     "data": {
      "text/plain": [
       "Index(['recType', 'time', 'fltKey', 'bcnCode', 'cid', 'Source', 'msgType',\n",
       "       'callsign', 'recTypeCat', 'latitude', 'longitude', 'altitude',\n",
       "       'significance', 'coord1Accur', 'coord2Accur', 'altAccur', 'tas',\n",
       "       'heading', 'rocd', 'altQualifier', 'altIndicator', 'trackPtStatus',\n",
       "       'leaderDir', 'scratchPad', 'msawInhibitInd', 'assignedAltString',\n",
       "       'controllingFac', 'controllingSeg', 'receivingFac', 'receivingSec',\n",
       "       'activeContr', 'primaryContr', 'kybrdSubset', 'kybrdSymbol', 'adsCode',\n",
       "       'opsType', 'airportCode', 'trackNumber', 'tptReturnType', 'modeSCode'],\n",
       "      dtype='object')"
      ]
     },
     "execution_count": 8,
     "metadata": {},
     "output_type": "execute_result"
    }
   ],
   "source": [
    "iff_data[3].columns"
   ]
  },
  {
   "cell_type": "code",
   "execution_count": 9,
   "metadata": {},
   "outputs": [
    {
     "data": {
      "text/plain": [
       "0      2019-01-01 00:25:15\n",
       "1      2019-01-01 00:25:16\n",
       "2      2019-01-01 00:25:18\n",
       "3      2019-01-01 00:25:19\n",
       "4      2019-01-01 00:25:20\n",
       "               ...        \n",
       "2608   2019-05-12 07:11:39\n",
       "2609   2019-05-12 07:11:40\n",
       "2610   2019-05-12 07:11:41\n",
       "2611   2019-05-12 07:11:42\n",
       "2612   2019-05-12 07:11:43\n",
       "Name: time, Length: 2613, dtype: datetime64[ns]"
      ]
     },
     "execution_count": 9,
     "metadata": {},
     "output_type": "execute_result"
    }
   ],
   "source": [
    "iff_data[3].time."
   ]
  },
  {
   "cell_type": "code",
   "execution_count": null,
   "metadata": {},
   "outputs": [],
   "source": [
    "\n",
    "  "
   ]
  },
  {
   "cell_type": "code",
   "execution_count": null,
   "metadata": {},
   "outputs": [],
   "source": []
  },
  {
   "cell_type": "code",
   "execution_count": null,
   "metadata": {},
   "outputs": [],
   "source": []
  }
 ],
 "metadata": {
  "kernelspec": {
   "display_name": "Python 3",
   "language": "python",
   "name": "python3"
  },
  "language_info": {
   "codemirror_mode": {
    "name": "ipython",
    "version": 3
   },
   "file_extension": ".py",
   "mimetype": "text/x-python",
   "name": "python",
   "nbconvert_exporter": "python",
   "pygments_lexer": "ipython3",
   "version": "3.8.3"
  }
 },
 "nbformat": 4,
 "nbformat_minor": 4
}
