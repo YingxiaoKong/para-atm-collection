{
 "cells": [
  {
   "cell_type": "markdown",
   "metadata": {},
   "source": [
    "# Demonstration of Creating and Running a NATS input file from IFF data\n",
    "## Read in IFF Data using PARA-ATM"
   ]
  },
  {
   "cell_type": "code",
   "execution_count": 1,
   "metadata": {},
   "outputs": [],
   "source": [
    "from paraatm.io import iff, gnats, utils\n",
    "from paraatm.io.iff import read_iff_file\n",
    "\n",
    "#Four flights - 3 departing, 1 landing at SFO\n",
    "iff_fname = 'IFF_SFO_ASDEX_ABC456.csv'\n",
    "#iff_fname = 'IFF_SFO+ASDEX_20190511_080104_86221.csv'\n",
    "\n",
    "iff_data =  read_iff_file(iff_fname,record_types=[2,3,4,8])"
   ]
  },
  {
   "cell_type": "markdown",
   "metadata": {},
   "source": [
    "## Clean callsign list of UNKN, nan, 1200, and ground operations vehicles"
   ]
  },
  {
   "cell_type": "code",
   "execution_count": 6,
   "metadata": {},
   "outputs": [
    {
     "ename": "ValueError",
     "evalue": "list.remove(x): x not in list",
     "output_type": "error",
     "traceback": [
      "\u001b[0;31m---------------------------------------------------------------------------\u001b[0m",
      "\u001b[0;31mValueError\u001b[0m                                Traceback (most recent call last)",
      "\u001b[0;32m<ipython-input-6-450d26be3a97>\u001b[0m in \u001b[0;36m<module>\u001b[0;34m\u001b[0m\n\u001b[1;32m      2\u001b[0m \u001b[0mcallsigns\u001b[0m \u001b[0;34m=\u001b[0m \u001b[0miff_data\u001b[0m\u001b[0;34m[\u001b[0m\u001b[0;36m3\u001b[0m\u001b[0;34m]\u001b[0m\u001b[0;34m.\u001b[0m\u001b[0mcallsign\u001b[0m\u001b[0;34m.\u001b[0m\u001b[0munique\u001b[0m\u001b[0;34m(\u001b[0m\u001b[0;34m)\u001b[0m\u001b[0;34m\u001b[0m\u001b[0;34m\u001b[0m\u001b[0m\n\u001b[1;32m      3\u001b[0m \u001b[0mcs\u001b[0m \u001b[0;34m=\u001b[0m \u001b[0mcallsigns\u001b[0m\u001b[0;34m.\u001b[0m\u001b[0mtolist\u001b[0m\u001b[0;34m(\u001b[0m\u001b[0;34m)\u001b[0m\u001b[0;34m\u001b[0m\u001b[0;34m\u001b[0m\u001b[0m\n\u001b[0;32m----> 4\u001b[0;31m \u001b[0mcs\u001b[0m\u001b[0;34m.\u001b[0m\u001b[0mremove\u001b[0m\u001b[0;34m(\u001b[0m\u001b[0;34m'UNKN'\u001b[0m\u001b[0;34m)\u001b[0m \u001b[0;31m# remove 'UNKN'\u001b[0m\u001b[0;34m\u001b[0m\u001b[0;34m\u001b[0m\u001b[0m\n\u001b[0m\u001b[1;32m      5\u001b[0m \u001b[0mcs\u001b[0m \u001b[0;34m=\u001b[0m \u001b[0;34m[\u001b[0m\u001b[0mx\u001b[0m \u001b[0;32mfor\u001b[0m \u001b[0mx\u001b[0m \u001b[0;32min\u001b[0m \u001b[0mcs\u001b[0m \u001b[0;32mif\u001b[0m \u001b[0;34m(\u001b[0m\u001b[0mstr\u001b[0m\u001b[0;34m(\u001b[0m\u001b[0mx\u001b[0m\u001b[0;34m)\u001b[0m \u001b[0;34m!=\u001b[0m \u001b[0;34m'nan'\u001b[0m\u001b[0;34m)\u001b[0m\u001b[0;34m]\u001b[0m \u001b[0;31m#remove nan\u001b[0m\u001b[0;34m\u001b[0m\u001b[0;34m\u001b[0m\u001b[0m\n\u001b[1;32m      6\u001b[0m \u001b[0mcs\u001b[0m \u001b[0;34m=\u001b[0m \u001b[0;34m[\u001b[0m\u001b[0mx\u001b[0m \u001b[0;32mfor\u001b[0m \u001b[0mx\u001b[0m \u001b[0;32min\u001b[0m \u001b[0mcs\u001b[0m \u001b[0;32mif\u001b[0m \u001b[0;32mnot\u001b[0m \u001b[0mx\u001b[0m\u001b[0;34m.\u001b[0m\u001b[0mstartswith\u001b[0m\u001b[0;34m(\u001b[0m\u001b[0;34m'OPS'\u001b[0m\u001b[0;34m)\u001b[0m\u001b[0;34m]\u001b[0m \u001b[0;31m#remove ground operation vehicles\u001b[0m\u001b[0;34m\u001b[0m\u001b[0;34m\u001b[0m\u001b[0m\n",
      "\u001b[0;31mValueError\u001b[0m: list.remove(x): x not in list"
     ]
    }
   ],
   "source": [
    "#Note not necessary for sample file and will produce an error\n",
    "callsigns = iff_data[3].callsign.unique()\n",
    "cs = callsigns.tolist()\n",
    "cs.remove('UNKN') # remove 'UNKN'\n",
    "cs = [x for x in cs if (str(x) != 'nan')] #remove nan\n",
    "cs = [x for x in cs if not x.startswith('OPS')] #remove ground operation vehicles\n",
    "cs.remove('1200')"
   ]
  },
  {
   "cell_type": "markdown",
   "metadata": {},
   "source": [
    "## Start NATS Simulation in the background"
   ]
  },
  {
   "cell_type": "code",
   "execution_count": 2,
   "metadata": {},
   "outputs": [],
   "source": [
    "from gnats_gate_to_gate import GateToGate\n",
    "natsSim = GateToGate()"
   ]
  },
  {
   "cell_type": "markdown",
   "metadata": {},
   "source": [
    "## Create FlightPlanSelector object"
   ]
  },
  {
   "cell_type": "code",
   "execution_count": 3,
   "metadata": {},
   "outputs": [],
   "source": [
    "from FlightPlanSelector import FlightPlanSelector\n",
    "dirPath = natsSim.DIR_share\n",
    "fpath = dirPath + '/tg/trx/TRX_07132005_noduplicates_crypted'\n",
    "f=FlightPlanSelector(natsSim,fname=fpath)"
   ]
  },
  {
   "cell_type": "markdown",
   "metadata": {},
   "source": [
    "## Generate NATS TRX flightplans"
   ]
  },
  {
   "cell_type": "code",
   "execution_count": 13,
   "metadata": {},
   "outputs": [
    {
     "name": "stdout",
     "output_type": "stream",
     "text": [
      "Previously generated trx file removed...\n",
      "Previously generated mfl file removed...\n"
     ]
    }
   ],
   "source": [
    "import os\n",
    "from iff_functions import (get_departure_airport_from_iff,\n",
    "                           get_arrival_airport_from_iff,\n",
    "                           get_departure_gate_and_rwy_from_iff,\n",
    "                           get_arrival_gate_and_rwy_from_iff,\n",
    "                           random_airport_gate_and_rwy,\n",
    "                           check_if_flight_has_departed,\n",
    "                           check_if_flight_landing_in_dataset)\n",
    "\n",
    "iffBaseAirport= \"KSFO\"\n",
    "\n",
    "#Filenames to write modified trx and mfl files to. Need full path because GNATS wrapper changes the directory to the GNATS directory.\n",
    "home_env = os.environ.get('HOME')\n",
    "trx_dir = '/home/edecarlo/para-atm-collection/miscellaneous/gnats-fpgen'\n",
    "results_dir = '/home/edecarlo/para-atm-collection/miscellaneous/gnats-fpgen'\n",
    "\n",
    "trx_fname = '/iff_to_gnats_geo'\n",
    "mfl_file= trx_dir+trx_fname+'_mfl.trx'\n",
    "trx_file = trx_dir+trx_fname+'.trx'\n",
    "results_file = results_dir+trx_fname+'.csv'\n",
    "\n",
    "if os.path.exists(trx_file):\n",
    "    os.remove(trx_file)\n",
    "    print('Previously generated trx file removed...')\n",
    "\n",
    "if os.path.exists(mfl_file):\n",
    "    os.remove(mfl_file)\n",
    "    print('Previously generated mfl file removed...')"
   ]
  },
  {
   "cell_type": "code",
   "execution_count": 18,
   "metadata": {
    "scrolled": true
   },
   "outputs": [
    {
     "name": "stdout",
     "output_type": "stream",
     "text": [
      "No viable destination airport found for ABC123. Returning random from FlightPlanSelector options.\n",
      "OptimalTakeoff is: I28L\n",
      "Length of terminalProcedure is  4\n",
      "Selected Takeoff: I28L\n",
      "Validated Flight Plan: ABC123\n",
      "('KSFO.<{\"id\": \"Gate_D_54B\"}, {\"id\": \"Ramp_04_008\"}, {\"id\": \"Txy_A_009\"}, {\"id\": \"Txy_A_B\"}, {\"id\": \"Txy_F_010\"}, {\"id\": \"Txy_F_009\"}, {\"id\": \"Rwy_01_005\"}, {\"id\": \"Txy_F_008\"}, {\"id\": \"Txy_F_007\"}, {\"id\": \"Rwy_02_006\"}, {\"id\": \"Txy_F_006\"}, {\"id\": \"Txy_F_L\"}, {\"id\": \"Txy_F_005\"}, {\"id\": \"Txy_F_N\"}, {\"id\": \"Txy_F_004\"}, {\"id\": \"Txy_F_003\"}, {\"id\": \"Txy_F_002\"}, {\"id\": \"Txy_F_001\"}, {\"id\": \"Rwy_03_001\"}>.RW28L.I28L.WESLA4.MVA.J84.EKR..DVV..MCK.J130.PWE..IRK..CAP..DNV.TARNE3.TIGRR2.I36C.RW36C.<{\"id\": \"rwy_01_011\"}, {\"id\": \"txy_D_020\"}, {\"id\": \"txy_D_019\"}, {\"id\": \"txy_D_018\"}, {\"id\": \"txy_E_009\"}, {\"id\": \"txy_E_008\"}, {\"id\": \"ramp_A_001\"}, {\"id\": \"ramp_A_002\"}, {\"id\": \"ramp_A_003\"}, {\"id\": \"ramp_A_004\"}, {\"id\": \"txy_E_007\"}, {\"id\": \"ramp_B_001\"}, {\"id\": \"ramp_B_002\"}, {\"id\": \"ramp_B_003\"}, {\"id\": \"ramp_B_009\"}, {\"id\": \"ramp_B_004\"}, {\"id\": \"ramp_B_005\"}, {\"id\": \"ramp_B_006\"}, {\"id\": \"ramp_B_007\"}, {\"id\": \"ramp_B_008\"}, {\"id\": \"spot_08N\"}, {\"id\": \"spot_08S\"}, {\"id\": \"ramp_04_006\"}, {\"id\": \"ramp_04_005\"}, {\"id\": \"ramp_04_004\"}, {\"id\": \"ramp_04_003\"}, {\"id\": \"ramp_04_002\"}, {\"id\": \"ramp_04_001\"}, {\"id\": \"ramp_04_040\"}, {\"id\": \"ramp_04_039\"}, {\"id\": \"ramp_04_038\"}, {\"id\": \"ramp_04_037\"}, {\"id\": \"ramp_04_036\"}, {\"id\": \"ramp_04_035\"}, {\"id\": \"ramp_04_034\"}, {\"id\": \"gate_04_040\"}>.KCVG', '373703.453600000004826', '-1222250.23199999997587')\n",
      "No viable origin airport found for ABC456. Returning random from FlightPlanSelector options.\n",
      "departOpts: ['DTW', 'LAX', 'LAS', 'LAX', 'CVG', 'LAX', 'JFK', 'PHL', 'MCO', 'EWR', 'BOS', 'IAD', 'BWI', 'ATL', 'MIA', 'DEN', 'CLT', 'MDW', 'BOI', 'SEA', 'SLC', 'IAH', 'CLE', 'PHX', 'SAT', 'DFW', 'PDX', 'ORD', 'STL', 'MSP', 'BOS', 'JFK', 'EWR']\n",
      "Validated Flight Plan: ABC456\n",
      "('KIAD.<>.LDN.J134.HNN.J134.BUM.J110.GCK.J28.MLF.J80.OAL.TIGRR2.I36C.RW10L.<{\"id\": \"Rwy_04_001\"}, {\"id\": \"Txy_C_002\"}, {\"id\": \"Txy_C_001\"}, {\"id\": \"Rwy_03_001\"}, {\"id\": \"Txy_F_001\"}, {\"id\": \"Txy_F_002\"}, {\"id\": \"Txy_F_003\"}, {\"id\": \"Txy_F_004\"}, {\"id\": \"Txy_F_N\"}, {\"id\": \"Txy_F_005\"}, {\"id\": \"Txy_F_L\"}, {\"id\": \"Txy_F_006\"}, {\"id\": \"Rwy_02_006\"}, {\"id\": \"Txy_F_007\"}, {\"id\": \"Txy_F_008\"}, {\"id\": \"Rwy_01_005\"}, {\"id\": \"Txy_F_009\"}, {\"id\": \"Txy_F_010\"}, {\"id\": \"Txy_A_B\"}, {\"id\": \"Txy_A_E\"}, {\"id\": \"Txy_A_010\"}, {\"id\": \"Txy_A_D\"}, {\"id\": \"Txy_A_011\"}, {\"id\": \"Txy_A_012\"}, {\"id\": \"Txy_A_015\"}, {\"id\": \"Txy_A_016\"}, {\"id\": \"Txy_A_B1\"}, {\"id\": \"Txy_A_B2\"}, {\"id\": \"Txy_A_B3\"}, {\"id\": \"Txy_A_B4\"}, {\"id\": \"Txy_B5_001\"}, {\"id\": \"Txy_B_B5\"}, {\"id\": \"Ramp_07_007\"}, {\"id\": \"Ramp_07_006\"}, {\"id\": \"Ramp_07_005\"}, {\"id\": \"Ramp_07_004\"}, {\"id\": \"Ramp_07_003\"}, {\"id\": \"Ramp_07_002\"}, {\"id\": \"Ramp_07_001\"}, {\"id\": \"Gate_G_92A\"}>.KSFO', '385115.809999999992783', '-781220.000000000026148')\n",
      "No viable destination airport found for DEF123. Returning random from FlightPlanSelector options.\n",
      "OptimalTakeoff is: I28L\n",
      "Length of terminalProcedure is  4\n",
      "Selected Takeoff: I28L\n",
      "Validated Flight Plan: DEF123\n",
      "('KSFO.<{\"id\": \"Gate_B_034\"}, {\"id\": \"Ramp_02_006\"}, {\"id\": \"Txy_H_005\"}, {\"id\": \"Txy_H_006\"}, {\"id\": \"Txy_A_004\"}, {\"id\": \"Txy_A_H\"}, {\"id\": \"Txy_B_H\"}, {\"id\": \"Txy_H_007\"}, {\"id\": \"Rwy_01_002\"}, {\"id\": \"Txy_H_008\"}, {\"id\": \"Txy_H_009\"}, {\"id\": \"Rwy_02_004\"}, {\"id\": \"Txy_G_005\"}, {\"id\": \"Txy_L_004\"}, {\"id\": \"Txy_L_005\"}, {\"id\": \"Txy_F_005\"}, {\"id\": \"Txy_F_N\"}, {\"id\": \"Txy_F_004\"}, {\"id\": \"Txy_F_003\"}, {\"id\": \"Txy_F_002\"}, {\"id\": \"Txy_F_001\"}, {\"id\": \"Rwy_03_001\"}>.RW28L.I28L.WESLA4.MVA..PAWLY.J84.EKR.J116.FQF.J80.MCI..ANX.TRAKE8.VLA9.I12L.RW12L.<{\"id\": \"Rwy_04_009\"}, {\"id\": \"Txy_E_005\"}, {\"id\": \"Txy_E_004\"}, {\"id\": \"Txy_E_003\"}, {\"id\": \"Txy_E_H\"}, {\"id\": \"Txy_H_004\"}, {\"id\": \"Txy_H_003\"}, {\"id\": \"Rwy_03_014\"}, {\"id\": \"Txy_H_002\"}, {\"id\": \"Txy_D_H\"}, {\"id\": \"Txy_H_001\"}, {\"id\": \"Txy_C_H\"}, {\"id\": \"Txy_C_021\"}, {\"id\": \"Txy_C_J\"}, {\"id\": \"Txy_C_C1\"}, {\"id\": \"Ramp_05_022\"}, {\"id\": \"Ramp_05_011\"}, {\"id\": \"Ramp_05_010\"}, {\"id\": \"Ramp_05_009\"}, {\"id\": \"Ramp_05_008\"}, {\"id\": \"Gate_02_E16\"}>.KSTL', '373644.992800000007946', '-1222307.260000000009086')\n",
      "No viable destination airport found for DEF456. Returning random from FlightPlanSelector options.\n",
      "OptimalTakeoff is: I19L\n",
      "Length of terminalProcedure is  4\n",
      "Selected Takeoff: I19L\n",
      "Validated Flight Plan: DEF456\n",
      "('KSFO.<{\"id\": \"Gate_F_078\"}, {\"id\": \"Ramp_06_006\"}, {\"id\": \"Txy_A_013\"}, {\"id\": \"Txy_A_012\"}, {\"id\": \"Txy_A_011\"}, {\"id\": \"Txy_A_D\"}, {\"id\": \"Txy_A_010\"}, {\"id\": \"Txy_A_E\"}, {\"id\": \"Txy_E_B\"}, {\"id\": \"Txy_E_001\"}, {\"id\": \"Rwy_03_005\"}, {\"id\": \"Txy_E_002\"}, {\"id\": \"Txy_E_003\"}, {\"id\": \"Rwy_04_007\"}, {\"id\": \"Txy_E_004\"}, {\"id\": \"Txy_C_E\"}, {\"id\": \"Txy_E_V\"}, {\"id\": \"Txy_V_004\"}, {\"id\": \"Rwy_01_007\"}, {\"id\": \"Txy_V_003\"}, {\"id\": \"Txy_V_002\"}, {\"id\": \"Rwy_02_008\"}, {\"id\": \"Txy_V_001\"}, {\"id\": \"Txy_L_V\"}, {\"id\": \"Txy_L_E\"}, {\"id\": \"Txy_L_010\"}, {\"id\": \"Txy_L_011\"}, {\"id\": \"Rwy_02_011\"}>.RW19L.I19L.WESLA4.SAC095049..ILC..MEM.ERLIN2.WHINZ4.I08R.RW08R.<{\"id\": \"Rwy_02_012\"}, {\"id\": \"Txy_E_015\"}, {\"id\": \"Txy_E_014\"}, {\"id\": \"Txy_E_013\"}, {\"id\": \"Txy_E_012\"}, {\"id\": \"Txy_E_011\"}, {\"id\": \"Txy_E_010\"}, {\"id\": \"Txy_E_009\"}, {\"id\": \"Txy_G_004\"}, {\"id\": \"Txy_D_009\"}, {\"id\": \"Txy_F_012\"}, {\"id\": \"Txy_F_011\"}, {\"id\": \"Txy_F_010\"}, {\"id\": \"Txy_5N_002\"}, {\"id\": \"Ramp_06_001\"}, {\"id\": \"Ramp_06_002\"}, {\"id\": \"Ramp_06_003\"}, {\"id\": \"Ramp_06_004\"}, {\"id\": \"Ramp_06_005\"}, {\"id\": \"Ramp_06_006\"}, {\"id\": \"Ramp_06_007\"}, {\"id\": \"Ramp_05_110\"}, {\"id\": \"Gate_D_011\"}>.KATL', '373715.319200000000706', '-1222311.79240000002551')\n"
     ]
    }
   ],
   "source": [
    "import time\n",
    "import numpy as np\n",
    "import pandas as pd\n",
    "from jpype import JPackage\n",
    "\n",
    "TRACK_TIME = time.time()\n",
    "clsGeometry = JPackage('com').osi.util.Geometry\n",
    "\n",
    "for i,callsign in enumerate(cs):\n",
    "    flightInAir = check_if_flight_has_departed(iff_data,callsign,natsSim,iffBaseAirport)\n",
    "    flightLandingInData = check_if_flight_landing_in_dataset(iff_data,callsign,natsSim,iffBaseAirport)\n",
    "    \n",
    "    arrivalAirport = ''\n",
    "    departureAirport=''\n",
    "    arrivalRwy = ''\n",
    "    arrivalGate = ''\n",
    "    departureRwy =''\n",
    "    departureGate = ''\n",
    "    result_generated = ''\n",
    "\n",
    "    if flightInAir and flightLandingInData:\n",
    "        #Get departure airport. If none is known in the IFF+ASDEX file (i.e., it is not the airport whose name is in the iff_fname), then set departure airport as closest airport to the first lat/lon in the dataset. In the future, would like to use IFF_USA to determine departureAirport in this case\n",
    "        arrivalAirport = 'KSFO'\n",
    "        departureAirport = get_departure_airport_from_iff(iff_data,callsign,natsSim,arrivalAirport=iffBaseAirport,flmap=f.flmap)\n",
    "        arrivalGate,arrivalRwy= get_arrival_gate_and_rwy_from_iff(iff_data,callsign,natsSim,arrivalAirport)\n",
    "        result_generated = f.generate(4, departureAirport, arrivalAirport, \"\", arrivalGate, \"\", arrivalRwy)\n",
    "        \n",
    "        timestamp = iff_data[3].loc[iff_data[3].callsign==callsign,'time'].iloc[0]\n",
    "        lat = iff_data[3].loc[iff_data[3].callsign==callsign,'latitude'].iloc[0]\n",
    "        lon = iff_data[3].loc[iff_data[3].callsign==callsign,'longitude'].iloc[0]\n",
    "        latstr = clsGeometry.convertLatLonDeg_to_degMinSecString(str(lat))\n",
    "        lonstr = clsGeometry.convertLatLonDeg_to_degMinSecString(str(lon))\n",
    "        elev = np.max([iff_data[3].loc[iff_data[3].callsign==callsign,'altitude'].iloc[0]/100.,100.])\n",
    "        spd = iff_data[3].loc[iff_data[3].callsign==callsign,'tas'].iloc[0]\n",
    "        hdg = iff_data[3].loc[iff_data[3].callsign==callsign,'heading'].iloc[0]\n",
    "        aircraftType = 'B744'\n",
    "        \n",
    "    if  not flightInAir and not flightLandingInData:\n",
    "        departureAirport = 'KSFO'\n",
    "        arrivalAirport = get_arrival_airport_from_iff(iff_data,callsign,natsSim,departureAirport,f.flmap)\n",
    "        departureGate,departureRwy = get_departure_gate_and_rwy_from_iff(iff_data,callsign,natsSim,departureAirport) #doesn't exist\n",
    "        arrivalGate,arrivalRwy = random_airport_gate_and_rwy(natsSim,arrivalAirport)\n",
    "        result_generated = f.generate(1, departureAirport, arrivalAirport, departureGate, arrivalGate, departureRwy, arrivalRwy)\n",
    "        \n",
    "        timestamp = iff_data[3].loc[iff_data[3].callsign==callsign,'time'].iloc[0]\n",
    "        airportInstance = natsSim.airportInterface.select_airport(departureAirport)\n",
    "        elev = airportInstance.getElevation()/100.0  \n",
    "        lat = iff_data[3].loc[iff_data[3].callsign==callsign,'latitude'].iloc[0]\n",
    "        lon = iff_data[3].loc[iff_data[3].callsign==callsign,'longitude'].iloc[0]\n",
    "        latstr = clsGeometry.convertLatLonDeg_to_degMinSecString(str(lat))\n",
    "        lonstr = clsGeometry.convertLatLonDeg_to_degMinSecString(str(lon))\n",
    "        aircraftType = 'B744'\n",
    "        spd = 0\n",
    "        hdg = 28\n",
    "    \n",
    "    if result_generated:\n",
    "        #TRACK_TIME = (timestamp-pd.Timestamp(\"1970-01-01\")) // pd.Timedelta('1s')\n",
    "        TRACK_TIME +=10\n",
    "        track_string = '%s %s %.4f %.4f %d %.2f %d %s %s' %(callsign,aircraftType,float(latstr),float(lonstr),spd,elev,hdg,'ZOA','ZOA46')\n",
    "        fp_route = result_generated[0]\n",
    "        #fp_validated = natsSim.aircraftInterface.validate_flight_plan_record(track_string,fp_route,330)\n",
    "        fp_validated = True\n",
    "        if fp_validated:\n",
    "            print('Validated Flight Plan:',callsign)\n",
    "            print(result_generated)\n",
    "            with open(trx_file,'a') as trxFile:\n",
    "                tstr = '%s %s' % ('TRACK',track_string)\n",
    "                trxFile.write('%s %d' % ('TRACKTIME', TRACK_TIME) + '\\n')\n",
    "                trxFile.write( tstr + '\\n')\n",
    "                trxFile.write('    FP_ROUTE ' + fp_route + '\\n\\n')\n",
    "\n",
    "            with open(mfl_file,'a') as mflFile:\n",
    "                mflFile.write(callsign + ' ' + '330' + '\\n')\n",
    "        elif not fp_validated:\n",
    "            print('This flight plan was not validated:\\n', result_generated[0])\n",
    "                    "
   ]
  },
  {
   "cell_type": "code",
   "execution_count": 17,
   "metadata": {},
   "outputs": [
    {
     "data": {
      "text/plain": [
       "''"
      ]
     },
     "execution_count": 17,
     "metadata": {},
     "output_type": "execute_result"
    }
   ],
   "source": [
    "lonstr"
   ]
  },
  {
   "cell_type": "code",
   "execution_count": null,
   "metadata": {
    "scrolled": true
   },
   "outputs": [],
   "source": []
  },
  {
   "cell_type": "code",
   "execution_count": null,
   "metadata": {},
   "outputs": [],
   "source": []
  },
  {
   "cell_type": "code",
   "execution_count": null,
   "metadata": {},
   "outputs": [],
   "source": []
  },
  {
   "cell_type": "code",
   "execution_count": null,
   "metadata": {},
   "outputs": [],
   "source": []
  },
  {
   "cell_type": "code",
   "execution_count": null,
   "metadata": {},
   "outputs": [],
   "source": []
  },
  {
   "cell_type": "code",
   "execution_count": null,
   "metadata": {
    "scrolled": true
   },
   "outputs": [],
   "source": []
  },
  {
   "cell_type": "code",
   "execution_count": null,
   "metadata": {},
   "outputs": [],
   "source": []
  },
  {
   "cell_type": "code",
   "execution_count": null,
   "metadata": {},
   "outputs": [],
   "source": [
    "\n",
    "  "
   ]
  },
  {
   "cell_type": "code",
   "execution_count": null,
   "metadata": {},
   "outputs": [],
   "source": []
  },
  {
   "cell_type": "code",
   "execution_count": null,
   "metadata": {},
   "outputs": [],
   "source": []
  }
 ],
 "metadata": {
  "kernelspec": {
   "display_name": "Python 3",
   "language": "python",
   "name": "python3"
  },
  "language_info": {
   "codemirror_mode": {
    "name": "ipython",
    "version": 3
   },
   "file_extension": ".py",
   "mimetype": "text/x-python",
   "name": "python",
   "nbconvert_exporter": "python",
   "pygments_lexer": "ipython3",
   "version": "3.8.3"
  }
 },
 "nbformat": 4,
 "nbformat_minor": 4
}
