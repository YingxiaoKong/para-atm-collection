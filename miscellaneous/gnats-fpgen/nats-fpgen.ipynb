{
 "cells": [
  {
   "cell_type": "markdown",
   "metadata": {},
   "source": [
    "# Demonstration of Creating and Running a NATS input file from IFF data\n",
    "## Read in IFF Data using PARA-ATM"
   ]
  },
  {
   "cell_type": "code",
   "execution_count": 1,
   "metadata": {},
   "outputs": [
    {
     "name": "stdout",
     "output_type": "stream",
     "text": [
      "Index(['recType', 'time', 'fltKey', 'bcnCode', 'cid', 'Source', 'msgType',\n",
      "       'callsign', 'recTypeCat', 'latitude', 'longitude', 'altitude',\n",
      "       'significance', 'coord1Accur', 'coord2Accur', 'altAccur', 'tas',\n",
      "       'heading', 'rocd', 'altQualifier', 'altIndicator', 'trackPtStatus',\n",
      "       'leaderDir', 'scratchPad', 'msawInhibitInd', 'assignedAltString',\n",
      "       'controllingFac', 'controllingSeg', 'receivingFac', 'receivingSec',\n",
      "       'activeContr', 'primaryContr', 'kybrdSubset', 'kybrdSymbol', 'adsCode',\n",
      "       'opsType', 'airportCode', 'trackNumber', 'tptReturnType', 'modeSCode'],\n",
      "      dtype='object')\n",
      "1030410\n"
     ]
    }
   ],
   "source": [
    "from paraatm.io import iff, gnats, utils\n",
    "from paraatm.io.iff import read_iff_file\n",
    "\n",
    "\n",
    "#iff_fname = 'IFF_SFO_ASDEX_ABC123.csv'\n",
    "iff_fname = 'IFF_SFO+ASDEX_20190511_080104_86221.csv'\n",
    "\n",
    "iff_data =  read_iff_file(iff_fname,record_types=[2,3,4,8])\n",
    "print(iff_data[3].columns)\n",
    "print(len(iff_data[3]))"
   ]
  },
  {
   "cell_type": "markdown",
   "metadata": {},
   "source": [
    "## Clean callsign list of UNKN, nan, 1200, and ground operations vehicles"
   ]
  },
  {
   "cell_type": "code",
   "execution_count": 2,
   "metadata": {},
   "outputs": [],
   "source": [
    "#Note not necessary for sample file and will produce an error\n",
    "callsigns = iff_data[3].callsign.unique()\n",
    "cs = callsigns.tolist()\n",
    "cs.remove('UNKN') # remove 'UNKN'\n",
    "cs = [x for x in cs if (str(x) != 'nan')] #remove nan\n",
    "cs = [x for x in cs if not x.startswith('OPS')] #remove ground operation vehicles\n",
    "cs.remove('1200')"
   ]
  },
  {
   "cell_type": "markdown",
   "metadata": {},
   "source": [
    "## Start NATS Simulation in the background"
   ]
  },
  {
   "cell_type": "code",
   "execution_count": 3,
   "metadata": {},
   "outputs": [],
   "source": [
    "from gnats_gate_to_gate import GateToGate\n",
    "natsSim = GateToGate()"
   ]
  },
  {
   "cell_type": "markdown",
   "metadata": {},
   "source": [
    "## Create FlightPlanSelector object"
   ]
  },
  {
   "cell_type": "code",
   "execution_count": 4,
   "metadata": {},
   "outputs": [],
   "source": [
    "from FlightPlanSelector import FlightPlanSelector\n",
    "dirPath = natsSim.DIR_share\n",
    "fpath = dirPath + '/tg/trx/TRX_07132005_noduplicates_crypted'\n",
    "f=FlightPlanSelector(natsSim,fname=fpath)"
   ]
  },
  {
   "cell_type": "markdown",
   "metadata": {},
   "source": [
    "## Generate NATS TRX flightplans"
   ]
  },
  {
   "cell_type": "code",
   "execution_count": 7,
   "metadata": {},
   "outputs": [],
   "source": [
    "import os\n",
    "from iff_functions import (get_departure_airport_from_iff,\n",
    "                           get_arrival_airport_from_iff,\n",
    "                           get_departure_gate_and_rwy_from_iff,\n",
    "                           get_arrival_gate_and_rwy_from_iff,\n",
    "                           random_airport_gate_and_rwy,\n",
    "                           check_if_flight_has_departed,\n",
    "                           check_if_flight_landing_in_dataset)\n",
    "\n",
    "iffBaseAirport= \"KSFO\"\n",
    "\n",
    "#Filenames to write modified trx and mfl files to. Need full path because GNATS wrapper changes the directory to the GNATS directory.\n",
    "home_env = os.environ.get('HOME')\n",
    "trx_dir = '/home/edecarlo/para-atm-collection/miscellaneous/gnats-fpgen'\n",
    "results_dir = '/home/edecarlo/para-atm-collection/miscellaneous/gnats-fpgen'\n",
    "\n",
    "trx_fname = '/iff_to_gnats_geo'\n",
    "mfl_file= trx_dir+trx_fname+'_mfl.trx'\n",
    "trx_file = trx_dir+trx_fname+'.trx'\n",
    "results_file = results_dir+trx_fname+'.csv'\n",
    "\n",
    "if os.path.exists(trx_file):\n",
    "    os.remove(trx_file)\n",
    "    print('Previously generated trx file removed...')\n",
    "\n",
    "if os.path.exists(mfl_file):\n",
    "    os.remove(mfl_file)\n",
    "    print('Previously generated mfl file removed...')"
   ]
  },
  {
   "cell_type": "code",
   "execution_count": 8,
   "metadata": {
    "scrolled": true
   },
   "outputs": [
    {
     "name": "stdout",
     "output_type": "stream",
     "text": [
      "No viable origin airport found for DAL2312. Returning random from FlightPlanSelector options.\n",
      "No viable destination airport found for UAL2377. Returning random from FlightPlanSelector options.\n",
      "OptimalTakeoff is: I28R\n",
      "Length of terminalProcedure is  4\n",
      "Selected Takeoff: I28R\n",
      "No viable destination airport found for UAL863. Returning random from FlightPlanSelector options.\n",
      "OptimalTakeoff is: I28L\n",
      "Length of terminalProcedure is  4\n",
      "Selected Takeoff: I28L\n",
      "No viable destination airport found for DAL806. Returning random from FlightPlanSelector options.\n",
      "OptimalTakeoff is: I19L\n",
      "Length of terminalProcedure is  4\n",
      "Selected Takeoff: I19L\n",
      "No viable origin airport found for UAL748. Returning random from FlightPlanSelector options.\n",
      "No viable origin airport found for UAL210. Returning random from FlightPlanSelector options.\n",
      "No viable origin airport found for JBU1715. Returning random from FlightPlanSelector options.\n",
      "No viable destination airport found for UAL2732. Returning random from FlightPlanSelector options.\n",
      "OptimalTakeoff is: I28L\n",
      "Length of terminalProcedure is  4\n",
      "Selected Takeoff: I28L\n",
      "No viable destination airport found for SIA1. Returning random from FlightPlanSelector options.\n"
     ]
    },
    {
     "ename": "TypeError",
     "evalue": "cannot unpack non-iterable NoneType object",
     "output_type": "error",
     "traceback": [
      "\u001b[0;31m---------------------------------------------------------------------------\u001b[0m",
      "\u001b[0;31mTypeError\u001b[0m                                 Traceback (most recent call last)",
      "\u001b[0;32m<ipython-input-8-94880da5511c>\u001b[0m in \u001b[0;36m<module>\u001b[0;34m\u001b[0m\n\u001b[1;32m     42\u001b[0m         \u001b[0mdepartureGate\u001b[0m\u001b[0;34m,\u001b[0m\u001b[0mdepartureRwy\u001b[0m \u001b[0;34m=\u001b[0m \u001b[0mget_departure_gate_and_rwy_from_iff\u001b[0m\u001b[0;34m(\u001b[0m\u001b[0miff_data\u001b[0m\u001b[0;34m,\u001b[0m\u001b[0mcallsign\u001b[0m\u001b[0;34m,\u001b[0m\u001b[0mnatsSim\u001b[0m\u001b[0;34m,\u001b[0m\u001b[0mdepartureAirport\u001b[0m\u001b[0;34m)\u001b[0m \u001b[0;31m#doesn't exist\u001b[0m\u001b[0;34m\u001b[0m\u001b[0;34m\u001b[0m\u001b[0m\n\u001b[1;32m     43\u001b[0m         \u001b[0marrivalGate\u001b[0m\u001b[0;34m,\u001b[0m\u001b[0marrivalRwy\u001b[0m \u001b[0;34m=\u001b[0m \u001b[0mrandom_airport_gate_and_rwy\u001b[0m\u001b[0;34m(\u001b[0m\u001b[0mnatsSim\u001b[0m\u001b[0;34m,\u001b[0m\u001b[0marrivalAirport\u001b[0m\u001b[0;34m)\u001b[0m\u001b[0;34m\u001b[0m\u001b[0;34m\u001b[0m\u001b[0m\n\u001b[0;32m---> 44\u001b[0;31m         \u001b[0mresult_generated\u001b[0m \u001b[0;34m=\u001b[0m \u001b[0mf\u001b[0m\u001b[0;34m.\u001b[0m\u001b[0mgenerate\u001b[0m\u001b[0;34m(\u001b[0m\u001b[0;36m1\u001b[0m\u001b[0;34m,\u001b[0m \u001b[0mdepartureAirport\u001b[0m\u001b[0;34m,\u001b[0m \u001b[0marrivalAirport\u001b[0m\u001b[0;34m,\u001b[0m \u001b[0mdepartureGate\u001b[0m\u001b[0;34m,\u001b[0m \u001b[0marrivalGate\u001b[0m\u001b[0;34m,\u001b[0m \u001b[0mdepartureRwy\u001b[0m\u001b[0;34m,\u001b[0m \u001b[0marrivalRwy\u001b[0m\u001b[0;34m)\u001b[0m\u001b[0;34m\u001b[0m\u001b[0;34m\u001b[0m\u001b[0m\n\u001b[0m\u001b[1;32m     45\u001b[0m \u001b[0;34m\u001b[0m\u001b[0m\n\u001b[1;32m     46\u001b[0m         \u001b[0mairportInstance\u001b[0m \u001b[0;34m=\u001b[0m \u001b[0mnatsSim\u001b[0m\u001b[0;34m.\u001b[0m\u001b[0mairportInterface\u001b[0m\u001b[0;34m.\u001b[0m\u001b[0mselect_airport\u001b[0m\u001b[0;34m(\u001b[0m\u001b[0mdepartureAirport\u001b[0m\u001b[0;34m)\u001b[0m\u001b[0;34m\u001b[0m\u001b[0;34m\u001b[0m\u001b[0m\n",
      "\u001b[0;32m~/para-atm-collection/miscellaneous/gnats-fpgen/FlightPlanSelector.py\u001b[0m in \u001b[0;36mgenerate\u001b[0;34m(self, flight_plan_type, origin_airport, destination_airport, origin_gate, destination_gate, departure_runway, arrival_runway)\u001b[0m\n\u001b[1;32m    368\u001b[0m                 \u001b[0mself\u001b[0m\u001b[0;34m.\u001b[0m\u001b[0mselected_takeoff\u001b[0m\u001b[0;34m=\u001b[0m\u001b[0;34m''\u001b[0m\u001b[0;34m\u001b[0m\u001b[0;34m\u001b[0m\u001b[0m\n\u001b[1;32m    369\u001b[0m                 \u001b[0;32mif\u001b[0m \u001b[0mflight_plan_type\u001b[0m \u001b[0;34m==\u001b[0m \u001b[0mself\u001b[0m\u001b[0;34m.\u001b[0m\u001b[0mFLIGHT_PLAN_TYPE_GATE_TO_GATE\u001b[0m \u001b[0;32mor\u001b[0m \u001b[0mflight_plan_type\u001b[0m \u001b[0;34m==\u001b[0m \u001b[0mself\u001b[0m\u001b[0;34m.\u001b[0m\u001b[0mFLIGHT_PLAN_TYPE_RUNWAY_TO_RUNWAY\u001b[0m \u001b[0;34m:\u001b[0m\u001b[0;34m\u001b[0m\u001b[0;34m\u001b[0m\u001b[0m\n\u001b[0;32m--> 370\u001b[0;31m                         \u001b[0mself\u001b[0m\u001b[0;34m.\u001b[0m\u001b[0mresult_terminalProcedure\u001b[0m \u001b[0;34m=\u001b[0m \u001b[0mself\u001b[0m\u001b[0;34m.\u001b[0m\u001b[0mgetTerminalProcedures\u001b[0m\u001b[0;34m(\u001b[0m\u001b[0morigin_airport\u001b[0m\u001b[0;34m,\u001b[0m \u001b[0mdestination_airport\u001b[0m\u001b[0;34m,\u001b[0m \u001b[0mdeparture_runway\u001b[0m\u001b[0;34m,\u001b[0m \u001b[0marrival_runway\u001b[0m\u001b[0;34m)\u001b[0m\u001b[0;34m\u001b[0m\u001b[0;34m\u001b[0m\u001b[0m\n\u001b[0m\u001b[1;32m    371\u001b[0m                         \u001b[0mprint\u001b[0m\u001b[0;34m(\u001b[0m\u001b[0;34m'Length of terminalProcedure is '\u001b[0m\u001b[0;34m,\u001b[0m\u001b[0mlen\u001b[0m\u001b[0;34m(\u001b[0m\u001b[0mself\u001b[0m\u001b[0;34m.\u001b[0m\u001b[0mresult_terminalProcedure\u001b[0m\u001b[0;34m)\u001b[0m\u001b[0;34m)\u001b[0m\u001b[0;34m\u001b[0m\u001b[0;34m\u001b[0m\u001b[0m\n\u001b[1;32m    372\u001b[0m                         \u001b[0;32mif\u001b[0m \u001b[0mlen\u001b[0m\u001b[0;34m(\u001b[0m\u001b[0mself\u001b[0m\u001b[0;34m.\u001b[0m\u001b[0mresult_terminalProcedure\u001b[0m\u001b[0;34m)\u001b[0m \u001b[0;34m==\u001b[0m \u001b[0;36m4\u001b[0m \u001b[0;34m:\u001b[0m\u001b[0;34m\u001b[0m\u001b[0;34m\u001b[0m\u001b[0m\n",
      "\u001b[0;32m~/para-atm-collection/miscellaneous/gnats-fpgen/FlightPlanSelector.py\u001b[0m in \u001b[0;36mgetTerminalProcedures\u001b[0;34m(self, origin, destination, departureRunway, arrivalRunway)\u001b[0m\n\u001b[1;32m    181\u001b[0m                                         \u001b[0mlatLonVal\u001b[0m \u001b[0;34m=\u001b[0m \u001b[0mself\u001b[0m\u001b[0;34m.\u001b[0m\u001b[0mgnatsSim\u001b[0m\u001b[0;34m.\u001b[0m\u001b[0mterminalAreaInterface\u001b[0m\u001b[0;34m.\u001b[0m\u001b[0mgetWaypoint_Latitude_Longitude_deg\u001b[0m\u001b[0;34m(\u001b[0m\u001b[0mlist\u001b[0m\u001b[0;34m(\u001b[0m\u001b[0mlegWps\u001b[0m\u001b[0;34m)\u001b[0m\u001b[0;34m[\u001b[0m\u001b[0;34m-\u001b[0m\u001b[0;36m1\u001b[0m\u001b[0;34m]\u001b[0m\u001b[0;34m)\u001b[0m\u001b[0;34m\u001b[0m\u001b[0;34m\u001b[0m\u001b[0m\n\u001b[1;32m    182\u001b[0m                                         \u001b[0;32mif\u001b[0m \u001b[0;32mnot\u001b[0m \u001b[0;34m(\u001b[0m\u001b[0mlatLonVal\u001b[0m \u001b[0;32mis\u001b[0m \u001b[0;32mNone\u001b[0m\u001b[0;34m)\u001b[0m \u001b[0;34m:\u001b[0m\u001b[0;34m\u001b[0m\u001b[0;34m\u001b[0m\u001b[0m\n\u001b[0;32m--> 183\u001b[0;31m                                                 \u001b[0;32mif\u001b[0m \u001b[0mself\u001b[0m\u001b[0;34m.\u001b[0m\u001b[0mdistance\u001b[0m\u001b[0;34m(\u001b[0m\u001b[0mlatLonVal\u001b[0m\u001b[0;34m,\u001b[0m \u001b[0menrouteWp\u001b[0m\u001b[0;34m)\u001b[0m \u001b[0;34m<\u001b[0m \u001b[0mdistanceToEnroute\u001b[0m\u001b[0;34m:\u001b[0m\u001b[0;34m\u001b[0m\u001b[0;34m\u001b[0m\u001b[0m\n\u001b[0m\u001b[1;32m    184\u001b[0m                                                         \u001b[0moptimalSid\u001b[0m \u001b[0;34m=\u001b[0m \u001b[0msid\u001b[0m\u001b[0;34m\u001b[0m\u001b[0;34m\u001b[0m\u001b[0m\n\u001b[1;32m    185\u001b[0m \u001b[0;34m\u001b[0m\u001b[0m\n",
      "\u001b[0;32m~/para-atm-collection/miscellaneous/gnats-fpgen/FlightPlanSelector.py\u001b[0m in \u001b[0;36mdistance\u001b[0;34m(self, procedurePoint, enroutePoint)\u001b[0m\n\u001b[1;32m    131\u001b[0m         \u001b[0;32mdef\u001b[0m \u001b[0mdistance\u001b[0m\u001b[0;34m(\u001b[0m\u001b[0mself\u001b[0m\u001b[0;34m,\u001b[0m \u001b[0mprocedurePoint\u001b[0m\u001b[0;34m,\u001b[0m \u001b[0menroutePoint\u001b[0m\u001b[0;34m)\u001b[0m\u001b[0;34m:\u001b[0m\u001b[0;34m\u001b[0m\u001b[0;34m\u001b[0m\u001b[0m\n\u001b[1;32m    132\u001b[0m                 \u001b[0mlat1\u001b[0m\u001b[0;34m,\u001b[0m \u001b[0mlon1\u001b[0m \u001b[0;34m=\u001b[0m \u001b[0mprocedurePoint\u001b[0m\u001b[0;34m\u001b[0m\u001b[0;34m\u001b[0m\u001b[0m\n\u001b[0;32m--> 133\u001b[0;31m                 \u001b[0mlat2\u001b[0m\u001b[0;34m,\u001b[0m \u001b[0mlon2\u001b[0m \u001b[0;34m=\u001b[0m \u001b[0menroutePoint\u001b[0m\u001b[0;34m\u001b[0m\u001b[0;34m\u001b[0m\u001b[0m\n\u001b[0m\u001b[1;32m    134\u001b[0m                 \u001b[0mradius\u001b[0m \u001b[0;34m=\u001b[0m \u001b[0;36m6371\u001b[0m\u001b[0;34m\u001b[0m\u001b[0;34m\u001b[0m\u001b[0m\n\u001b[1;32m    135\u001b[0m \u001b[0;34m\u001b[0m\u001b[0m\n",
      "\u001b[0;31mTypeError\u001b[0m: cannot unpack non-iterable NoneType object"
     ]
    }
   ],
   "source": [
    "import time\n",
    "import numpy as np\n",
    "from jpype import JPackage\n",
    "\n",
    "TRACK_TIME = time.time()\n",
    "clsGeometry = JPackage('com').osi.util.Geometry\n",
    "\n",
    "for i,callsign in enumerate(cs[0:20]):\n",
    "    flightInAir = check_if_flight_has_departed(iff_data,callsign,natsSim,iffBaseAirport)\n",
    "    flightLandingInData = check_if_flight_landing_in_dataset(iff_data,callsign,natsSim,iffBaseAirport)\n",
    "    \n",
    "    arrivalAirport = ''\n",
    "    departureAirport=''\n",
    "    arrivalRwy = ''\n",
    "    arrivalGate = ''\n",
    "    departureRwy =''\n",
    "    departureGate = ''\n",
    "    result_generated = ''\n",
    "\n",
    "    if flightInAir and flightLandingInData:\n",
    "        #Get departure airport. If none is known in the IFF+ASDEX file (i.e., it is not the airport whose name is in the iff_fname), then set departure airport as closest airport to the first lat/lon in the dataset. In the future, would like to use IFF_USA to determine departureAirport in this case\n",
    "        arrivalAirport = 'KSFO'\n",
    "        departureAirport = get_departure_airport_from_iff(iff_data,callsign,natsSim,arrivalAirport=iffBaseAirport,flmap=f.flmap)\n",
    "        #departureAirport = 'KEWR'\n",
    "        arrivalGate,arrivalRwy= get_arrival_gate_and_rwy_from_iff(iff_data,callsign,natsSim,arrivalAirport)\n",
    "        result_generated = f.generate(4, departureAirport, arrivalAirport, \"\", arrivalGate, \"\", arrivalRwy)\n",
    "        \n",
    "\n",
    "        lat = iff_data[3].loc[iff_data[3].callsign==callsign,'latitude'].iloc[0]\n",
    "        lon = iff_data[3].loc[iff_data[3].callsign==callsign,'longitude'].iloc[0]\n",
    "        latstr = clsGeometry.convertLatLonDeg_to_degMinSecString(str(lat))\n",
    "        lonstr = clsGeometry.convertLatLonDeg_to_degMinSecString(str(lon))\n",
    "        elev = np.max([iff_data[3].loc[iff_data[3].callsign==callsign,'altitude'].iloc[0]/100.,100.])\n",
    "        spd = iff_data[3].loc[iff_data[3].callsign==callsign,'tas'].iloc[0]\n",
    "        hdg = iff_data[3].loc[iff_data[3].callsign==callsign,'heading'].iloc[0]\n",
    "        aircraftType = 'B744'\n",
    "        \n",
    "    if  not flightInAir and not flightLandingInData:\n",
    "        departureAirport = 'KSFO'\n",
    "        arrivalAirport = get_arrival_airport_from_iff(iff_data,callsign,natsSim,departureAirport,f.flmap)\n",
    "        #arrivalAirport = 'KEWR'\n",
    "        departureGate,departureRwy = get_departure_gate_and_rwy_from_iff(iff_data,callsign,natsSim,departureAirport) #doesn't exist\n",
    "        arrivalGate,arrivalRwy = random_airport_gate_and_rwy(natsSim,arrivalAirport)\n",
    "        result_generated = f.generate(1, departureAirport, arrivalAirport, departureGate, arrivalGate, departureRwy, arrivalRwy)\n",
    "        \n",
    "        airportInstance = natsSim.airportInterface.select_airport(departureAirport)\n",
    "        elev = airportInstance.getElevation()/100.0  \n",
    "        lat = iff_data[3].loc[iff_data[3].callsign==callsign,'latitude'].iloc[0]\n",
    "        lon = iff_data[3].loc[iff_data[3].callsign==callsign,'longitude'].iloc[0]\n",
    "        latstr = clsGeometry.convertLatLonDeg_to_degMinSecString(str(lat))\n",
    "        lonstr = clsGeometry.convertLatLonDeg_to_degMinSecString(str(lon))\n",
    "        aircraftType = 'B744'\n",
    "        spd = 0\n",
    "        hdg = 28\n",
    "    \n",
    "    if result_generated:\n",
    "        TRACK_TIME += 10\n",
    "        track_string = '%s %s %.4f %.4f %d %.2f %d %s %s'.format(callsign,aircraftType,float(latstr),float(lonstr),spd,elev,hdg,'ZOA','ZOA46')\n",
    "        fp_route = result_generated[0]\n",
    "        fp_validated = natsSim.aircraftInterface.validate_flight_plan_record(track_string,fp_route,300)\n",
    "        if fp_validated:\n",
    "            print('Validated Flight Plan:',callsign)\n",
    "            print(result_generated)\n",
    "            with open(trx_file,'a') as trxFile:\n",
    "                tstr = '%s %s' % ('TRACK',track_string)\n",
    "                trxFile.write('%s %d' % ('TRACKTIME', TRACK_TIME) + '\\n')\n",
    "                trxFile.write( tstr + '\\n')\n",
    "                trxFile.write('    FP_ROUTE ' + fp_route + '\\n\\n')\n",
    "\n",
    "            with open(mfl_file,'a') as mflFile:\n",
    "                mflFile.write(callsign + ' ' + '330' + '\\n')"
   ]
  },
  {
   "cell_type": "code",
   "execution_count": 1,
   "metadata": {},
   "outputs": [
    {
     "ename": "NameError",
     "evalue": "name 'natsSim' is not defined",
     "output_type": "error",
     "traceback": [
      "\u001b[0;31m---------------------------------------------------------------------------\u001b[0m",
      "\u001b[0;31mNameError\u001b[0m                                 Traceback (most recent call last)",
      "\u001b[0;32m<ipython-input-1-a7c72634c3aa>\u001b[0m in \u001b[0;36m<module>\u001b[0;34m\u001b[0m\n\u001b[1;32m     10\u001b[0m \u001b[0mresults_file\u001b[0m \u001b[0;34m=\u001b[0m \u001b[0mresults_dir\u001b[0m\u001b[0;34m+\u001b[0m\u001b[0mtrx_fname\u001b[0m\u001b[0;34m+\u001b[0m\u001b[0;34m'.csv'\u001b[0m\u001b[0;34m\u001b[0m\u001b[0;34m\u001b[0m\u001b[0m\n\u001b[1;32m     11\u001b[0m \u001b[0;34m\u001b[0m\u001b[0m\n\u001b[0;32m---> 12\u001b[0;31m \u001b[0mdata\u001b[0m\u001b[0;34m=\u001b[0m\u001b[0mnatsSim\u001b[0m\u001b[0;34m(\u001b[0m\u001b[0mtrx_name\u001b[0m\u001b[0;34m=\u001b[0m\u001b[0mtrx_file\u001b[0m\u001b[0;34m,\u001b[0m\u001b[0mmfl_name\u001b[0m\u001b[0;34m=\u001b[0m\u001b[0mmfl_file\u001b[0m\u001b[0;34m)\u001b[0m\u001b[0;34m[\u001b[0m\u001b[0;34m'trajectory'\u001b[0m\u001b[0;34m]\u001b[0m\u001b[0;34m\u001b[0m\u001b[0;34m\u001b[0m\u001b[0m\n\u001b[0m\u001b[1;32m     13\u001b[0m \u001b[0mnatsSim\u001b[0m\u001b[0;34m.\u001b[0m\u001b[0mwrite_output\u001b[0m\u001b[0;34m(\u001b[0m\u001b[0mresults_file\u001b[0m\u001b[0;34m)\u001b[0m\u001b[0;34m\u001b[0m\u001b[0;34m\u001b[0m\u001b[0m\n\u001b[1;32m     14\u001b[0m \u001b[0mnatsSim\u001b[0m\u001b[0;34m.\u001b[0m\u001b[0mcleanup\u001b[0m\u001b[0;34m(\u001b[0m\u001b[0;34m)\u001b[0m\u001b[0;34m\u001b[0m\u001b[0;34m\u001b[0m\u001b[0m\n",
      "\u001b[0;31mNameError\u001b[0m: name 'natsSim' is not defined"
     ]
    }
   ],
   "source": [
    "#Filenames to write modified trx and mfl files to. Need full path because GNATS wrapper changes the directory to the GNATS directory.\n",
    "import os\n",
    "home_env = os.environ.get('HOME')\n",
    "trx_dir = '/home/edecarlo/para-atm-collection/miscellaneous/gnats-fpgen'\n",
    "results_dir = '/home/edecarlo/para-atm-collection/miscellaneous/gnats-fpgen'\n",
    "\n",
    "trx_fname = '/iff_to_gnats_geo'\n",
    "mfl_file= trx_dir+trx_fname+'_mfl.trx'\n",
    "trx_file = trx_dir+trx_fname+'.trx'\n",
    "results_file = results_dir+trx_fname+'.csv'\n",
    "\n",
    "data=natsSim(trx_name=trx_file,mfl_name=mfl_file)['trajectory']\n",
    "natsSim.write_output(results_file)\n",
    "natsSim.cleanup()"
   ]
  },
  {
   "cell_type": "code",
   "execution_count": 2,
   "metadata": {
    "scrolled": true
   },
   "outputs": [
    {
     "ename": "NameError",
     "evalue": "name 'data' is not defined",
     "output_type": "error",
     "traceback": [
      "\u001b[0;31m---------------------------------------------------------------------------\u001b[0m",
      "\u001b[0;31mNameError\u001b[0m                                 Traceback (most recent call last)",
      "\u001b[0;32m<ipython-input-2-d7ccc4a60190>\u001b[0m in \u001b[0;36m<module>\u001b[0;34m\u001b[0m\n\u001b[1;32m      1\u001b[0m \u001b[0;32mfrom\u001b[0m \u001b[0mparaatm\u001b[0m\u001b[0;34m.\u001b[0m\u001b[0mplotting\u001b[0m \u001b[0;32mimport\u001b[0m \u001b[0mplot_trajectory\u001b[0m\u001b[0;34m\u001b[0m\u001b[0;34m\u001b[0m\u001b[0m\n\u001b[0;32m----> 2\u001b[0;31m \u001b[0mplot_trajectory\u001b[0m\u001b[0;34m(\u001b[0m\u001b[0mdata\u001b[0m\u001b[0;34m,\u001b[0m \u001b[0moutput_notebook\u001b[0m\u001b[0;34m=\u001b[0m\u001b[0;32mTrue\u001b[0m\u001b[0;34m,\u001b[0m \u001b[0mplot_width\u001b[0m\u001b[0;34m=\u001b[0m\u001b[0;36m600\u001b[0m\u001b[0;34m,\u001b[0m \u001b[0mplot_height\u001b[0m\u001b[0;34m=\u001b[0m\u001b[0;36m400\u001b[0m\u001b[0;34m)\u001b[0m\u001b[0;34m\u001b[0m\u001b[0;34m\u001b[0m\u001b[0m\n\u001b[0m",
      "\u001b[0;31mNameError\u001b[0m: name 'data' is not defined"
     ]
    }
   ],
   "source": [
    "from paraatm.plotting import plot_trajectory\n",
    "plot_trajectory(data, output_notebook=True, plot_width=600, plot_height=400)"
   ]
  },
  {
   "cell_type": "code",
   "execution_count": null,
   "metadata": {},
   "outputs": [],
   "source": []
  },
  {
   "cell_type": "code",
   "execution_count": 11,
   "metadata": {},
   "outputs": [
    {
     "data": {
      "text/plain": [
       "array(['FLIGHT_PHASE_TAXI_DEPARTING', 'FLIGHT_PHASE_ORIGIN_GATE',\n",
       "       'FLIGHT_PHASE_PUSHBACK', 'FLIGHT_PHASE_RAMP_DEPARTING',\n",
       "       'FLIGHT_PHASE_RUNWAY_THRESHOLD_DEPARTING', 'FLIGHT_PHASE_TAKEOFF',\n",
       "       'FLIGHT_PHASE_CLIMBOUT', 'FLIGHT_PHASE_CLIMB_TO_CRUISE_ALTITUDE',\n",
       "       'FLIGHT_PHASE_CRUISE', 'FLIGHT_PHASE_INITIAL_DESCENT',\n",
       "       'FLIGHT_PHASE_APPROACH', 'FLIGHT_PHASE_TOUCHDOWN',\n",
       "       'FLIGHT_PHASE_OUTOFRUNWAY'], dtype=object)"
      ]
     },
     "execution_count": 11,
     "metadata": {},
     "output_type": "execute_result"
    }
   ],
   "source": [
    "data.status.unique()"
   ]
  },
  {
   "cell_type": "code",
   "execution_count": 8,
   "metadata": {},
   "outputs": [
    {
     "ename": "RuntimeError",
     "evalue": "No matching overloads found for validate_flight_plan_record in find. at native/common/jp_method.cpp:127",
     "output_type": "error",
     "traceback": [
      "\u001b[0;31m---------------------------------------------------------------------------\u001b[0m",
      "\u001b[0;31mRuntimeError\u001b[0m                              Traceback (most recent call last)",
      "\u001b[0;32m<ipython-input-8-8d1e36a2db34>\u001b[0m in \u001b[0;36m<module>\u001b[0;34m\u001b[0m\n\u001b[0;32m----> 1\u001b[0;31m \u001b[0mnatsSim\u001b[0m\u001b[0;34m.\u001b[0m\u001b[0maircraftInterface\u001b[0m\u001b[0;34m.\u001b[0m\u001b[0mvalidate_flight_plan_record\u001b[0m\u001b[0;34m(\u001b[0m\u001b[0;34m'ABC123'\u001b[0m\u001b[0;34m)\u001b[0m\u001b[0;34m\u001b[0m\u001b[0;34m\u001b[0m\u001b[0m\n\u001b[0m",
      "\u001b[0;31mRuntimeError\u001b[0m: No matching overloads found for validate_flight_plan_record in find. at native/common/jp_method.cpp:127"
     ]
    }
   ],
   "source": [
    "natsSim.aircraftInterface.validate_flight_plan_record()"
   ]
  },
  {
   "cell_type": "code",
   "execution_count": null,
   "metadata": {},
   "outputs": [],
   "source": []
  },
  {
   "cell_type": "code",
   "execution_count": null,
   "metadata": {
    "scrolled": true
   },
   "outputs": [],
   "source": []
  },
  {
   "cell_type": "code",
   "execution_count": null,
   "metadata": {},
   "outputs": [],
   "source": []
  },
  {
   "cell_type": "code",
   "execution_count": null,
   "metadata": {},
   "outputs": [],
   "source": [
    "\n",
    "  "
   ]
  },
  {
   "cell_type": "code",
   "execution_count": null,
   "metadata": {},
   "outputs": [],
   "source": []
  },
  {
   "cell_type": "code",
   "execution_count": null,
   "metadata": {},
   "outputs": [],
   "source": []
  }
 ],
 "metadata": {
  "kernelspec": {
   "display_name": "Python 3",
   "language": "python",
   "name": "python3"
  },
  "language_info": {
   "codemirror_mode": {
    "name": "ipython",
    "version": 3
   },
   "file_extension": ".py",
   "mimetype": "text/x-python",
   "name": "python",
   "nbconvert_exporter": "python",
   "pygments_lexer": "ipython3",
   "version": "3.8.3"
  }
 },
 "nbformat": 4,
 "nbformat_minor": 4
}
