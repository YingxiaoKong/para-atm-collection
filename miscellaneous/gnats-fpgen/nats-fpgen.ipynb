{
 "cells": [
  {
   "cell_type": "markdown",
   "metadata": {},
   "source": [
    "# Demonstration of Creating and Running a NATS input file from IFF data\n",
    "## Read in IFF Data using PARA-ATM"
   ]
  },
  {
   "cell_type": "code",
   "execution_count": 1,
   "metadata": {},
   "outputs": [],
   "source": [
    "from paraatm.io import iff, gnats, utils\n",
    "from paraatm.io.iff import read_iff_file\n",
    "\n",
    "#Four flights - 3 departing, 1 landing at SFO\n",
    "iff_fname = 'IFF_SFO_ASDEX_ABC456.csv'\n",
    "#iff_fname = 'IFF_SFO+ASDEX_20190511_080104_86221.csv'\n",
    "\n",
    "iff_data =  read_iff_file(iff_fname,record_types=[2,3,4,8])"
   ]
  },
  {
   "cell_type": "markdown",
   "metadata": {},
   "source": [
    "## Clean callsign list of UNKN, nan, 1200, and ground operations vehicles"
   ]
  },
  {
   "cell_type": "code",
   "execution_count": 2,
   "metadata": {},
   "outputs": [
    {
     "ename": "ValueError",
     "evalue": "list.remove(x): x not in list",
     "output_type": "error",
     "traceback": [
      "\u001b[0;31m---------------------------------------------------------------------------\u001b[0m",
      "\u001b[0;31mValueError\u001b[0m                                Traceback (most recent call last)",
      "\u001b[0;32m<ipython-input-2-450d26be3a97>\u001b[0m in \u001b[0;36m<module>\u001b[0;34m\u001b[0m\n\u001b[1;32m      2\u001b[0m \u001b[0mcallsigns\u001b[0m \u001b[0;34m=\u001b[0m \u001b[0miff_data\u001b[0m\u001b[0;34m[\u001b[0m\u001b[0;36m3\u001b[0m\u001b[0;34m]\u001b[0m\u001b[0;34m.\u001b[0m\u001b[0mcallsign\u001b[0m\u001b[0;34m.\u001b[0m\u001b[0munique\u001b[0m\u001b[0;34m(\u001b[0m\u001b[0;34m)\u001b[0m\u001b[0;34m\u001b[0m\u001b[0;34m\u001b[0m\u001b[0m\n\u001b[1;32m      3\u001b[0m \u001b[0mcs\u001b[0m \u001b[0;34m=\u001b[0m \u001b[0mcallsigns\u001b[0m\u001b[0;34m.\u001b[0m\u001b[0mtolist\u001b[0m\u001b[0;34m(\u001b[0m\u001b[0;34m)\u001b[0m\u001b[0;34m\u001b[0m\u001b[0;34m\u001b[0m\u001b[0m\n\u001b[0;32m----> 4\u001b[0;31m \u001b[0mcs\u001b[0m\u001b[0;34m.\u001b[0m\u001b[0mremove\u001b[0m\u001b[0;34m(\u001b[0m\u001b[0;34m'UNKN'\u001b[0m\u001b[0;34m)\u001b[0m \u001b[0;31m# remove 'UNKN'\u001b[0m\u001b[0;34m\u001b[0m\u001b[0;34m\u001b[0m\u001b[0m\n\u001b[0m\u001b[1;32m      5\u001b[0m \u001b[0mcs\u001b[0m \u001b[0;34m=\u001b[0m \u001b[0;34m[\u001b[0m\u001b[0mx\u001b[0m \u001b[0;32mfor\u001b[0m \u001b[0mx\u001b[0m \u001b[0;32min\u001b[0m \u001b[0mcs\u001b[0m \u001b[0;32mif\u001b[0m \u001b[0;34m(\u001b[0m\u001b[0mstr\u001b[0m\u001b[0;34m(\u001b[0m\u001b[0mx\u001b[0m\u001b[0;34m)\u001b[0m \u001b[0;34m!=\u001b[0m \u001b[0;34m'nan'\u001b[0m\u001b[0;34m)\u001b[0m\u001b[0;34m]\u001b[0m \u001b[0;31m#remove nan\u001b[0m\u001b[0;34m\u001b[0m\u001b[0;34m\u001b[0m\u001b[0m\n\u001b[1;32m      6\u001b[0m \u001b[0mcs\u001b[0m \u001b[0;34m=\u001b[0m \u001b[0;34m[\u001b[0m\u001b[0mx\u001b[0m \u001b[0;32mfor\u001b[0m \u001b[0mx\u001b[0m \u001b[0;32min\u001b[0m \u001b[0mcs\u001b[0m \u001b[0;32mif\u001b[0m \u001b[0;32mnot\u001b[0m \u001b[0mx\u001b[0m\u001b[0;34m.\u001b[0m\u001b[0mstartswith\u001b[0m\u001b[0;34m(\u001b[0m\u001b[0;34m'OPS'\u001b[0m\u001b[0;34m)\u001b[0m\u001b[0;34m]\u001b[0m \u001b[0;31m#remove ground operation vehicles\u001b[0m\u001b[0;34m\u001b[0m\u001b[0;34m\u001b[0m\u001b[0m\n",
      "\u001b[0;31mValueError\u001b[0m: list.remove(x): x not in list"
     ]
    }
   ],
   "source": [
    "#Note not necessary for sample file and will produce an error\n",
    "callsigns = iff_data[3].callsign.unique()\n",
    "cs = callsigns.tolist()\n",
    "cs.remove('UNKN') # remove 'UNKN'\n",
    "cs = [x for x in cs if (str(x) != 'nan')] #remove nan\n",
    "cs = [x for x in cs if not x.startswith('OPS')] #remove ground operation vehicles\n",
    "cs.remove('1200')"
   ]
  },
  {
   "cell_type": "markdown",
   "metadata": {},
   "source": [
    "## Start NATS Simulation in the background"
   ]
  },
  {
   "cell_type": "code",
   "execution_count": 3,
   "metadata": {},
   "outputs": [],
   "source": [
    "from gnats_gate_to_gate import GateToGate\n",
    "natsSim = GateToGate()"
   ]
  },
  {
   "cell_type": "markdown",
   "metadata": {},
   "source": [
    "## Create FlightPlanSelector object"
   ]
  },
  {
   "cell_type": "code",
   "execution_count": 4,
   "metadata": {},
   "outputs": [],
   "source": [
    "from FlightPlanSelector import FlightPlanSelector\n",
    "dirPath = natsSim.DIR_share\n",
    "fpath = dirPath + '/tg/trx/TRX_07132005_noduplicates_crypted'\n",
    "f=FlightPlanSelector(natsSim,fname=fpath)"
   ]
  },
  {
   "cell_type": "markdown",
   "metadata": {},
   "source": [
    "## Generate NATS TRX flightplans"
   ]
  },
  {
   "cell_type": "code",
   "execution_count": 7,
   "metadata": {},
   "outputs": [
    {
     "name": "stdout",
     "output_type": "stream",
     "text": [
      "Previously generated trx file removed...\n",
      "Previously generated mfl file removed...\n"
     ]
    }
   ],
   "source": [
    "import os\n",
    "from iff_functions import (get_departure_airport_from_iff,\n",
    "                           get_arrival_airport_from_iff,\n",
    "                           get_departure_gate_and_rwy_from_iff,\n",
    "                           get_arrival_gate_and_rwy_from_iff,\n",
    "                           random_airport_gate_and_rwy,\n",
    "                           check_if_flight_has_departed,\n",
    "                           check_if_flight_landing_in_dataset)\n",
    "\n",
    "from nats_functions import get_gate_lat_lon_from_nats\n",
    "\n",
    "iffBaseAirport= \"KSFO\"\n",
    "\n",
    "#Filenames to write modified trx and mfl files to. Need full path because GNATS wrapper changes the directory to the GNATS directory.\n",
    "home_env = os.environ.get('HOME')\n",
    "trx_dir = '/home/edecarlo/para-atm-collection/miscellaneous/gnats-fpgen'\n",
    "results_dir = '/home/edecarlo/para-atm-collection/miscellaneous/gnats-fpgen'\n",
    "\n",
    "trx_fname = '/iff_to_gnats_geo'\n",
    "mfl_file= trx_dir+trx_fname+'_mfl.trx'\n",
    "trx_file = trx_dir+trx_fname+'.trx'\n",
    "results_file = results_dir+trx_fname+'.csv'\n",
    "\n",
    "if os.path.exists(trx_file):\n",
    "    os.remove(trx_file)\n",
    "    print('Previously generated trx file removed...')\n",
    "\n",
    "if os.path.exists(mfl_file):\n",
    "    os.remove(mfl_file)\n",
    "    print('Previously generated mfl file removed...')"
   ]
  },
  {
   "cell_type": "code",
   "execution_count": 8,
   "metadata": {
    "scrolled": true
   },
   "outputs": [
    {
     "name": "stdout",
     "output_type": "stream",
     "text": [
      "No viable destination airport found for ABC123. Returning random from FlightPlanSelector options.\n",
      "OptimalTakeoff is: I28R\n",
      "Length of terminalProcedure is  4\n",
      "Selected Takeoff: I28R\n",
      "Validated Flight Plan: ABC123\n",
      "('KSFO.<{\"id\": \"Gate_E_061\"}, {\"id\": \"Ramp_05_001\"}, {\"id\": \"Ramp_05_002\"}, {\"id\": \"Ramp_05_003\"}, {\"id\": \"Txy_A_010\"}, {\"id\": \"Txy_A_E\"}, {\"id\": \"Txy_A_B\"}, {\"id\": \"Txy_F_010\"}, {\"id\": \"Txy_F_009\"}, {\"id\": \"Rwy_01_005\"}, {\"id\": \"Txy_F_008\"}, {\"id\": \"Txy_F_007\"}, {\"id\": \"Rwy_02_006\"}, {\"id\": \"Txy_F_006\"}, {\"id\": \"Txy_F_L\"}, {\"id\": \"Txy_F_005\"}, {\"id\": \"Txy_F_N\"}, {\"id\": \"Txy_F_004\"}, {\"id\": \"Txy_F_003\"}, {\"id\": \"Txy_F_002\"}, {\"id\": \"Txy_F_001\"}, {\"id\": \"Rwy_03_001\"}, {\"id\": \"Txy_C_001\"}, {\"id\": \"Txy_C_002\"}, {\"id\": \"Rwy_04_001\"}>.RW28R.I28R.WESLA4.SAC095049..ILC..MEM.ERLIN2.WHINZ4.I26L.RW26L.<{\"id\": \"Rwy_02_001\"}, {\"id\": \"Txy_H_001\"}, {\"id\": \"Txy_E_002\"}, {\"id\": \"Txy_F_002\"}, {\"id\": \"Txy_F_003\"}, {\"id\": \"Txy_F_004\"}, {\"id\": \"Txy_F_104\"}, {\"id\": \"Txy_F_005\"}, {\"id\": \"Txy_F_006\"}, {\"id\": \"Txy_F_106\"}, {\"id\": \"Txy_F_007\"}, {\"id\": \"Txy_F_008\"}, {\"id\": \"Txy_5S_002\"}, {\"id\": \"Ramp_05_022\"}, {\"id\": \"Ramp_05_115\"}, {\"id\": \"Ramp_05_021\"}, {\"id\": \"Ramp_05_116\"}, {\"id\": \"Ramp_05_020\"}, {\"id\": \"Ramp_05_114\"}, {\"id\": \"Ramp_05_113\"}, {\"id\": \"Ramp_05_019\"}, {\"id\": \"Gate_D_025\"}>.KATL', '373706.981599999999162', '-1222302.4683999999820116')\n",
      "No viable origin airport found for ABC456. Returning random from FlightPlanSelector options.\n",
      "departOpts: ['DTW', 'LAX', 'LAS', 'LAX', 'CVG', 'LAX', 'JFK', 'PHL', 'MCO', 'EWR', 'BOS', 'IAD', 'BWI', 'ATL', 'MIA', 'DEN', 'CLT', 'MDW', 'BOI', 'SEA', 'SLC', 'IAH', 'CLE', 'PHX', 'SAT', 'DFW', 'PDX', 'ORD', 'STL', 'MSP', 'BOS', 'JFK', 'EWR']\n",
      "Validated Flight Plan: ABC456\n",
      "('KEWR.<>.BUF..ECK..DLL..MCW..BFF..DTA..OAL.WHINZ4.I26L.RW10L.<{\"id\": \"Rwy_04_001\"}, {\"id\": \"Txy_C_002\"}, {\"id\": \"Txy_C_001\"}, {\"id\": \"Rwy_03_001\"}, {\"id\": \"Txy_F_001\"}, {\"id\": \"Txy_F_002\"}, {\"id\": \"Txy_F_003\"}, {\"id\": \"Txy_F_004\"}, {\"id\": \"Txy_F_N\"}, {\"id\": \"Txy_F_005\"}, {\"id\": \"Txy_F_L\"}, {\"id\": \"Txy_F_006\"}, {\"id\": \"Rwy_02_006\"}, {\"id\": \"Txy_F_007\"}, {\"id\": \"Txy_F_008\"}, {\"id\": \"Rwy_01_005\"}, {\"id\": \"Txy_F_009\"}, {\"id\": \"Txy_F_010\"}, {\"id\": \"Txy_A_B\"}, {\"id\": \"Txy_A_E\"}, {\"id\": \"Txy_A_010\"}, {\"id\": \"Txy_A_D\"}, {\"id\": \"Txy_A_011\"}, {\"id\": \"Txy_A_012\"}, {\"id\": \"Txy_A_013\"}, {\"id\": \"Txy_A_K\"}, {\"id\": \"Ramp_06_007\"}, {\"id\": \"Gate_F_079\"}>.KSFO', '425544.38999999999851', '-783846.83000000001812')\n",
      "No viable destination airport found for DEF123. Returning random from FlightPlanSelector options.\n",
      "OptimalTakeoff is: I19L\n",
      "Length of terminalProcedure is  4\n",
      "Selected Takeoff: I19L\n",
      "Validated Flight Plan: DEF123\n",
      "('KSFO.<{\"id\": \"Gate_C_044\"}, {\"id\": \"Ramp_03_003\"}, {\"id\": \"Ramp_03_004\"}, {\"id\": \"Txy_A_007\"}, {\"id\": \"Txy_A_G\"}, {\"id\": \"Txy_A_008\"}, {\"id\": \"Txy_A_F1\"}, {\"id\": \"Txy_B_F1\"}, {\"id\": \"Txy_F1_001\"}, {\"id\": \"Rwy_01_004\"}, {\"id\": \"Txy_F1_002\"}, {\"id\": \"Txy_F1_003\"}, {\"id\": \"Rwy_02_005\"}, {\"id\": \"Txy_F1_004\"}, {\"id\": \"Txy_F_L\"}, {\"id\": \"Txy_L_006\"}, {\"id\": \"Rwy_03_004\"}, {\"id\": \"Txy_L_007\"}, {\"id\": \"Txy_L_008\"}, {\"id\": \"Rwy_04_006\"}, {\"id\": \"Txy_L_009\"}, {\"id\": \"Txy_C_L\"}, {\"id\": \"Txy_L_V\"}, {\"id\": \"Txy_L_E\"}, {\"id\": \"Txy_L_010\"}, {\"id\": \"Txy_L_011\"}, {\"id\": \"Rwy_02_011\"}>.RW19L.I19L.WESLA4.PXN278081..MITEL..BLD..ELP.J86.LEV.Q102.SSCOT5.I08R.RW08R.<{\"id\": \"Rwy_02_013\"}, {\"id\": \"Txy_M11_001\"}, {\"id\": \"Txy_M_001\"}, {\"id\": \"Txy_N_001\"}, {\"id\": \"Ramp_01_009\"}, {\"id\": \"Ramp_01_101\"}, {\"id\": \"Ramp_01_010\"}, {\"id\": \"Ramp_01_011\"}, {\"id\": \"Ramp_01_012\"}, {\"id\": \"Txy_N_003\"}, {\"id\": \"Ramp_01_013\"}, {\"id\": \"Ramp_01_014\"}, {\"id\": \"Gate_D_016\"}>.KMIA', '373651.74280000000181', '-1222257.50399999998194')\n",
      "No viable destination airport found for DEF456. Returning random from FlightPlanSelector options.\n",
      "OptimalTakeoff is: I19L\n",
      "Length of terminalProcedure is  4\n",
      "Selected Takeoff: I19L\n",
      "Validated Flight Plan: DEF456\n",
      "('KSFO.<{\"id\": \"Gate_F_77A\"}, {\"id\": \"Ramp_06_002\"}, {\"id\": \"Ramp_06_003\"}, {\"id\": \"Ramp_06_004\"}, {\"id\": \"Txy_A_012\"}, {\"id\": \"Txy_A_011\"}, {\"id\": \"Txy_A_D\"}, {\"id\": \"Txy_A_010\"}, {\"id\": \"Txy_A_E\"}, {\"id\": \"Txy_E_B\"}, {\"id\": \"Txy_E_001\"}, {\"id\": \"Rwy_03_005\"}, {\"id\": \"Txy_E_002\"}, {\"id\": \"Txy_E_003\"}, {\"id\": \"Rwy_04_007\"}, {\"id\": \"Txy_E_004\"}, {\"id\": \"Txy_C_E\"}, {\"id\": \"Txy_E_V\"}, {\"id\": \"Txy_V_004\"}, {\"id\": \"Rwy_01_007\"}, {\"id\": \"Txy_V_003\"}, {\"id\": \"Txy_V_002\"}, {\"id\": \"Rwy_02_008\"}, {\"id\": \"Txy_V_001\"}, {\"id\": \"Txy_L_V\"}, {\"id\": \"Txy_L_E\"}, {\"id\": \"Txy_L_010\"}, {\"id\": \"Txy_L_011\"}, {\"id\": \"Rwy_02_011\"}>.RW19L.I19L.WESLA4.WAGES..BOILE..BLH.J169.TFD.J50.ELP.J183.CLL.HOAGI1.ZEEKK2.I08L.RW08L.<{\"id\": \"Rwy_01_008\"}, {\"id\": \"Txy_FK_001\"}, {\"id\": \"Txy_FA_FK\"}, {\"id\": \"txk_FH_FK\"}, {\"id\": \"Txy_NP_EE\"}, {\"id\": \"Txy_CC_NP\"}, {\"id\": \"Txy_NP_001\"}, {\"id\": \"Rwy_02_008\"}, {\"id\": \"Txy_NP_002\"}, {\"id\": \"Txy_NA_NP\"}, {\"id\": \"Txy_NB_NP\"}, {\"id\": \"Txy_NB_009\"}, {\"id\": \"Txy_NB_008\"}, {\"id\": \"Txy_NB_NN\"}, {\"id\": \"Txy_NN_002\"}, {\"id\": \"Txy_RB_SF\"}, {\"id\": \"Txy_RB_001\"}, {\"id\": \"Ramp_05_014\"}, {\"id\": \"Gate_E_019\"}>.KIAH', '373713.699199999998086', '-1222311.90040000000863')\n"
     ]
    }
   ],
   "source": [
    "import time\n",
    "import numpy as np\n",
    "import pandas as pd\n",
    "from jpype import JPackage\n",
    "\n",
    "TRACK_TIME = time.time()\n",
    "clsGeometry = JPackage('com').osi.util.Geometry\n",
    "\n",
    "for i,callsign in enumerate(cs):\n",
    "    flightInAir = check_if_flight_has_departed(iff_data,callsign,natsSim,iffBaseAirport)\n",
    "    flightLandingInData = check_if_flight_landing_in_dataset(iff_data,callsign,natsSim,iffBaseAirport)\n",
    "    \n",
    "    arrivalAirport = ''\n",
    "    departureAirport=''\n",
    "    arrivalRwy = ''\n",
    "    arrivalGate = ''\n",
    "    departureRwy =''\n",
    "    departureGate = ''\n",
    "    result_generated = ''\n",
    "\n",
    "    if flightInAir and flightLandingInData:\n",
    "        #Get departure airport. If none is known in the IFF+ASDEX file (i.e., it is not the airport whose name is in the iff_fname), then set departure airport as closest airport to the first lat/lon in the dataset. In the future, would like to use IFF_USA to determine departureAirport in this case\n",
    "        arrivalAirport = 'KSFO'\n",
    "        departureAirport = get_departure_airport_from_iff(iff_data,callsign,natsSim,arrivalAirport=iffBaseAirport,flmap=f.flmap)\n",
    "        arrivalGate,arrivalRwy= get_arrival_gate_and_rwy_from_iff(iff_data,callsign,natsSim,arrivalAirport)\n",
    "        departureGate,departureRwy = random_airport_gate_and_rwy(natsSim,arrivalAirport)\n",
    "        result_generated = f.generate(4, departureAirport, arrivalAirport, \"\", arrivalGate, \"\", arrivalRwy)\n",
    "        \n",
    "        timestamp = iff_data[3].loc[iff_data[3].callsign==callsign,'time'].iloc[0]\n",
    "        lat,lon = list(natsSim.airportInterface.getLocation(departureAirport))\n",
    "        latstr = clsGeometry.convertLatLonDeg_to_degMinSecString(str(lat))\n",
    "        lonstr = clsGeometry.convertLatLonDeg_to_degMinSecString(str(lon))\n",
    "        elev = np.max([iff_data[3].loc[iff_data[3].callsign==callsign,'altitude'].iloc[0]/100.,100.])\n",
    "        spd = iff_data[3].loc[iff_data[3].callsign==callsign,'tas'].iloc[0]\n",
    "        hdg = iff_data[3].loc[iff_data[3].callsign==callsign,'heading'].iloc[0]\n",
    "        aircraftType = 'B744'\n",
    "        \n",
    "    if  not flightInAir and not flightLandingInData:\n",
    "        departureAirport = 'KSFO'\n",
    "        arrivalAirport = get_arrival_airport_from_iff(iff_data,callsign,natsSim,departureAirport,f.flmap)\n",
    "        departureGate,departureRwy = get_departure_gate_and_rwy_from_iff(iff_data,callsign,natsSim,departureAirport) #doesn't exist\n",
    "        arrivalGate,arrivalRwy = random_airport_gate_and_rwy(natsSim,arrivalAirport)\n",
    "        result_generated = f.generate(1, departureAirport, arrivalAirport, departureGate, arrivalGate, departureRwy, arrivalRwy)\n",
    "        \n",
    "        timestamp = iff_data[3].loc[iff_data[3].callsign==callsign,'time'].iloc[0]\n",
    "        airportInstance = natsSim.airportInterface.select_airport(departureAirport)\n",
    "        elev = airportInstance.getElevation()/100.0  \n",
    "        lat,lon = get_gate_lat_lon_from_nats(natsSim,departureGate,departureAirport)\n",
    "        latstr = clsGeometry.convertLatLonDeg_to_degMinSecString(str(lat))\n",
    "        lonstr = clsGeometry.convertLatLonDeg_to_degMinSecString(str(lon))\n",
    "        aircraftType = 'B744'\n",
    "        spd = 0\n",
    "        hdg = 28\n",
    "    \n",
    "    if result_generated:\n",
    "        #TRACK_TIME = (timestamp-pd.Timestamp(\"1970-01-01\")) // pd.Timedelta('1s')\n",
    "        TRACK_TIME +=10\n",
    "        track_string = '%s %s %.4f %.4f %d %.2f %d %s %s' %(callsign,aircraftType,float(latstr),float(lonstr),spd,elev,hdg,'ZOA','ZOA46')\n",
    "        fp_route = result_generated[0]\n",
    "        #fp_validated = natsSim.aircraftInterface.validate_flight_plan_record(track_string,fp_route,330)\n",
    "        fp_validated = True\n",
    "        if fp_validated:\n",
    "            print('Validated Flight Plan:',callsign)\n",
    "            print(result_generated)\n",
    "            with open(trx_file,'a') as trxFile:\n",
    "                tstr = '%s %s' % ('TRACK',track_string)\n",
    "                trxFile.write('%s %d' % ('TRACKTIME', TRACK_TIME) + '\\n')\n",
    "                trxFile.write( tstr + '\\n')\n",
    "                trxFile.write('    FP_ROUTE ' + fp_route + '\\n\\n')\n",
    "\n",
    "            with open(mfl_file,'a') as mflFile:\n",
    "                mflFile.write(callsign + ' ' + '330' + '\\n')\n",
    "        elif not fp_validated:\n",
    "            print('This flight plan was not validated:\\n', result_generated[0])\n",
    "                    "
   ]
  },
  {
   "cell_type": "code",
   "execution_count": 9,
   "metadata": {},
   "outputs": [
    {
     "data": {
      "text/plain": [
       "'KDFW'"
      ]
     },
     "execution_count": 9,
     "metadata": {},
     "output_type": "execute_result"
    }
   ],
   "source": []
  },
  {
   "cell_type": "code",
   "execution_count": 6,
   "metadata": {
    "scrolled": true
   },
   "outputs": [],
   "source": []
  },
  {
   "cell_type": "code",
   "execution_count": 8,
   "metadata": {},
   "outputs": [
    {
     "data": {
      "text/plain": [
       "-97.03769444444444"
      ]
     },
     "execution_count": 8,
     "metadata": {},
     "output_type": "execute_result"
    }
   ],
   "source": []
  },
  {
   "cell_type": "code",
   "execution_count": null,
   "metadata": {},
   "outputs": [],
   "source": []
  },
  {
   "cell_type": "code",
   "execution_count": null,
   "metadata": {},
   "outputs": [],
   "source": []
  },
  {
   "cell_type": "code",
   "execution_count": null,
   "metadata": {},
   "outputs": [],
   "source": []
  },
  {
   "cell_type": "code",
   "execution_count": null,
   "metadata": {
    "scrolled": true
   },
   "outputs": [],
   "source": []
  },
  {
   "cell_type": "code",
   "execution_count": null,
   "metadata": {},
   "outputs": [],
   "source": []
  },
  {
   "cell_type": "code",
   "execution_count": null,
   "metadata": {},
   "outputs": [],
   "source": [
    "\n",
    "  "
   ]
  },
  {
   "cell_type": "code",
   "execution_count": null,
   "metadata": {},
   "outputs": [],
   "source": []
  },
  {
   "cell_type": "code",
   "execution_count": null,
   "metadata": {},
   "outputs": [],
   "source": []
  }
 ],
 "metadata": {
  "kernelspec": {
   "display_name": "Python 3",
   "language": "python",
   "name": "python3"
  },
  "language_info": {
   "codemirror_mode": {
    "name": "ipython",
    "version": 3
   },
   "file_extension": ".py",
   "mimetype": "text/x-python",
   "name": "python",
   "nbconvert_exporter": "python",
   "pygments_lexer": "ipython3",
   "version": "3.8.3"
  }
 },
 "nbformat": 4,
 "nbformat_minor": 4
}
