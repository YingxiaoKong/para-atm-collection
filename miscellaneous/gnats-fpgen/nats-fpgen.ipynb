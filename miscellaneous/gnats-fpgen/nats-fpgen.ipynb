{
 "cells": [
  {
   "cell_type": "markdown",
   "metadata": {},
   "source": [
    "# Demonstration of Creating and Running a NATS input file from IFF data\n",
    "## Step 1a: Read in IFF Data using PARA-ATM"
   ]
  },
  {
   "cell_type": "code",
   "execution_count": 3,
   "metadata": {},
   "outputs": [],
   "source": [
    "from paraatm.io import iff, gnats, utils\n",
    "from paraatm.io.iff import read_iff_file\n",
    "\n",
    "iff_fname = 'IFF_SFO_ASDEX_ABC456.csv'\n",
    "\n",
    "iff_data =  read_iff_file(iff_fname,record_types=[2,3,4,8])\n",
    "callsigns = iff_data[3].callsign.unique()\n",
    "cs = callsigns.tolist()"
   ]
  },
  {
   "cell_type": "markdown",
   "metadata": {},
   "source": [
    "## Step 1b: Clean callsign list of UNKN, nan, 1200, and ground operations vehicles"
   ]
  },
  {
   "cell_type": "code",
   "execution_count": 4,
   "metadata": {},
   "outputs": [
    {
     "ename": "ValueError",
     "evalue": "list.remove(x): x not in list",
     "output_type": "error",
     "traceback": [
      "\u001b[0;31m---------------------------------------------------------------------------\u001b[0m",
      "\u001b[0;31mValueError\u001b[0m                                Traceback (most recent call last)",
      "\u001b[0;32m<ipython-input-4-9f92776294cf>\u001b[0m in \u001b[0;36m<module>\u001b[0;34m\u001b[0m\n\u001b[1;32m      2\u001b[0m \u001b[0;31m# IFF_SFO_ASDEX_ABC456.csv and will produce an error\u001b[0m\u001b[0;34m\u001b[0m\u001b[0;34m\u001b[0m\u001b[0;34m\u001b[0m\u001b[0m\n\u001b[1;32m      3\u001b[0m \u001b[0;34m\u001b[0m\u001b[0m\n\u001b[0;32m----> 4\u001b[0;31m \u001b[0mcs\u001b[0m\u001b[0;34m.\u001b[0m\u001b[0mremove\u001b[0m\u001b[0;34m(\u001b[0m\u001b[0;34m'UNKN'\u001b[0m\u001b[0;34m)\u001b[0m \u001b[0;31m# remove 'UNKN'\u001b[0m\u001b[0;34m\u001b[0m\u001b[0;34m\u001b[0m\u001b[0m\n\u001b[0m\u001b[1;32m      5\u001b[0m \u001b[0mcs\u001b[0m \u001b[0;34m=\u001b[0m \u001b[0;34m[\u001b[0m\u001b[0mx\u001b[0m \u001b[0;32mfor\u001b[0m \u001b[0mx\u001b[0m \u001b[0;32min\u001b[0m \u001b[0mcs\u001b[0m \u001b[0;32mif\u001b[0m \u001b[0;34m(\u001b[0m\u001b[0mstr\u001b[0m\u001b[0;34m(\u001b[0m\u001b[0mx\u001b[0m\u001b[0;34m)\u001b[0m \u001b[0;34m!=\u001b[0m \u001b[0;34m'nan'\u001b[0m\u001b[0;34m)\u001b[0m\u001b[0;34m]\u001b[0m \u001b[0;31m#remove nan\u001b[0m\u001b[0;34m\u001b[0m\u001b[0;34m\u001b[0m\u001b[0m\n\u001b[1;32m      6\u001b[0m \u001b[0mcs\u001b[0m \u001b[0;34m=\u001b[0m \u001b[0;34m[\u001b[0m\u001b[0mx\u001b[0m \u001b[0;32mfor\u001b[0m \u001b[0mx\u001b[0m \u001b[0;32min\u001b[0m \u001b[0mcs\u001b[0m \u001b[0;32mif\u001b[0m \u001b[0;32mnot\u001b[0m \u001b[0mx\u001b[0m\u001b[0;34m.\u001b[0m\u001b[0mstartswith\u001b[0m\u001b[0;34m(\u001b[0m\u001b[0;34m'OPS'\u001b[0m\u001b[0;34m)\u001b[0m\u001b[0;34m]\u001b[0m \u001b[0;31m#remove ground operation vehicles\u001b[0m\u001b[0;34m\u001b[0m\u001b[0;34m\u001b[0m\u001b[0m\n",
      "\u001b[0;31mValueError\u001b[0m: list.remove(x): x not in list"
     ]
    }
   ],
   "source": [
    "# Note: This cell not necessary for sample file \n",
    "# IFF_SFO_ASDEX_ABC456.csv and will produce an error\n",
    "\n",
    "cs.remove('UNKN') # remove 'UNKN'\n",
    "cs = [x for x in cs if (str(x) != 'nan')] #remove nan\n",
    "cs = [x for x in cs if not x.startswith('OPS')] #remove ground operation vehicles\n",
    "cs.remove('1200')"
   ]
  },
  {
   "cell_type": "markdown",
   "metadata": {},
   "source": [
    "## Step 2: Start NATS Simulation in the background"
   ]
  },
  {
   "cell_type": "code",
   "execution_count": 5,
   "metadata": {},
   "outputs": [],
   "source": [
    "from gnats_gate_to_gate import GateToGate\n",
    "natsSim = GateToGate()"
   ]
  },
  {
   "cell_type": "markdown",
   "metadata": {},
   "source": [
    "## Step 3: Create FlightPlanSelector object"
   ]
  },
  {
   "cell_type": "code",
   "execution_count": 6,
   "metadata": {},
   "outputs": [],
   "source": [
    "from FlightPlanSelector import FlightPlanSelector\n",
    "dirPath = natsSim.DIR_share\n",
    "fpath = dirPath + '/tg/trx/TRX_07132005_noduplicates_crypted'\n",
    "f=FlightPlanSelector(natsSim,fname=fpath)"
   ]
  },
  {
   "cell_type": "markdown",
   "metadata": {},
   "source": [
    "## Step 4: Remove previously generated TRX and MFL files"
   ]
  },
  {
   "cell_type": "code",
   "execution_count": 7,
   "metadata": {},
   "outputs": [
    {
     "name": "stdout",
     "output_type": "stream",
     "text": [
      "Previously generated trx file removed...\n",
      "Previously generated mfl file removed...\n"
     ]
    }
   ],
   "source": [
    "#Filenames to write modified trx and mfl files to. Need full path because GNATS wrapper changes the directory to the GNATS directory.\n",
    "import os\n",
    "\n",
    "home_env = os.environ.get('HOME')\n",
    "trx_dir = '/home/edecarlo/para-atm-collection/miscellaneous/gnats-fpgen'\n",
    "results_dir = '/home/edecarlo/para-atm-collection/miscellaneous/gnats-fpgen'\n",
    "\n",
    "trx_fname = '/iff_to_gnats_geo'\n",
    "mfl_file= trx_dir+trx_fname+'_mfl.trx'\n",
    "trx_file = trx_dir+trx_fname+'.trx'\n",
    "results_file = results_dir+trx_fname+'.csv'\n",
    "\n",
    "if os.path.exists(trx_file):\n",
    "    os.remove(trx_file)\n",
    "    print('Previously generated trx file removed...')\n",
    "\n",
    "if os.path.exists(mfl_file):\n",
    "    os.remove(mfl_file)\n",
    "    print('Previously generated mfl file removed...')"
   ]
  },
  {
   "cell_type": "markdown",
   "metadata": {},
   "source": [
    "## Step 4 Generate NATS TRX and MFL files"
   ]
  },
  {
   "cell_type": "code",
   "execution_count": 8,
   "metadata": {
    "scrolled": true
   },
   "outputs": [
    {
     "name": "stdout",
     "output_type": "stream",
     "text": [
      "No viable destination airport found for ABC123. Returning random from FlightPlanSelector options.\n",
      "Usable_Rwys for Departure: ['RW19L', 'RW28L', 'RW28R']\n",
      "Usable Rwy Entries: ['Rwy_02_002', 'Rwy_03_011', 'Rwy_04_018']\n",
      "Runway Segments: ['Rwy_01_001', 'Rwy_01_001', 'Rwy_01_001', 'Rwy_01_001', 'Rwy_01_001', 'Rwy_01_002', 'Rwy_01_002', 'Rwy_01_002', 'Rwy_01_002', 'Rwy_01_003', 'Rwy_01_003', 'Rwy_01_003', 'Rwy_01_003', 'Rwy_01_003', 'Rwy_01_003', 'Rwy_01_004', 'Rwy_01_005', 'Rwy_01_03', 'Rwy_01_03', 'Rwy_01_03', 'Rwy_01_04', 'Rwy_01_04', 'Rwy_01_006', 'Rwy_01_006', 'Rwy_01_006', 'Rwy_01_007', 'Rwy_01_007', 'Rwy_01_008', 'Rwy_01_008', 'Rwy_01_008', 'Rwy_02_011', 'Rwy_02_011', 'Rwy_02_011', 'Rwy_02_011', 'Rwy_02_011', 'Rwy_02_011', 'Rwy_02_011', 'Rwy_02_011', 'Rwy_02_011', 'Rwy_02_011', 'Rwy_02_011', 'Rwy_02_011', 'Rwy_02_011', 'Rwy_02_011', 'Rwy_02_011', 'Rwy_02_011', 'Rwy_02_011', 'Rwy_02_011', 'Rwy_02_011', 'Rwy_02_011', 'Rwy_02_011', 'Rwy_02_011', 'Rwy_02_011', 'Rwy_02_011', 'Rwy_02_011', 'Rwy_02_011', 'Rwy_02_011', 'Rwy_02_011', 'Rwy_02_011', 'Rwy_02_011', 'Rwy_02_011', 'Rwy_02_011', 'Rwy_02_011', 'Rwy_02_011', 'Rwy_02_011', 'Rwy_02_011', 'Rwy_02_011', 'Rwy_02_011', 'Rwy_02_011', 'Rwy_02_011', 'Rwy_02_011', 'Rwy_02_011', 'Rwy_02_011', 'Rwy_02_011', 'Rwy_02_011', 'Rwy_02_011', 'Rwy_02_011', 'Rwy_02_011', 'Rwy_02_011', 'Rwy_02_011', 'Rwy_02_011', 'Rwy_02_011', 'Rwy_02_011', 'Rwy_02_011', 'Rwy_02_011', 'Rwy_02_011', 'Rwy_02_011', 'Rwy_02_011']\n",
      "Rwy Name from Random: RW28L\n",
      "Validated Flight Plan: ABC123\n",
      "('KSFO.<{\"id\": \"Gate_D_053\"}, {\"id\": \"Ramp_04_006\"}, {\"id\": \"Txy_A_F1\"}, {\"id\": \"Txy_B_F1\"}, {\"id\": \"Txy_F1_001\"}, {\"id\": \"Rwy_01_004\"}, {\"id\": \"Txy_F1_002\"}, {\"id\": \"Txy_F1_003\"}, {\"id\": \"Rwy_02_005\"}, {\"id\": \"Txy_F1_004\"}, {\"id\": \"Txy_F_L\"}, {\"id\": \"Txy_F_005\"}, {\"id\": \"Txy_F_N\"}, {\"id\": \"Txy_F_004\"}, {\"id\": \"Txy_F_003\"}, {\"id\": \"Txy_F_002\"}, {\"id\": \"Txy_F_001\"}, {\"id\": \"Rwy_03_001\"}>.RW28L.I28L.WESLA4.MVA.J84.EKR.ZPLYN3.I16R.RW16R.<{\"id\": \"Rwy_06_001\"}, {\"id\": \"Txy_WA_D\"}, {\"id\": \"Txy_F_AA\"}, {\"id\": \"Txy_G_AA\"}, {\"id\": \"Txy_AA_001\"}, {\"id\": \"Txy_H_AA\"}, {\"id\": \"Txy_H_AS\"}, {\"id\": \"Txy_H_AN\"}, {\"id\": \"Txy_H_BS\"}, {\"id\": \"Txy_H_BN\"}, {\"id\": \"Txy_H_CS\"}, {\"id\": \"Ramp_02_019\"}, {\"id\": \"Ramp_02_018\"}, {\"id\": \"Ramp_02_017\"}, {\"id\": \"Ramp_02_016\"}, {\"id\": \"Ramp_02_015\"}, {\"id\": \"Gate_C_015\"}>.KDEN', '373700.28919999998777257', '-1222249.861199999991186')\n",
      "No viable origin airport found for ABC456. Returning random from FlightPlanSelector options.\n",
      "Arrival_Runway_No: 04\n",
      "Arrival_Runway_Node:s Rwy_04_001\n",
      "Rwy Entry: RW28R Rwy End: RW10L\n",
      "Validated Flight Plan: ABC456\n",
      "('KSTL.<>.MCI266048..OAL..ZPLYN3.I16R.RW10L.<{\"id\": \"Rwy_04_001\"}, {\"id\": \"Txy_C_002\"}, {\"id\": \"Txy_C_001\"}, {\"id\": \"Rwy_03_001\"}, {\"id\": \"Txy_F_001\"}, {\"id\": \"Txy_F_002\"}, {\"id\": \"Txy_F_003\"}, {\"id\": \"Txy_F_004\"}, {\"id\": \"Txy_F_N\"}, {\"id\": \"Txy_F_005\"}, {\"id\": \"Txy_F_L\"}, {\"id\": \"Txy_F1_004\"}, {\"id\": \"Rwy_02_005\"}, {\"id\": \"Txy_F1_003\"}, {\"id\": \"Txy_F1_002\"}, {\"id\": \"Rwy_01_004\"}, {\"id\": \"Txy_F1_001\"}, {\"id\": \"Txy_B_F1\"}, {\"id\": \"Txy_A_F1\"}, {\"id\": \"Txy_A_008\"}, {\"id\": \"Txy_A_G\"}, {\"id\": \"Txy_A_007\"}, {\"id\": \"Ramp_03_004\"}, {\"id\": \"Ramp_03_003\"}, {\"id\": \"Ramp_03_002\"}, {\"id\": \"Gate_C_042\"}>.KSFO', '', '')\n",
      "No viable destination airport found for DEF123. Returning random from FlightPlanSelector options.\n",
      "Usable_Rwys for Departure: ['RW19L', 'RW28L', 'RW28R']\n",
      "Usable Rwy Entries: ['Rwy_02_002', 'Rwy_03_011', 'Rwy_04_018']\n",
      "Runway Segments: ['Rwy_02_003', 'Rwy_02_003', 'Rwy_02_003', 'Rwy_02_003', 'Rwy_02_003', 'Rwy_02_003', 'Rwy_02_003', 'Rwy_02_004', 'Rwy_02_004', 'Rwy_02_004', 'Rwy_02_004', 'Rwy_02_005', 'Rwy_02_005', 'Rwy_02_006', 'Rwy_02_03', 'Rwy_02_03', 'Rwy_02_03', 'Rwy_02_04', 'Rwy_02_04', 'Rwy_02_007', 'Rwy_02_007', 'Rwy_02_007', 'Rwy_02_008', 'Rwy_02_008', 'Rwy_02_008', 'Rwy_02_009', 'Rwy_02_009', 'Rwy_02_010', 'Rwy_02_011']\n",
      "Rwy Name from Random: RW19L\n",
      "Validated Flight Plan: DEF123\n",
      "('KSFO.<{\"id\": \"Gate_E_066\"}, {\"id\": \"Ramp_05_006\"}, {\"id\": \"Txy_A_011\"}, {\"id\": \"Txy_A_D\"}, {\"id\": \"Txy_A_010\"}, {\"id\": \"Txy_A_E\"}, {\"id\": \"Txy_E_B\"}, {\"id\": \"Txy_E_001\"}, {\"id\": \"Rwy_03_005\"}, {\"id\": \"Txy_E_002\"}, {\"id\": \"Txy_E_003\"}, {\"id\": \"Rwy_04_007\"}, {\"id\": \"Txy_E_004\"}, {\"id\": \"Txy_C_E\"}, {\"id\": \"Txy_E_V\"}, {\"id\": \"Txy_V_004\"}, {\"id\": \"Rwy_01_007\"}, {\"id\": \"Txy_V_003\"}, {\"id\": \"Txy_V_002\"}, {\"id\": \"Rwy_02_008\"}, {\"id\": \"Txy_V_001\"}, {\"id\": \"Txy_L_V\"}, {\"id\": \"Txy_L_E\"}, {\"id\": \"Txy_L_010\"}, {\"id\": \"Txy_L_011\"}, {\"id\": \"Rwy_02_011\"}>.RW19L.I19L.WESLA4.WAGES..AVE.ZUUMA2.I25R.RW25R.<{\"id\": \"Rwy_02_013\"}, {\"id\": \"Txy_U_003\"}, {\"id\": \"Txy_B_U\"}, {\"id\": \"Txy_B_B13\"}, {\"id\": \"Txy_B_T\"}, {\"id\": \"Txy_B_S\"}, {\"id\": \"Txy_C_S\"}, {\"id\": \"Ramp_I_007\"}, {\"id\": \"Ramp_I_006\"}, {\"id\": \"Ramp_I_005\"}, {\"id\": \"Ramp_I_004\"}, {\"id\": \"Ramp_I_003\"}, {\"id\": \"Ramp_I_002\"}, {\"id\": \"Ramp_I_001\"}, {\"id\": \"Txy_S_002\"}, {\"id\": \"Txy_D_S\"}, {\"id\": \"Txy_D_Q\"}, {\"id\": \"Txy_D_008\"}, {\"id\": \"Txy_D_D10\"}, {\"id\": \"Txy_D_007\"}, {\"id\": \"Txy_D_006\"}, {\"id\": \"Txy_D_D9\"}, {\"id\": \"Txy_D_005\"}, {\"id\": \"Txy_D_004\"}, {\"id\": \"Txy_D_D8\"}, {\"id\": \"Ramp_01_005\"}, {\"id\": \"Ramp_01_004\"}, {\"id\": \"Ramp_01_003\"}, {\"id\": \"Gate_02_23A\"}>.KLAX', '373711.100000000012074', '-1222303.998400000007223')\n",
      "No viable destination airport found for DEF456. Returning random from FlightPlanSelector options.\n",
      "Usable_Rwys for Departure: ['RW19L', 'RW28L', 'RW28R']\n",
      "Usable Rwy Entries: ['Rwy_02_002', 'Rwy_03_011', 'Rwy_04_018']\n",
      "Runway Segments: ['Rwy_02_002', 'Rwy_02_002', 'Rwy_02_002', 'Rwy_02_003', 'Rwy_02_003', 'Rwy_02_003', 'Rwy_02_003', 'Rwy_02_003', 'Rwy_02_003', 'Rwy_02_004', 'Rwy_02_004', 'Rwy_02_004', 'Rwy_02_004', 'Rwy_02_004', 'Rwy_02_005', 'Rwy_02_005', 'Rwy_02_006', 'Rwy_02_03', 'Rwy_02_03', 'Rwy_02_03', 'Rwy_02_04', 'Rwy_02_04', 'Rwy_02_007', 'Rwy_02_007', 'Rwy_02_007', 'Rwy_02_008', 'Rwy_02_008', 'Rwy_02_008', 'Rwy_02_009', 'Rwy_02_009', 'Rwy_02_010', 'Rwy_02_011', 'Rwy_02_011', 'Rwy_02_011', 'Rwy_02_011', 'Rwy_02_011', 'Rwy_02_011', 'Rwy_02_011', 'Rwy_02_011', 'Rwy_02_011', 'Rwy_02_011', 'Rwy_02_011', 'Rwy_02_011', 'Rwy_02_011', 'Rwy_02_011', 'Rwy_02_011', 'Rwy_02_011', 'Rwy_02_011', 'Rwy_02_011', 'Rwy_02_011', 'Rwy_02_011', 'Rwy_02_011', 'Rwy_02_011', 'Rwy_02_011', 'Rwy_02_011', 'Rwy_02_011', 'Rwy_02_011', 'Rwy_02_011']\n",
      "Rwy Name from IFF: RW19L\n",
      "Validated Flight Plan: DEF456\n",
      "('KSFO.<{\"id\": \"Gate_A_009\"}, {\"id\": \"Ramp_01_006\"}, {\"id\": \"Ramp_01_007\"}, {\"id\": \"Txy_M_H\"}, {\"id\": \"Txy_H_001\"}, {\"id\": \"Txy_H_002\"}, {\"id\": \"Txy_H_003\"}, {\"id\": \"Txy_H_004\"}, {\"id\": \"Txy_H_005\"}, {\"id\": \"Txy_H_006\"}, {\"id\": \"Txy_A_004\"}, {\"id\": \"Txy_A_H\"}, {\"id\": \"Txy_B_H\"}, {\"id\": \"Txy_H_007\"}, {\"id\": \"Rwy_01_002\"}, {\"id\": \"Txy_H_008\"}, {\"id\": \"Txy_H_009\"}, {\"id\": \"Rwy_02_004\"}, {\"id\": \"Txy_G_005\"}, {\"id\": \"Txy_L_004\"}, {\"id\": \"Txy_L_005\"}, {\"id\": \"Txy_F_L\"}, {\"id\": \"Txy_L_006\"}, {\"id\": \"Rwy_03_004\"}, {\"id\": \"Txy_L_007\"}, {\"id\": \"Txy_L_008\"}, {\"id\": \"Rwy_04_006\"}, {\"id\": \"Txy_L_009\"}, {\"id\": \"Txy_C_L\"}, {\"id\": \"Txy_L_V\"}, {\"id\": \"Txy_L_E\"}, {\"id\": \"Txy_L_010\"}, {\"id\": \"Txy_L_011\"}, {\"id\": \"Rwy_02_011\"}>.RW19L.I19L.WESLA4.RBL162123..WAATS5.I16L.RW16L.<{\"id\": \"Rwy_02_010\"}, {\"id\": \"Txy_H1_001\"}, {\"id\": \"Txy_H1_h\"}, {\"id\": \"Txy_H2_H\"}, {\"id\": \"Txy_H_011\"}, {\"id\": \"Txy_H_010\"}, {\"id\": \"Txy_H_009\"}, {\"id\": \"Txy_H_008\"}, {\"id\": \"Txy_H_007\"}, {\"id\": \"Txy_H3\"}, {\"id\": \"Txy_H_006\"}, {\"id\": \"Txy_H_005\"}, {\"id\": \"Txy_H_004\"}, {\"id\": \"Txy_H_H4\"}, {\"id\": \"Ramp_03_006\"}, {\"id\": \"Ramp_03_007\"}, {\"id\": \"Txy_H_H5\"}, {\"id\": \"Ramp_01_012\"}, {\"id\": \"Ramp_01_013\"}, {\"id\": \"Txy_H_H6\"}, {\"id\": \"Ramp_01_014\"}, {\"id\": \"Txy_H_H7\"}, {\"id\": \"Ramp_01_015\"}, {\"id\": \"Gate_01_103\"}>.KSLC', '373640.45680000000061', '-1222323.013599999985672')\n"
     ]
    }
   ],
   "source": [
    "import time\n",
    "import numpy as np\n",
    "import pandas as pd\n",
    "from jpype import JPackage\n",
    "\n",
    "from iff_functions import (get_departure_airport_from_iff,\n",
    "                           get_arrival_airport_from_iff,\n",
    "                           get_departure_gate_and_rwy_from_iff,\n",
    "                           get_arrival_gate_and_rwy_from_iff,\n",
    "                           random_airport_gate_and_rwy,\n",
    "                           check_if_flight_has_departed,\n",
    "                           check_if_flight_landing_in_dataset)\n",
    "\n",
    "from nats_functions import get_gate_lat_lon_from_nats\n",
    "\n",
    "iffBaseAirport= \"KSFO\"\n",
    "clsGeometry = JPackage('com').osi.util.Geometry\n",
    "TRACK_TIME = time.time()\n",
    "\n",
    "for i,callsign in enumerate(cs[:10]):\n",
    "    flightInAir = check_if_flight_has_departed(iff_data,callsign,natsSim,iffBaseAirport)\n",
    "    flightLandingInData = check_if_flight_landing_in_dataset(iff_data,callsign,natsSim,iffBaseAirport)\n",
    "    \n",
    "    arrivalAirport = ''\n",
    "    departureAirport=''\n",
    "    arrivalRwy = ''\n",
    "    arrivalGate = ''\n",
    "    departureRwy =''\n",
    "    departureGate = ''\n",
    "    result_generated = ''\n",
    "\n",
    "    if flightInAir and flightLandingInData:\n",
    "        #Get departure airport. If none is known in the IFF+ASDEX file (i.e., it is not the airport whose name is in the iff_fname), then set departure airport as closest airport to the first lat/lon in the dataset. In the future, would like to use IFF_USA to determine departureAirport in this case\n",
    "        arrivalAirport = 'KSFO'\n",
    "        departureAirport = get_departure_airport_from_iff(iff_data,callsign,natsSim,arrivalAirport=iffBaseAirport,flmap=f.flmap)\n",
    "        arrivalGate,arrivalRwy= get_arrival_gate_and_rwy_from_iff(iff_data,callsign,natsSim,arrivalAirport)\n",
    "        departureGate,departureRwy = random_airport_gate_and_rwy(natsSim,arrivalAirport)\n",
    "        result_generated = f.generate(4, departureAirport, arrivalAirport, \"\", arrivalGate, \"\", arrivalRwy)\n",
    "        \n",
    "        timestamp = iff_data[3].loc[iff_data[3].callsign==callsign,'time'].iloc[0]\n",
    "        lat,lon = list(natsSim.airportInterface.getLocation(departureAirport))\n",
    "        latstr = clsGeometry.convertLatLonDeg_to_degMinSecString(str(lat))\n",
    "        lonstr = clsGeometry.convertLatLonDeg_to_degMinSecString(str(lon))\n",
    "        elev = np.max([iff_data[3].loc[iff_data[3].callsign==callsign,'altitude'].iloc[0]/100.,100.])\n",
    "        spd = iff_data[3].loc[iff_data[3].callsign==callsign,'tas'].iloc[0]\n",
    "        hdg = iff_data[3].loc[iff_data[3].callsign==callsign,'heading'].iloc[0]\n",
    "        aircraftType = 'B744'\n",
    "        \n",
    "    if  not flightInAir and not flightLandingInData:\n",
    "        departureAirport = 'KSFO'\n",
    "        arrivalAirport = get_arrival_airport_from_iff(iff_data,callsign,natsSim,departureAirport,f.flmap)\n",
    "        departureGate,departureRwy = get_departure_gate_and_rwy_from_iff(iff_data,callsign,natsSim,departureAirport) #doesn't exist\n",
    "        arrivalGate,arrivalRwy = random_airport_gate_and_rwy(natsSim,arrivalAirport)\n",
    "        result_generated = f.generate(1, departureAirport, arrivalAirport, departureGate, arrivalGate, departureRwy, arrivalRwy)\n",
    "        \n",
    "        timestamp = iff_data[3].loc[iff_data[3].callsign==callsign,'time'].iloc[0]\n",
    "        airportInstance = natsSim.airportInterface.select_airport(departureAirport)\n",
    "        elev = airportInstance.getElevation()/100.0  \n",
    "        lat,lon = get_gate_lat_lon_from_nats(natsSim,departureGate,departureAirport)\n",
    "        latstr = clsGeometry.convertLatLonDeg_to_degMinSecString(str(lat))\n",
    "        lonstr = clsGeometry.convertLatLonDeg_to_degMinSecString(str(lon))\n",
    "        aircraftType = 'B744'\n",
    "        spd = 0\n",
    "        hdg = 28\n",
    "    \n",
    "    if result_generated:\n",
    "        #TRACK_TIME = (timestamp-pd.Timestamp(\"1970-01-01\")) // pd.Timedelta('1s')\n",
    "        TRACK_TIME +=10\n",
    "        track_string = '%s %s %.4f %.4f %d %.2f %d %s %s' %(callsign,aircraftType,float(latstr),float(lonstr),spd,elev,hdg,'ZOA','ZOA46')\n",
    "        fp_route = result_generated[0]\n",
    "        #fp_validated = natsSim.aircraftInterface.validate_flight_plan_record(track_string,fp_route,330)\n",
    "        fp_validated = True\n",
    "        if fp_validated:\n",
    "            print('Validated Flight Plan:',callsign)\n",
    "            print(result_generated)\n",
    "            with open(trx_file,'a') as trxFile:\n",
    "                tstr = '%s %s' % ('TRACK',track_string)\n",
    "                trxFile.write('%s %d' % ('TRACKTIME', TRACK_TIME) + '\\n')\n",
    "                trxFile.write( tstr + '\\n')\n",
    "                trxFile.write('    FP_ROUTE ' + fp_route + '\\n\\n')\n",
    "\n",
    "            with open(mfl_file,'a') as mflFile:\n",
    "                mflFile.write(callsign + ' ' + '330' + '\\n')\n",
    "        elif not fp_validated:\n",
    "            print('This flight plan was not validated:\\n', result_generated[0])\n",
    "                    "
   ]
  },
  {
   "cell_type": "markdown",
   "metadata": {},
   "source": [
    "## Step 6: Simulate generated TRX and MFL files in NATS\n",
    "\n",
    "The generated files can be simulated in NATS using the co-located Jupyter notebook <code>run_nats.ipynb</code> which can be found <a href=http://localhost:8888/notebooks/run_nats.ipynb>here</a>."
   ]
  },
  {
   "cell_type": "code",
   "execution_count": null,
   "metadata": {},
   "outputs": [],
   "source": []
  },
  {
   "cell_type": "code",
   "execution_count": null,
   "metadata": {
    "scrolled": true
   },
   "outputs": [],
   "source": []
  },
  {
   "cell_type": "code",
   "execution_count": null,
   "metadata": {},
   "outputs": [],
   "source": []
  },
  {
   "cell_type": "code",
   "execution_count": null,
   "metadata": {},
   "outputs": [],
   "source": []
  },
  {
   "cell_type": "code",
   "execution_count": null,
   "metadata": {},
   "outputs": [],
   "source": []
  },
  {
   "cell_type": "code",
   "execution_count": null,
   "metadata": {},
   "outputs": [],
   "source": []
  },
  {
   "cell_type": "code",
   "execution_count": null,
   "metadata": {
    "scrolled": true
   },
   "outputs": [],
   "source": []
  },
  {
   "cell_type": "code",
   "execution_count": null,
   "metadata": {},
   "outputs": [],
   "source": []
  },
  {
   "cell_type": "code",
   "execution_count": null,
   "metadata": {},
   "outputs": [],
   "source": [
    "\n",
    "  "
   ]
  },
  {
   "cell_type": "code",
   "execution_count": null,
   "metadata": {},
   "outputs": [],
   "source": []
  },
  {
   "cell_type": "code",
   "execution_count": null,
   "metadata": {},
   "outputs": [],
   "source": []
  }
 ],
 "metadata": {
  "kernelspec": {
   "display_name": "Python 3",
   "language": "python",
   "name": "python3"
  },
  "language_info": {
   "codemirror_mode": {
    "name": "ipython",
    "version": 3
   },
   "file_extension": ".py",
   "mimetype": "text/x-python",
   "name": "python",
   "nbconvert_exporter": "python",
   "pygments_lexer": "ipython3",
   "version": "3.8.3"
  }
 },
 "nbformat": 4,
 "nbformat_minor": 4
}
