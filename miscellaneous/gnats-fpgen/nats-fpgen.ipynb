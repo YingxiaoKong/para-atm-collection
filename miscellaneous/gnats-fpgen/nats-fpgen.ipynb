{
 "cells": [
  {
   "cell_type": "markdown",
   "metadata": {},
   "source": [
    "# Demonstration of Creating and Running a NATS input file from IFF data\n",
    "## Read in IFF Data using PARA-ATM"
   ]
  },
  {
   "cell_type": "code",
   "execution_count": 2,
   "metadata": {},
   "outputs": [
    {
     "name": "stdout",
     "output_type": "stream",
     "text": [
      "Index(['recType', 'time', 'fltKey', 'bcnCode', 'cid', 'Source', 'msgType',\n",
      "       'callsign', 'recTypeCat', 'latitude', 'longitude', 'altitude',\n",
      "       'significance', 'coord1Accur', 'coord2Accur', 'altAccur', 'tas',\n",
      "       'heading', 'rocd', 'altQualifier', 'altIndicator', 'trackPtStatus',\n",
      "       'leaderDir', 'scratchPad', 'msawInhibitInd', 'assignedAltString',\n",
      "       'controllingFac', 'controllingSeg', 'receivingFac', 'receivingSec',\n",
      "       'activeContr', 'primaryContr', 'kybrdSubset', 'kybrdSymbol', 'adsCode',\n",
      "       'opsType', 'airportCode', 'trackNumber', 'tptReturnType', 'modeSCode'],\n",
      "      dtype='object')\n",
      "1030410\n"
     ]
    }
   ],
   "source": [
    "from paraatm.io import iff, gnats, utils\n",
    "from paraatm.io.iff import read_iff_file\n",
    "\n",
    "\n",
    "#iff_fname = 'IFF_SFO_ASDEX_ABC123.csv'\n",
    "iff_fname = 'IFF_SFO+ASDEX_20190511_080104_86221.csv'\n",
    "\n",
    "iff_data =  read_iff_file(iff_fname,record_types=[2,3,4,8])\n",
    "print(iff_data[3].columns)\n",
    "print(len(iff_data[3]))"
   ]
  },
  {
   "cell_type": "markdown",
   "metadata": {},
   "source": [
    "## Clean callsign list of UNKN, nan, 1200, and ground operations vehicles"
   ]
  },
  {
   "cell_type": "code",
   "execution_count": 5,
   "metadata": {},
   "outputs": [],
   "source": [
    "#Note not necessary and will produce an error if run \n",
    "#with sample file\n",
    "callsigns = iff_data[3].callsign.unique()\n",
    "cs = callsigns.tolist()\n",
    "cs.remove('UNKN') # remove 'UNKN'\n",
    "cs = [x for x in cs if (str(x) != 'nan')] #remove nan\n",
    "cs = [x for x in cs if not x.startswith('OPS')] #remove ground operation vehicles\n",
    "cs.remove('1200')"
   ]
  },
  {
   "cell_type": "markdown",
   "metadata": {},
   "source": [
    "## Start NATS Simulation in the background"
   ]
  },
  {
   "cell_type": "code",
   "execution_count": 6,
   "metadata": {},
   "outputs": [],
   "source": [
    "from gnats_gate_to_gate import GateToGate\n",
    "natsSim = GateToGate()"
   ]
  },
  {
   "cell_type": "markdown",
   "metadata": {},
   "source": [
    "## Create FlightPlanSelector object"
   ]
  },
  {
   "cell_type": "code",
   "execution_count": 7,
   "metadata": {},
   "outputs": [],
   "source": [
    "from FlightPlanSelector import FlightPlanSelector\n",
    "dirPath = natsSim.DIR_share\n",
    "fpath = dirPath + '/tg/trx/TRX_07132005_noduplicates_crypted'\n",
    "f=FlightPlanSelector(natsSim,fname=fpath)"
   ]
  },
  {
   "cell_type": "markdown",
   "metadata": {},
   "source": [
    "## Generate NATS TRX flightplans"
   ]
  },
  {
   "cell_type": "code",
   "execution_count": 10,
   "metadata": {},
   "outputs": [
    {
     "name": "stdout",
     "output_type": "stream",
     "text": [
      "Previously generated trx file removed...\n",
      "Previously generated mfl file removed...\n"
     ]
    }
   ],
   "source": [
    "import os\n",
    "from iff_functions import (get_departure_airport_from_iff,\n",
    "                           get_arrival_airport_from_iff,\n",
    "                           get_departure_gate_and_rwy_from_iff,\n",
    "                           get_arrival_gate_and_rwy_from_iff,\n",
    "                           random_airport_gate_and_rwy,\n",
    "                           check_if_flight_has_departed,\n",
    "                           check_if_flight_landing_in_dataset)\n",
    "\n",
    "iffBaseAirport= \"KSFO\"\n",
    "\n",
    "#Filenames to write modified trx and mfl files to. Need full path because GNATS wrapper changes the directory to the GNATS directory.\n",
    "home_env = os.environ.get('HOME')\n",
    "trx_dir = '/home/edecarlo/para-atm-collection/miscellaneous/gnats-fpgen'\n",
    "results_dir = '/home/edecarlo/para-atm-collection/miscellaneous/gnats-fpgen'\n",
    "\n",
    "trx_fname = '/iff_to_gnats_geo'\n",
    "mfl_file= trx_dir+trx_fname+'_mfl.trx'\n",
    "trx_file = trx_dir+trx_fname+'.trx'\n",
    "results_file = results_dir+trx_fname+'.csv'\n",
    "\n",
    "if os.path.exists(trx_file):\n",
    "    os.remove(trx_file)\n",
    "    print('Previously generated trx file removed...')\n",
    "\n",
    "if os.path.exists(mfl_file):\n",
    "    os.remove(mfl_file)\n",
    "    print('Previously generated mfl file removed...')"
   ]
  },
  {
   "cell_type": "code",
   "execution_count": 11,
   "metadata": {},
   "outputs": [
    {
     "name": "stdout",
     "output_type": "stream",
     "text": [
      "UAL780 0\n",
      "('KSFO.<{\"id\": \"Gate_G_100\"}, {\"id\": \"Ramp_07_007\"}, {\"id\": \"Txy_B_B5\"}, {\"id\": \"Txy_B5_001\"}, {\"id\": \"Txy_A_B4\"}, {\"id\": \"Txy_A_B3\"}, {\"id\": \"Txy_A_B2\"}, {\"id\": \"Txy_A_B1\"}, {\"id\": \"Txy_A_016\"}, {\"id\": \"Txy_Q1_001\"}, {\"id\": \"Txy_B_002\"}, {\"id\": \"Txy_B_K\"}, {\"id\": \"Txy_B_D\"}, {\"id\": \"Txy_E_B\"}, {\"id\": \"Txy_E_001\"}, {\"id\": \"Rwy_03_005\"}, {\"id\": \"Txy_E_002\"}, {\"id\": \"Txy_E_003\"}, {\"id\": \"Rwy_04_007\"}, {\"id\": \"Txy_E_004\"}, {\"id\": \"Txy_C_E\"}, {\"id\": \"Txy_E_V\"}, {\"id\": \"Txy_V_004\"}, {\"id\": \"Rwy_01_007\"}, {\"id\": \"Txy_V_003\"}, {\"id\": \"Txy_V_002\"}, {\"id\": \"Rwy_02_008\"}, {\"id\": \"Txy_V_001\"}, {\"id\": \"Txy_L_V\"}, {\"id\": \"Txy_L_E\"}, {\"id\": \"Txy_L_010\"}, {\"id\": \"Txy_L_011\"}, {\"id\": \"Rwy_02_011\"}>.RW19L.WESLA4.SAC.J32.BAM.J32.CZI.J82.RAP.J158.ABR..CESNA..SSM..YCF..TULEG..RKA..HNK.SHAFF7.I11.RW11 .<{\"id\": \"Rwy_03_102\"}, {\"id\": \"Rwy_03_002\"}, {\"id\": \"Txy_Z_025\"}, {\"id\": \"Txy_K_015\"}, {\"id\": \"Txy_Y_K\"}, {\"id\": \"Txy_Y_016\"}, {\"id\": \"Rwy_01_004\"}, {\"id\": \"Txy_Y_L\"}, {\"id\": \"Txy_Y_012\"}, {\"id\": \"Txy_P_Y\"}, {\"id\": \"Txy_Y_010\"}, {\"id\": \"Rwy_02_005\"}, {\"id\": \"Txy_M_004\"}, {\"id\": \"Txy_M_003\"}, {\"id\": \"Txy_R_M\"}, {\"id\": \"Txy_S_M\"}, {\"id\": \"Txy_S_K\"}, {\"id\": \"Txy_S_J\"}, {\"id\": \"Txy_S_B\"}, {\"id\": \"Txy_A_010\"}, {\"id\": \"Txy_A_110\"}, {\"id\": \"Txy_A_011\"}, {\"id\": \"Txy_A_G\"}, {\"id\": \"Txy_A_114\"}, {\"id\": \"Txy_A_015\"}, {\"id\": \"Txy_A_E\"}, {\"id\": \"Txy_DK_001\"}, {\"id\": \"Ramp_02_007\"}, {\"id\": \"Ramp_02_006\"}, {\"id\": \"Ramp_02_005\"}, {\"id\": \"Ramp_01_018\"}, {\"id\": \"Ramp_01_223\"}, {\"id\": \"Ramp_01_017\"}, {\"id\": \"Ramp_01_016\"}, {\"id\": \"Ramp_01_012\"}, {\"id\": \"Ramp_01_011\"}, {\"id\": \"Ramp_01_007\"}, {\"id\": \"Gate_A_022\"}>.KEWR', '373708.54760000001022', '-1222336.0383999999965')\n",
      "UAL916 1\n",
      "('KEWR.<>.BUF..ECK..DLL..MCW..BFF..DTA..OAL.SHAFF7.I11.RW10L.<{\"id\": \"Rwy_04_001\"}, {\"id\": \"Txy_C_002\"}, {\"id\": \"Txy_C_001\"}, {\"id\": \"Rwy_03_001\"}, {\"id\": \"Txy_F_001\"}, {\"id\": \"Txy_F_002\"}, {\"id\": \"Txy_F_003\"}, {\"id\": \"Txy_F_004\"}, {\"id\": \"Txy_F_N\"}, {\"id\": \"Txy_F_005\"}, {\"id\": \"Txy_F_L\"}, {\"id\": \"Txy_F_006\"}, {\"id\": \"Rwy_02_006\"}, {\"id\": \"Txy_F_007\"}, {\"id\": \"Txy_F_008\"}, {\"id\": \"Rwy_01_005\"}, {\"id\": \"Txy_F_009\"}, {\"id\": \"Txy_F_010\"}, {\"id\": \"Txy_A_B\"}, {\"id\": \"Txy_A_E\"}, {\"id\": \"Txy_A_010\"}, {\"id\": \"Txy_A_D\"}, {\"id\": \"Txy_A_011\"}, {\"id\": \"Txy_A_012\"}, {\"id\": \"Txy_A_015\"}, {\"id\": \"Txy_A_016\"}, {\"id\": \"Txy_A_B1\"}, {\"id\": \"Txy_A_B2\"}, {\"id\": \"Txy_A_B3\"}, {\"id\": \"Txy_A_B4\"}, {\"id\": \"Ramp_06_015\"}, {\"id\": \"Ramp_06_016\"}, {\"id\": \"Ramp_06_017\"}, {\"id\": \"Ramp_06_018\"}, {\"id\": \"Ramp_06_019\"}, {\"id\": \"Gate_F_083\"}>.KSFO', '425544.38999999999851', '-783846.83000000001812')\n",
      "UAL687 2\n",
      "('KSFO.<{\"id\": \"Gate_A_009\"}, {\"id\": \"Ramp_01_006\"}, {\"id\": \"Ramp_01_007\"}, {\"id\": \"Txy_M_H\"}, {\"id\": \"Txy_H_001\"}, {\"id\": \"Txy_H_002\"}, {\"id\": \"Txy_H_003\"}, {\"id\": \"Txy_H_004\"}, {\"id\": \"Txy_H_005\"}, {\"id\": \"Txy_H_006\"}, {\"id\": \"Txy_A_004\"}, {\"id\": \"Txy_A_H\"}, {\"id\": \"Txy_B_H\"}, {\"id\": \"Txy_H_007\"}, {\"id\": \"Rwy_01_002\"}, {\"id\": \"Txy_H_008\"}, {\"id\": \"Txy_H_009\"}, {\"id\": \"Rwy_02_004\"}, {\"id\": \"Txy_G_005\"}, {\"id\": \"Txy_L_004\"}, {\"id\": \"Txy_L_005\"}, {\"id\": \"Txy_F_L\"}, {\"id\": \"Txy_L_006\"}, {\"id\": \"Rwy_03_004\"}, {\"id\": \"Txy_L_007\"}, {\"id\": \"Txy_L_008\"}, {\"id\": \"Rwy_04_006\"}, {\"id\": \"Txy_L_009\"}, {\"id\": \"Txy_C_L\"}, {\"id\": \"Txy_L_V\"}, {\"id\": \"Txy_L_E\"}, {\"id\": \"Txy_L_010\"}, {\"id\": \"Txy_L_011\"}, {\"id\": \"Rwy_02_011\"}>.RW19L.WESLA4.SAC.J32.BAM.J32.CZI.J82.RAP.J158.ABR..CESNA..SSM..YCF..TULEG..RKA..HNK.SHAFF7.I22L.RW22L.<{\"id\": \"Rwy_01_110\"}, {\"id\": \"Rwy_01_010\"}, {\"id\": \"Txy_V_007\"}, {\"id\": \"Txy_P_V\"}, {\"id\": \"Txy_P_018\"}, {\"id\": \"Txy_P_017\"}, {\"id\": \"Txy_N_009\"}, {\"id\": \"Rwy_02_014\"}, {\"id\": \"Txy_N_006\"}, {\"id\": \"Txy_D_N\"}, {\"id\": \"Txy_PA_N\"}, {\"id\": \"Txy_B_PA\"}, {\"id\": \"Txy_A_017\"}, {\"id\": \"Txy_A_117\"}, {\"id\": \"Txy_A_E\"}, {\"id\": \"Txy_A_015\"}, {\"id\": \"Txy_A_114\"}, {\"id\": \"Txy_A_G\"}, {\"id\": \"Ramp_02_119\"}, {\"id\": \"Ramp_02_020\"}, {\"id\": \"Ramp_03_003\"}, {\"id\": \"Ramp_03_914\"}, {\"id\": \"Gate_C_082\"}>.KEWR', '373640.45680000000061', '-1222323.013599999985672')\n",
      "UAL504 3\n",
      "('KSFO.<{\"id\": \"Gate_F_081\"}, {\"id\": \"Ramp_06_020\"}, {\"id\": \"Ramp_06_019\"}, {\"id\": \"Ramp_06_018\"}, {\"id\": \"Ramp_06_017\"}, {\"id\": \"Ramp_06_016\"}, {\"id\": \"Ramp_06_015\"}, {\"id\": \"Txy_A_B4\"}, {\"id\": \"Txy_A_B3\"}, {\"id\": \"Txy_A_B2\"}, {\"id\": \"Txy_A_B1\"}, {\"id\": \"Txy_A_016\"}, {\"id\": \"Txy_Q1_001\"}, {\"id\": \"Txy_B_002\"}, {\"id\": \"Txy_B_K\"}, {\"id\": \"Txy_B_D\"}, {\"id\": \"Txy_E_B\"}, {\"id\": \"Txy_E_001\"}, {\"id\": \"Rwy_03_005\"}, {\"id\": \"Txy_E_002\"}, {\"id\": \"Txy_E_003\"}, {\"id\": \"Rwy_04_007\"}, {\"id\": \"Txy_E_004\"}, {\"id\": \"Txy_C_E\"}, {\"id\": \"Txy_E_V\"}, {\"id\": \"Txy_V_004\"}, {\"id\": \"Rwy_01_007\"}, {\"id\": \"Txy_V_003\"}, {\"id\": \"Txy_V_002\"}, {\"id\": \"Rwy_02_008\"}, {\"id\": \"Txy_V_001\"}, {\"id\": \"Txy_L_V\"}, {\"id\": \"Txy_L_E\"}, {\"id\": \"Txy_L_010\"}, {\"id\": \"Txy_L_011\"}, {\"id\": \"Rwy_02_011\"}>.RW19L.WESLA4.SAC.J32.BAM.J32.CZI.J82.RAP.J158.ABR..CESNA..SSM..YCF..TULEG..RKA..HNK.SHAFF7.I11.RW11 .<{\"id\": \"Rwy_03_102\"}, {\"id\": \"Rwy_03_002\"}, {\"id\": \"Txy_Z_025\"}, {\"id\": \"Txy_K_015\"}, {\"id\": \"Txy_Y_K\"}, {\"id\": \"Txy_Y_016\"}, {\"id\": \"Rwy_01_004\"}, {\"id\": \"Txy_Y_L\"}, {\"id\": \"Txy_Y_012\"}, {\"id\": \"Txy_P_Y\"}, {\"id\": \"Txy_Y_010\"}, {\"id\": \"Rwy_02_005\"}, {\"id\": \"Txy_M_004\"}, {\"id\": \"Txy_M_003\"}, {\"id\": \"Txy_R_M\"}, {\"id\": \"Txy_S_M\"}, {\"id\": \"Txy_S_K\"}, {\"id\": \"Txy_S_J\"}, {\"id\": \"Txy_S_B\"}, {\"id\": \"Txy_A_010\"}, {\"id\": \"Txy_A_110\"}, {\"id\": \"Txy_A_011\"}, {\"id\": \"Txy_RF_001\"}, {\"id\": \"Ramp_03_106\"}, {\"id\": \"Ramp_03_003\"}, {\"id\": \"Ramp_03_914\"}, {\"id\": \"Ramp_03_002\"}, {\"id\": \"Ramp_03_001\"}, {\"id\": \"Ramp_02_022\"}, {\"id\": \"Gate_B_073\"}>.KEWR', '373711.33400000000961', '-1222317.548800000021174')\n",
      "SWA4153 4\n"
     ]
    },
    {
     "ename": "TypeError",
     "evalue": "cannot unpack non-iterable NoneType object",
     "output_type": "error",
     "traceback": [
      "\u001b[0;31m---------------------------------------------------------------------------\u001b[0m",
      "\u001b[0;31mTypeError\u001b[0m                                 Traceback (most recent call last)",
      "\u001b[0;32m<ipython-input-11-c98c5f18dab9>\u001b[0m in \u001b[0;36m<module>\u001b[0;34m\u001b[0m\n\u001b[1;32m     45\u001b[0m         \u001b[0mdepartureGate\u001b[0m\u001b[0;34m,\u001b[0m\u001b[0mdepartureRwy\u001b[0m \u001b[0;34m=\u001b[0m \u001b[0mget_departure_gate_and_rwy_from_iff\u001b[0m\u001b[0;34m(\u001b[0m\u001b[0miff_data\u001b[0m\u001b[0;34m,\u001b[0m\u001b[0mcallsign\u001b[0m\u001b[0;34m,\u001b[0m\u001b[0mnatsSim\u001b[0m\u001b[0;34m,\u001b[0m\u001b[0mdepartureAirport\u001b[0m\u001b[0;34m)\u001b[0m \u001b[0;31m#doesn't exist\u001b[0m\u001b[0;34m\u001b[0m\u001b[0;34m\u001b[0m\u001b[0m\n\u001b[1;32m     46\u001b[0m         \u001b[0marrivalGate\u001b[0m\u001b[0;34m,\u001b[0m\u001b[0marrivalRwy\u001b[0m \u001b[0;34m=\u001b[0m \u001b[0mrandom_airport_gate_and_rwy\u001b[0m\u001b[0;34m(\u001b[0m\u001b[0mnatsSim\u001b[0m\u001b[0;34m,\u001b[0m\u001b[0marrivalAirport\u001b[0m\u001b[0;34m)\u001b[0m\u001b[0;34m\u001b[0m\u001b[0;34m\u001b[0m\u001b[0m\n\u001b[0;32m---> 47\u001b[0;31m         \u001b[0mresult_generated\u001b[0m \u001b[0;34m=\u001b[0m \u001b[0mf\u001b[0m\u001b[0;34m.\u001b[0m\u001b[0mgenerate\u001b[0m\u001b[0;34m(\u001b[0m\u001b[0;36m1\u001b[0m\u001b[0;34m,\u001b[0m \u001b[0mdepartureAirport\u001b[0m\u001b[0;34m,\u001b[0m \u001b[0marrivalAirport\u001b[0m\u001b[0;34m,\u001b[0m \u001b[0mdepartureGate\u001b[0m\u001b[0;34m,\u001b[0m \u001b[0marrivalGate\u001b[0m\u001b[0;34m,\u001b[0m \u001b[0mdepartureRwy\u001b[0m\u001b[0;34m,\u001b[0m \u001b[0marrivalRwy\u001b[0m\u001b[0;34m)\u001b[0m\u001b[0;34m\u001b[0m\u001b[0;34m\u001b[0m\u001b[0m\n\u001b[0m\u001b[1;32m     48\u001b[0m         \u001b[0mprint\u001b[0m\u001b[0;34m(\u001b[0m\u001b[0mresult_generated\u001b[0m\u001b[0;34m)\u001b[0m\u001b[0;34m\u001b[0m\u001b[0;34m\u001b[0m\u001b[0m\n\u001b[1;32m     49\u001b[0m \u001b[0;34m\u001b[0m\u001b[0m\n",
      "\u001b[0;32m~/para-atm-collection/miscellaneous/gnats-fpgen/FlightPlanSelector.py\u001b[0m in \u001b[0;36mgenerate\u001b[0;34m(self, flight_plan_type, origin_airport, destination_airport, origin_gate, destination_gate, departure_runway, arrival_runway)\u001b[0m\n\u001b[1;32m    354\u001b[0m \u001b[0;34m\u001b[0m\u001b[0m\n\u001b[1;32m    355\u001b[0m                 \u001b[0;32mif\u001b[0m \u001b[0mflight_plan_type\u001b[0m \u001b[0;34m==\u001b[0m \u001b[0mself\u001b[0m\u001b[0;34m.\u001b[0m\u001b[0mFLIGHT_PLAN_TYPE_GATE_TO_GATE\u001b[0m \u001b[0;32mor\u001b[0m \u001b[0mflight_plan_type\u001b[0m \u001b[0;34m==\u001b[0m \u001b[0mself\u001b[0m\u001b[0;34m.\u001b[0m\u001b[0mFLIGHT_PLAN_TYPE_RUNWAY_TO_RUNWAY\u001b[0m \u001b[0;34m:\u001b[0m\u001b[0;34m\u001b[0m\u001b[0;34m\u001b[0m\u001b[0m\n\u001b[0;32m--> 356\u001b[0;31m                         \u001b[0mself\u001b[0m\u001b[0;34m.\u001b[0m\u001b[0mresult_terminalProcedure\u001b[0m \u001b[0;34m=\u001b[0m \u001b[0mself\u001b[0m\u001b[0;34m.\u001b[0m\u001b[0mgetTerminalProcedures\u001b[0m\u001b[0;34m(\u001b[0m\u001b[0morigin_airport\u001b[0m\u001b[0;34m,\u001b[0m \u001b[0mdestination_airport\u001b[0m\u001b[0;34m,\u001b[0m \u001b[0mdeparture_runway\u001b[0m\u001b[0;34m,\u001b[0m \u001b[0marrival_runway\u001b[0m\u001b[0;34m)\u001b[0m\u001b[0;34m\u001b[0m\u001b[0;34m\u001b[0m\u001b[0m\n\u001b[0m\u001b[1;32m    357\u001b[0m                         \u001b[0;32mif\u001b[0m \u001b[0mlen\u001b[0m\u001b[0;34m(\u001b[0m\u001b[0mself\u001b[0m\u001b[0;34m.\u001b[0m\u001b[0mresult_terminalProcedure\u001b[0m\u001b[0;34m)\u001b[0m \u001b[0;34m==\u001b[0m \u001b[0;36m3\u001b[0m \u001b[0;34m:\u001b[0m\u001b[0;34m\u001b[0m\u001b[0;34m\u001b[0m\u001b[0m\n\u001b[1;32m    358\u001b[0m                                 \u001b[0mself\u001b[0m\u001b[0;34m.\u001b[0m\u001b[0mselected_sid\u001b[0m \u001b[0;34m=\u001b[0m \u001b[0mself\u001b[0m\u001b[0;34m.\u001b[0m\u001b[0mresult_terminalProcedure\u001b[0m\u001b[0;34m[\u001b[0m\u001b[0;36m0\u001b[0m\u001b[0;34m]\u001b[0m\u001b[0;34m\u001b[0m\u001b[0;34m\u001b[0m\u001b[0m\n",
      "\u001b[0;32m~/para-atm-collection/miscellaneous/gnats-fpgen/FlightPlanSelector.py\u001b[0m in \u001b[0;36mgetTerminalProcedures\u001b[0;34m(self, origin, destination, departureRunway, arrivalRunway)\u001b[0m\n\u001b[1;32m    208\u001b[0m                                 \u001b[0mlatLonVal\u001b[0m \u001b[0;34m=\u001b[0m \u001b[0mself\u001b[0m\u001b[0;34m.\u001b[0m\u001b[0mgnatsSim\u001b[0m\u001b[0;34m.\u001b[0m\u001b[0mterminalAreaInterface\u001b[0m\u001b[0;34m.\u001b[0m\u001b[0mgetWaypoint_Latitude_Longitude_deg\u001b[0m\u001b[0;34m(\u001b[0m\u001b[0mlist\u001b[0m\u001b[0;34m(\u001b[0m\u001b[0mlegWps\u001b[0m\u001b[0;34m)\u001b[0m\u001b[0;34m[\u001b[0m\u001b[0;34m-\u001b[0m\u001b[0;36m1\u001b[0m\u001b[0;34m]\u001b[0m\u001b[0;34m)\u001b[0m\u001b[0;34m\u001b[0m\u001b[0;34m\u001b[0m\u001b[0m\n\u001b[1;32m    209\u001b[0m                                 \u001b[0;32mif\u001b[0m \u001b[0;32mnot\u001b[0m \u001b[0;34m(\u001b[0m\u001b[0mlatLonVal\u001b[0m \u001b[0;32mis\u001b[0m \u001b[0;32mNone\u001b[0m\u001b[0;34m)\u001b[0m \u001b[0;34m:\u001b[0m\u001b[0;34m\u001b[0m\u001b[0;34m\u001b[0m\u001b[0m\n\u001b[0;32m--> 210\u001b[0;31m                                         \u001b[0;32mif\u001b[0m \u001b[0mself\u001b[0m\u001b[0;34m.\u001b[0m\u001b[0mdistance\u001b[0m\u001b[0;34m(\u001b[0m\u001b[0mlatLonVal\u001b[0m\u001b[0;34m,\u001b[0m \u001b[0mapproachWp\u001b[0m\u001b[0;34m)\u001b[0m \u001b[0;34m<\u001b[0m \u001b[0mdistanceToApproach\u001b[0m\u001b[0;34m:\u001b[0m\u001b[0;34m\u001b[0m\u001b[0;34m\u001b[0m\u001b[0m\n\u001b[0m\u001b[1;32m    211\u001b[0m                                                 \u001b[0moptimalStar\u001b[0m \u001b[0;34m=\u001b[0m \u001b[0mstar\u001b[0m\u001b[0;34m\u001b[0m\u001b[0;34m\u001b[0m\u001b[0m\n\u001b[1;32m    212\u001b[0m \u001b[0;34m\u001b[0m\u001b[0m\n",
      "\u001b[0;32m~/para-atm-collection/miscellaneous/gnats-fpgen/FlightPlanSelector.py\u001b[0m in \u001b[0;36mdistance\u001b[0;34m(self, procedurePoint, enroutePoint)\u001b[0m\n\u001b[1;32m    131\u001b[0m         \u001b[0;32mdef\u001b[0m \u001b[0mdistance\u001b[0m\u001b[0;34m(\u001b[0m\u001b[0mself\u001b[0m\u001b[0;34m,\u001b[0m \u001b[0mprocedurePoint\u001b[0m\u001b[0;34m,\u001b[0m \u001b[0menroutePoint\u001b[0m\u001b[0;34m)\u001b[0m\u001b[0;34m:\u001b[0m\u001b[0;34m\u001b[0m\u001b[0;34m\u001b[0m\u001b[0m\n\u001b[1;32m    132\u001b[0m                 \u001b[0mlat1\u001b[0m\u001b[0;34m,\u001b[0m \u001b[0mlon1\u001b[0m \u001b[0;34m=\u001b[0m \u001b[0mprocedurePoint\u001b[0m\u001b[0;34m\u001b[0m\u001b[0;34m\u001b[0m\u001b[0m\n\u001b[0;32m--> 133\u001b[0;31m                 \u001b[0mlat2\u001b[0m\u001b[0;34m,\u001b[0m \u001b[0mlon2\u001b[0m \u001b[0;34m=\u001b[0m \u001b[0menroutePoint\u001b[0m\u001b[0;34m\u001b[0m\u001b[0;34m\u001b[0m\u001b[0m\n\u001b[0m\u001b[1;32m    134\u001b[0m                 \u001b[0mradius\u001b[0m \u001b[0;34m=\u001b[0m \u001b[0;36m6371\u001b[0m\u001b[0;34m\u001b[0m\u001b[0;34m\u001b[0m\u001b[0m\n\u001b[1;32m    135\u001b[0m \u001b[0;34m\u001b[0m\u001b[0m\n",
      "\u001b[0;31mTypeError\u001b[0m: cannot unpack non-iterable NoneType object"
     ]
    }
   ],
   "source": [
    "import time\n",
    "import numpy as np\n",
    "from jpype import JPackage\n",
    "\n",
    "TRACK_TIME = time.time()\n",
    "clsGeometry = JPackage('com').osi.util.Geometry\n",
    "\n",
    "for i,callsign in enumerate(cs[101:110]):\n",
    "    flightInAir = check_if_flight_has_departed(iff_data,callsign,natsSim,iffBaseAirport)\n",
    "    flightLandingInData = check_if_flight_landing_in_dataset(iff_data,callsign,natsSim,iffBaseAirport)\n",
    "    \n",
    "    arrivalAirport = ''\n",
    "    departureAirport=''\n",
    "    arrivalRwy = ''\n",
    "    arrivalGate = ''\n",
    "    departureRwy =''\n",
    "    departureGate = ''\n",
    "    result_generated = ''\n",
    "\n",
    "    if flightInAir and flightLandingInData:\n",
    "        #Get departure airport. If none is known in the IFF+ASDEX file (i.e., it is not the airport whose name is in the iff_fname), then set departure airport as closest airport to the first lat/lon in the dataset. In the future, would like to use IFF_USA to determine departureAirport in this case\n",
    "        print (callsign, i)\n",
    "        arrivalAirport = 'KSFO'\n",
    "        departureAirport = get_departure_airport_from_iff(iff_data,callsign,natsSim,arrivalAirport=iffBaseAirport,flmap=f.flmap)\n",
    "        #departureAirport = 'KEWR'\n",
    "        arrivalGate,arrivalRwy= get_arrival_gate_and_rwy_from_iff(iff_data,callsign,natsSim,arrivalAirport)\n",
    "        result_generated = f.generate(4, departureAirport, arrivalAirport, \"\", arrivalGate, \"\", arrivalRwy)\n",
    "        print(result_generated)\n",
    "        \n",
    "\n",
    "        lat = iff_data[3].loc[iff_data[3].callsign==callsign,'latitude'].iloc[0]\n",
    "        lon = iff_data[3].loc[iff_data[3].callsign==callsign,'longitude'].iloc[0]\n",
    "        latstr = clsGeometry.convertLatLonDeg_to_degMinSecString(str(lat))\n",
    "        lonstr = clsGeometry.convertLatLonDeg_to_degMinSecString(str(lon))\n",
    "        elev = np.max([iff_data[3].loc[iff_data[3].callsign==callsign,'altitude'].iloc[0]/100.,100.])\n",
    "        spd = iff_data[3].loc[iff_data[3].callsign==callsign,'tas'].iloc[0]\n",
    "        hdg = iff_data[3].loc[iff_data[3].callsign==callsign,'heading'].iloc[0]\n",
    "        aircraftType = 'B744'\n",
    "        \n",
    "    if  not flightInAir and not flightLandingInData:\n",
    "        print (callsign, i)\n",
    "        departureAirport = 'KSFO'\n",
    "        arrivalAirport = get_arrival_airport_from_iff(iff_data,callsign,natsSim,departureAirport,f.flmap)\n",
    "        #arrivalAirport = 'KEWR'\n",
    "        departureGate,departureRwy = get_departure_gate_and_rwy_from_iff(iff_data,callsign,natsSim,departureAirport) #doesn't exist\n",
    "        arrivalGate,arrivalRwy = random_airport_gate_and_rwy(natsSim,arrivalAirport)\n",
    "        result_generated = f.generate(1, departureAirport, arrivalAirport, departureGate, arrivalGate, departureRwy, arrivalRwy)\n",
    "        print(result_generated)\n",
    "        \n",
    "        airportInstance = natsSim.airportInterface.select_airport(departureAirport)\n",
    "        elev = airportInstance.getElevation()/100.0  \n",
    "        lat = airportInstance.getLatitude()\n",
    "        lon = airportInstance.getLongitude()\n",
    "        latstr = clsGeometry.convertLatLonDeg_to_degMinSecString(str(lat))\n",
    "        lonstr = clsGeometry.convertLatLonDeg_to_degMinSecString(str(lon))\n",
    "        aircraftType = 'B744'\n",
    "        spd = 0\n",
    "        hdg = 28\n",
    "   \n",
    "    if result_generated:\n",
    "        TRACK_TIME += 10\n",
    "        with open(trx_file,'a') as trxFile:\n",
    "            tstr = '%s %s %s %.4f %.4f %d %.2f %d %s %s' % ('TRACK',callsign,aircraftType,float(latstr),float(lonstr),spd,elev,hdg,'ZOA','ZOA46')\n",
    "            trxFile.write('%s %d' % ('TRACKTIME', TRACK_TIME) + '\\n')\n",
    "            trxFile.write( tstr + '\\n')\n",
    "            trxFile.write('    FP_ROUTE ' + result_generated[0] + '\\n\\n')\n",
    "\n",
    "        with open(mfl_file,'a') as mflFile:\n",
    "            mflFile.write(callsign + ' ' + '330' + '\\n')"
   ]
  },
  {
   "cell_type": "code",
   "execution_count": null,
   "metadata": {},
   "outputs": [],
   "source": [
    "data=natsSim(trx_name=trx_file,mfl_name=mfl_file)['trajectory']\n",
    "natsSim.write_output(results_file)\n",
    "natsSim.cleanup()"
   ]
  },
  {
   "cell_type": "code",
   "execution_count": null,
   "metadata": {
    "scrolled": true
   },
   "outputs": [],
   "source": [
    "from paraatm.plotting import plot_trajectory\n",
    "plot_trajectory(data, output_notebook=True, plot_width=600, plot_height=400)"
   ]
  },
  {
   "cell_type": "code",
   "execution_count": 14,
   "metadata": {},
   "outputs": [
    {
     "data": {
      "text/plain": [
       "''"
      ]
     },
     "execution_count": 14,
     "metadata": {},
     "output_type": "execute_result"
    }
   ],
   "source": [
    "result_generated"
   ]
  },
  {
   "cell_type": "code",
   "execution_count": 16,
   "metadata": {},
   "outputs": [
    {
     "name": "stdout",
     "output_type": "stream",
     "text": [
      "not result generated is True\n"
     ]
    }
   ],
   "source": [
    "if not result_generated:\n",
    "    print('not result generated is True')"
   ]
  },
  {
   "cell_type": "code",
   "execution_count": null,
   "metadata": {},
   "outputs": [],
   "source": []
  }
 ],
 "metadata": {
  "kernelspec": {
   "display_name": "Python 3",
   "language": "python",
   "name": "python3"
  },
  "language_info": {
   "codemirror_mode": {
    "name": "ipython",
    "version": 3
   },
   "file_extension": ".py",
   "mimetype": "text/x-python",
   "name": "python",
   "nbconvert_exporter": "python",
   "pygments_lexer": "ipython3",
   "version": "3.8.3"
  }
 },
 "nbformat": 4,
 "nbformat_minor": 4
}
