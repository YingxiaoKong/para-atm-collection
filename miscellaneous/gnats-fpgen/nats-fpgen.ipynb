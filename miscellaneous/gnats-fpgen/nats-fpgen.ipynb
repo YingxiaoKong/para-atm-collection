{
 "cells": [
  {
   "cell_type": "markdown",
   "metadata": {},
   "source": [
    "# Creating a NATS input file from IFF data\n",
    "## Step 1a: Read in IFF Data using PARA-ATM"
   ]
  },
  {
   "cell_type": "code",
   "execution_count": 1,
   "metadata": {},
   "outputs": [],
   "source": [
    "from paraatm.io import iff, gnats, utils\n",
    "from paraatm.io.iff import read_iff_file\n",
    "\n",
    "iff_fname = 'IFF_SFO_ASDEX_ABC456.csv'\n",
    "\n",
    "iff_data =  read_iff_file(iff_fname,record_types=[2,3,4,8])\n",
    "callsigns = iff_data[3].callsign.unique()\n",
    "cs = callsigns.tolist()"
   ]
  },
  {
   "cell_type": "markdown",
   "metadata": {},
   "source": [
    "## Step 1b: Clean callsign list of UNKN, nan, 1200, and ground operations vehicles"
   ]
  },
  {
   "cell_type": "code",
   "execution_count": 2,
   "metadata": {},
   "outputs": [
    {
     "ename": "ValueError",
     "evalue": "list.remove(x): x not in list",
     "output_type": "error",
     "traceback": [
      "\u001b[0;31m---------------------------------------------------------------------\u001b[0m",
      "\u001b[0;31mValueError\u001b[0m                          Traceback (most recent call last)",
      "\u001b[0;32m<ipython-input-2-9f92776294cf>\u001b[0m in \u001b[0;36m<module>\u001b[0;34m\u001b[0m\n\u001b[1;32m      2\u001b[0m \u001b[0;31m# IFF_SFO_ASDEX_ABC456.csv and will produce an error\u001b[0m\u001b[0;34m\u001b[0m\u001b[0;34m\u001b[0m\u001b[0;34m\u001b[0m\u001b[0m\n\u001b[1;32m      3\u001b[0m \u001b[0;34m\u001b[0m\u001b[0m\n\u001b[0;32m----> 4\u001b[0;31m \u001b[0mcs\u001b[0m\u001b[0;34m.\u001b[0m\u001b[0mremove\u001b[0m\u001b[0;34m(\u001b[0m\u001b[0;34m'UNKN'\u001b[0m\u001b[0;34m)\u001b[0m \u001b[0;31m# remove 'UNKN'\u001b[0m\u001b[0;34m\u001b[0m\u001b[0;34m\u001b[0m\u001b[0m\n\u001b[0m\u001b[1;32m      5\u001b[0m \u001b[0mcs\u001b[0m \u001b[0;34m=\u001b[0m \u001b[0;34m[\u001b[0m\u001b[0mx\u001b[0m \u001b[0;32mfor\u001b[0m \u001b[0mx\u001b[0m \u001b[0;32min\u001b[0m \u001b[0mcs\u001b[0m \u001b[0;32mif\u001b[0m \u001b[0;34m(\u001b[0m\u001b[0mstr\u001b[0m\u001b[0;34m(\u001b[0m\u001b[0mx\u001b[0m\u001b[0;34m)\u001b[0m \u001b[0;34m!=\u001b[0m \u001b[0;34m'nan'\u001b[0m\u001b[0;34m)\u001b[0m\u001b[0;34m]\u001b[0m \u001b[0;31m#remove nan\u001b[0m\u001b[0;34m\u001b[0m\u001b[0;34m\u001b[0m\u001b[0m\n\u001b[1;32m      6\u001b[0m \u001b[0mcs\u001b[0m \u001b[0;34m=\u001b[0m \u001b[0;34m[\u001b[0m\u001b[0mx\u001b[0m \u001b[0;32mfor\u001b[0m \u001b[0mx\u001b[0m \u001b[0;32min\u001b[0m \u001b[0mcs\u001b[0m \u001b[0;32mif\u001b[0m \u001b[0;32mnot\u001b[0m \u001b[0mx\u001b[0m\u001b[0;34m.\u001b[0m\u001b[0mstartswith\u001b[0m\u001b[0;34m(\u001b[0m\u001b[0;34m'OPS'\u001b[0m\u001b[0;34m)\u001b[0m\u001b[0;34m]\u001b[0m \u001b[0;31m#remove ground operation vehicles\u001b[0m\u001b[0;34m\u001b[0m\u001b[0;34m\u001b[0m\u001b[0m\n",
      "\u001b[0;31mValueError\u001b[0m: list.remove(x): x not in list"
     ]
    }
   ],
   "source": [
    "# Note: This cell not necessary for sample file \n",
    "# IFF_SFO_ASDEX_ABC456.csv and will produce an error\n",
    "\n",
    "cs.remove('UNKN') # remove 'UNKN'\n",
    "cs = [x for x in cs if (str(x) != 'nan')] #remove nan\n",
    "cs = [x for x in cs if not x.startswith('OPS')] #remove ground operation vehicles\n",
    "cs.remove('1200')"
   ]
  },
  {
   "cell_type": "markdown",
   "metadata": {},
   "source": [
    "## Step 2: Start NATS Simulation in the background"
   ]
  },
  {
   "cell_type": "code",
   "execution_count": 3,
   "metadata": {},
   "outputs": [],
   "source": [
    "from gnats_gate_to_gate import GateToGate\n",
    "natsSim = GateToGate()"
   ]
  },
  {
   "cell_type": "markdown",
   "metadata": {},
   "source": [
    "## Step 3: Create FlightPlanSelector object"
   ]
  },
  {
   "cell_type": "code",
   "execution_count": 4,
   "metadata": {},
   "outputs": [],
   "source": [
    "from FlightPlanSelector import FlightPlanSelector\n",
    "dirPath = natsSim.DIR_share\n",
    "fpath = dirPath + '/tg/trx/TRX_07132005_noduplicates_crypted'\n",
    "f=FlightPlanSelector(natsSim,fname=fpath)"
   ]
  },
  {
   "cell_type": "markdown",
   "metadata": {},
   "source": [
    "## Step 4: Remove previously generated TRX and MFL files"
   ]
  },
  {
   "cell_type": "code",
   "execution_count": 5,
   "metadata": {},
   "outputs": [
    {
     "name": "stdout",
     "output_type": "stream",
     "text": [
      "Previously generated trx file removed...\n",
      "Previously generated mfl file removed...\n"
     ]
    }
   ],
   "source": [
    "#Filenames to write modified trx and mfl files to. Need full path because GNATS wrapper changes the directory to the GNATS directory.\n",
    "import os\n",
    "\n",
    "home_env = os.environ.get('HOME')\n",
    "trx_dir = '/home/edecarlo/para-atm-collection/miscellaneous/gnats-fpgen'\n",
    "results_dir = '/home/edecarlo/para-atm-collection/miscellaneous/gnats-fpgen'\n",
    "\n",
    "trx_fname = '/iff_to_gnats_geo'\n",
    "mfl_file= trx_dir+trx_fname+'_mfl.trx'\n",
    "trx_file = trx_dir+trx_fname+'.trx'\n",
    "results_file = results_dir+trx_fname+'.csv'\n",
    "\n",
    "if os.path.exists(trx_file):\n",
    "    os.remove(trx_file)\n",
    "    print('Previously generated trx file removed...')\n",
    "\n",
    "if os.path.exists(mfl_file):\n",
    "    os.remove(mfl_file)\n",
    "    print('Previously generated mfl file removed...')"
   ]
  },
  {
   "cell_type": "markdown",
   "metadata": {},
   "source": [
    "## Step 5 Generate NATS TRX and MFL files"
   ]
  },
  {
   "cell_type": "code",
   "execution_count": 7,
   "metadata": {
    "scrolled": true
   },
   "outputs": [
    {
     "name": "stdout",
     "output_type": "stream",
     "text": [
      "No viable destination airport found for ABC123. Returning random from FlightPlanSelector options.\n",
      "Gate at KSFO from IFF: Gate_D_56B\n",
      "Usable Runways for Departure at KSFO: ['RW01L', 'RW01R', 'RW10L', 'RW10R', 'RW19L', 'RW19R', 'RW28L', 'RW28R']\n",
      "Usable Runway Entries: ['Rwy_01_001', 'Rwy_02_002', 'Rwy_04_018', 'Rwy_03_011', 'Rwy_02_011', 'Rwy_01_008', 'Rwy_03_001', 'Rwy_04_001']\n",
      "Sorted Runway Node Options from IFF: ['Rwy_01_001']\n",
      "Rwy at KSFO from IFF: RW01L\n",
      "Validated Flight Plan: ABC123\n",
      "('KSFO.<{\"id\": \"Gate_D_56B\"}, {\"id\": \"Ramp_04_011\"}, {\"id\": \"Txy_A_010\"}, {\"id\": \"Txy_A_E\"}, {\"id\": \"Txy_A_009\"}, {\"id\": \"Txy_A_F1\"}, {\"id\": \"Txy_A_008\"}, {\"id\": \"Txy_A_G\"}, {\"id\": \"Txy_B_G\"}, {\"id\": \"Txy_B_H\"}, {\"id\": \"Txy_B_M\"}, {\"id\": \"Txy_M_002\"}, {\"id\": \"Rwy_01_001\"}>.RW01L.WESLA4.SAC095049..ILC..MEM.ERLIN2.WHINZ4.I27L.RW27L.<{\"id\": \"Rwy_04_001\"}, {\"id\": \"Txy_P_001\"}, {\"id\": \"Txy_P_002\"}, {\"id\": \"Txy_N_001\"}, {\"id\": \"Txy_P_003\"}, {\"id\": \"Rwy_03_001\"}, {\"id\": \"Txy_L_001\"}, {\"id\": \"Txy_L_101\"}, {\"id\": \"Txy_L_002\"}, {\"id\": \"Txy_L_003\"}, {\"id\": \"Txy_L_004\"}, {\"id\": \"Txy_L_005\"}, {\"id\": \"Txy_L_006\"}, {\"id\": \"Txy_L_007\"}, {\"id\": \"Txy_2S_001\"}, {\"id\": \"Ramp_02_015\"}, {\"id\": \"Ramp_02_016\"}, {\"id\": \"Ramp_02_017\"}, {\"id\": \"Ramp_02_018\"}, {\"id\": \"Ramp_02_019\"}, {\"id\": \"Ramp_02_020\"}, {\"id\": \"Ramp_02_021\"}, {\"id\": \"Ramp_02_022\"}, {\"id\": \"Ramp_02_023\"}, {\"id\": \"Ramp_02_024\"}, {\"id\": \"Ramp_03_008\"}, {\"id\": \"Gate_B_022\"}>.KATL', '373706.729599999995912', '-1222253.957999999981894')\n",
      "No viable origin airport found for ABC456. Returning random from FlightPlanSelector options.\n",
      "Gate at KSFO from IFF: Gate_C_045\n",
      "Usable Runways for Arrival at KSFO: ['RW10L', 'RW19L', 'RW19R', 'RW28L', 'RW28R']\n",
      "Usable Runway Entries: ['Rwy_04_018', 'Rwy_02_011', 'Rwy_01_008', 'Rwy_03_001', 'Rwy_04_001']\n",
      "Sorted Runway Node Options from IFF: ['Rwy_04_001']\n",
      "Rwy at KSFO from IFF: RW28R\n",
      "Validated Flight Plan: ABC456\n",
      "('KLAX.<>.RZS.J501.WHINZ4.I27L.RW28R.<{\"id\": \"Rwy_04_018\"}, {\"id\": \"Txy_S_002\"}, {\"id\": \"Txy_S2_002\"}, {\"id\": \"Txy_S_001\"}, {\"id\": \"Txy_S_R\"}, {\"id\": \"Txy_Z_R\"}, {\"id\": \"Txy_Z_S1\"}, {\"id\": \"Txy_Z_B1\"}, {\"id\": \"Txy_Z_Q\"}, {\"id\": \"Txy_B_003\"}, {\"id\": \"Txy_Q1_001\"}, {\"id\": \"Txy_A_014\"}, {\"id\": \"Txy_A_K\"}, {\"id\": \"Txy_A_013\"}, {\"id\": \"Txy_A_012\"}, {\"id\": \"Txy_A_011\"}, {\"id\": \"Txy_A_D\"}, {\"id\": \"Txy_A_010\"}, {\"id\": \"Txy_A_E\"}, {\"id\": \"Txy_A_009\"}, {\"id\": \"Txy_A_F1\"}, {\"id\": \"Txy_A_008\"}, {\"id\": \"Ramp_03_007\"}, {\"id\": \"Gate_C_045\"}>.KSFO', '343034.31999999998823', '-1194615.56999999997629')\n",
      "No viable destination airport found for DEF123. Returning random from FlightPlanSelector options.\n",
      "Random Gate at KSFO: Gate_01_73A\n",
      "Usable Runways for Departure at KSFO: ['RW01L', 'RW01R', 'RW10L', 'RW10R', 'RW19L', 'RW19R', 'RW28L', 'RW28R']\n",
      "Usable Runway Entries: ['Rwy_01_001', 'Rwy_02_002', 'Rwy_04_018', 'Rwy_03_011', 'Rwy_02_011', 'Rwy_01_008', 'Rwy_03_001', 'Rwy_04_001']\n",
      "Sorted Runway Node Options from IFF: ['Rwy_02_002']\n",
      "Rwy at KSFO from IFF: RW01R\n",
      "Validated Flight Plan: DEF123\n",
      "('KSFO.<{\"id\": \"Gate_01_73A\"}, {\"id\": \"Ramp_06_021\"}, {\"id\": \"Ramp_06_020\"}, {\"id\": \"Ramp_06_019\"}, {\"id\": \"Ramp_06_018\"}, {\"id\": \"Ramp_06_017\"}, {\"id\": \"Ramp_06_016\"}, {\"id\": \"Ramp_06_015\"}, {\"id\": \"Txy_A_B4\"}, {\"id\": \"Txy_A_B3\"}, {\"id\": \"Txy_A_B2\"}, {\"id\": \"Txy_A_B1\"}, {\"id\": \"Txy_A_016\"}, {\"id\": \"Txy_A_015\"}, {\"id\": \"Txy_A_012\"}, {\"id\": \"Txy_A_011\"}, {\"id\": \"Txy_A_D\"}, {\"id\": \"Txy_A_010\"}, {\"id\": \"Txy_A_E\"}, {\"id\": \"Txy_A_009\"}, {\"id\": \"Txy_A_F1\"}, {\"id\": \"Txy_A_008\"}, {\"id\": \"Txy_A_G\"}, {\"id\": \"Txy_A_007\"}, {\"id\": \"Txy_A_006\"}, {\"id\": \"Txy_A_005\"}, {\"id\": \"Txy_A_H\"}, {\"id\": \"Txy_A_004\"}, {\"id\": \"Txy_A_M\"}, {\"id\": \"Txy_A_003\"}, {\"id\": \"Txy_A_002\"}, {\"id\": \"Txy_A_A1\"}, {\"id\": \"Txy_A_001\"}, {\"id\": \"Rwy_02_001\"}, {\"id\": \"Rwy_02_002\"}>.RW01R.WESLA4.SAC095048..ILC..BCE..RSK..PNH.UKW8.YEAGR3.I35C.RW35C.<{\"id\": \"Rwy_05_001\"}, {\"id\": \"Txy_M_EF\"}, {\"id\": \"Rwy_04_001\"}, {\"id\": \"Txy_L_EF\"}, {\"id\": \"Txy_L_EG\"}, {\"id\": \"Txy_K_EG\"}, {\"id\": \"Txy_Y_006\"}, {\"id\": \"Txy_K_Y\"}, {\"id\": \"Txy_J_Y\"}, {\"id\": \"Txy_Y_012\"}, {\"id\": \"Txy_Y_JY\"}, {\"id\": \"Txy_Z_JY\"}, {\"id\": \"Txy_Z_010\"}, {\"id\": \"Txy_Z_009\"}, {\"id\": \"Txy_Z_HY\"}, {\"id\": \"Txy_Z_008\"}, {\"id\": \"Txy_G_Z\"}, {\"id\": \"Txy_G_G5\"}, {\"id\": \"Txy_G_007\"}, {\"id\": \"Txy_G_WJ\"}, {\"id\": \"Ramp_02_021\"}, {\"id\": \"Ramp_02_029\"}, {\"id\": \"Ramp_02_030\"}, {\"id\": \"Ramp_02_031\"}, {\"id\": \"Ramp_02_032\"}, {\"id\": \"Ramp_02_033\"}, {\"id\": \"Ramp_02_034\"}, {\"id\": \"Ramp_02_035\"}, {\"id\": \"Ramp_02_036\"}, {\"id\": \"Ramp_02_037\"}, {\"id\": \"Ramp_02_038\"}, {\"id\": \"Ramp_02_039\"}, {\"id\": \"Ramp_02_040\"}, {\"id\": \"Ramp_02_041\"}, {\"id\": \"Ramp_02_045\"}, {\"id\": \"Ramp_02_046\"}, {\"id\": \"Ramp_02_044\"}, {\"id\": \"Ramp_02_047\"}, {\"id\": \"Ramp_02_049\"}, {\"id\": \"Ramp_04_013\"}, {\"id\": \"Gate_D_038\"}>.KDFW', '373706.578399999993962', '-1222316.699200000017527')\n",
      "No viable destination airport found for DEF456. Returning random from FlightPlanSelector options.\n",
      "Gate at KSFO from IFF: Gate_D_56A\n",
      "Usable Runways for Departure at KSFO: ['RW01L', 'RW01R', 'RW10L', 'RW10R', 'RW19L', 'RW19R', 'RW28L', 'RW28R']\n",
      "Usable Runway Entries: ['Rwy_01_001', 'Rwy_02_002', 'Rwy_04_018', 'Rwy_03_011', 'Rwy_02_011', 'Rwy_01_008', 'Rwy_03_001', 'Rwy_04_001']\n",
      "Sorted Runway Node Options from IFF: ['Rwy_02_002']\n",
      "Rwy at KSFO from IFF: RW01R\n",
      "Validated Flight Plan: DEF456\n",
      "('KSFO.<{\"id\": \"Gate_D_56A\"}, {\"id\": \"Ramp_04_010\"}, {\"id\": \"Txy_A_E\"}, {\"id\": \"Txy_A_009\"}, {\"id\": \"Txy_A_F1\"}, {\"id\": \"Txy_A_008\"}, {\"id\": \"Txy_A_G\"}, {\"id\": \"Txy_A_007\"}, {\"id\": \"Txy_A_006\"}, {\"id\": \"Txy_A_005\"}, {\"id\": \"Txy_A_H\"}, {\"id\": \"Txy_A_004\"}, {\"id\": \"Txy_A_M\"}, {\"id\": \"Txy_A_003\"}, {\"id\": \"Txy_A_002\"}, {\"id\": \"Txy_A_A1\"}, {\"id\": \"Txy_A_001\"}, {\"id\": \"Rwy_02_001\"}, {\"id\": \"Rwy_02_002\"}>.RW01R.WESLA4.MVA..PAWLY.J84.EKR.J116.FQF.J80.MCI..ANX.TRAKE8.VLA9.I12R.RW12R.<{\"id\": \"Rwy_03_014\"}, {\"id\": \"Txy_H_002\"}, {\"id\": \"Txy_D_H\"}, {\"id\": \"Txy_H_001\"}, {\"id\": \"Txy_C_H\"}, {\"id\": \"Txy_C_021\"}, {\"id\": \"Txy_C_J\"}, {\"id\": \"Txy_C_C1\"}, {\"id\": \"Ramp_05_022\"}, {\"id\": \"Ramp_05_021\"}, {\"id\": \"Ramp_05_007\"}, {\"id\": \"Gate_02_E18\"}>.KSTL', '373705.689199999987977', '-1222251.10680000001821')\n"
     ]
    }
   ],
   "source": [
    "import time\n",
    "import numpy as np\n",
    "import pandas as pd\n",
    "from jpype import JPackage\n",
    "\n",
    "from paraatm.fpgen import (get_departure_airport_from_iff,\n",
    "                           get_arrival_airport_from_iff,\n",
    "                           get_gate_from_iff,\n",
    "                           get_rwy_from_iff,\n",
    "                           check_if_flight_has_departed_from_iff,\n",
    "                           check_if_flight_landing_from_iff,\n",
    "                           get_gate_lat_lon_from_nats,\n",
    "                           get_random_gate,\n",
    "                           get_random_runway)\n",
    "\n",
    "iffBaseAirport= \"KSFO\"\n",
    "clsGeometry = JPackage('com').osi.util.Geometry\n",
    "TRACK_TIME = time.time()\n",
    "\n",
    "for i,callsign in enumerate(cs[:10]):\n",
    "    flightInAir = check_if_flight_has_departed_from_iff(iff_data,callsign,natsSim,iffBaseAirport)\n",
    "    flightLandingInData = check_if_flight_landing_from_iff(iff_data,callsign,natsSim,iffBaseAirport)\n",
    "    \n",
    "    arrivalAirport = ''\n",
    "    departureAirport=''\n",
    "    arrivalRwy = ''\n",
    "    arrivalGate = ''\n",
    "    departureRwy =''\n",
    "    departureGate = ''\n",
    "    result_generated = ''\n",
    "\n",
    "    if flightInAir and flightLandingInData:\n",
    "        #Get departure airport. If none is known in the IFF+ASDEX file (i.e., it is not the airport whose name is in the iff_fname), then set departure airport as closest airport to the first lat/lon in the dataset. In the future, would like to use IFF_USA to determine departureAirport in this case\n",
    "        arrivalAirport = 'KSFO'\n",
    "        departureAirport = get_departure_airport_from_iff(iff_data,callsign,natsSim,arrivalAirport=iffBaseAirport,flmap=f.flmap)\n",
    "        arrivalGate= get_gate_from_iff(iff_data,callsign,natsSim,arrivalAirport)\n",
    "        arrivalRwy= get_rwy_from_iff(iff_data,callsign,natsSim,arrivalAirport,arrival=True)\n",
    "        departureGate = get_random_gate(natsSim,arrivalAirport)\n",
    "        departureRwy = get_random_runway(natsSim,arrivalAirport,arrival=False)\n",
    "        result_generated = f.generate(4, departureAirport, arrivalAirport, \"\", arrivalGate, \"\", arrivalRwy)\n",
    "        \n",
    "        timestamp = iff_data[3].loc[iff_data[3].callsign==callsign,'time'].iloc[0]\n",
    "        lat,lon = list(natsSim.airportInterface.getLocation(departureAirport))\n",
    "        latstr = clsGeometry.convertLatLonDeg_to_degMinSecString(str(lat))\n",
    "        lonstr = clsGeometry.convertLatLonDeg_to_degMinSecString(str(lon))\n",
    "        elev = np.max([iff_data[3].loc[iff_data[3].callsign==callsign,'altitude'].iloc[0]/100.,100.])\n",
    "        spd = iff_data[3].loc[iff_data[3].callsign==callsign,'tas'].iloc[0]\n",
    "        hdg = iff_data[3].loc[iff_data[3].callsign==callsign,'heading'].iloc[0]\n",
    "        aircraftType = 'B744'\n",
    "        \n",
    "    if  not flightInAir and not flightLandingInData:\n",
    "        departureAirport = 'KSFO'\n",
    "        arrivalAirport = get_arrival_airport_from_iff(iff_data,callsign,natsSim,departureAirport,f.flmap)\n",
    "        departureGate = get_gate_from_iff(iff_data,callsign,natsSim,departureAirport)\n",
    "        departureRwy = get_rwy_from_iff(iff_data,callsign,natsSim,departureAirport,arrival=False)\n",
    "        arrivalGate = get_random_gate(natsSim,arrivalAirport)\n",
    "        arrivalRwy = get_random_runway(natsSim,arrivalAirport,arrival=True)\n",
    "        result_generated = f.generate(1, departureAirport, arrivalAirport, departureGate, arrivalGate, departureRwy, arrivalRwy)\n",
    "        \n",
    "        timestamp = iff_data[3].loc[iff_data[3].callsign==callsign,'time'].iloc[0]\n",
    "        airportInstance = natsSim.airportInterface.select_airport(departureAirport)\n",
    "        elev = airportInstance.getElevation()/100.0  \n",
    "        lat,lon = get_gate_lat_lon_from_nats(natsSim,departureGate,departureAirport)\n",
    "        latstr = clsGeometry.convertLatLonDeg_to_degMinSecString(str(lat))\n",
    "        lonstr = clsGeometry.convertLatLonDeg_to_degMinSecString(str(lon))\n",
    "        aircraftType = 'B744'\n",
    "        spd = 0\n",
    "        hdg = 28\n",
    "    \n",
    "    if result_generated:\n",
    "        #TRACK_TIME = (timestamp-pd.Timestamp(\"1970-01-01\")) // pd.Timedelta('1s')\n",
    "        TRACK_TIME +=10\n",
    "        track_string = '%s %s %.4f %.4f %d %.2f %d %s %s' %(callsign,aircraftType,float(latstr),float(lonstr),spd,elev,hdg,'ZOA','ZOA46')\n",
    "        fp_route = result_generated[0]\n",
    "        fp_validated = natsSim.aircraftInterface.validate_flight_plan_record(track_string,fp_route,330)\n",
    "        print('Validated Flight Plan:',callsign)\n",
    "        fp_validated = True\n",
    "        if fp_validated:\n",
    "            print(result_generated)\n",
    "            with open(trx_file,'a') as trxFile:\n",
    "                tstr = '%s %s' % ('TRACK',track_string)\n",
    "                trxFile.write('%s %d' % ('TRACKTIME', TRACK_TIME) + '\\n')\n",
    "                trxFile.write( tstr + '\\n')\n",
    "                trxFile.write('    FP_ROUTE ' + fp_route + '\\n\\n')\n",
    "\n",
    "            with open(mfl_file,'a') as mflFile:\n",
    "                mflFile.write(callsign + ' ' + '330' + '\\n')\n",
    "        elif not fp_validated:\n",
    "            print('This flight plan was not validated:\\n', result_generated[0])\n",
    "                                    "
   ]
  },
  {
   "cell_type": "markdown",
   "metadata": {},
   "source": [
    "## Step 6: Simulate generated TRX and MFL files in NATS\n",
    "\n",
    "The generated files can be simulated in NATS using the co-located Jupyter notebook <code>run_nats.ipynb</code> which can be found <a href=http://localhost:8888/notebooks/run_nats.ipynb>here</a>.J"
   ]
  },
  {
   "cell_type": "code",
   "execution_count": 14,
   "metadata": {},
   "outputs": [
    {
     "data": {
      "text/plain": [
       "['ANJLL4',\n",
       " 'BASET5',\n",
       " 'BAYST1',\n",
       " 'BIGBR3',\n",
       " 'BOGET2',\n",
       " 'BRUEN2',\n",
       " 'DIRBY1',\n",
       " 'DOWNE4',\n",
       " 'GOATZ1',\n",
       " 'HLYWD1',\n",
       " 'HUULL2',\n",
       " 'IRNMN2',\n",
       " 'KIMMO3',\n",
       " 'LEENA7',\n",
       " 'MDNYT2',\n",
       " 'MOOR4',\n",
       " 'OCEAN3',\n",
       " 'OLAAA1',\n",
       " 'RYDRR2',\n",
       " 'SADDE8',\n",
       " 'SEAVU2',\n",
       " 'SHIVE1',\n",
       " 'SNSTT2',\n",
       " 'VISTA3',\n",
       " 'WAYVE1',\n",
       " 'ZUUMA2']"
      ]
     },
     "execution_count": 14,
     "metadata": {},
     "output_type": "execute_result"
    }
   ],
   "source": [
    "list(natsSim.terminalAreaInterface.getAllStars('KLAX'))"
   ]
  },
  {
   "cell_type": "code",
   "execution_count": 5,
   "metadata": {},
   "outputs": [
    {
     "data": {
      "text/plain": [
       "['H06LZ',\n",
       " 'H06RZ',\n",
       " 'H07LZ',\n",
       " 'H07RZ',\n",
       " 'H24LZ',\n",
       " 'H24RZ',\n",
       " 'H25LZ',\n",
       " 'H25RZ',\n",
       " 'I06L',\n",
       " 'I06R',\n",
       " 'I07L',\n",
       " 'I07R',\n",
       " 'I24L',\n",
       " 'I24R',\n",
       " 'I25L',\n",
       " 'I25R',\n",
       " 'L06L',\n",
       " 'L06R',\n",
       " 'L07L',\n",
       " 'L07R',\n",
       " 'L24L',\n",
       " 'L24R',\n",
       " 'L25L',\n",
       " 'L25R',\n",
       " 'R06LY',\n",
       " 'R06RY',\n",
       " 'R07LY',\n",
       " 'R07RY',\n",
       " 'R24LY',\n",
       " 'R24RY',\n",
       " 'R25LY',\n",
       " 'R25RY']"
      ]
     },
     "execution_count": 5,
     "metadata": {},
     "output_type": "execute_result"
    }
   ],
   "source": []
  },
  {
   "cell_type": "code",
   "execution_count": null,
   "metadata": {},
   "outputs": [],
   "source": []
  }
 ],
 "metadata": {
  "kernelspec": {
   "display_name": "Python 3",
   "language": "python",
   "name": "python3"
  },
  "language_info": {
   "codemirror_mode": {
    "name": "ipython",
    "version": 3
   },
   "file_extension": ".py",
   "mimetype": "text/x-python",
   "name": "python",
   "nbconvert_exporter": "python",
   "pygments_lexer": "ipython3",
   "version": "3.8.3"
  }
 },
 "nbformat": 4,
 "nbformat_minor": 4
}
