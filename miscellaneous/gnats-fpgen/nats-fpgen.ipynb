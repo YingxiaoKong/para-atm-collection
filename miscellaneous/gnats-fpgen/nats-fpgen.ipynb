{
 "cells": [
  {
   "cell_type": "markdown",
   "metadata": {},
   "source": [
    "# Demonstration of Creating and Running a NATS input file from IFF data\n",
    "## Read in IFF Data using PARA-ATM"
   ]
  },
  {
   "cell_type": "code",
   "execution_count": 2,
   "metadata": {},
   "outputs": [
    {
     "name": "stdout",
     "output_type": "stream",
     "text": [
      "Index(['recType', 'time', 'fltKey', 'bcnCode', 'cid', 'Source', 'msgType',\n",
      "       'callsign', 'recTypeCat', 'latitude', 'longitude', 'altitude',\n",
      "       'significance', 'coord1Accur', 'coord2Accur', 'altAccur', 'tas',\n",
      "       'heading', 'rocd', 'altQualifier', 'altIndicator', 'trackPtStatus',\n",
      "       'leaderDir', 'scratchPad', 'msawInhibitInd', 'assignedAltString',\n",
      "       'controllingFac', 'controllingSeg', 'receivingFac', 'receivingSec',\n",
      "       'activeContr', 'primaryContr', 'kybrdSubset', 'kybrdSymbol', 'adsCode',\n",
      "       'opsType', 'airportCode', 'trackNumber', 'tptReturnType', 'modeSCode'],\n",
      "      dtype='object')\n",
      "723\n"
     ]
    }
   ],
   "source": [
    "from paraatm.io import iff, gnats, utils\n",
    "from paraatm.io.iff import read_iff_file\n",
    "\n",
    "\n",
    "iff_fname = 'IFF_SFO_ASDEX_ABC123.csv'\n",
    "#iff_fname = 'IFF_SFO+ASDEX_20190511_080104_86221.csv'\n",
    "\n",
    "iff_data =  read_iff_file(iff_fname,record_types=[2,3,4,8])\n",
    "print(iff_data[3].columns)\n",
    "print(len(iff_data[3]))"
   ]
  },
  {
   "cell_type": "markdown",
   "metadata": {},
   "source": [
    "## Clean callsign list of UNKN, nan, 1200, and ground operations vehicles"
   ]
  },
  {
   "cell_type": "code",
   "execution_count": 3,
   "metadata": {},
   "outputs": [
    {
     "ename": "ValueError",
     "evalue": "list.remove(x): x not in list",
     "output_type": "error",
     "traceback": [
      "\u001b[0;31m---------------------------------------------------------------------------\u001b[0m",
      "\u001b[0;31mValueError\u001b[0m                                Traceback (most recent call last)",
      "\u001b[0;32m<ipython-input-3-450d26be3a97>\u001b[0m in \u001b[0;36m<module>\u001b[0;34m\u001b[0m\n\u001b[1;32m      2\u001b[0m \u001b[0mcallsigns\u001b[0m \u001b[0;34m=\u001b[0m \u001b[0miff_data\u001b[0m\u001b[0;34m[\u001b[0m\u001b[0;36m3\u001b[0m\u001b[0;34m]\u001b[0m\u001b[0;34m.\u001b[0m\u001b[0mcallsign\u001b[0m\u001b[0;34m.\u001b[0m\u001b[0munique\u001b[0m\u001b[0;34m(\u001b[0m\u001b[0;34m)\u001b[0m\u001b[0;34m\u001b[0m\u001b[0;34m\u001b[0m\u001b[0m\n\u001b[1;32m      3\u001b[0m \u001b[0mcs\u001b[0m \u001b[0;34m=\u001b[0m \u001b[0mcallsigns\u001b[0m\u001b[0;34m.\u001b[0m\u001b[0mtolist\u001b[0m\u001b[0;34m(\u001b[0m\u001b[0;34m)\u001b[0m\u001b[0;34m\u001b[0m\u001b[0;34m\u001b[0m\u001b[0m\n\u001b[0;32m----> 4\u001b[0;31m \u001b[0mcs\u001b[0m\u001b[0;34m.\u001b[0m\u001b[0mremove\u001b[0m\u001b[0;34m(\u001b[0m\u001b[0;34m'UNKN'\u001b[0m\u001b[0;34m)\u001b[0m \u001b[0;31m# remove 'UNKN'\u001b[0m\u001b[0;34m\u001b[0m\u001b[0;34m\u001b[0m\u001b[0m\n\u001b[0m\u001b[1;32m      5\u001b[0m \u001b[0mcs\u001b[0m \u001b[0;34m=\u001b[0m \u001b[0;34m[\u001b[0m\u001b[0mx\u001b[0m \u001b[0;32mfor\u001b[0m \u001b[0mx\u001b[0m \u001b[0;32min\u001b[0m \u001b[0mcs\u001b[0m \u001b[0;32mif\u001b[0m \u001b[0;34m(\u001b[0m\u001b[0mstr\u001b[0m\u001b[0;34m(\u001b[0m\u001b[0mx\u001b[0m\u001b[0;34m)\u001b[0m \u001b[0;34m!=\u001b[0m \u001b[0;34m'nan'\u001b[0m\u001b[0;34m)\u001b[0m\u001b[0;34m]\u001b[0m \u001b[0;31m#remove nan\u001b[0m\u001b[0;34m\u001b[0m\u001b[0;34m\u001b[0m\u001b[0m\n\u001b[1;32m      6\u001b[0m \u001b[0mcs\u001b[0m \u001b[0;34m=\u001b[0m \u001b[0;34m[\u001b[0m\u001b[0mx\u001b[0m \u001b[0;32mfor\u001b[0m \u001b[0mx\u001b[0m \u001b[0;32min\u001b[0m \u001b[0mcs\u001b[0m \u001b[0;32mif\u001b[0m \u001b[0;32mnot\u001b[0m \u001b[0mx\u001b[0m\u001b[0;34m.\u001b[0m\u001b[0mstartswith\u001b[0m\u001b[0;34m(\u001b[0m\u001b[0;34m'OPS'\u001b[0m\u001b[0;34m)\u001b[0m\u001b[0;34m]\u001b[0m \u001b[0;31m#remove ground operation vehicles\u001b[0m\u001b[0;34m\u001b[0m\u001b[0;34m\u001b[0m\u001b[0m\n",
      "\u001b[0;31mValueError\u001b[0m: list.remove(x): x not in list"
     ]
    }
   ],
   "source": [
    "#Note not necessary for sample file and will produce an error\n",
    "callsigns = iff_data[3].callsign.unique()\n",
    "cs = callsigns.tolist()\n",
    "cs.remove('UNKN') # remove 'UNKN'\n",
    "cs = [x for x in cs if (str(x) != 'nan')] #remove nan\n",
    "cs = [x for x in cs if not x.startswith('OPS')] #remove ground operation vehicles\n",
    "cs.remove('1200')"
   ]
  },
  {
   "cell_type": "markdown",
   "metadata": {},
   "source": [
    "## Start NATS Simulation in the background"
   ]
  },
  {
   "cell_type": "code",
   "execution_count": 4,
   "metadata": {},
   "outputs": [],
   "source": [
    "from gnats_gate_to_gate import GateToGate\n",
    "natsSim = GateToGate()"
   ]
  },
  {
   "cell_type": "markdown",
   "metadata": {},
   "source": [
    "## Create FlightPlanSelector object"
   ]
  },
  {
   "cell_type": "code",
   "execution_count": 5,
   "metadata": {},
   "outputs": [],
   "source": [
    "from FlightPlanSelector import FlightPlanSelector\n",
    "dirPath = natsSim.DIR_share\n",
    "fpath = dirPath + '/tg/trx/TRX_07132005_noduplicates_crypted'\n",
    "f=FlightPlanSelector(natsSim,fname=fpath)"
   ]
  },
  {
   "cell_type": "markdown",
   "metadata": {},
   "source": [
    "## Generate NATS TRX flightplans"
   ]
  },
  {
   "cell_type": "code",
   "execution_count": 6,
   "metadata": {},
   "outputs": [
    {
     "name": "stdout",
     "output_type": "stream",
     "text": [
      "Previously generated trx file removed...\n",
      "Previously generated mfl file removed...\n"
     ]
    }
   ],
   "source": [
    "import os\n",
    "from iff_functions import (get_departure_airport_from_iff,\n",
    "                           get_arrival_airport_from_iff,\n",
    "                           get_departure_gate_and_rwy_from_iff,\n",
    "                           get_arrival_gate_and_rwy_from_iff,\n",
    "                           random_airport_gate_and_rwy,\n",
    "                           check_if_flight_has_departed,\n",
    "                           check_if_flight_landing_in_dataset)\n",
    "\n",
    "iffBaseAirport= \"KSFO\"\n",
    "\n",
    "#Filenames to write modified trx and mfl files to. Need full path because GNATS wrapper changes the directory to the GNATS directory.\n",
    "home_env = os.environ.get('HOME')\n",
    "trx_dir = '/home/edecarlo/para-atm-collection/miscellaneous/gnats-fpgen'\n",
    "results_dir = '/home/edecarlo/para-atm-collection/miscellaneous/gnats-fpgen'\n",
    "\n",
    "trx_fname = '/iff_to_gnats_geo'\n",
    "mfl_file= trx_dir+trx_fname+'_mfl.trx'\n",
    "trx_file = trx_dir+trx_fname+'.trx'\n",
    "results_file = results_dir+trx_fname+'.csv'\n",
    "\n",
    "if os.path.exists(trx_file):\n",
    "    os.remove(trx_file)\n",
    "    print('Previously generated trx file removed...')\n",
    "\n",
    "if os.path.exists(mfl_file):\n",
    "    os.remove(mfl_file)\n",
    "    print('Previously generated mfl file removed...')"
   ]
  },
  {
   "cell_type": "code",
   "execution_count": 7,
   "metadata": {},
   "outputs": [
    {
     "name": "stdout",
     "output_type": "stream",
     "text": [
      "ABC123 0\n",
      "No viable destination airport found for ABC123. Returning random from FlightPlanSelector options.\n",
      "('KSFO.<{\"id\": \"Gate_B_031\"}, {\"id\": \"Ramp_03_002\"}, {\"id\": \"Ramp_03_003\"}, {\"id\": \"Ramp_03_004\"}, {\"id\": \"Txy_A_007\"}, {\"id\": \"Txy_A_G\"}, {\"id\": \"Txy_A_008\"}, {\"id\": \"Txy_A_F1\"}, {\"id\": \"Txy_B_F1\"}, {\"id\": \"Txy_F1_001\"}, {\"id\": \"Rwy_01_004\"}, {\"id\": \"Txy_F1_002\"}, {\"id\": \"Txy_F1_003\"}, {\"id\": \"Rwy_02_005\"}, {\"id\": \"Txy_F1_004\"}, {\"id\": \"Txy_F_L\"}, {\"id\": \"Txy_L_006\"}, {\"id\": \"Rwy_03_004\"}, {\"id\": \"Txy_L_007\"}, {\"id\": \"Txy_L_008\"}, {\"id\": \"Rwy_04_006\"}, {\"id\": \"Txy_L_009\"}, {\"id\": \"Txy_C_L\"}, {\"id\": \"Txy_L_V\"}, {\"id\": \"Txy_L_E\"}, {\"id\": \"Txy_L_010\"}, {\"id\": \"Txy_L_011\"}, {\"id\": \"Rwy_02_011\"}>.RW19L.WESLA4.MVA.J84.EKR..DVV..MCK.J130.PWE..IRK..CAP..DNV.TARNE3.TIGRR2.I36R.RW36R.<{\"id\": \"rwy_02_008\"}, {\"id\": \"txy_T_015\"}, {\"id\": \"txy_T_014\"}, {\"id\": \"txy_S_014\"}, {\"id\": \"txy_S_013\"}, {\"id\": \"txy_S_012\"}, {\"id\": \"spot_02\"}, {\"id\": \"ramp_03_014\"}, {\"id\": \"ramp_03_015\"}, {\"id\": \"ramp_03_016\"}, {\"id\": \"ramp_03_017\"}, {\"id\": \"ramp_03_018\"}, {\"id\": \"ramp_03_019\"}, {\"id\": \"Gate_A_014\"}>.KCVG', '373648.97799999999904', '-1222304.423200000009047')\n"
     ]
    }
   ],
   "source": [
    "import time\n",
    "import numpy as np\n",
    "from jpype import JPackage\n",
    "\n",
    "TRACK_TIME = time.time()\n",
    "clsGeometry = JPackage('com').osi.util.Geometry\n",
    "\n",
    "for i,callsign in enumerate(cs[0:10]):\n",
    "    flightInAir = check_if_flight_has_departed(iff_data,callsign,natsSim,iffBaseAirport)\n",
    "    flightLandingInData = check_if_flight_landing_in_dataset(iff_data,callsign,natsSim,iffBaseAirport)\n",
    "    \n",
    "    arrivalAirport = ''\n",
    "    departureAirport=''\n",
    "    arrivalRwy = ''\n",
    "    arrivalGate = ''\n",
    "    departureRwy =''\n",
    "    departureGate = ''\n",
    "    result_generated = ''\n",
    "\n",
    "    if flightInAir and flightLandingInData:\n",
    "        #Get departure airport. If none is known in the IFF+ASDEX file (i.e., it is not the airport whose name is in the iff_fname), then set departure airport as closest airport to the first lat/lon in the dataset. In the future, would like to use IFF_USA to determine departureAirport in this case\n",
    "        print (callsign, i)\n",
    "        arrivalAirport = 'KSFO'\n",
    "        departureAirport = get_departure_airport_from_iff(iff_data,callsign,natsSim,arrivalAirport=iffBaseAirport,flmap=f.flmap)\n",
    "        #departureAirport = 'KEWR'\n",
    "        arrivalGate,arrivalRwy= get_arrival_gate_and_rwy_from_iff(iff_data,callsign,natsSim,arrivalAirport)\n",
    "        result_generated = f.generate(4, departureAirport, arrivalAirport, \"\", arrivalGate, \"\", arrivalRwy)\n",
    "        print(result_generated)\n",
    "        \n",
    "\n",
    "        lat = iff_data[3].loc[iff_data[3].callsign==callsign,'latitude'].iloc[0]\n",
    "        lon = iff_data[3].loc[iff_data[3].callsign==callsign,'longitude'].iloc[0]\n",
    "        latstr = clsGeometry.convertLatLonDeg_to_degMinSecString(str(lat))\n",
    "        lonstr = clsGeometry.convertLatLonDeg_to_degMinSecString(str(lon))\n",
    "        elev = np.max([iff_data[3].loc[iff_data[3].callsign==callsign,'altitude'].iloc[0]/100.,100.])\n",
    "        spd = iff_data[3].loc[iff_data[3].callsign==callsign,'tas'].iloc[0]\n",
    "        hdg = iff_data[3].loc[iff_data[3].callsign==callsign,'heading'].iloc[0]\n",
    "        aircraftType = 'B744'\n",
    "        \n",
    "    if  not flightInAir and not flightLandingInData:\n",
    "        print (callsign, i)\n",
    "        departureAirport = 'KSFO'\n",
    "        arrivalAirport = get_arrival_airport_from_iff(iff_data,callsign,natsSim,departureAirport,f.flmap)\n",
    "        #arrivalAirport = 'KEWR'\n",
    "        departureGate,departureRwy = get_departure_gate_and_rwy_from_iff(iff_data,callsign,natsSim,departureAirport) #doesn't exist\n",
    "        arrivalGate,arrivalRwy = random_airport_gate_and_rwy(natsSim,arrivalAirport)\n",
    "        result_generated = f.generate(1, departureAirport, arrivalAirport, departureGate, arrivalGate, departureRwy, arrivalRwy)\n",
    "        print(result_generated)\n",
    "        \n",
    "        airportInstance = natsSim.airportInterface.select_airport(departureAirport)\n",
    "        elev = airportInstance.getElevation()/100.0  \n",
    "        lat = airportInstance.getLatitude()\n",
    "        lon = airportInstance.getLongitude()\n",
    "        latstr = clsGeometry.convertLatLonDeg_to_degMinSecString(str(lat))\n",
    "        lonstr = clsGeometry.convertLatLonDeg_to_degMinSecString(str(lon))\n",
    "        aircraftType = 'B744'\n",
    "        spd = 0\n",
    "        hdg = 28\n",
    "   \n",
    "    if result_generated:\n",
    "        TRACK_TIME += 10\n",
    "        with open(trx_file,'a') as trxFile:\n",
    "            tstr = '%s %s %s %.4f %.4f %d %.2f %d %s %s' % ('TRACK',callsign,aircraftType,float(latstr),float(lonstr),spd,elev,hdg,'ZOA','ZOA46')\n",
    "            trxFile.write('%s %d' % ('TRACKTIME', TRACK_TIME) + '\\n')\n",
    "            trxFile.write( tstr + '\\n')\n",
    "            trxFile.write('    FP_ROUTE ' + result_generated[0] + '\\n\\n')\n",
    "\n",
    "        with open(mfl_file,'a') as mflFile:\n",
    "            mflFile.write(callsign + ' ' + '330' + '\\n')"
   ]
  },
  {
   "cell_type": "code",
   "execution_count": null,
   "metadata": {},
   "outputs": [],
   "source": [
    "data=natsSim(trx_name=trx_file,mfl_name=mfl_file)['trajectory']\n",
    "natsSim.write_output(results_file)\n",
    "natsSim.cleanup()"
   ]
  },
  {
   "cell_type": "code",
   "execution_count": 10,
   "metadata": {
    "scrolled": true
   },
   "outputs": [
    {
     "ename": "KeyboardInterrupt",
     "evalue": "",
     "output_type": "error",
     "traceback": [
      "\u001b[0;31m---------------------------------------------------------------------------\u001b[0m",
      "\u001b[0;31mKeyboardInterrupt\u001b[0m                         Traceback (most recent call last)",
      "\u001b[0;32m<ipython-input-10-8c35db9e3794>\u001b[0m in \u001b[0;36m<module>\u001b[0;34m\u001b[0m\n\u001b[1;32m      1\u001b[0m \u001b[0;32mfrom\u001b[0m \u001b[0mparaatm\u001b[0m\u001b[0;34m.\u001b[0m\u001b[0mplotting\u001b[0m \u001b[0;32mimport\u001b[0m \u001b[0mplot_trajectory\u001b[0m\u001b[0;34m\u001b[0m\u001b[0;34m\u001b[0m\u001b[0m\n\u001b[0;32m----> 2\u001b[0;31m \u001b[0mdata\u001b[0m\u001b[0;34m=\u001b[0m\u001b[0mnatsSim\u001b[0m\u001b[0;34m(\u001b[0m\u001b[0mtrx_name\u001b[0m\u001b[0;34m=\u001b[0m\u001b[0mtrx_file\u001b[0m\u001b[0;34m,\u001b[0m\u001b[0mmfl_name\u001b[0m\u001b[0;34m=\u001b[0m\u001b[0mmfl_file\u001b[0m\u001b[0;34m)\u001b[0m\u001b[0;34m[\u001b[0m\u001b[0;34m'trajectory'\u001b[0m\u001b[0;34m]\u001b[0m\u001b[0;34m\u001b[0m\u001b[0;34m\u001b[0m\u001b[0m\n\u001b[0m\u001b[1;32m      3\u001b[0m \u001b[0mplot_trajectory\u001b[0m\u001b[0;34m(\u001b[0m\u001b[0mdata\u001b[0m\u001b[0;34m,\u001b[0m \u001b[0moutput_notebook\u001b[0m\u001b[0;34m=\u001b[0m\u001b[0;32mTrue\u001b[0m\u001b[0;34m,\u001b[0m \u001b[0mplot_width\u001b[0m\u001b[0;34m=\u001b[0m\u001b[0;36m600\u001b[0m\u001b[0;34m,\u001b[0m \u001b[0mplot_height\u001b[0m\u001b[0;34m=\u001b[0m\u001b[0;36m400\u001b[0m\u001b[0;34m)\u001b[0m\u001b[0;34m\u001b[0m\u001b[0;34m\u001b[0m\u001b[0m\n",
      "\u001b[0;32m~/para-atm/paraatm/io/nats.py\u001b[0m in \u001b[0;36m__call__\u001b[0;34m(self, output_file, return_df, **kwargs)\u001b[0m\n\u001b[1;32m    275\u001b[0m         \u001b[0mresults\u001b[0m \u001b[0;34m=\u001b[0m \u001b[0mdict\u001b[0m\u001b[0;34m(\u001b[0m\u001b[0;34m)\u001b[0m\u001b[0;34m\u001b[0m\u001b[0;34m\u001b[0m\u001b[0m\n\u001b[1;32m    276\u001b[0m \u001b[0;34m\u001b[0m\u001b[0m\n\u001b[0;32m--> 277\u001b[0;31m         \u001b[0mresults\u001b[0m\u001b[0;34m[\u001b[0m\u001b[0;34m'sim_results'\u001b[0m\u001b[0;34m]\u001b[0m \u001b[0;34m=\u001b[0m \u001b[0mself\u001b[0m\u001b[0;34m.\u001b[0m\u001b[0msimulation\u001b[0m\u001b[0;34m(\u001b[0m\u001b[0;34m**\u001b[0m\u001b[0mkwargs\u001b[0m\u001b[0;34m)\u001b[0m\u001b[0;34m\u001b[0m\u001b[0;34m\u001b[0m\u001b[0m\n\u001b[0m\u001b[1;32m    278\u001b[0m \u001b[0;34m\u001b[0m\u001b[0m\n\u001b[1;32m    279\u001b[0m         \u001b[0;32mif\u001b[0m \u001b[0moutput_file\u001b[0m \u001b[0;32mis\u001b[0m \u001b[0;32mNone\u001b[0m\u001b[0;34m:\u001b[0m\u001b[0;34m\u001b[0m\u001b[0;34m\u001b[0m\u001b[0m\n",
      "\u001b[0;32m~/para-atm-collection/miscellaneous/gnats-fpgen/gnats_gate_to_gate.py\u001b[0m in \u001b[0;36msimulation\u001b[0;34m(self, trx_name, mfl_name)\u001b[0m\n\u001b[1;32m     52\u001b[0m                 \u001b[0;32mbreak\u001b[0m\u001b[0;34m\u001b[0m\u001b[0;34m\u001b[0m\u001b[0m\n\u001b[1;32m     53\u001b[0m             \u001b[0;32melse\u001b[0m\u001b[0;34m:\u001b[0m\u001b[0;34m\u001b[0m\u001b[0;34m\u001b[0m\u001b[0m\n\u001b[0;32m---> 54\u001b[0;31m                 \u001b[0mtime\u001b[0m\u001b[0;34m.\u001b[0m\u001b[0msleep\u001b[0m\u001b[0;34m(\u001b[0m\u001b[0;36m1\u001b[0m\u001b[0;34m)\u001b[0m\u001b[0;34m\u001b[0m\u001b[0;34m\u001b[0m\u001b[0m\n\u001b[0m\u001b[1;32m     55\u001b[0m \u001b[0;34m\u001b[0m\u001b[0m\n\u001b[1;32m     56\u001b[0m         \u001b[0;31m# Pilot to set error scenarios\u001b[0m\u001b[0;34m\u001b[0m\u001b[0;34m\u001b[0m\u001b[0;34m\u001b[0m\u001b[0m\n",
      "\u001b[0;31mKeyboardInterrupt\u001b[0m: "
     ]
    }
   ],
   "source": [
    "from paraatm.plotting import plot_trajectory\n",
    "data=natsSim(trx_name=trx_file,mfl_name=mfl_file)['trajectory']\n",
    "plot_trajectory(data, output_notebook=True, plot_width=600, plot_height=400)"
   ]
  },
  {
   "cell_type": "code",
   "execution_count": 11,
   "metadata": {},
   "outputs": [],
   "source": [
    "rwys=natsSim.airportInterface.getRunwayEnds(arrivalAirport,arrivalRwy)"
   ]
  },
  {
   "cell_type": "code",
   "execution_count": 13,
   "metadata": {},
   "outputs": [
    {
     "data": {
      "text/plain": [
       "('KPHX', 'Rwy_03_001')"
      ]
     },
     "execution_count": 13,
     "metadata": {},
     "output_type": "execute_result"
    }
   ],
   "source": [
    "arrivalAirport,arrivalRwy"
   ]
  },
  {
   "cell_type": "code",
   "execution_count": 8,
   "metadata": {},
   "outputs": [],
   "source": [
    "from nats_functions import (get_closest_node_at_airport,\n",
    "                            get_list_of_adjacent_nodes,\n",
    "                            get_adjacent_node_closer_to_runway,\n",
    "                            get_closest_airport,\n",
    "                            get_landing_rwy_entry_and_end_point,\n",
    "                            get_usable_apts_and_rwys)"
   ]
  },
  {
   "cell_type": "code",
   "execution_count": 9,
   "metadata": {},
   "outputs": [
    {
     "data": {
      "text/plain": [
       "['RW03R', 'RW04R', 'RW21L', 'RW22L', 'RW27L', 'RW27R']"
      ]
     },
     "execution_count": 9,
     "metadata": {},
     "output_type": "execute_result"
    }
   ],
   "source": [
    "usable_apts_and_rwys=get_usable_apts_and_rwys(natsSim)\n",
    "usable_apts_and_rwys[arrivalAirport]"
   ]
  },
  {
   "cell_type": "code",
   "execution_count": 11,
   "metadata": {
    "scrolled": true
   },
   "outputs": [
    {
     "data": {
      "text/plain": [
       "'RW09R'"
      ]
     },
     "execution_count": 11,
     "metadata": {},
     "output_type": "execute_result"
    }
   ],
   "source": []
  },
  {
   "cell_type": "code",
   "execution_count": 12,
   "metadata": {},
   "outputs": [
    {
     "data": {
      "text/plain": [
       "'RW09L'"
      ]
     },
     "execution_count": 12,
     "metadata": {},
     "output_type": "execute_result"
    }
   ],
   "source": [
    "arrivalRwy"
   ]
  },
  {
   "cell_type": "code",
   "execution_count": null,
   "metadata": {},
   "outputs": [],
   "source": [
    "\n",
    "  "
   ]
  },
  {
   "cell_type": "code",
   "execution_count": null,
   "metadata": {},
   "outputs": [],
   "source": []
  },
  {
   "cell_type": "code",
   "execution_count": null,
   "metadata": {},
   "outputs": [],
   "source": []
  }
 ],
 "metadata": {
  "kernelspec": {
   "display_name": "Python 3",
   "language": "python",
   "name": "python3"
  },
  "language_info": {
   "codemirror_mode": {
    "name": "ipython",
    "version": 3
   },
   "file_extension": ".py",
   "mimetype": "text/x-python",
   "name": "python",
   "nbconvert_exporter": "python",
   "pygments_lexer": "ipython3",
   "version": "3.8.3"
  }
 },
 "nbformat": 4,
 "nbformat_minor": 4
}
