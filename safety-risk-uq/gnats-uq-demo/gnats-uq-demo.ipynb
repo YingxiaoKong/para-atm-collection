{
 "cells": [
  {
   "cell_type": "markdown",
   "id": "fa11c651",
   "metadata": {},
   "source": [
    "# Demonstration of Uncertainty Propagation with GNATS\n",
    "Author: Erin DeCarlo, Southwest Research Institute\n",
    "\n",
    "Email: erin.decarlo@swri.org\n",
    "\n",
    "This module demonstrates uncertainty propagation with GNATS. It takes a TRX file generated from IFF data using the `paraatm.fpgen` sub-module in the `paraatm` Python package. "
   ]
  },
  {
   "cell_type": "markdown",
   "id": "ad8f8675",
   "metadata": {},
   "source": [
    "## Code Requirements\n",
    "The requirements for this demonstration module are `paraatm` and GNATS release installation which can be found [here](https://github.com/OptimalSynthesisInc/GNATS).\n",
    "\n",
    "Data for this demo can be accessed through NASA's Sherlock Data Warehouse."
   ]
  },
  {
   "cell_type": "code",
   "execution_count": 1,
   "id": "7ca8ad1f",
   "metadata": {},
   "outputs": [],
   "source": [
    "import numpy as np\n",
    "import matplotlib.pyplot as plt"
   ]
  },
  {
   "cell_type": "markdown",
   "id": "6d037ea2",
   "metadata": {},
   "source": [
    "## Step 1 of Code"
   ]
  },
  {
   "cell_type": "code",
   "execution_count": null,
   "id": "1577dbdc",
   "metadata": {},
   "outputs": [],
   "source": []
  }
 ],
 "metadata": {
  "kernelspec": {
   "display_name": "Python 3",
   "language": "python",
   "name": "python3"
  },
  "language_info": {
   "codemirror_mode": {
    "name": "ipython",
    "version": 3
   },
   "file_extension": ".py",
   "mimetype": "text/x-python",
   "name": "python",
   "nbconvert_exporter": "python",
   "pygments_lexer": "ipython3",
   "version": "3.8.8"
  }
 },
 "nbformat": 4,
 "nbformat_minor": 5
}
