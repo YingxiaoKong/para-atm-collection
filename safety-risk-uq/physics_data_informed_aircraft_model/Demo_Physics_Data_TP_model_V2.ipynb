{
 "cells": [
  {
   "cell_type": "markdown",
   "metadata": {},
   "source": [
    "# Physics- and Data-Informed Aircraft Dynamics Model for Risk Assement and Model Form Error Estimation of Simulated Flight Paths\n",
    "\n",
    "Author: Abhinav Subramanian - Vanderbilt University\n",
    "\n",
    "Email: abhinav.subramanian@vanderbilt.edu\n",
    "\n",
    "The goal of this demonstration is to showcase a dynamic model for aircraft simulation that incorporates physics-based estimates of flight quantities such as drag and thrust, as well as real flight, data to produce flight path predictions. The physics model results, combined with flight data from a public database (FlightAware), are used to assess and correct model form errors in the simulation, as well as obtain risk and safety assesments for the simulated flight path."
   ]
  },
  {
   "cell_type": "markdown",
   "metadata": {},
   "source": [
    "# Part 2. Demonstration of the physics and data informed aircraft dynamics model\n",
    "\n",
    "We begin by formulating a physics-informed ttrajectory prediction model. Using partial trajectory data for an ongoing flight, we evaluate and correct for errors in this model. Finally, we predict the remaining flight trajectory using the corrected trajectory prediction model."
   ]
  },
  {
   "cell_type": "markdown",
   "metadata": {},
   "source": [
    "## Module requirements:\n",
    "\n",
    "The following packages are required to run this module:\n",
    "\n",
    "- **[```numpy```]**\n",
    "    - Provides support for array operations \n",
    "    \n",
    "- **[```matplotlib```]**\n",
    "    - Main plotting functionalities\n",
    "\n",
    "- **[```pandas```]**\n",
    "    - Provides data structures and operations for manipulating numerical tables and time series\n",
    "\n",
    "- **[```pickle```]**\n",
    "    - Addresses data storage\n",
    "\n",
    "These packages are part of the standard Python library (no installation needed). The following can be installed using ```conda install packagename```.\n",
    "\n",
    "- **[```lxml```]**\n",
    "    - Pythonic binding for XML processing, called in the submodule ```pyfn_FlightAware_trajectory_extractor```.\n",
    "\n",
    "The module calls the follwing submodules (stored in separate files):\n",
    "\n",
    "- **[```pyfn_FlightAware_trajectory_extractor.py```]**\n",
    "    - Main function for extracting data from FlightAware\n",
    "    \n",
    "- **[```fn_flight_phases.py```]**\n",
    "    - Identifies different flight phases\n",
    "\n",
    "- **[```fn_BADA_forces.py```]**\n",
    "    - Computes aerodynamic forces acting on aircraft body\n",
    "    \n",
    "This module also requires a valid FlightAware URL for a completed flight [eg. 'https://flightaware.com/live/flight/UAL1895/history/20200224/1225Z/KTPA/KIAH/tracklog']"
   ]
  },
  {
   "cell_type": "markdown",
   "metadata": {},
   "source": [
    "## Procedure 1: Importing and pre-processing of flight data"
   ]
  },
  {
   "cell_type": "code",
   "execution_count": 1,
   "metadata": {},
   "outputs": [],
   "source": [
    "from fn_FlightAware_TrajData import pyfn_FlightAware_trajectory_extractor\n",
    "from fn_flight_phases import pyfn_flight_phase\n",
    "from fn_BADA_forces import pyfn_BADA_drag_thrust\n",
    "\n",
    "import numpy as np\n",
    "import pickle\n",
    "import matplotlib.pyplot as plt\n",
    "import pandas as pd\n",
    "\n",
    "from scipy.interpolate import interp1d\n",
    "\n",
    "# Load BADA data for aircraft models\n",
    "filename2 = 'data_dictBADA_2'\n",
    "with open(filename2, 'rb') as f:\n",
    "    dictBADA_2 = pickle.load(f)\n"
   ]
  },
  {
   "cell_type": "code",
   "execution_count": 2,
   "metadata": {},
   "outputs": [],
   "source": [
    "# Enter (a) a valid FlightAware URL [along witFA_URL],\n",
    "#       (b) aircraft model number [AC_model], and\n",
    "#       (c) ground level at origin airport, in ft. (GL_Origin)\n",
    "FA_URL = 'https://flightaware.com/live/flight/UAL2120/history/20220129/0125Z/KSFO/KPHX/tracklog'\n",
    "AC_model = 'B738'\n",
    "GL_Origin = 13.1"
   ]
  },
  {
   "cell_type": "code",
   "execution_count": 3,
   "metadata": {},
   "outputs": [],
   "source": [
    "# Extract FlightAware trajectory from the specified URL\n",
    "traj_mat = pyfn_FlightAware_trajectory_extractor(FA_URL)"
   ]
  },
  {
   "cell_type": "code",
   "execution_count": 4,
   "metadata": {},
   "outputs": [],
   "source": [
    "# Reformat traj_mat\n",
    "traj_mat[\"Latitude\"] = pd.to_numeric(traj_mat[\"Latitude\"])\n",
    "traj_mat[\"Longitude\"] = pd.to_numeric(traj_mat[\"Longitude\"])\n",
    "traj_mat[\"Course_deg\"] = pd.to_numeric(traj_mat[\"Course_deg\"])\n",
    "traj_mat[\"TAS_kts\"] = pd.to_numeric(traj_mat[\"TAS_kts\"])\n",
    "traj_mat[\"TAS_mph\"] = pd.to_numeric(traj_mat[\"TAS_mph\"])\n",
    "traj_mat[\"Altitude_ft\"] = pd.to_numeric(traj_mat[\"Altitude_ft\"])\n",
    "traj_mat[\"ROCD\"] = pd.to_numeric(traj_mat[\"ROCD\"])"
   ]
  },
  {
   "cell_type": "code",
   "execution_count": 5,
   "metadata": {},
   "outputs": [
    {
     "name": "stderr",
     "output_type": "stream",
     "text": [
      "C:\\Users\\Abhinav\\Documents\\NASA_codes_for_paraATM\\SectorwideRisk_module\\Github\\physics_data_informed_aircraft_model\\fn_flight_phases.py:31: ConvergenceWarning: Number of distinct clusters (2) found smaller than n_clusters (3). Possibly due to duplicate points in X.\n",
      "  kmeans.fit(temp2)\n",
      "C:\\Users\\Abhinav\\Documents\\NASA_codes_for_paraATM\\SectorwideRisk_module\\Github\\physics_data_informed_aircraft_model\\fn_flight_phases.py:31: ConvergenceWarning: Number of distinct clusters (2) found smaller than n_clusters (4). Possibly due to duplicate points in X.\n",
      "  kmeans.fit(temp2)\n"
     ]
    }
   ],
   "source": [
    "# Analyze the extracted data\n",
    "# (a) detect flight phases (climb, cruise, descent)\n",
    "# (b) detect multiple altitude levels at cruise, if present (due to step climb),\n",
    "# (c) check if the aircraft was held at a constant altitude during descent phase\n",
    "\n",
    "ROCD = traj_mat.ROCD.values\n",
    "Altitude_ft = traj_mat.Altitude_ft.values\n",
    "Time_s = traj_mat.Time_s.values\n",
    "\n",
    "Ix_ToC, Ix_ToD, time_cluster_all, alt_cluster_all, hold_descent_altitudes = pyfn_flight_phase(ROCD, Altitude_ft, Time_s)\n",
    "\n",
    "# Note: Ignore the convergence warnings."
   ]
  },
  {
   "cell_type": "code",
   "execution_count": 6,
   "metadata": {},
   "outputs": [],
   "source": [
    "# Import GNATS data\n",
    "col_names_GNATS = [\"Time_s\",\"Latitude\",\"Longitude\",\"Altitude_ft\",\"ROCD_fps\",\"TAS_kts\",\"TAS_mph\",\"Course_deg\",\"fpa\",\"sector_index\",\"sector_name\",\"flight_phase\",\"dummy1\",\"dummy2\"]\n",
    "GNATS_simulation = pd.read_csv('UA2120_Sample_Trajectory_Demo.csv',header=7,names=col_names_GNATS)"
   ]
  },
  {
   "cell_type": "code",
   "execution_count": 7,
   "metadata": {},
   "outputs": [],
   "source": [
    "# Locate ToC and ToD in GNATS simulation\n",
    "temp1 = GNATS_simulation['flight_phase'].str.match('FLIGHT_PHASE_TAKEOFF')\n",
    "temp2 = GNATS_simulation['flight_phase'].str.match('FLIGHT_PHASE_CRUISE')\n",
    "temp3 = GNATS_simulation['flight_phase'].str.match('FLIGHT_PHASE_FINAL_APPROACH')\n",
    "\n",
    "Ix_start_GNATS = temp1.where(temp1).last_valid_index()\n",
    "Ix_ToC_GNATS = temp2.where(temp2).first_valid_index()\n",
    "Ix_ToD_GNATS = temp2.where(temp2).last_valid_index()\n",
    "Ix_end_GNATS = temp3.where(temp3).last_valid_index()"
   ]
  },
  {
   "cell_type": "markdown",
   "metadata": {},
   "source": [
    "## Comparison of predicted trajectory & recorded data"
   ]
  },
  {
   "cell_type": "code",
   "execution_count": 15,
   "metadata": {},
   "outputs": [
    {
     "data": {
      "image/png": "[encoded data removed]",
      "text/plain": [
       "<Figure size 432x288 with 2 Axes>"
      ]
     },
     "metadata": {
      "needs_background": "light"
     },
     "output_type": "display_data"
    }
   ],
   "source": [
    "plot2 = plt.figure(1)\n",
    "plt.subplot(1,2,1)\n",
    "plt.plot(traj_mat.Time_s[:Ix_ToC],traj_mat.Altitude_ft[:Ix_ToC],\"--r\",label=\"Recorded\")\n",
    "plt.plot(GNATS_simulation.Time_s[Ix_start_GNATS:Ix_ToC_GNATS],GNATS_simulation.Altitude_ft[Ix_start_GNATS:Ix_ToC_GNATS],\"-b\",label=\"GNATS\")\n",
    "plt.plot(traj_mat.Time_s[Ix_ToC],traj_mat.Altitude_ft[Ix_ToC],\"dr\")\n",
    "plt.plot(GNATS_simulation.Time_s[Ix_ToC_GNATS],GNATS_simulation.Altitude_ft[Ix_ToC_GNATS],\"db\")\n",
    "plt.plot(traj_mat.Time_s[Ix_ToC:Ix_ToD],traj_mat.Altitude_ft[Ix_ToC:Ix_ToD],\"--r\")\n",
    "plt.plot(GNATS_simulation.Time_s[Ix_ToC_GNATS:Ix_ToD_GNATS],GNATS_simulation.Altitude_ft[Ix_ToC_GNATS:Ix_ToD_GNATS],\"-b\")\n",
    "plt.plot(traj_mat.Time_s[Ix_ToD],traj_mat.Altitude_ft[Ix_ToD],\"dr\")\n",
    "plt.plot(GNATS_simulation.Time_s[Ix_ToD_GNATS],GNATS_simulation.Altitude_ft[Ix_ToD_GNATS],\"db\")\n",
    "plt.plot(traj_mat.Time_s[Ix_ToD:],traj_mat.Altitude_ft[Ix_ToD:],\"-r\")\n",
    "plt.plot(GNATS_simulation.Time_s[Ix_ToD_GNATS:Ix_end_GNATS],GNATS_simulation.Altitude_ft[Ix_ToD_GNATS:Ix_end_GNATS],\"-b\")\n",
    "#plt.legend(loc=\"lower center\")\n",
    "plt.xlabel('time (s)')\n",
    "plt.ylabel('altitude (ft)')\n",
    "\n",
    "plt.subplot(1,2,2)\n",
    "plt.plot(traj_mat.Time_s[:Ix_ToC],traj_mat.TAS_kts[:Ix_ToC],\"--r\",label=\"Recorded\")\n",
    "plt.plot(GNATS_simulation.Time_s[Ix_start_GNATS:Ix_ToC_GNATS],GNATS_simulation.TAS_kts[Ix_start_GNATS:Ix_ToC_GNATS],\"-b\",label=\"GNATS\")\n",
    "plt.plot(traj_mat.Time_s[Ix_ToC],traj_mat.TAS_kts[Ix_ToC],\"dr\")\n",
    "plt.plot(GNATS_simulation.Time_s[Ix_ToC_GNATS],GNATS_simulation.TAS_kts[Ix_ToC_GNATS],\"db\")\n",
    "plt.plot(traj_mat.Time_s[Ix_ToC:Ix_ToD],traj_mat.TAS_kts[Ix_ToC:Ix_ToD],\"--r\")\n",
    "plt.plot(GNATS_simulation.Time_s[Ix_ToC_GNATS:Ix_ToD_GNATS],GNATS_simulation.TAS_kts[Ix_ToC_GNATS:Ix_ToD_GNATS],\"-b\")\n",
    "plt.plot(traj_mat.Time_s[Ix_ToD],traj_mat.TAS_kts[Ix_ToD],\"dr\")\n",
    "plt.plot(GNATS_simulation.Time_s[Ix_ToD_GNATS],GNATS_simulation.TAS_kts[Ix_ToD_GNATS],\"db\")\n",
    "plt.plot(traj_mat.Time_s[Ix_ToD:],traj_mat.TAS_kts[Ix_ToD:],\"-r\")\n",
    "plt.plot(GNATS_simulation.Time_s[Ix_ToD_GNATS:Ix_end_GNATS],GNATS_simulation.TAS_kts[Ix_ToD_GNATS:Ix_end_GNATS],\"-b\")\n",
    "plt.legend(loc=\"lower center\")\n",
    "plt.xlabel('time (s)')\n",
    "plt.ylabel('TAS (kts)')\n",
    "\n",
    "plt.tight_layout(pad=2.0)\n",
    "plt.suptitle('Trajectory data');"
   ]
  },
  {
   "cell_type": "markdown",
   "metadata": {},
   "source": [
    "## Procedure 2: Estimating errors in trajectory prediction model"
   ]
  },
  {
   "cell_type": "code",
   "execution_count": 9,
   "metadata": {},
   "outputs": [],
   "source": [
    "# GNATS \"surrogate\" [linear interpolation]\n",
    "GNATS_Lon_rad=np.radians(GNATS_simulation.Longitude[Ix_start_GNATS:Ix_end_GNATS])\n",
    "GNATS_Lat_rad=np.radians(GNATS_simulation.Latitude[Ix_start_GNATS:Ix_end_GNATS])\n",
    "del_Lat=GNATS_Lat_rad.diff()\n",
    "del_Lon=GNATS_Lon_rad.diff()\n",
    "temp = np.sin(0.5*del_Lat)**2 + np.cos(GNATS_Lat_rad[1:])*np.cos(GNATS_Lat_rad[:-1])*np.sin(0.5*del_Lon)**2\n",
    "temp1 = 6371*2*np.arcsin(np.sqrt(temp))\n",
    "distance_from_origin_GNATS = temp1.cumsum()\n",
    "\n",
    "lower_limit_surr = distance_from_origin_GNATS[Ix_start_GNATS+1]\n",
    "upper_limit_surr = distance_from_origin_GNATS[Ix_end_GNATS-2]\n",
    "\n",
    "ADSB_Lon_rad=np.radians(traj_mat.Longitude[:])\n",
    "ADSB_Lat_rad=np.radians(traj_mat.Latitude[:])\n",
    "del_Lat=ADSB_Lat_rad.diff()\n",
    "del_Lon=ADSB_Lon_rad.diff()\n",
    "temp = np.sin(0.5*del_Lat)**2 + np.cos(ADSB_Lat_rad[1:])*np.cos(ADSB_Lat_rad[:-1])*np.sin(0.5*del_Lon)**2\n",
    "temp1 = 6371*2*np.arcsin(np.sqrt(temp))\n",
    "distance_from_origin_ADSB = temp1.cumsum()\n",
    "\n",
    "lower_limit_ADSB = distance_from_origin_ADSB.iloc[1]\n",
    "upper_limit_ADSB = distance_from_origin_ADSB.iloc[-2]\n",
    "\n",
    "# interpolation-based surrogate\n",
    "fn_lat = interp1d(distance_from_origin_GNATS,GNATS_simulation.Latitude[Ix_start_GNATS:Ix_end_GNATS],kind='linear')\n",
    "fn_lon = interp1d(distance_from_origin_GNATS,GNATS_simulation.Longitude[Ix_start_GNATS:Ix_end_GNATS],kind='linear')\n",
    "fn_alt = interp1d(distance_from_origin_GNATS,GNATS_simulation.Altitude_ft[Ix_start_GNATS:Ix_end_GNATS],kind='linear')\n",
    "fn_TAS = interp1d(distance_from_origin_GNATS,GNATS_simulation.TAS_kts[Ix_start_GNATS:Ix_end_GNATS],kind='linear')"
   ]
  },
  {
   "cell_type": "markdown",
   "metadata": {},
   "source": [
    "## 2.1: Estimating error in route"
   ]
  },
  {
   "cell_type": "code",
   "execution_count": 10,
   "metadata": {},
   "outputs": [
    {
     "name": "stderr",
     "output_type": "stream",
     "text": [
      "C:\\Users\\Abhinav\\anaconda3\\lib\\site-packages\\scipy\\interpolate\\interpolate.py:688: RuntimeWarning: invalid value encountered in greater\n",
      "  above_bounds = x_new > self.x[-1]\n"
     ]
    },
    {
     "data": {
      "image/png": "[encoded data removed]",
      "text/plain": [
       "<Figure size 432x288 with 3 Axes>"
      ]
     },
     "metadata": {
      "needs_background": "light"
     },
     "output_type": "display_data"
    }
   ],
   "source": [
    "# Compute error in route\n",
    "temp=distance_from_origin_ADSB>lower_limit_surr\n",
    "Ix1_for_plot = temp.where(temp).first_valid_index()\n",
    "temp1=distance_from_origin_ADSB<upper_limit_surr\n",
    "Ix2_for_plot = temp1.where(temp1).last_valid_index()\n",
    "\n",
    "route_err_lat = traj_mat.Latitude[Ix1_for_plot:Ix2_for_plot] - fn_lat(distance_from_origin_ADSB[Ix1_for_plot:Ix2_for_plot])\n",
    "route_err_lon = traj_mat.Longitude[Ix1_for_plot:Ix2_for_plot] - fn_lon(distance_from_origin_ADSB[Ix1_for_plot:Ix2_for_plot])\n",
    "route_err_alt = traj_mat.Altitude_ft[Ix1_for_plot:Ix2_for_plot] - fn_alt(distance_from_origin_ADSB[Ix1_for_plot:Ix2_for_plot])\n",
    "route_err_TAS = traj_mat.TAS_kts[Ix1_for_plot:Ix2_for_plot] - fn_TAS(distance_from_origin_ADSB[Ix1_for_plot:Ix2_for_plot])\n",
    "\n",
    "plot2 = plt.figure(1)\n",
    "plt.subplot(2,2,1)\n",
    "plt.plot(traj_mat.Time_s[Ix1_for_plot:Ix2_for_plot],route_err_lat)\n",
    "plt.xlabel('time (s)')\n",
    "plt.ylabel('Error in Lat. (deg)')\n",
    "\n",
    "plt.subplot(2,2,2)\n",
    "plt.plot(traj_mat.Time_s[Ix1_for_plot:Ix2_for_plot],route_err_lon)\n",
    "plt.xlabel('time (s)')\n",
    "plt.ylabel('Error in Lon. (deg)')\n",
    "\n",
    "plt.subplot(2,2,3)\n",
    "plt.plot(traj_mat.Longitude[:Ix_ToC],traj_mat.Latitude[:Ix_ToC],\"--r\",label=\"Recorded\")\n",
    "plt.plot(GNATS_simulation.Longitude[Ix_start_GNATS:Ix_ToC_GNATS],GNATS_simulation.Latitude[Ix_start_GNATS:Ix_ToC_GNATS],\"-b\",label=\"GNATS\")\n",
    "plt.plot(traj_mat.Longitude[Ix_ToC],traj_mat.Latitude[Ix_ToC],\"dr\")\n",
    "plt.plot(GNATS_simulation.Longitude[Ix_ToC_GNATS],GNATS_simulation.Latitude[Ix_ToC_GNATS],\"db\")\n",
    "plt.plot(traj_mat.Longitude[Ix_ToC:Ix_ToD],traj_mat.Latitude[Ix_ToC:Ix_ToD],\"--r\")\n",
    "plt.plot(GNATS_simulation.Longitude[Ix_ToC_GNATS:Ix_ToD_GNATS],GNATS_simulation.Latitude[Ix_ToC_GNATS:Ix_ToD_GNATS],\"-b\")\n",
    "plt.plot(traj_mat.Longitude[Ix_ToD],traj_mat.Latitude[Ix_ToD],\"dr\")\n",
    "plt.plot(GNATS_simulation.Longitude[Ix_ToD_GNATS],GNATS_simulation.Latitude[Ix_ToD_GNATS],\"db\")\n",
    "plt.plot(traj_mat.Longitude[Ix_ToD:],traj_mat.Latitude[Ix_ToD:],\"-r\")\n",
    "plt.plot(GNATS_simulation.Longitude[Ix_ToD_GNATS:Ix_end_GNATS],GNATS_simulation.Latitude[Ix_ToD_GNATS:Ix_end_GNATS],\"-b\")\n",
    "plt.legend(loc=\"upper right\")\n",
    "plt.xlabel('Longitude (deg)')\n",
    "plt.ylabel('Latitude (deg)')\n",
    "\n",
    "plt.tight_layout(pad=3.0)\n",
    "plt.suptitle('Error in route');"
   ]
  },
  {
   "cell_type": "markdown",
   "metadata": {},
   "source": [
    "## 2.2: Estimating model form error"
   ]
  },
  {
   "cell_type": "code",
   "execution_count": 11,
   "metadata": {},
   "outputs": [
    {
     "name": "stderr",
     "output_type": "stream",
     "text": [
      "C:\\Users\\Abhinav\\anaconda3\\lib\\site-packages\\scipy\\interpolate\\interpolate.py:688: RuntimeWarning: invalid value encountered in greater\n",
      "  above_bounds = x_new > self.x[-1]\n"
     ]
    }
   ],
   "source": [
    "# Evaluate model error\n",
    "# Assumption: Data is available upto time t=40 min. after take-off\n",
    "Ix_meas_data_end = 85\n",
    "\n",
    "temp=distance_from_origin_ADSB>lower_limit_surr\n",
    "Ix1_for_est = temp.where(temp).first_valid_index()\n",
    "temp1=distance_from_origin_ADSB<upper_limit_surr\n",
    "Ix2_for_est = temp1.where(temp1).last_valid_index()\n",
    "\n",
    "time_axis_for_sim = traj_mat.Time_s[Ix1_for_est:Ix2_for_est]\n",
    "\n",
    "m = dictBADA_2[AC_model]['reference_mass']*1e3\n",
    "g = 9.81;\n",
    "\n",
    "# algorithmic parameters -- tuned manually\n",
    "sigma_process_noise = 1\n",
    "sigma_measurement_noise = 0.001\n",
    "\n",
    "X_rec = np.zeros([4,Ix2_for_est-Ix1_for_est+1])\n",
    "MFE_rec = np.zeros([1,Ix2_for_est-Ix1_for_est+1])\n",
    "\n",
    "y_meas = np.zeros([4,Ix2_for_est-Ix1_for_est+4])\n",
    "y_meas[0,:] = traj_mat.Latitude\n",
    "y_meas[1,:] = traj_mat.Longitude\n",
    "y_meas[2,:] = traj_mat.Altitude_ft\n",
    "y_meas[3,:] = traj_mat.TAS_kts*.51444\n",
    "\n",
    "# initial conditions\n",
    "X_ic = np.array([traj_mat.Latitude[Ix1_for_est],traj_mat.Longitude[Ix1_for_est],traj_mat.Altitude_ft[Ix1_for_est],traj_mat.TAS_kts[Ix1_for_est]])\n",
    "MFE_ic = 0\n",
    "X_rec[:,0] = X_ic\n",
    "MFE_rec[0,0] = 0\n",
    "\n",
    "X_curr = X_rec[:,0]\n",
    "distance_from_origin_curr = distance_from_origin_ADSB[Ix1_for_est]\n",
    "for ix in list(range(Ix1_for_est,Ix_ToC-1)):\n",
    "    time_step = traj_mat.Time_s[ix+1]-traj_mat.Time_s[ix]\n",
    "    \n",
    "    # Predictor step\n",
    "    distance_from_origin_next = distance_from_origin_curr + X_curr[3]*time_step*0.00051444\n",
    "    X_pred = np.array([fn_lat(distance_from_origin_next), fn_lon(distance_from_origin_next), fn_alt(distance_from_origin_next), fn_TAS(distance_from_origin_next)])\n",
    "    \n",
    "    # inputs to dynamic system\n",
    "    h_curr = X_curr[2]\n",
    "    V_TAS_curr = X_curr[3]*.51444\n",
    "    phi_curr = 15\n",
    "    flight_phase = 1\n",
    "    DragForce_curr, ThrustForce_curr = pyfn_BADA_drag_thrust(h_curr, V_TAS_curr, flight_phase, phi_curr, AC_model, GL_Origin)\n",
    "    \n",
    "    h_next = X_pred[2]\n",
    "    V_TAS_next = X_pred[3]*.51444\n",
    "    phi_next = 15\n",
    "    flight_phase = 1\n",
    "    DragForce_next, ThrustForce_next = pyfn_BADA_drag_thrust(h_next, V_TAS_next, flight_phase, phi_next, AC_model, GL_Origin)\n",
    "    \n",
    "    # corrector step\n",
    "    a_ito_curr = (ThrustForce_curr-DragForce_curr)/m + 0.3048*g*(X_pred[2]-X_curr[2])/time_step/(X_curr[3]*0.51444)\n",
    "    a_ito_next = (ThrustForce_next-DragForce_next)/m + 0.3048*g*(X_pred[2]-X_curr[2])/time_step/(X_pred[3]*0.51444)\n",
    "    V_TAS_next_prior_mean = X_curr[3] + 0.5*time_step*(a_ito_curr+a_ito_next)\n",
    "    V_TAS_next_prior_std = np.sqrt(time_step)*sigma_process_noise\n",
    "    \n",
    "    y_err = y_meas[3,ix+1] - V_TAS_next_prior_mean\n",
    "    KalmanGain = (V_TAS_next_prior_std/(V_TAS_next_prior_std+sigma_measurement_noise))\n",
    "    X_rec[0:2,ix+1] = y_meas[0:2,ix+1]\n",
    "    X_rec[3,ix+1] = V_TAS_next_prior_mean + KalmanGain*y_err\n",
    "    MFE = (m*(y_meas[3,ix+1]-y_meas[3,ix])/time_step - (ThrustForce_curr-DragForce_curr) -  m*0.3048*g*(y_meas[2,ix+1]-y_meas[2,ix])/time_step/(y_meas[3,ix]*0.51444))\n",
    "    \n",
    "    MFE_rec[0,ix] = MFE\n",
    "    X_curr = X_rec[:,ix+1]\n",
    "    distance_from_origin_curr = distance_from_origin_next\n",
    "\n",
    "for ix in list(range(Ix_ToC,Ix_meas_data_end-1)):\n",
    "    time_step = traj_mat.Time_s[ix+1]-traj_mat.Time_s[ix]\n",
    "    \n",
    "    # Predictor step\n",
    "    distance_from_origin_next = distance_from_origin_curr + X_curr[3]*time_step*0.00051444\n",
    "    X_pred = np.array([fn_lat(distance_from_origin_next), fn_lon(distance_from_origin_next), fn_alt(distance_from_origin_next), fn_TAS(distance_from_origin_next)])\n",
    "    \n",
    "    # inputs to dynamic system\n",
    "    h_curr = X_curr[2]\n",
    "    V_TAS_curr = X_curr[3]*.51444\n",
    "    phi_curr = 0\n",
    "    flight_phase = 1\n",
    "    DragForce_curr, ThrustForce_curr = pyfn_BADA_drag_thrust(h_curr, V_TAS_curr, flight_phase, phi_curr, AC_model, GL_Origin)\n",
    "    \n",
    "    h_next = X_pred[2]\n",
    "    V_TAS_next = X_pred[3]*.51444\n",
    "    phi_next = 15\n",
    "    flight_phase = 1\n",
    "    DragForce_next, ThrustForce_next = pyfn_BADA_drag_thrust(h_next, V_TAS_next, flight_phase, phi_next, AC_model, GL_Origin)\n",
    "    \n",
    "    # corrector step\n",
    "    a_ito_curr = 0.3048*g*(X_pred[2]-X_curr[2])/time_step/(X_curr[3]*0.51444)\n",
    "    a_ito_next = 0.3048*g*(X_pred[2]-X_curr[2])/time_step/(X_pred[3]*0.51444)\n",
    "    V_TAS_next_prior_mean = X_curr[3] + 0.5*time_step*(a_ito_curr+a_ito_next)\n",
    "    V_TAS_next_prior_std = np.sqrt(time_step)*sigma_process_noise\n",
    "    \n",
    "    y_err = y_meas[3,ix+1] - V_TAS_next_prior_mean\n",
    "    KalmanGain = (V_TAS_next_prior_std/(V_TAS_next_prior_std+sigma_measurement_noise))\n",
    "    X_rec[0:2,ix+1] = y_meas[0:2,ix+1]\n",
    "    X_rec[3,ix+1] = V_TAS_next_prior_mean + KalmanGain*y_err\n",
    "    MFE = (m*(y_meas[3,ix+1]-y_meas[3,ix])/time_step -  m*0.3048*g*(y_meas[2,ix+1]-y_meas[2,ix])/time_step/(y_meas[3,ix]*0.51444))\n",
    "    \n",
    "    MFE_rec[0,ix] = MFE\n",
    "    X_curr = X_rec[:,ix+1]\n",
    "    distance_from_origin_curr = distance_from_origin_next"
   ]
  },
  {
   "cell_type": "code",
   "execution_count": 12,
   "metadata": {},
   "outputs": [
    {
     "data": {
      "image/png": "[encoded data removed]",
      "text/plain": [
       "<Figure size 432x288 with 1 Axes>"
      ]
     },
     "metadata": {
      "needs_background": "light"
     },
     "output_type": "display_data"
    }
   ],
   "source": [
    "# PLot estimated MFE\n",
    "plot1 = plt.figure(1)\n",
    "plt.plot(traj_mat.Time_s[Ix1_for_est:Ix2_for_est+1],MFE_rec.reshape(Ix2_for_est-Ix1_for_est+1))\n",
    "plt.xlabel('time (s)')\n",
    "plt.ylabel('Model error (N)')\n",
    "plt.xlim(right=traj_mat.Time_s[Ix_meas_data_end])\n",
    "\n",
    "plt.suptitle('Estimate of model form error');"
   ]
  },
  {
   "cell_type": "markdown",
   "metadata": {},
   "source": [
    "## Procedure 3: Predicting remaining trajectory using corrected trajectory prediction model"
   ]
  },
  {
   "cell_type": "code",
   "execution_count": 13,
   "metadata": {},
   "outputs": [
    {
     "name": "stderr",
     "output_type": "stream",
     "text": [
      "C:\\Users\\Abhinav\\anaconda3\\lib\\site-packages\\scipy\\interpolate\\interpolate.py:688: RuntimeWarning: invalid value encountered in greater\n",
      "  above_bounds = x_new > self.x[-1]\n",
      "C:\\Users\\Abhinav\\anaconda3\\lib\\site-packages\\scipy\\interpolate\\interpolate.py:687: RuntimeWarning: invalid value encountered in less\n",
      "  below_bounds = x_new < self.x[0]\n"
     ]
    }
   ],
   "source": [
    "# Corrective model for model form error [Gaussian random process model]\n",
    "# Note: In general, we would use a Neural Network model relating system states to MFE\n",
    "#       For this illustration, we find that a low correlation between the states and MFE, and observe that a stationary Gaussian white noise model adequately represents the posterior from the previous step\n",
    "#       The assumed model is also computationally efficent\n",
    "mean_MFE = np.mean(MFE_rec[0,Ix_ToC+10:Ix_meas_data_end])\n",
    "std_MFE = np.std(MFE_rec[0,Ix_ToC+10:Ix_meas_data_end])\n",
    "\n",
    "\n",
    "# Correct system model for MFE, and predict remaining trajectory\n",
    "for ix in list(range(Ix_meas_data_end,Ix_ToD-1)):\n",
    "    time_step = traj_mat.Time_s[ix+1]-traj_mat.Time_s[ix]\n",
    "    \n",
    "    # Predictor step\n",
    "    distance_from_origin_next = distance_from_origin_curr + X_curr[3]*time_step*0.00051444\n",
    "    X_pred = np.array([fn_lat(distance_from_origin_next), fn_lon(distance_from_origin_next), fn_alt(distance_from_origin_next), fn_TAS(distance_from_origin_next)])\n",
    "    \n",
    "    # inputs to dynamic system\n",
    "    h_curr = X_curr[2]\n",
    "    V_TAS_curr = X_curr[3]*.51444\n",
    "    phi_curr = 0\n",
    "    flight_phase = 1\n",
    "    DragForce_curr, ThrustForce_curr = pyfn_BADA_drag_thrust(h_curr, V_TAS_curr, flight_phase, phi_curr, AC_model, GL_Origin)\n",
    "    \n",
    "    h_next = X_pred[2]\n",
    "    V_TAS_next = X_pred[3]*.51444\n",
    "    phi_next = 15\n",
    "    flight_phase = 1\n",
    "    DragForce_next, ThrustForce_next = pyfn_BADA_drag_thrust(h_next, V_TAS_next, flight_phase, phi_next, AC_model, GL_Origin)\n",
    "    \n",
    "    # corrector step\n",
    "    a_ito_curr = 0.3048*g*(X_pred[2]-X_curr[2])/time_step/(X_curr[3]*0.51444)\n",
    "    a_ito_next = 0.3048*g*(X_pred[2]-X_curr[2])/time_step/(X_pred[3]*0.51444)\n",
    "    V_TAS_next_prior_mean = X_curr[3] + 0.5*time_step*(a_ito_curr+a_ito_next) + (time_step/2)*mean_MFE/m\n",
    "    V_TAS_next_prior_std = np.sqrt(time_step)*sigma_process_noise + ((time_step/2)*std_MFE/m)**2\n",
    "    \n",
    "    X_rec[0,ix+1] = X_pred[0]\n",
    "    X_rec[1,ix+1] = X_pred[1]\n",
    "    X_rec[2,ix+1] = X_pred[2]\n",
    "    X_rec[3,ix+1] = V_TAS_next_prior_mean\n",
    "    \n",
    "    X_curr = X_rec[:,ix+1]\n",
    "    distance_from_origin_curr = distance_from_origin_next\n",
    "\n",
    "for ix in list(range(Ix_ToD,Ix2_for_est-4)):\n",
    "    time_step = traj_mat.Time_s[ix+1]-traj_mat.Time_s[ix]\n",
    "    \n",
    "    # Predictor step\n",
    "    distance_from_origin_next = distance_from_origin_curr + X_curr[3]*time_step*0.00051444\n",
    "    X_pred = np.array([fn_lat(distance_from_origin_next), fn_lon(distance_from_origin_next), fn_alt(distance_from_origin_next), fn_TAS(distance_from_origin_next)])\n",
    "    \n",
    "    # inputs to dynamic system\n",
    "    h_curr = X_curr[2]\n",
    "    V_TAS_curr = X_curr[3]*.51444\n",
    "    phi_curr = 15\n",
    "    flight_phase = 1\n",
    "    DragForce_curr, ThrustForce_curr = pyfn_BADA_drag_thrust(h_curr, V_TAS_curr, flight_phase, phi_curr, AC_model, GL_Origin)\n",
    "    \n",
    "    h_next = X_pred[2]\n",
    "    V_TAS_next = X_pred[3]*.51444\n",
    "    phi_next = 15\n",
    "    flight_phase = 1\n",
    "    DragForce_next, ThrustForce_next = pyfn_BADA_drag_thrust(h_next, V_TAS_next, flight_phase, phi_next, AC_model, GL_Origin)\n",
    "    \n",
    "    # corrector step\n",
    "    a_ito_curr = (ThrustForce_curr-DragForce_curr)/m + 0.3048*g*(X_pred[2]-X_curr[2])/time_step/(X_curr[3]*0.51444)\n",
    "    a_ito_next = (ThrustForce_next-DragForce_next)/m + 0.3048*g*(X_pred[2]-X_curr[2])/time_step/(X_pred[3]*0.51444)\n",
    "    V_TAS_next_prior_mean = X_curr[3] + 0.5*time_step*(a_ito_curr+a_ito_next) + (time_step/2)*mean_MFE/m\n",
    "    V_TAS_next_prior_std = np.sqrt(time_step)*sigma_process_noise + ((time_step/2)*std_MFE/m)**2\n",
    "    \n",
    "    X_rec[0,ix+1] = X_pred[0]\n",
    "    X_rec[1,ix+1] = X_pred[1]\n",
    "    X_rec[2,ix+1] = X_pred[2]\n",
    "    X_rec[3,ix+1] = V_TAS_next_prior_mean\n",
    "    X_curr = X_rec[:,ix+1]\n",
    "    distance_from_origin_curr = distance_from_origin_next"
   ]
  },
  {
   "cell_type": "markdown",
   "metadata": {},
   "source": [
    "## Result: Model prediction of remaining flight trajectory"
   ]
  },
  {
   "cell_type": "code",
   "execution_count": 14,
   "metadata": {},
   "outputs": [
    {
     "data": {
      "image/png": "[encoded data removed]",
      "text/plain": [
       "<Figure size 432x288 with 2 Axes>"
      ]
     },
     "metadata": {
      "needs_background": "light"
     },
     "output_type": "display_data"
    }
   ],
   "source": [
    "predict_lat = X_rec[0,Ix_meas_data_end+1:Ix_ToD]\n",
    "predict_lat2 = X_rec[0,Ix_ToD+1:Ix2_for_est-4]\n",
    "predict_lon = X_rec[1,Ix_meas_data_end+1:Ix_ToD]\n",
    "predict_lon2 = X_rec[1,Ix_ToD+1:Ix2_for_est-4]\n",
    "\n",
    "plot1 = plt.figure(1)\n",
    "plt.subplot(1,2,1)\n",
    "plt.plot(GNATS_simulation.Time_s[Ix_meas_data_end+1:],GNATS_simulation.Latitude[Ix_meas_data_end+1:],\"-g\",label=\"Prior model\")\n",
    "plt.plot(traj_mat.Time_s[Ix_meas_data_end+1:Ix_ToD],predict_lat.reshape(Ix_ToD-Ix_meas_data_end-1),\"-b\",label=\"Corrected model\")\n",
    "plt.plot(traj_mat.Time_s[Ix_meas_data_end+1:Ix_ToD],traj_mat.Latitude[Ix_meas_data_end+1:Ix_ToD],\"--r\",label=\"True value\")\n",
    "plt.plot(traj_mat.Time_s[Ix_ToD+1:Ix2_for_est-4],predict_lat2.reshape(Ix2_for_est-Ix_ToD-5),\"-b\")\n",
    "plt.plot(traj_mat.Time_s[Ix_ToD+1:Ix2_for_est-4],traj_mat.Latitude[Ix_ToD+1:Ix2_for_est-4],\"--r\")\n",
    "#plt.legend(loc=\"upper right\")\n",
    "plt.xlabel('time (s)')\n",
    "plt.ylabel('Latitude (deg)')\n",
    "\n",
    "plt.subplot(1,2,2)\n",
    "plt.plot(GNATS_simulation.Time_s[Ix_meas_data_end+1:],GNATS_simulation.Longitude[Ix_meas_data_end+1:],\"-g\",label=\"Prior model\")\n",
    "plt.plot(traj_mat.Time_s[Ix_meas_data_end+1:Ix_ToD],predict_lon.reshape(Ix_ToD-Ix_meas_data_end-1),\"-b\",label=\"Corrected model\")\n",
    "plt.plot(traj_mat.Time_s[Ix_meas_data_end+1:Ix_ToD],traj_mat.Longitude[Ix_meas_data_end+1:Ix_ToD],\"--r\",label=\"True value\")\n",
    "plt.plot(traj_mat.Time_s[Ix_ToD+1:Ix2_for_est-4],predict_lon2.reshape(Ix2_for_est-Ix_ToD-5),\"-b\")\n",
    "plt.plot(traj_mat.Time_s[Ix_ToD+1:Ix2_for_est-4],traj_mat.Longitude[Ix_ToD+1:Ix2_for_est-4],\"--r\")\n",
    "plt.legend(loc=\"lower right\")\n",
    "plt.xlabel('time (s)')\n",
    "plt.ylabel('Longitude (deg)')\n",
    "\n",
    "plt.tight_layout(pad=3.0)\n",
    "plt.suptitle('Corrected aircraft dynamics model');"
   ]
  }
 ],
 "metadata": {
  "kernelspec": {
   "display_name": "Python 3",
   "language": "python",
   "name": "python3"
  },
  "language_info": {
   "codemirror_mode": {
    "name": "ipython",
    "version": 3
   },
   "file_extension": ".py",
   "mimetype": "text/x-python",
   "name": "python",
   "nbconvert_exporter": "python",
   "pygments_lexer": "ipython3",
   "version": "3.7.6"
  }
 },
 "nbformat": 4,
 "nbformat_minor": 4
}
