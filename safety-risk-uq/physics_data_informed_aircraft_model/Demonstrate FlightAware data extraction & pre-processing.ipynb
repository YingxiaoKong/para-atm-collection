{
 "cells": [
  {
   "cell_type": "markdown",
   "metadata": {},
   "source": [
    "# Physics- and Data-Informed Aircraft Dynamics Model for Risk Assement and Model Form Error Estimation of Simulated Flight Paths\n",
    "\n",
    "Author: Abhinav Subramanian - Vanderbilt University\n",
    "\n",
    "Email: abhinav.subramanian@vanderbilt.edu\n",
    "\n",
    "The goal of this demonstration is to showcase a dynamic model for aircraft simulation that incorporates physics-based estimates of flight quantities such as drag and thrust, as well as real flight, data to produce flight path predictions. The physics model results, combined with flight data from a public database (FlightAware), are used to assess and correct model form errors in the simulation, as well as obtain risk and safety assesments for the simulated flight path.\n",
    "\n",
    "[insert figure here ... ]\n",
    "\n",
    "This notebook is the first of three parts of the model demonstration:\n",
    "\n",
    "1. Extracting trajectory data from a public database (FlightAware)\n",
    "2. Analyzing the extracted data to detect flight phases \n",
    "3. Demonstration of the composite aircraft dynamics model."
   ]
  },
  {
   "cell_type": "markdown",
   "metadata": {},
   "source": [
    "# Part 1. Extracting trajectory data from a public database (FlightAware)\n",
    "\n",
    "This is a demonstration of the process of extracting and analyzing flight data from FlightAware. The data extracted includes time, course information (coordinates and heading), True AirSpeed (TAS), and altitude for each point along the flight path. \n",
    "\n",
    "The data extracted is analyzed to identify flight phases (climb, cruise, descent) and detect anomalies, such as stalling during the climb phase and climbing during the cruise phase, to compile a flight safety assessment."
   ]
  },
  {
   "cell_type": "markdown",
   "metadata": {},
   "source": [
    "## Module requirements:\n",
    "\n",
    "The following packages are required to run this module:\n",
    "\n",
    "- **[```numpy```]**\n",
    "    - Provides support for array operations \n",
    "    \n",
    "- **[```matplotlib```]**\n",
    "    - Main plotting functionalities\n",
    "\n",
    "- **[```pandas```]**\n",
    "    - Provides data structures and operations for manipulating numerical tables and time series\n",
    "\n",
    "- **[```datetime```]**\n",
    "    - Supplies classes for manipulating dates and times\n",
    "\n",
    "These packages are part of the standard Python library (no installation needed). The following can be installed using ```conda install packagename```.\n",
    "\n",
    "- **[```lxml```]**\n",
    "    - Pythonic binding for XML processing, called in the submodule ```pyfn_FlightAware_trajectory_extractor```.\n",
    "\n",
    "The module calls the follwing submodules (stored in separate files):\n",
    "\n",
    "- **[```pyfn_FlightAware_trajectory_extractor.py```]**\n",
    "    - Main function for extracting data from FlightAware\n",
    "    \n",
    "- **[```fn_flight_phases.py```]**\n",
    "    - Identifies different flight phases\n",
    "    \n",
    "This module also requires a valid FlightAware URL for a completed flight [eg. 'https://flightaware.com/live/flight/UAL1895/history/20200224/1225Z/KTPA/KIAH/tracklog']\n",
    "\n"
   ]
  },
  {
   "cell_type": "markdown",
   "metadata": {},
   "source": [
    "## Procedure 1: Importing FlightAware Data"
   ]
  },
  {
   "cell_type": "code",
   "execution_count": 1,
   "metadata": {},
   "outputs": [],
   "source": [
    "from fn_FlightAware_TrajData import pyfn_FlightAware_trajectory_extractor\n",
    "from fn_flight_phases import pyfn_flight_phase\n",
    "\n",
    "import matplotlib.pyplot as plt\n",
    "import numpy as np"
   ]
  },
  {
   "cell_type": "markdown",
   "metadata": {},
   "source": [
    "Input: a valid FlightAware URL (FA_URL)"
   ]
  },
  {
   "cell_type": "code",
   "execution_count": 2,
   "metadata": {},
   "outputs": [],
   "source": [
    "FA_URL = 'https://flightaware.com/live/flight/AAL302/history/20210806/2240Z/KJFK/KLAX/tracklog'"
   ]
  },
  {
   "cell_type": "code",
   "execution_count": 3,
   "metadata": {},
   "outputs": [
    {
     "data": {
      "text/html": [
       "<div>\n",
       "<style scoped>\n",
       "    .dataframe tbody tr th:only-of-type {\n",
       "        vertical-align: middle;\n",
       "    }\n",
       "\n",
       "    .dataframe tbody tr th {\n",
       "        vertical-align: top;\n",
       "    }\n",
       "\n",
       "    .dataframe thead th {\n",
       "        text-align: right;\n",
       "    }\n",
       "</style>\n",
       "<table border=\"1\" class=\"dataframe\">\n",
       "  <thead>\n",
       "    <tr style=\"text-align: right;\">\n",
       "      <th></th>\n",
       "      <th>Time_s</th>\n",
       "      <th>Latitude</th>\n",
       "      <th>Longitude</th>\n",
       "      <th>Course_deg</th>\n",
       "      <th>TAS_kts</th>\n",
       "      <th>TAS_mph</th>\n",
       "      <th>Altitude_ft</th>\n",
       "      <th>ROCD</th>\n",
       "    </tr>\n",
       "  </thead>\n",
       "  <tbody>\n",
       "    <tr>\n",
       "      <th>0</th>\n",
       "      <td>0.0</td>\n",
       "      <td>40.6338</td>\n",
       "      <td>-73.7845</td>\n",
       "      <td>121.0</td>\n",
       "      <td>167.0</td>\n",
       "      <td>192.0</td>\n",
       "      <td>325.0</td>\n",
       "      <td>0.0</td>\n",
       "    </tr>\n",
       "    <tr>\n",
       "      <th>1</th>\n",
       "      <td>16.0</td>\n",
       "      <td>40.6256</td>\n",
       "      <td>-73.7758</td>\n",
       "      <td>154.0</td>\n",
       "      <td>155.0</td>\n",
       "      <td>178.0</td>\n",
       "      <td>975.0</td>\n",
       "      <td>1875.0</td>\n",
       "    </tr>\n",
       "    <tr>\n",
       "      <th>2</th>\n",
       "      <td>32.0</td>\n",
       "      <td>40.6134</td>\n",
       "      <td>-73.7719</td>\n",
       "      <td>169.0</td>\n",
       "      <td>164.0</td>\n",
       "      <td>189.0</td>\n",
       "      <td>1325.0</td>\n",
       "      <td>984.0</td>\n",
       "    </tr>\n",
       "    <tr>\n",
       "      <th>3</th>\n",
       "      <td>48.0</td>\n",
       "      <td>40.6022</td>\n",
       "      <td>-73.7699</td>\n",
       "      <td>181.0</td>\n",
       "      <td>183.0</td>\n",
       "      <td>211.0</td>\n",
       "      <td>1500.0</td>\n",
       "      <td>844.0</td>\n",
       "    </tr>\n",
       "    <tr>\n",
       "      <th>4</th>\n",
       "      <td>64.0</td>\n",
       "      <td>40.5884</td>\n",
       "      <td>-73.7736</td>\n",
       "      <td>196.0</td>\n",
       "      <td>198.0</td>\n",
       "      <td>228.0</td>\n",
       "      <td>1775.0</td>\n",
       "      <td>891.0</td>\n",
       "    </tr>\n",
       "  </tbody>\n",
       "</table>\n",
       "</div>"
      ],
      "text/plain": [
       "   Time_s Latitude Longitude  Course_deg  TAS_kts  TAS_mph  Altitude_ft  \\\n",
       "0     0.0  40.6338  -73.7845       121.0    167.0    192.0        325.0   \n",
       "1    16.0  40.6256  -73.7758       154.0    155.0    178.0        975.0   \n",
       "2    32.0  40.6134  -73.7719       169.0    164.0    189.0       1325.0   \n",
       "3    48.0  40.6022  -73.7699       181.0    183.0    211.0       1500.0   \n",
       "4    64.0  40.5884  -73.7736       196.0    198.0    228.0       1775.0   \n",
       "\n",
       "     ROCD  \n",
       "0     0.0  \n",
       "1  1875.0  \n",
       "2   984.0  \n",
       "3   844.0  \n",
       "4   891.0  "
      ]
     },
     "execution_count": 3,
     "metadata": {},
     "output_type": "execute_result"
    }
   ],
   "source": [
    "# Extract FlightAware Data to pandas DataFrame\n",
    "df = pyfn_FlightAware_trajectory_extractor(FA_URL)\n",
    "df.head()"
   ]
  },
  {
   "cell_type": "markdown",
   "metadata": {},
   "source": [
    "## Procedure 2: Flight Aware Data Visualization"
   ]
  },
  {
   "cell_type": "code",
   "execution_count": 8,
   "metadata": {},
   "outputs": [
    {
     "data": {
      "image/png": "[encoded data removed]",
      "text/plain": [
       "<Figure size 576x360 with 4 Axes>"
      ]
     },
     "metadata": {
      "needs_background": "light"
     },
     "output_type": "display_data"
    }
   ],
   "source": [
    "fig,axes=plt.subplots(nrows=2,ncols=2,figsize=(8,5))\n",
    "axes = axes.flatten()\n",
    "\n",
    "ax=axes[0]\n",
    "df.plot(x='Time_s',y='Altitude_ft',ax=ax)\n",
    "ax.set_xlabel('time (s)')\n",
    "ax.set_ylabel('altitude (ft)')\n",
    "\n",
    "ax=axes[1]\n",
    "df.plot(x='Time_s',y='TAS_kts',ax=ax)\n",
    "ax.set_xlabel('time (s)')\n",
    "ax.set_ylabel('TAS (kts)')\n",
    "\n",
    "ax=axes[2]\n",
    "df.plot(x='Time_s',y='ROCD',ax=ax)\n",
    "ax.set_xlabel('time (s)')\n",
    "ax.set_ylabel('ROCD')\n",
    "\n",
    "ax=axes[3]\n",
    "df.plot(x='Time_s',y='Course_deg',ax=ax)\n",
    "ax.set_xlabel('time (s)')\n",
    "ax.set_ylabel('course (deg)')\n",
    "\n",
    "plt.tight_layout(pad=2.0)\n",
    "plt.suptitle('FlightAware data');"
   ]
  },
  {
   "cell_type": "markdown",
   "metadata": {},
   "source": [
    "## Procedure 3: Processing Recorded Trajectory Data\n",
    "####    (a) Detecting step climb during the cruise phase (multiple altitude levels at cruise)"
   ]
  },
  {
   "cell_type": "code",
   "execution_count": 11,
   "metadata": {},
   "outputs": [],
   "source": [
    "ROCD = df.ROCD.values\n",
    "Altitude_ft = df.Altitude_ft.values\n",
    "Time_s = df.Time_s.values"
   ]
  },
  {
   "cell_type": "code",
   "execution_count": 12,
   "metadata": {},
   "outputs": [
    {
     "data": {
      "image/png": "[encoded data removed]",
      "text/plain": [
       "<Figure size 432x288 with 1 Axes>"
      ]
     },
     "metadata": {
      "needs_background": "light"
     },
     "output_type": "display_data"
    }
   ],
   "source": [
    "Ix_ToC, Ix_ToD, time_cluster_all, alt_cluster_all, hold_descent_altitudes = pyfn_flight_phase(ROCD, Altitude_ft, Time_s)\n",
    "# If step climb was detected, plot multiple altitude levels at cruise\n",
    "N_cruise_clusters = len(alt_cluster_all)\n",
    "if N_cruise_clusters>1:    \n",
    "    plot2 = plt.figure(2)\n",
    "    for ix in range(N_cruise_clusters):\n",
    "        plt.plot(time_cluster_all[ix],alt_cluster_all[ix],'.')\n",
    "    plt.xlabel('time (s)')\n",
    "    plt.ylabel('altitude (ft)')\n",
    "    plt.title('Cruise - Multiple flight levels')\n",
    "# Note: Ignore the convergence warnings."
   ]
  },
  {
   "cell_type": "markdown",
   "metadata": {},
   "source": [
    "#### (b): Check if the aircraft was held at a constant altitude during descent phase"
   ]
  },
  {
   "cell_type": "code",
   "execution_count": 13,
   "metadata": {},
   "outputs": [
    {
     "name": "stdout",
     "output_type": "stream",
     "text": [
      "\"Hold at altitude\" not detected during descent\n"
     ]
    }
   ],
   "source": [
    "# Test whether the aircraft was held at a constant altitude during descent for a significant time duration (> 80 sec)\n",
    "if len(hold_descent_altitudes)>0:\n",
    "    print('Aircraft was held at a constant level during descent at the following altitude(s) [Units: ft.]:')\n",
    "    print(hold_descent_altitudes)\n",
    "else:\n",
    "    print('\"Hold at altitude\" not detected during descent')"
   ]
  },
  {
   "cell_type": "code",
   "execution_count": null,
   "metadata": {},
   "outputs": [],
   "source": []
  }
 ],
 "metadata": {
  "kernelspec": {
   "display_name": "Python 3 (ipykernel)",
   "language": "python",
   "name": "python3"
  },
  "language_info": {
   "codemirror_mode": {
    "name": "ipython",
    "version": 3
   },
   "file_extension": ".py",
   "mimetype": "text/x-python",
   "name": "python",
   "nbconvert_exporter": "python",
   "pygments_lexer": "ipython3",
   "version": "3.8.12"
  }
 },
 "nbformat": 4,
 "nbformat_minor": 4
}
