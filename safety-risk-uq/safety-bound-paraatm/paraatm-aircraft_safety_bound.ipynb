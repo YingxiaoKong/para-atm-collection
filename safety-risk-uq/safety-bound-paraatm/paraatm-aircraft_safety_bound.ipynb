{
 "cells": [
  {
   "cell_type": "code",
   "execution_count": 1,
   "id": "a8b64956",
   "metadata": {},
   "outputs": [],
   "source": [
    "import numpy as np\n",
    "import pandas as pd\n",
    "import matplotlib.pyplot as plt\n",
    "\n",
    "from paraatm.io.iff import read_iff_file\n",
    "data = read_iff_file('IFF_SFO_ASDEX_ABC123.csv')\n",
    "\n",
    "data['delta_tas'] = data['tas'].diff()\n",
    "data['dt'] = (data['time']-data['time'].shift()).fillna(pd.to_timedelta(0.01,'s')).dt.total_seconds()\n",
    "data['acc']= data['delta_tas']/data['dt']"
   ]
  },
  {
   "cell_type": "code",
   "execution_count": 3,
   "id": "d11924fb",
   "metadata": {},
   "outputs": [
    {
     "data": {
      "text/html": [
       "<div>\n",
       "<style scoped>\n",
       "    .dataframe tbody tr th:only-of-type {\n",
       "        vertical-align: middle;\n",
       "    }\n",
       "\n",
       "    .dataframe tbody tr th {\n",
       "        vertical-align: top;\n",
       "    }\n",
       "\n",
       "    .dataframe thead th {\n",
       "        text-align: right;\n",
       "    }\n",
       "</style>\n",
       "<table border=\"1\" class=\"dataframe\">\n",
       "  <thead>\n",
       "    <tr style=\"text-align: right;\">\n",
       "      <th></th>\n",
       "      <th>recType</th>\n",
       "      <th>time</th>\n",
       "      <th>fltKey</th>\n",
       "      <th>bcnCode</th>\n",
       "      <th>cid</th>\n",
       "      <th>Source</th>\n",
       "      <th>msgType</th>\n",
       "      <th>callsign</th>\n",
       "      <th>recTypeCat</th>\n",
       "      <th>latitude</th>\n",
       "      <th>...</th>\n",
       "      <th>kybrdSymbol</th>\n",
       "      <th>adsCode</th>\n",
       "      <th>opsType</th>\n",
       "      <th>airportCode</th>\n",
       "      <th>trackNumber</th>\n",
       "      <th>tptReturnType</th>\n",
       "      <th>modeSCode</th>\n",
       "      <th>delta_tas</th>\n",
       "      <th>dt</th>\n",
       "      <th>acc</th>\n",
       "    </tr>\n",
       "  </thead>\n",
       "  <tbody>\n",
       "    <tr>\n",
       "      <th>0</th>\n",
       "      <td>3</td>\n",
       "      <td>2019-01-01 00:25:15</td>\n",
       "      <td>27483</td>\n",
       "      <td>6366</td>\n",
       "      <td>NaN</td>\n",
       "      <td>0/MODE_S</td>\n",
       "      <td>0xE02</td>\n",
       "      <td>ABC123</td>\n",
       "      <td>1</td>\n",
       "      <td>37.61867</td>\n",
       "      <td>...</td>\n",
       "      <td>NaN</td>\n",
       "      <td>NaN</td>\n",
       "      <td>NaN</td>\n",
       "      <td>KAY</td>\n",
       "      <td>724</td>\n",
       "      <td>NaN</td>\n",
       "      <td>ad64cd</td>\n",
       "      <td>NaN</td>\n",
       "      <td>0.01</td>\n",
       "      <td>NaN</td>\n",
       "    </tr>\n",
       "    <tr>\n",
       "      <th>1</th>\n",
       "      <td>3</td>\n",
       "      <td>2019-01-01 00:25:16</td>\n",
       "      <td>27483</td>\n",
       "      <td>6366</td>\n",
       "      <td>NaN</td>\n",
       "      <td>0/MODE_S</td>\n",
       "      <td>0xE02</td>\n",
       "      <td>ABC123</td>\n",
       "      <td>1</td>\n",
       "      <td>37.61870</td>\n",
       "      <td>...</td>\n",
       "      <td>NaN</td>\n",
       "      <td>NaN</td>\n",
       "      <td>NaN</td>\n",
       "      <td>KAY</td>\n",
       "      <td>724</td>\n",
       "      <td>NaN</td>\n",
       "      <td>ad64cd</td>\n",
       "      <td>6.0</td>\n",
       "      <td>1.00</td>\n",
       "      <td>6.0</td>\n",
       "    </tr>\n",
       "    <tr>\n",
       "      <th>2</th>\n",
       "      <td>3</td>\n",
       "      <td>2019-01-01 00:25:18</td>\n",
       "      <td>27483</td>\n",
       "      <td>6366</td>\n",
       "      <td>NaN</td>\n",
       "      <td>0/MODE_S</td>\n",
       "      <td>0xE02</td>\n",
       "      <td>ABC123</td>\n",
       "      <td>1</td>\n",
       "      <td>37.61874</td>\n",
       "      <td>...</td>\n",
       "      <td>NaN</td>\n",
       "      <td>NaN</td>\n",
       "      <td>NaN</td>\n",
       "      <td>KAY</td>\n",
       "      <td>724</td>\n",
       "      <td>NaN</td>\n",
       "      <td>ad64cd</td>\n",
       "      <td>0.0</td>\n",
       "      <td>2.00</td>\n",
       "      <td>0.0</td>\n",
       "    </tr>\n",
       "    <tr>\n",
       "      <th>3</th>\n",
       "      <td>3</td>\n",
       "      <td>2019-01-01 00:25:19</td>\n",
       "      <td>27483</td>\n",
       "      <td>6366</td>\n",
       "      <td>NaN</td>\n",
       "      <td>0/MODE_S</td>\n",
       "      <td>0xE02</td>\n",
       "      <td>ABC123</td>\n",
       "      <td>1</td>\n",
       "      <td>37.61876</td>\n",
       "      <td>...</td>\n",
       "      <td>NaN</td>\n",
       "      <td>NaN</td>\n",
       "      <td>NaN</td>\n",
       "      <td>KAY</td>\n",
       "      <td>724</td>\n",
       "      <td>NaN</td>\n",
       "      <td>ad64cd</td>\n",
       "      <td>0.0</td>\n",
       "      <td>1.00</td>\n",
       "      <td>0.0</td>\n",
       "    </tr>\n",
       "    <tr>\n",
       "      <th>4</th>\n",
       "      <td>3</td>\n",
       "      <td>2019-01-01 00:25:20</td>\n",
       "      <td>27483</td>\n",
       "      <td>6366</td>\n",
       "      <td>NaN</td>\n",
       "      <td>0/MODE_S</td>\n",
       "      <td>0xE02</td>\n",
       "      <td>ABC123</td>\n",
       "      <td>1</td>\n",
       "      <td>37.61878</td>\n",
       "      <td>...</td>\n",
       "      <td>NaN</td>\n",
       "      <td>NaN</td>\n",
       "      <td>NaN</td>\n",
       "      <td>KAY</td>\n",
       "      <td>724</td>\n",
       "      <td>NaN</td>\n",
       "      <td>ad64cd</td>\n",
       "      <td>-2.0</td>\n",
       "      <td>1.00</td>\n",
       "      <td>-2.0</td>\n",
       "    </tr>\n",
       "  </tbody>\n",
       "</table>\n",
       "<p>5 rows × 43 columns</p>\n",
       "</div>"
      ],
      "text/plain": [
       "   recType                time  fltKey  bcnCode  cid    Source msgType  \\\n",
       "0        3 2019-01-01 00:25:15   27483     6366  NaN  0/MODE_S   0xE02   \n",
       "1        3 2019-01-01 00:25:16   27483     6366  NaN  0/MODE_S   0xE02   \n",
       "2        3 2019-01-01 00:25:18   27483     6366  NaN  0/MODE_S   0xE02   \n",
       "3        3 2019-01-01 00:25:19   27483     6366  NaN  0/MODE_S   0xE02   \n",
       "4        3 2019-01-01 00:25:20   27483     6366  NaN  0/MODE_S   0xE02   \n",
       "\n",
       "  callsign  recTypeCat  latitude  ...  kybrdSymbol  adsCode  opsType  \\\n",
       "0   ABC123           1  37.61867  ...          NaN      NaN      NaN   \n",
       "1   ABC123           1  37.61870  ...          NaN      NaN      NaN   \n",
       "2   ABC123           1  37.61874  ...          NaN      NaN      NaN   \n",
       "3   ABC123           1  37.61876  ...          NaN      NaN      NaN   \n",
       "4   ABC123           1  37.61878  ...          NaN      NaN      NaN   \n",
       "\n",
       "   airportCode  trackNumber  tptReturnType  modeSCode  delta_tas    dt  acc  \n",
       "0          KAY          724            NaN     ad64cd        NaN  0.01  NaN  \n",
       "1          KAY          724            NaN     ad64cd        6.0  1.00  6.0  \n",
       "2          KAY          724            NaN     ad64cd        0.0  2.00  0.0  \n",
       "3          KAY          724            NaN     ad64cd        0.0  1.00  0.0  \n",
       "4          KAY          724            NaN     ad64cd       -2.0  1.00 -2.0  \n",
       "\n",
       "[5 rows x 43 columns]"
      ]
     },
     "execution_count": 3,
     "metadata": {},
     "output_type": "execute_result"
    }
   ],
   "source": [
    "data.head()"
   ]
  },
  {
   "cell_type": "code",
   "execution_count": 4,
   "id": "bd92b741",
   "metadata": {},
   "outputs": [
    {
     "name": "stderr",
     "output_type": "stream",
     "text": [
      "/home/edecarlo/para-atm-collection/safety-risk-uq/safety-bound-paraatm/SafetyBound.py:39: RuntimeWarning: divide by zero encountered in true_divide\n",
      "  self.lh = abs(self.valong) * (self.tt + self.ett) + (self.valong) ** 2 / 2 / (self.a + self.ea)\n",
      "/home/edecarlo/para-atm-collection/safety-risk-uq/safety-bound-paraatm/SafetyBound.py:40: RuntimeWarning: divide by zero encountered in true_divide\n",
      "  self.lp = abs(self.vper) * (self.tt + self.ett) + (self.vper) ** 2 / 2 / (self.a + self.ea) + self.epGPS\n"
     ]
    }
   ],
   "source": [
    "from SafetyBound import BoundAircraft\n",
    "\n",
    "lhs = []\n",
    "lps = []\n",
    "rs = []\n",
    "for i in range(len(data)-1):\n",
    "\n",
    "    dt = pd.Timedelta(data.time[i+1]-data.time[i]).total_seconds()\n",
    "    tas = data.tas[i+1]\n",
    "    acc = (tas-data.tas[i])/dt\n",
    "    hdg = data.heading[i+1]\n",
    "    posAccur = data.coord1Accur[i+1]\n",
    "    vwind0 = 0.1\n",
    "    alphaw0 = 0.1\n",
    "\n",
    "    b = BoundAircraft(tas,acc,dt,posAccur,hdg,vwind0,alphaw0)\n",
    "    b.size()\n",
    "    lh = b.lh\n",
    "    lp = b.lp\n",
    "    r = b.r\n",
    "\n",
    "    lhs.append(lh)\n",
    "    lps.append(lp)\n",
    "    rs.append(r)"
   ]
  },
  {
   "cell_type": "code",
   "execution_count": 9,
   "id": "26d78dea",
   "metadata": {},
   "outputs": [
    {
     "data": {
      "text/plain": [
       "[<matplotlib.lines.Line2D at 0x7f0795b901f0>,\n",
       " <matplotlib.lines.Line2D at 0x7f0795b90250>]"
      ]
     },
     "execution_count": 9,
     "metadata": {},
     "output_type": "execute_result"
    },
    {
     "data": {
      "image/png": "[encoded data removed]",
      "text/plain": [
       "<Figure size 432x288 with 1 Axes>"
      ]
     },
     "metadata": {
      "needs_background": "light"
     },
     "output_type": "display_data"
    }
   ],
   "source": [
    "plt.plot(rs)"
   ]
  },
  {
   "cell_type": "code",
   "execution_count": 6,
   "id": "2f63d18c",
   "metadata": {},
   "outputs": [
    {
     "data": {
      "text/plain": [
       "0        0\n",
       "1        6\n",
       "2        6\n",
       "3        6\n",
       "4        4\n",
       "      ... \n",
       "718    324\n",
       "719    323\n",
       "720    323\n",
       "721    322\n",
       "722    324\n",
       "Name: tas, Length: 723, dtype: int64"
      ]
     },
     "execution_count": 6,
     "metadata": {},
     "output_type": "execute_result"
    }
   ],
   "source": [
    "data.tas"
   ]
  },
  {
   "cell_type": "code",
   "execution_count": 5,
   "id": "c4b4595e",
   "metadata": {},
   "outputs": [
    {
     "data": {
      "text/plain": [
       "1.0"
      ]
     },
     "execution_count": 5,
     "metadata": {},
     "output_type": "execute_result"
    }
   ],
   "source": [
    "dt"
   ]
  },
  {
   "cell_type": "code",
   "execution_count": null,
   "id": "24e07470",
   "metadata": {},
   "outputs": [],
   "source": []
  }
 ],
 "metadata": {
  "kernelspec": {
   "display_name": "Python 3 (ipykernel)",
   "language": "python",
   "name": "python3"
  },
  "language_info": {
   "codemirror_mode": {
    "name": "ipython",
    "version": 3
   },
   "file_extension": ".py",
   "mimetype": "text/x-python",
   "name": "python",
   "nbconvert_exporter": "python",
   "pygments_lexer": "ipython3",
   "version": "3.8.12"
  }
 },
 "nbformat": 4,
 "nbformat_minor": 5
}
