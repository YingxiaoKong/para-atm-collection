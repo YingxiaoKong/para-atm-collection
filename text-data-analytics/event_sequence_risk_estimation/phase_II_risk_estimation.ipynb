{
 "cells": [
  {
   "cell_type": "markdown",
   "metadata": {},
   "source": [
    "# Risk estimation for event sequence"
   ]
  },
  {
   "cell_type": "markdown",
   "metadata": {},
   "source": [
    "Author: Xinyu Zhao, Arizona State University \n",
    "\n",
    "Email: xzhao119@asu.edu\n",
    "\n",
    "This notebook shows a case study for event sequence risk estimation. "
   ]
  },
  {
   "cell_type": "markdown",
   "metadata": {},
   "source": [
    "# Code Requirements"
   ]
  },
  {
   "cell_type": "markdown",
   "metadata": {},
   "source": [
    "Following is the package requirements for the notebook\n",
    "- Pytorch 1.4.0\n",
    "- catboost 0.23\n",
    "- xgboost 1.0.2\n",
    "- sklearn 0.21.3"
   ]
  },
  {
   "cell_type": "code",
   "execution_count": 8,
   "metadata": {},
   "outputs": [
    {
     "name": "stdout",
     "output_type": "stream",
     "text": [
      "The autoreload extension is already loaded. To reload it, use:\n",
      "  %reload_ext autoreload\n"
     ]
    }
   ],
   "source": [
    "%load_ext autoreload\n",
    "%autoreload 2\n",
    "import pandas as pd\n",
    "import numpy as np\n",
    "import matplotlib.pyplot as plt\n",
    "from os import listdir\n",
    "from os.path import isfile, join\n",
    "from collections import Counter\n",
    "from util import *"
   ]
  },
  {
   "cell_type": "markdown",
   "metadata": {},
   "source": [
    "# Load data"
   ]
  },
  {
   "cell_type": "code",
   "execution_count": 15,
   "metadata": {},
   "outputs": [],
   "source": [
    "occurrence_code_corpus = np.load(\"data/occurrence_code_corpus.npy\")\n",
    "subject_code_corpus = np.load(\"data/subject_code_corpus.npy\")\n",
    "phase_code_corpus = np.load(\"data/phase_code_corpus.npy\")\n",
    "subj_to_occurrence_dict = pd.read_pickle(\"data/subj_to_occurrence_dict.pkl\")\n",
    "occurrence_to_subj_dict = pd.read_pickle(\"data/occurrence_to_subj_dict.pkl\")\n",
    "phase_to_occurrence_dict = pd.read_pickle(\"data/phase_to_occurrence_dict.pkl\")\n",
    "occurrence_to_phase_dict = pd.read_pickle(\"data/occurrence_to_phase_dict.pkl\")"
   ]
  },
  {
   "cell_type": "code",
   "execution_count": 3,
   "metadata": {},
   "outputs": [],
   "source": [
    "ev_id = '20001208X07734'\n",
    "mypath = 'data/ntsb'\n",
    "#Main tables \n",
    "events = pd.read_csv(mypath+'/events.csv')\n",
    "aircraft = pd.read_csv(mypath+'/aircraft.csv')\n",
    "Events_Sequence = pd.read_csv(mypath+'/Events_Sequence.csv')\n",
    "Occurrences = pd.read_csv(mypath+'/Occurrences.csv')\n",
    "seq_of_events = pd.read_csv(mypath+'/seq_of_events.csv')\n",
    "DataDict = pd.read_csv('data/eADMSPUB_DataDictionary.csv')\n",
    "\n",
    "events_select = events[['ev_id','ev_type','mid_air','on_ground_collision', 'ev_highest_injury', 'inj_f_grnd',\n",
    "       'inj_m_grnd', 'inj_s_grnd', 'inj_tot_f', 'inj_tot_m', 'inj_tot_n',\n",
    "       'inj_tot_s', 'inj_tot_t']]\n",
    "aircraft_select = aircraft[['ev_id', 'damage','phase_flt_spec']]\n",
    "Occurrences_select = Occurrences[['ev_id', 'Aircraft_Key', 'Occurrence_No', 'Occurrence_Code',\n",
    "       'Phase_of_Flight']]\n",
    "seq_of_events_select = seq_of_events[['ev_id', 'Aircraft_Key', 'Occurrence_No', 'seq_event_no',\n",
    "       'group_code', 'Subj_Code', 'Cause_Factor', 'Modifier_Code']]\n",
    "Occurrences_merge = pd.merge(Occurrences_select, seq_of_events_select, on=['ev_id', 'Aircraft_Key', 'Occurrence_No'])"
   ]
  },
  {
   "cell_type": "code",
   "execution_count": 4,
   "metadata": {},
   "outputs": [
    {
     "name": "stderr",
     "output_type": "stream",
     "text": [
      "/home/xinyu/miniconda3/envs/pytorch/lib/python3.7/site-packages/pandas/core/indexing.py:494: SettingWithCopyWarning: \n",
      "A value is trying to be set on a copy of a slice from a DataFrame.\n",
      "Try using .loc[row_indexer,col_indexer] = value instead\n",
      "\n",
      "See the caveats in the documentation: http://pandas.pydata.org/pandas-docs/stable/user_guide/indexing.html#returning-a-view-versus-a-copy\n",
      "  self.obj[item] = s\n"
     ]
    }
   ],
   "source": [
    "select_event = Occurrences_merge[Occurrences_merge['ev_id']==ev_id]\n",
    "occurrence_list = select_event.loc[:,'Occurrence_Code'].astype(str)\n",
    "phase_list = select_event.loc[:,'Phase_of_Flight'].astype(str)\n",
    "subject_list = select_event.loc[:,'Subj_Code'].astype(str)\n",
    "select_event.loc[:,'Phase_of_Flight'] = [list(phase_code_corpus).index(x) for x in phase_list]\n",
    "select_event.loc[:,'Occurrence_Code'] = [list(occurrence_code_corpus).index(x) for x in occurrence_list]\n",
    "select_event.loc[:,'Subj_Code'] = [list(subject_code_corpus).index(x) for x in subject_list]\n",
    "select_event = select_event.groupby(['ev_id','Aircraft_Key'])['Occurrence_No','Occurrence_Code','Phase_of_Flight','Subj_Code'].agg(lambda x: x.tolist()).reset_index()\n",
    "select_event.at[0,'Occurrence_Code'] = [0] + select_event.loc[0,'Occurrence_Code'] + [1]\n",
    "select_event.at[0,'Phase_of_Flight'] = [0] + select_event.loc[0,'Phase_of_Flight'] + [1]\n",
    "select_event.at[0,'Subj_Code'] = [0] + select_event.loc[0,'Subj_Code'] + [1]"
   ]
  },
  {
   "cell_type": "code",
   "execution_count": 9,
   "metadata": {},
   "outputs": [
    {
     "data": {
      "text/html": [
       "<div>\n",
       "<style scoped>\n",
       "    .dataframe tbody tr th:only-of-type {\n",
       "        vertical-align: middle;\n",
       "    }\n",
       "\n",
       "    .dataframe tbody tr th {\n",
       "        vertical-align: top;\n",
       "    }\n",
       "\n",
       "    .dataframe thead th {\n",
       "        text-align: right;\n",
       "    }\n",
       "</style>\n",
       "<table border=\"1\" class=\"dataframe\">\n",
       "  <thead>\n",
       "    <tr style=\"text-align: right;\">\n",
       "      <th></th>\n",
       "      <th>Subj_Code</th>\n",
       "      <th>Occurrence_Code</th>\n",
       "    </tr>\n",
       "  </thead>\n",
       "  <tbody>\n",
       "    <tr>\n",
       "      <th>30120</th>\n",
       "      <td>Electrical system, alternator</td>\n",
       "      <td>Airframe/component/system failure/malfunction</td>\n",
       "    </tr>\n",
       "    <tr>\n",
       "      <th>30121</th>\n",
       "      <td>Instrument light(s)</td>\n",
       "      <td>Airframe/component/system failure/malfunction</td>\n",
       "    </tr>\n",
       "    <tr>\n",
       "      <th>30122</th>\n",
       "      <td>Vacuum system</td>\n",
       "      <td>Airframe/component/system failure/malfunction</td>\n",
       "    </tr>\n",
       "    <tr>\n",
       "      <th>30123</th>\n",
       "      <td>Aircraft control</td>\n",
       "      <td>Loss of control - in flight</td>\n",
       "    </tr>\n",
       "    <tr>\n",
       "      <th>30124</th>\n",
       "      <td>Spatial disorientation</td>\n",
       "      <td>Loss of control - in flight</td>\n",
       "    </tr>\n",
       "    <tr>\n",
       "      <th>30125</th>\n",
       "      <td>Inadequate recurrent training</td>\n",
       "      <td>Loss of control - in flight</td>\n",
       "    </tr>\n",
       "    <tr>\n",
       "      <th>30126</th>\n",
       "      <td>Airframe</td>\n",
       "      <td>Airframe/component/system failure/malfunction</td>\n",
       "    </tr>\n",
       "    <tr>\n",
       "      <th>30127</th>\n",
       "      <td>Terrain condition</td>\n",
       "      <td>In flight collision with terrain/water</td>\n",
       "    </tr>\n",
       "  </tbody>\n",
       "</table>\n",
       "</div>"
      ],
      "text/plain": [
       "                           Subj_Code  \\\n",
       "30120  Electrical system, alternator   \n",
       "30121            Instrument light(s)   \n",
       "30122                  Vacuum system   \n",
       "30123               Aircraft control   \n",
       "30124         Spatial disorientation   \n",
       "30125  Inadequate recurrent training   \n",
       "30126                       Airframe   \n",
       "30127              Terrain condition   \n",
       "\n",
       "                                     Occurrence_Code  \n",
       "30120  Airframe/component/system failure/malfunction  \n",
       "30121  Airframe/component/system failure/malfunction  \n",
       "30122  Airframe/component/system failure/malfunction  \n",
       "30123                    Loss of control - in flight  \n",
       "30124                    Loss of control - in flight  \n",
       "30125                    Loss of control - in flight  \n",
       "30126  Airframe/component/system failure/malfunction  \n",
       "30127         In flight collision with terrain/water  "
      ]
     },
     "execution_count": 9,
     "metadata": {},
     "output_type": "execute_result"
    }
   ],
   "source": [
    "show_event(Occurrences_merge, ev_id, DataDict).drop(['seq_event_no', 'group_code'], axis=1)[['Subj_Code','Occurrence_Code']]"
   ]
  },
  {
   "cell_type": "markdown",
   "metadata": {},
   "source": [
    "# Load Model "
   ]
  },
  {
   "cell_type": "code",
   "execution_count": 12,
   "metadata": {},
   "outputs": [],
   "source": [
    "from util import *\n",
    "subject_size = len(subject_code_corpus)\n",
    "phase_size = len(phase_code_corpus)\n",
    "occurrence_size = len(occurrence_code_corpus)\n",
    "isRNN = True\n",
    "batch_size = 1\n",
    "device = torch.device('cuda:2')\n",
    "if isRNN:\n",
    "    embedding_dim = 30  # Embedding of each word\n",
    "    hidden_dim = 30      #Final hidden dimension that is used for prediction\n",
    "    num_layer = 2        # Number of layers \n",
    "    latent_dim = 30     # Latend dimension \n",
    "\n",
    "    model =  RNNModel(phase_size, occurrence_size, subject_size, embedding_dim, latent_dim, num_layer, batch_size, hidden_dim, device).to(device)\n",
    "    hierarchical_softmax = HierarchicalSoftmax(hidden_dim, phase_to_occurrence_dict, occurrence_to_subj_dict,subj_to_occurrence_dict,device).to(device)\n",
    "    hierarchical_softmax.load_state_dict(torch.load('model/hierarchical_softmax_rnn_20200801_1227_rnn__19.sav'))\n",
    "    model.load_state_dict(torch.load('model/model_rnn_20200801_1227_rnn__19.sav'))\n",
    "else:\n",
    "    embedding_dim = 100  # Embedding of each word\n",
    "    hidden_dim = 50      #Final hidden dimension that is used for prediction\n",
    "\n",
    "    num_layer = 2        # Number of layers \n",
    "    latent_dim = 100     # Latend dimension \n",
    "    model = SequentialPrediction(phase_size,occurrence_size,subject_size, embedding_dim, batch_size,hidden_dim, device)\n",
    "    hierarchical_softmax = HierarchicalSoftmax(hidden_dim, phase_to_occurrence_dict, occurrence_to_subj_dict,subj_to_occurrence_dict,device).to(device)\n",
    "    hierarchical_softmax.load_state_dict(torch.load('hierarchical_softmax_sequential_20200520_1920_nornn__5.sav'))\n",
    "    model.load_state_dict(torch.load('model_sequential_20200520_1920_nornn__5.sav'))\n",
    "\n",
    "\n",
    "import pickle\n",
    "\n",
    "\n",
    "mypath = \"/home/xinyu/Project/data/aviation_ntsb/raw_data\"\n",
    "dataDict = pd.read_csv(mypath+'/eADMSPUB_DataDictionary.csv')\n",
    "feature_list = subject_code_corpus.tolist() + occurrence_code_corpus.tolist()+ phase_code_corpus.tolist()\n",
    "feature_list_meaning = []\n",
    "for x in feature_list:\n",
    "    if x == '000':\n",
    "        feature_list_meaning.append('start')\n",
    "    elif x == '999':\n",
    "        feature_list_meaning.append('end')\n",
    "    elif len(dataDict[dataDict['code_iaids']==x]['meaning'])==0:\n",
    "        feature_list_meaning.append('unknown')\n",
    "    else:\n",
    "        meaning = list(dataDict[dataDict['code_iaids']==x]['meaning'])[0]\n",
    "        feature_list_meaning.append(meaning)\n",
    "        \n",
    "risk_model = pickle.load(open('model/risk_model2.sav', 'rb'))"
   ]
  },
  {
   "cell_type": "code",
   "execution_count": 13,
   "metadata": {},
   "outputs": [
    {
     "data": {
      "text/html": [
       "<div>\n",
       "<style scoped>\n",
       "    .dataframe tbody tr th:only-of-type {\n",
       "        vertical-align: middle;\n",
       "    }\n",
       "\n",
       "    .dataframe tbody tr th {\n",
       "        vertical-align: top;\n",
       "    }\n",
       "\n",
       "    .dataframe thead th {\n",
       "        text-align: right;\n",
       "    }\n",
       "</style>\n",
       "<table border=\"1\" class=\"dataframe\">\n",
       "  <thead>\n",
       "    <tr style=\"text-align: right;\">\n",
       "      <th></th>\n",
       "      <th>ev_id</th>\n",
       "      <th>Aircraft_Key</th>\n",
       "      <th>Occurrence_No</th>\n",
       "      <th>Occurrence_Code</th>\n",
       "      <th>Phase_of_Flight</th>\n",
       "      <th>Subj_Code</th>\n",
       "    </tr>\n",
       "  </thead>\n",
       "  <tbody>\n",
       "    <tr>\n",
       "      <th>0</th>\n",
       "      <td>20001208X07734</td>\n",
       "      <td>1</td>\n",
       "      <td>[1, 1, 1, 2, 2, 2, 3, 4]</td>\n",
       "      <td>[0, 3, 3, 3, 55, 55, 55, 3, 47, 1]</td>\n",
       "      <td>[0, 13, 13, 13, 13, 13, 13, 19, 19, 1]</td>\n",
       "      <td>[0, 700, 240, 853, 1421, 204, 308, 680, 620, 1]</td>\n",
       "    </tr>\n",
       "  </tbody>\n",
       "</table>\n",
       "</div>"
      ],
      "text/plain": [
       "            ev_id  Aircraft_Key             Occurrence_No  \\\n",
       "0  20001208X07734             1  [1, 1, 1, 2, 2, 2, 3, 4]   \n",
       "\n",
       "                      Occurrence_Code                         Phase_of_Flight  \\\n",
       "0  [0, 3, 3, 3, 55, 55, 55, 3, 47, 1]  [0, 13, 13, 13, 13, 13, 13, 19, 19, 1]   \n",
       "\n",
       "                                         Subj_Code  \n",
       "0  [0, 700, 240, 853, 1421, 204, 308, 680, 620, 1]  "
      ]
     },
     "execution_count": 13,
     "metadata": {},
     "output_type": "execute_result"
    }
   ],
   "source": [
    "select_event"
   ]
  },
  {
   "cell_type": "markdown",
   "metadata": {},
   "source": [
    "# Event prediction and risk estimation"
   ]
  },
  {
   "cell_type": "code",
   "execution_count": 19,
   "metadata": {},
   "outputs": [],
   "source": [
    "# predict sequences \n",
    "def create_risk_estimator(pred_phase, pred_occurrence, pred_subject):\n",
    "    subject_buffer = np.zeros(len(subject_code_corpus))\n",
    "    phase_buffer = np.zeros(len(phase_code_corpus))\n",
    "    occurrence_buffer = np.zeros(len(occurrence_code_corpus))\n",
    "    for j in pred_subject:\n",
    "        subject_buffer[int(j)] = 1\n",
    "    for j in pred_occurrence:\n",
    "        occurrence_buffer[int(j)] = 1\n",
    "    for j in pred_phase:\n",
    "        phase_buffer[int(j)] = 1\n",
    "    a = np.concatenate((subject_buffer,occurrence_buffer, phase_buffer),axis=0)\n",
    "    return a\n",
    "\n",
    "risk = []\n",
    "data_total = []\n",
    "intervention = 4\n",
    "event_subject_list = []\n",
    "event_phase_list = []\n",
    "event_occurrence_list = []\n",
    "X_subject_buffer = []\n",
    "X_occurrence_buffer = []\n",
    "X_phase_buffer = []\n",
    "\n",
    "phase_proba_buffer =[]\n",
    "occurrence_proba_buffer = []\n",
    "subject_proba_buffer = []\n",
    "event_length = len(select_event['Occurrence_Code'][0])\n",
    "for i in range(1,len(select_event['Occurrence_Code'][0])-1):\n",
    "    data_total_buffer = []\n",
    "    X_subject_input = torch.LongTensor(select_event['Subj_Code'][0][:i+1]).to(device)\n",
    "    X_occurrence_input = torch.LongTensor(select_event['Occurrence_Code'][0][:i+1]).to(device)\n",
    "    X_phase_input = torch.LongTensor(select_event['Phase_of_Flight'][0][:i+1]).to(device)\n",
    "    \n",
    "    event_subject_list.append(list(DataDict[DataDict['code_iaids']==subject_code_corpus[X_subject_input[-1]]]['meaning'])[0])\n",
    "    event_phase_list.append(list(DataDict[DataDict['code_iaids']==phase_code_corpus[X_phase_input[-1]]]['meaning'])[0])\n",
    "    event_occurrence_list.append(list(DataDict[DataDict['code_iaids']==occurrence_code_corpus[X_occurrence_input[-1]]]['meaning'])[0])\n",
    "    \n",
    "    if isRNN:  \n",
    "        hidden = model.init_hidden()\n",
    "        X, hidden = model(X_phase_input, X_occurrence_input, X_subject_input, len(X_subject_input), hidden)\n",
    "                       \n",
    "    else:\n",
    "        X = model(X_phase_input, X_occurrence_input, X_subject_input, len(X_subject_input))\n",
    "                  \n",
    "    X_subject_output = select_event['Subj_Code'][0][1:i+2]\n",
    "    X_occurrence_output = select_event['Occurrence_Code'][0][:i+2]\n",
    "    X_phase_output = select_event['Phase_of_Flight'][0][1:i+2]\n",
    "                  \n",
    "    phase_proba,  occurance_proba, subject_proba = hierarchical_softmax.predict(X, len(X_subject_input), X_subject_output, X_occurrence_output, X_phase_output)\n",
    "    \n",
    "    phase_proba_buffer.append(phase_proba[-1].cpu().detach().numpy().tolist())\n",
    "    occurrence_proba_buffer.append(occurance_proba[-1].cpu().detach().numpy().tolist())\n",
    "    subject_proba_buffer.append(subject_proba[-1].cpu().detach().numpy().tolist())\n",
    "    \n",
    "    pred_phase = np.zeros(phase_proba.shape[0] + 1)\n",
    "    pred_occurrence = np.zeros(phase_proba.shape[0] + 1)\n",
    "    pred_subject = np.zeros(phase_proba.shape[0] + 1)\n",
    "    nsample = 100\n",
    "    risk_current = []\n",
    "    for j in range(nsample):\n",
    "        for jj in range(phase_proba.shape[0] + 1):\n",
    "            \n",
    "            if jj == phase_proba.shape[0]:\n",
    "                pred_phase[jj] = np.random.choice(phase_proba.shape[1], 1, phase_proba[jj-1].cpu().detach().numpy().tolist())\n",
    "                pred_occurrence[jj] = np.random.choice(phase_proba.shape[1], 1, phase_proba[jj-1].cpu().detach().numpy().tolist())\n",
    "                pred_subject[jj] = np.random.choice(phase_proba.shape[1], 1, phase_proba[jj-1].cpu().detach().numpy().tolist())\n",
    "            else:\n",
    "                pred_phase[jj] = X_phase_input[jj]\n",
    "                pred_occurrence[jj] = X_occurrence_input[jj]\n",
    "                pred_subject[jj] = X_subject_input[jj]\n",
    "\n",
    "        risk_estimators = create_risk_estimator(pred_phase, pred_occurrence, pred_subject)\n",
    "        data_total_buffer.append(risk_estimators)\n",
    "        risk_pred = risk_model.predict(risk_estimators.reshape(1, -1))[0,0]\n",
    "        \n",
    "        risk_current.append(risk_pred)\n",
    "    risk.append(risk_current)\n",
    "    data_total.append(data_total_buffer)"
   ]
  },
  {
   "cell_type": "markdown",
   "metadata": {},
   "source": [
    "# Result analysis"
   ]
  },
  {
   "cell_type": "code",
   "execution_count": 20,
   "metadata": {},
   "outputs": [
    {
     "data": {
      "image/png": "[encoded data removed]",
      "text/plain": [
       "<Figure size 576x396 with 1 Axes>"
      ]
     },
     "metadata": {},
     "output_type": "display_data"
    }
   ],
   "source": [
    "# x = list(show_event(Occurrences_merge, ev_id)['Subj_Code'])[:len(risk)]\n",
    "name_list = []\n",
    "# for i in range(len(event_subject_list)):\n",
    "#     name_list.append(event_phase_list[i]+'\\n'+event_occurrence_list[i]+'\\n'+event_subject_list[i])\n",
    "for i in range(len(event_subject_list)):\n",
    "    name_list.append(event_subject_list[i])\n",
    "x = name_list\n",
    "y = np.mean(risk,1)\n",
    "e = np.var(risk,1)\n",
    "plt.style.use('seaborn')\n",
    "plt.rcParams.update({'lines.markeredgewidth': 1})\n",
    "# plt.errorbar(x, y, e, fmt='--o', ecolor='g')\n",
    "(_, caps, _) = plt.errorbar(\n",
    "    x, y, e, fmt='--o', ecolor='g', capsize=5, elinewidth=1)\n",
    "plt.xticks(rotation=30)\n",
    "\n",
    "for cap in caps:\n",
    "    cap.set_markeredgewidth(1)"
   ]
  }
 ],
 "metadata": {
  "kernelspec": {
   "display_name": "pytorch",
   "language": "python",
   "name": "pytorch"
  },
  "language_info": {
   "codemirror_mode": {
    "name": "ipython",
    "version": 3
   },
   "file_extension": ".py",
   "mimetype": "text/x-python",
   "name": "python",
   "nbconvert_exporter": "python",
   "pygments_lexer": "ipython3",
   "version": "3.7.4"
  }
 },
 "nbformat": 4,
 "nbformat_minor": 4
}
